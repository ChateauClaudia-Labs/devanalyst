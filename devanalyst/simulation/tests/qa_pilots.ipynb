{
 "cells": [
  {
   "cell_type": "code",
   "execution_count": 1,
   "metadata": {},
   "outputs": [],
   "source": [
    "import pandas as pd\n",
    "import numpy as np\n",
    "import math\n",
    "from random import choices\n",
    "import seaborn as sns\n",
    "from datetime import datetime\n",
    "import matplotlib.pyplot as plt\n",
    "import statistics"
   ]
  },
  {
   "cell_type": "code",
   "execution_count": 2,
   "metadata": {},
   "outputs": [
    {
     "name": "stdout",
     "output_type": "stream",
     "text": [
      "importing Jupyter notebook from c:\\alex\\code\\labs\\devanalyst\\devanalyst\\simulation\\statics.ipynb\n",
      "importing Jupyter notebook from c:\\alex\\code\\labs\\devanalyst\\devanalyst\\simulation\\GenerateTimecards.ipynb\n",
      "importing Jupyter notebook from c:\\alex\\code\\labs\\devanalyst\\devanalyst\\simulation\\simulationModels.ipynb\n"
     ]
    }
   ],
   "source": [
    "import devanalyst.simulation.statics as S_\n",
    "import devanalyst.simulation.GenerateTimecards as timecard\n",
    "from devanalyst.simulation.GenerateTimecards import WorkAssignments\n",
    "from devanalyst.simulation.simulationModels import BalancedAllocationModel, GreedyAllocationModel, ModelsConfig, DefaultCostModel"
   ]
  },
  {
   "cell_type": "code",
   "execution_count": 3,
   "metadata": {},
   "outputs": [
    {
     "name": "stdout",
     "output_type": "stream",
     "text": [
      "importing Jupyter notebook from c:\\alex\\code\\labs\\devanalyst\\devanalyst\\simulation\\tests\\test_utils.ipynb\n"
     ]
    }
   ],
   "source": [
    "import devanalyst.simulation.tests.test_utils as tu_"
   ]
  },
  {
   "cell_type": "markdown",
   "metadata": {},
   "source": [
    "<h1>Pilots</h1>"
   ]
  },
  {
   "cell_type": "markdown",
   "metadata": {},
   "source": [
    "<h2>Picking work to do - Pilot</h2>"
   ]
  },
  {
   "cell_type": "code",
   "execution_count": null,
   "metadata": {
    "code_folding": [
     0
    ]
   },
   "outputs": [],
   "source": [
    "def dist_to_sample(distribution):\n",
    "    sample = []\n",
    "    for key in distribution:\n",
    "        for i in range(int(distribution[key])):\n",
    "            sample.append(key)\n",
    "    return sample"
   ]
  },
  {
   "cell_type": "code",
   "execution_count": null,
   "metadata": {
    "code_folding": [
     0
    ]
   },
   "outputs": [],
   "source": [
    "def addToDist(pick, dist):\n",
    "    for k in pick.keys():\n",
    "        val = pick[k]\n",
    "        if k in dist.keys():\n",
    "            dist[k] += val\n",
    "        else:\n",
    "            dist[k] = val            "
   ]
  },
  {
   "cell_type": "code",
   "execution_count": null,
   "metadata": {
    "code_folding": [
     0
    ]
   },
   "outputs": [],
   "source": [
    "def removeFromDist(pick, dist):\n",
    "    for k in pick.keys():\n",
    "        val = pick[k]\n",
    "        if k in dist.keys():\n",
    "            dist[k] -= val\n",
    "        else:\n",
    "            dist[k] = -val"
   ]
  },
  {
   "cell_type": "code",
   "execution_count": null,
   "metadata": {
    "code_folding": [
     0,
     19
    ]
   },
   "outputs": [],
   "source": [
    "# -uiModel: a dict\n",
    "def _buildUIModelHelper(uiModel, title, snapshot, targetDist, snapshotDist, model, sprintDuration, row, column, color):\n",
    "\n",
    "    data = dist_to_sample(snapshotDist)\n",
    "    distance = model._measureDistributionDistance(targetDist, snapshotDist)    \n",
    "    if len(data)==0:\n",
    "        mean = 0\n",
    "    else:\n",
    "        mean = statistics.mean(data)\n",
    "        \n",
    "    uiModel['Title'].append(title)\n",
    "    uiModel['Snapshot'].append(snapshot)\n",
    "    uiModel['Size'].append(len(data))\n",
    "    uiModel['Mean'].append(mean)\n",
    "    uiModel['Distance'].append(distance)\n",
    "    uiModel['Data'].append(data)\n",
    "    uiModel['Color'].append(color)\n",
    "    uiModel['Bins'].append(sprintDuration)\n",
    "\n",
    "def _buildUIModel(title, snapshotPrefix, targetDist, sprintDuration, rows_nb, cols_nb):\n",
    "       \n",
    "    columns = ['Title', 'Snapshot', 'Size', 'Mean', 'Distance', 'Data', 'Color', 'Bins']\n",
    "    uiModel = {}\n",
    "    uiModel['Title'] = []\n",
    "    uiModel['Snapshot'] = []\n",
    "    uiModel['Size'] = []\n",
    "    uiModel['Mean'] = []\n",
    "    uiModel['Distance'] = []\n",
    "    uiModel['Data'] = []\n",
    "    uiModel['Color'] = []\n",
    "    uiModel['Bins'] = []\n",
    "    \n",
    "    runningDist = {}\n",
    "    remainingDist = targetDist.copy()\n",
    "\n",
    "    # Configure models\n",
    "    model = BalancedAllocationModel(sprintDuration) \n",
    "    modelsConfig = ModelsConfig([], [], model)\n",
    "    modelsConfig.random.reset(271)\n",
    "    \n",
    "    _buildUIModelHelper(uiModel, title, 'Target', targetDist, targetDist, model, sprintDuration, 0, 0, 'g') \n",
    "                        \n",
    "    snapshotCount = 0\n",
    "    for row in range(rows_nb):\n",
    "        for col in range(cols_nb):\n",
    "            if (row == 0 and col == 0): # We already processed this - its the chart dedicated to 'Target'\n",
    "                continue\n",
    "            snapshotCount += 1\n",
    "            pick = {}\n",
    "            pick[model._pickOne(runningDist, remainingDist, targetDist, modelsConfig)] = 1    \n",
    "            addToDist(pick, runningDist)\n",
    "            _buildUIModelHelper(uiModel, title, snapshotPrefix + ' ' + str(snapshotCount), \\\n",
    "                            targetDist, runningDist, model, sprintDuration, row, col, 'b') \n",
    "            removeFromDist(pick, remainingDist)\n",
    "        \n",
    "    uiModel_df = pd.DataFrame(uiModel, columns=columns)   \n",
    "    return uiModel_df"
   ]
  },
  {
   "cell_type": "code",
   "execution_count": null,
   "metadata": {
    "code_folding": [
     0,
     7
    ]
   },
   "outputs": [],
   "source": [
    "def _coords(idx):\n",
    "# Maps a linear index to the 2-dimensional coordinates assuming 4 columns.\n",
    "# So it maps 0,1,2,3,4,5,6,7,.... to (0,0), (0,1), (0,2), (0,3), (1,0), (1,1), (1,2), (1,3), (2,0), ...\n",
    "    row_nb = int((idx)/4)\n",
    "    col_nb = idx - 4*row_nb\n",
    "    return row_nb, col_nb\n",
    "    \n",
    "def renderUIModel(uiModel_df):\n",
    "    \n",
    "    last_row, last_col = _coords(uiModel_df.index.size-1)\n",
    "    \n",
    "    cols_nb = last_col + 1\n",
    "    rows_nb = last_row + 1\n",
    "\n",
    "    fig, axs = plt.subplots(rows_nb, cols_nb) \n",
    "    \n",
    "    label = uiModel_df.iloc[0]['Title']\n",
    "\n",
    "    fig.suptitle('---------------------------------------------  '+ str(label) + \n",
    "                 ' ---------------------------------------------', fontsize=16, y=1.4, x=1)\n",
    "\n",
    "    for index, snapshot_info in uiModel_df.iterrows():\n",
    "        row_nb, col_nb = _coords(index)\n",
    "        data           = snapshot_info['Data']\n",
    "        mean           = snapshot_info['Mean']\n",
    "        distance       = snapshot_info['Distance']\n",
    "        snapshot       = snapshot_info['Snapshot']\n",
    "        color          = snapshot_info['Color']\n",
    "        bins           = snapshot_info['Bins']\n",
    "        size           = snapshot_info['Size']\n",
    "        \n",
    "        ax = axs[row_nb][col_nb]\n",
    "\n",
    "        sns.distplot(data, bins=bins, color=color, ax=ax)\n",
    "        ax.set_title(snapshot)\n",
    "        ax.set_xlabel('size=' + str(size) + '; mean=' + str(round(mean, 2)) + '; distance=' + str(round(distance,2)))\n",
    "        \n",
    "    plt.subplots_adjust(top=1.2, right=2.3, wspace=0.3, hspace=1.0)"
   ]
  },
  {
   "cell_type": "code",
   "execution_count": null,
   "metadata": {},
   "outputs": [],
   "source": [
    "target = {1:2, 2: 4, 3: 7, 4: 9, 5: 10, 6: 9, 7: 7, 8: 4, 9: 2, 10: 1}\n",
    "ui_df = _buildUIModel('Empty Label', 'Pick', target, 10, 3, 4)\n",
    "ui_df"
   ]
  },
  {
   "cell_type": "code",
   "execution_count": null,
   "metadata": {},
   "outputs": [],
   "source": [
    "renderUIModel(ui_df)"
   ]
  },
  {
   "cell_type": "markdown",
   "metadata": {},
   "source": [
    "<h2>Allocation across full release cycle - Pilot</h2>"
   ]
  },
  {
   "cell_type": "code",
   "execution_count": 4,
   "metadata": {
    "code_folding": [
     0
    ]
   },
   "outputs": [],
   "source": [
    "def getPlans(work):\n",
    "    unassigned = work.allocations[S_.UNPLANNED][S_.OWNER_TBD]\n",
    "    unplanned = []\n",
    "    unplanned.extend(unassigned[S_.BUGS_ON_COMPLETED_STORIES])\n",
    "    unplanned.extend(unassigned[S_.BUGS_ON_UNFINISHED_STORIES])\n",
    "    unplanned.extend(unassigned[S_.UNFINISHED_STORIES])\n",
    "    \n",
    "    planned_CURRENT_SPRINT = []\n",
    "    subwork = work.allocations[S_.CURRENT_SPRINT]\n",
    "    for person in subwork.keys():\n",
    "        planned_CURRENT_SPRINT.extend(subwork[person][S_.BUGS_ON_COMPLETED_STORIES])\n",
    "        planned_CURRENT_SPRINT.extend(subwork[person][S_.BUGS_ON_UNFINISHED_STORIES])\n",
    "        planned_CURRENT_SPRINT.extend(subwork[person][S_.UNFINISHED_STORIES])\n",
    "\n",
    "    planned_NEXT_SPRINT = []\n",
    "    subwork = work.allocations[S_.NEXT_SPRINT]\n",
    "    for person in subwork.keys():\n",
    "        planned_NEXT_SPRINT.extend(subwork[person][S_.BUGS_ON_COMPLETED_STORIES])\n",
    "        planned_NEXT_SPRINT.extend(subwork[person][S_.BUGS_ON_UNFINISHED_STORIES])\n",
    "        planned_NEXT_SPRINT.extend(subwork[person][S_.UNFINISHED_STORIES])\n",
    "\n",
    "            \n",
    "    return planned_CURRENT_SPRINT, planned_NEXT_SPRINT, unplanned"
   ]
  },
  {
   "cell_type": "code",
   "execution_count": 7,
   "metadata": {
    "code_folding": []
   },
   "outputs": [],
   "source": [
    "def captureReleasePlans():    \n",
    "# Run a release cycle and capture all the plans at the start and end of each sprint\n",
    "    output = {}\n",
    "\n",
    "    SPRINT_DURATION = 10\n",
    "    NUMBER_OF_SPRINTS = 15\n",
    "    EXTRA_SPRINTS_BUFFER = 5 # Buffer to finish up work that didn't fit into the intended number of sprints\n",
    "    RELEASE_DURATION = SPRINT_DURATION * NUMBER_OF_SPRINTS\n",
    "\n",
    "    # Configure models\n",
    "    model = GreedyAllocationModel(SPRINT_DURATION) \n",
    "    modelsConfig = ModelsConfig([], [], model)\n",
    "    modelsConfig.random.reset(271)\n",
    "\n",
    "    teams_df, stories_df, teamsRepo, storiesRepo, ticketsRepo = tu_.initTestData(tu_.DEV_DF, tu_.PM_DF, \\\n",
    "                                                                             RELEASE_DURATION, SPRINT_DURATION, modelsConfig)\n",
    "    # Select a team\n",
    "    teamId = teams_df['Scrum Team'][0].teamId\n",
    "\n",
    "    # Go through the sprints\n",
    "    for n in range(NUMBER_OF_SPRINTS + EXTRA_SPRINTS_BUFFER):\n",
    "        sprint = n+1\n",
    "        output[sprint] = {}\n",
    "        \n",
    "        work = WorkAssignments(teamId, teamsRepo, storiesRepo, sprint) \n",
    "        \n",
    "        #Debugging\n",
    "        if (sprint==1):\n",
    "            committed_df = work.committedTime(SPRINT_DURATION)\n",
    "            tasks_df = work.committedTasks()\n",
    "\n",
    "        planned_start_CURRENT_SPRINT, planned_start_NEXT_SPRINT, unplanned_start = getPlans(work)\n",
    "        output[sprint]['planned_start_CURRENT_SPRINT'] = planned_start_CURRENT_SPRINT\n",
    "        output[sprint]['planned_start_NEXT_SPRINT'] = planned_start_NEXT_SPRINT\n",
    "        output[sprint]['unplanned_start'] = unplanned_start\n",
    "\n",
    "        work = timecard.chooseWhatToDoInSprint(teamId, teamsRepo, storiesRepo, SPRINT_DURATION, modelsConfig, sprint)           \n",
    "        timecard.deliverSprint(teamId, teamsRepo, ticketsRepo, storiesRepo, work, SPRINT_DURATION, modelsConfig) # mutates 'work'\n",
    "        inflow = timecard.inflowOfTickets(teamId, teamsRepo, ticketsRepo, storiesRepo)\n",
    "        timecard.updateBacklogAfterSprint(teamId, teamsRepo, ticketsRepo, storiesRepo, work, inflow) # Does not mutate 'work'\n",
    "    \n",
    "        planned_end_CURRENT_SPRINT, planned_end_NEXT_SPRINT, unplanned_end = getPlans(work)\n",
    "        output[sprint]['planned_end_CURRENT_SPRINT'] = planned_end_CURRENT_SPRINT\n",
    "        output[sprint]['planned_end_NEXT_SPRINT'] = planned_end_NEXT_SPRINT\n",
    "        output[sprint]['unplanned_end'] = unplanned_end\n",
    "    \n",
    "    return output, committed_df, tasks_df, teamsRepo, storiesRepo, modelsConfig\n",
    "plans, c1, t1, TEAMS_REPO, STORIES_REPO, MODELS_CONFIG = captureReleasePlans()"
   ]
  },
  {
   "cell_type": "code",
   "execution_count": 8,
   "metadata": {
    "code_folding": [
     0,
     10
    ]
   },
   "outputs": [],
   "source": [
    "def _buildDistribution(snapshot, model):\n",
    "    distribution = {}\n",
    "    for e in snapshot:\n",
    "        x = model._getBin(e)                       \n",
    "        if x in distribution:\n",
    "            distribution[x] = distribution[x] + 1\n",
    "        else:\n",
    "            distribution[x] = 1                \n",
    "    return distribution    \n",
    "\n",
    "def _calcSnapshotDistance(snapshot1, snapshot2, model):\n",
    "    return model._measureDistributionDistance(_buildDistribution(snapshot1, model), \\\n",
    "                                             _buildDistribution(snapshot2, model))"
   ]
  },
  {
   "cell_type": "code",
   "execution_count": 9,
   "metadata": {
    "code_folding": [
     0,
     27
    ]
   },
   "outputs": [],
   "source": [
    "def _plotPlansHelper(sprint, releasePlans, sprintDuration, figure, snapshot, ax, color):\n",
    "\n",
    "    #ax = figure.add_subplot(2,3,ax_idx)\n",
    "    \n",
    "    data = []\n",
    "    target = []\n",
    "    if sprint -1 < len(releasePlans): # sprints start at 1, 2, 3, ... wheras len(releasePlans) goes 0, 1, 2, ..., \n",
    "        for item in releasePlans[sprint][snapshot]:\n",
    "            data.append(item.estimate)\n",
    "        for item in releasePlans[sprint]['unplanned_start']:\n",
    "            target.append(item.estimate)\n",
    "            \n",
    "    sns.distplot(data, bins=sprintDuration, color=color, ax=ax)\n",
    "    #ax1.legend(loc ='best')\n",
    "    ax.set_title(snapshot)\n",
    "    if len(data)==0:\n",
    "        mean = 0\n",
    "    else:\n",
    "        mean = statistics.mean(data)\n",
    "        \n",
    "    model = BalancedAllocationModel(sprintDuration)\n",
    "\n",
    "    \n",
    "    distance = _calcSnapshotDistance(data, target, model)\n",
    "    \n",
    "    ax.set_xlabel('size=' + str(len(data)) + '; mean=' + str(round(mean, 2)) + '; distance=' + str(round(distance,2)))\n",
    "    \n",
    "def plotPlans(sprint, releasePlans, sprintDuration):\n",
    "    #fig = plt.figure()\n",
    "\n",
    "    fig, axs = plt.subplots(2, 3)   \n",
    "\n",
    "    fig.suptitle('--------------------------------------------- SPRINT '+ str(sprint) + \n",
    "                 ' ---------------------------------------------', fontsize=16, y=1.4, x=1)\n",
    "\n",
    "    _plotPlansHelper(sprint, releasePlans, sprintDuration, fig, 'unplanned_start', axs[0][0], 'g')\n",
    "    _plotPlansHelper(sprint, releasePlans, sprintDuration, fig, 'planned_start_CURRENT_SPRINT', axs[0][1], 'b')\n",
    "    _plotPlansHelper(sprint, releasePlans, sprintDuration, fig, 'planned_start_NEXT_SPRINT', axs[0][2], 'b')\n",
    "    _plotPlansHelper(sprint, releasePlans, sprintDuration, fig, 'unplanned_end', axs[1][0], 'g')\n",
    "    _plotPlansHelper(sprint, releasePlans, sprintDuration, fig, 'planned_end_CURRENT_SPRINT', axs[1][1], 'b')\n",
    "    _plotPlansHelper(sprint, releasePlans, sprintDuration, fig, 'planned_end_NEXT_SPRINT', axs[1][2], 'b')\n",
    "    \n",
    "    plt.subplots_adjust(top=1.2, right=2.3, wspace=0.3, hspace=0.5)"
   ]
  },
  {
   "cell_type": "code",
   "execution_count": 10,
   "metadata": {},
   "outputs": [
    {
     "name": "stderr",
     "output_type": "stream",
     "text": [
      "C:\\Alex\\CodeImages\\technos\\anaconda3\\lib\\site-packages\\scipy\\stats\\stats.py:1713: FutureWarning: Using a non-tuple sequence for multidimensional indexing is deprecated; use `arr[tuple(seq)]` instead of `arr[seq]`. In the future this will be interpreted as an array index, `arr[np.array(seq)]`, which will result either in an error or a different result.\n",
      "  return np.add.reduce(sorted[indexer] * weights, axis=axis) / sumval\n",
      "C:\\Alex\\CodeImages\\technos\\anaconda3\\lib\\site-packages\\numpy\\lib\\histograms.py:823: RuntimeWarning: invalid value encountered in true_divide\n",
      "  return n/db/n.sum(), bin_edges\n"
     ]
    },
    {
     "data": {
      "image/png": "[encoded data removed]",
      "text/plain": [
       "<Figure size 432x288 with 6 Axes>"
      ]
     },
     "metadata": {
      "needs_background": "light"
     },
     "output_type": "display_data"
    }
   ],
   "source": [
    "plotPlans(1, plans, 10)"
   ]
  },
  {
   "cell_type": "code",
   "execution_count": 11,
   "metadata": {},
   "outputs": [
    {
     "data": {
      "image/png": "[encoded data removed]",
      "text/plain": [
       "<Figure size 432x288 with 6 Axes>"
      ]
     },
     "metadata": {
      "needs_background": "light"
     },
     "output_type": "display_data"
    }
   ],
   "source": [
    "plotPlans(2, plans, 10)"
   ]
  },
  {
   "cell_type": "code",
   "execution_count": null,
   "metadata": {},
   "outputs": [],
   "source": [
    "plotPlans(3, plans, 10)"
   ]
  },
  {
   "cell_type": "code",
   "execution_count": null,
   "metadata": {},
   "outputs": [],
   "source": [
    "plotPlans(4, plans, 10)"
   ]
  },
  {
   "cell_type": "code",
   "execution_count": null,
   "metadata": {},
   "outputs": [],
   "source": [
    "plotPlans(5, plans, 10)"
   ]
  },
  {
   "cell_type": "code",
   "execution_count": null,
   "metadata": {},
   "outputs": [],
   "source": [
    "plotPlans(6, plans, 10)"
   ]
  },
  {
   "cell_type": "code",
   "execution_count": null,
   "metadata": {},
   "outputs": [],
   "source": [
    "plotPlans(7, plans, 10)"
   ]
  },
  {
   "cell_type": "code",
   "execution_count": null,
   "metadata": {},
   "outputs": [],
   "source": [
    "plotPlans(8, plans, 10)"
   ]
  },
  {
   "cell_type": "code",
   "execution_count": null,
   "metadata": {},
   "outputs": [],
   "source": [
    "plotPlans(9, plans, 10)"
   ]
  },
  {
   "cell_type": "code",
   "execution_count": null,
   "metadata": {},
   "outputs": [],
   "source": [
    "plotPlans(10, plans, 10)"
   ]
  },
  {
   "cell_type": "code",
   "execution_count": null,
   "metadata": {},
   "outputs": [],
   "source": [
    "plotPlans(11, plans, 10)"
   ]
  },
  {
   "cell_type": "code",
   "execution_count": null,
   "metadata": {},
   "outputs": [],
   "source": [
    "plotPlans(12, plans, 10)"
   ]
  },
  {
   "cell_type": "code",
   "execution_count": null,
   "metadata": {},
   "outputs": [],
   "source": [
    "plotPlans(13, plans, 10)"
   ]
  },
  {
   "cell_type": "code",
   "execution_count": null,
   "metadata": {},
   "outputs": [],
   "source": [
    "plotPlans(14, plans, 10)"
   ]
  },
  {
   "cell_type": "code",
   "execution_count": null,
   "metadata": {},
   "outputs": [],
   "source": [
    "plotPlans(15, plans, 10)"
   ]
  },
  {
   "cell_type": "code",
   "execution_count": null,
   "metadata": {},
   "outputs": [],
   "source": [
    "plotPlans(16, plans, 10)"
   ]
  },
  {
   "cell_type": "code",
   "execution_count": null,
   "metadata": {},
   "outputs": [],
   "source": [
    "plotPlans(17, plans, 10)"
   ]
  },
  {
   "cell_type": "markdown",
   "metadata": {},
   "source": [
    "<h2>Burnout in release cycle - Pilot</h2>"
   ]
  },
  {
   "cell_type": "code",
   "execution_count": null,
   "metadata": {},
   "outputs": [],
   "source": [
    "# \n",
    "def genReleaseCycle(modelsConfig):\n",
    "    RELEASE_DURATION = 60\n",
    "    SPRINT_DURATION = 10\n",
    "    \n",
    "    tu_.loadTestResources()\n",
    "    \n",
    "    teams_df, stories_df, teamsRepo, storiesRepo, ticketsRepo = tu_.initTestData(tu_.DEV_DF, \\\n",
    "                                                                                           tu_.PM_DF, \\\n",
    "                                                                                           RELEASE_DURATION, \\\n",
    "                                                                                           SPRINT_DURATION, \\\n",
    "                                                                                          modelsConfig)\n",
    "    \n",
    "    NUMBER_OF_SPRINTS = 25\n",
    "\n",
    "    entries_df, worksheets = timecard.runReleaseCycle(teamsRepo, ticketsRepo, storiesRepo, datetime(2018, 1, 15), \\\n",
    "                                                   SPRINT_DURATION, NUMBER_OF_SPRINTS, modelsConfig)    \n",
    "    \n",
    "    return entries_df, worksheets, storiesRepo"
   ]
  },
  {
   "cell_type": "code",
   "execution_count": null,
   "metadata": {},
   "outputs": [],
   "source": [
    "def genBurnout(entries_df, storiesRepo):\n",
    "    bystory = entries_df.groupby('User Story')\n",
    "    u = bystory.apply(storyInfo, storiesRepo)\n",
    "    \n",
    "    \n",
    "    u = u.reset_index()\n",
    "    u.drop(['level_1'], axis='columns', inplace=True)\n",
    "    s = u.groupby('Final Sprint')\n",
    "    burnout = s.apply(sprintInfo)\n",
    "    burnout = burnout.reset_index()\n",
    "    burnout.drop(['level_1'], axis='columns', inplace=True)\n",
    "    \n",
    "\n",
    "    return burnout, u"
   ]
  },
  {
   "cell_type": "code",
   "execution_count": null,
   "metadata": {},
   "outputs": [],
   "source": [
    "\n"
   ]
  },
  {
   "cell_type": "code",
   "execution_count": null,
   "metadata": {},
   "outputs": [],
   "source": [
    "def storyInfo(group_df, storiesRepo):\n",
    "    info = {}\n",
    "    \n",
    "    #Go back, as min['Date'] is end of first sprint\n",
    "    info['Start'] = [timecard.subtractBusinessDays(group_df['Date'].min(), SPRINT_DURATION)] \n",
    "    info['End'] = [group_df['Date'].max()]\n",
    "    info['Elapsed Time'] = (info['End'][0] - info['Start'][0]).days\n",
    "    info['Effort'] = group_df['Time Spent'].sum()\n",
    "    info['Initial Sprint'] = [group_df['Sprint'].min()]\n",
    "    info['Final Sprint'] = [group_df['Sprint'].max()]  \n",
    "    '''\n",
    "    userStoryId = group_df['User Story']\n",
    "    userStory = storiesRepo.findStory(userStoryId)\n",
    "    info['Original estimate'] = userStory.originalEstimate    \n",
    "    '''\n",
    "    \n",
    "    return pd.DataFrame(info)"
   ]
  },
  {
   "cell_type": "code",
   "execution_count": null,
   "metadata": {},
   "outputs": [],
   "source": [
    "def sprintInfo(group_df):\n",
    "    info = {}\n",
    "    \n",
    "    info['Effort'] = group_df['Effort'].sum()\n",
    "    info['Avg Effort'] = group_df['Effort'].mean()\n",
    "    info['Stories Completed'] = [group_df['User Story'].count()]\n",
    "    info['Over 1 sprint'] = [group_df[group_df['Elapsed Time']==14]['User Story'].count()]\n",
    "    info['Over 2 sprint'] = [group_df[group_df['Elapsed Time']==28]['User Story'].count()]\n",
    "    info['Over 3 sprint'] = [group_df[group_df['Elapsed Time']==42]['User Story'].count()]\n",
    "    info['Over 4 sprint'] = [group_df[group_df['Elapsed Time']==56]['User Story'].count()]\n",
    " \n",
    "    \n",
    "    return pd.DataFrame(info)"
   ]
  },
  {
   "cell_type": "code",
   "execution_count": null,
   "metadata": {},
   "outputs": [],
   "source": [
    "SPRINT_DURATION = 10\n",
    "modelsConfig1 = ModelsConfig([DefaultCostModel(0.0)], [], BalancedAllocationModel(SPRINT_DURATION)) \n",
    "modelsConfig1.random.reset(271)\n",
    "entries_df1, worksheets1, storiesRepo = genReleaseCycle(modelsConfig1)"
   ]
  },
  {
   "cell_type": "code",
   "execution_count": null,
   "metadata": {},
   "outputs": [],
   "source": [
    "burn1, u1 = genBurnout(entries_df1, storiesRepo)\n",
    "burn1"
   ]
  },
  {
   "cell_type": "code",
   "execution_count": null,
   "metadata": {},
   "outputs": [],
   "source": [
    "u1"
   ]
  },
  {
   "cell_type": "code",
   "execution_count": null,
   "metadata": {},
   "outputs": [],
   "source": [
    "SPRINT_DURATION = 10\n",
    "modelsConfig2 = ModelsConfig([DefaultCostModel(0.0)], [], GreedyAllocationModel(SPRINT_DURATION)) \n",
    "modelsConfig2.random.reset(271)\n",
    "entries_df2, worksheets2, storiesRepo = genReleaseCycle(modelsConfig2)"
   ]
  },
  {
   "cell_type": "code",
   "execution_count": null,
   "metadata": {},
   "outputs": [],
   "source": [
    "burn2, u2 = genBurnout(entries_df2, storiesRepo)\n",
    "burn2"
   ]
  },
  {
   "cell_type": "code",
   "execution_count": null,
   "metadata": {},
   "outputs": [],
   "source": [
    "burn1['Effort'].plot(label = 'Balanced'), burn2['Effort'].plot(label = 'Greedy'), plt.legend()"
   ]
  },
  {
   "cell_type": "code",
   "execution_count": null,
   "metadata": {},
   "outputs": [],
   "source": [
    "burn1['Avg Effort'].plot(label = 'Balanced'), burn2['Avg Effort'].plot(label = 'Greedy'), plt.legend()"
   ]
  },
  {
   "cell_type": "code",
   "execution_count": null,
   "metadata": {},
   "outputs": [],
   "source": [
    "u1_10 = u1[u1['Final Sprint'] == 10]\n",
    "u1_10.shape"
   ]
  },
  {
   "cell_type": "code",
   "execution_count": null,
   "metadata": {},
   "outputs": [],
   "source": [
    "u1_10[u1_10['Initial Sprint'] == 10]['Effort'].mean()"
   ]
  },
  {
   "cell_type": "code",
   "execution_count": null,
   "metadata": {},
   "outputs": [],
   "source": [
    "u1_10['Effort'].mean()"
   ]
  },
  {
   "cell_type": "code",
   "execution_count": null,
   "metadata": {},
   "outputs": [],
   "source": [
    "u1_10[u1_10['Initial Sprint'] == 10].shape"
   ]
  },
  {
   "cell_type": "code",
   "execution_count": null,
   "metadata": {},
   "outputs": [],
   "source": [
    "u1_10[u1_10['Initial Sprint'] == 9]['Effort'].mean()"
   ]
  },
  {
   "cell_type": "code",
   "execution_count": null,
   "metadata": {},
   "outputs": [],
   "source": [
    "u1_10[u1_10['Initial Sprint'] == 9].shape"
   ]
  },
  {
   "cell_type": "code",
   "execution_count": null,
   "metadata": {},
   "outputs": [],
   "source": []
  }
 ],
 "metadata": {
  "kernelspec": {
   "display_name": "Python 3",
   "language": "python",
   "name": "python3"
  },
  "language_info": {
   "codemirror_mode": {
    "name": "ipython",
    "version": 3
   },
   "file_extension": ".py",
   "mimetype": "text/x-python",
   "name": "python",
   "nbconvert_exporter": "python",
   "pygments_lexer": "ipython3",
   "version": "3.7.1"
  }
 },
 "nbformat": 4,
 "nbformat_minor": 2
}
