{
 "cells": [
  {
   "cell_type": "code",
   "execution_count": 2,
   "metadata": {},
   "outputs": [],
   "source": [
    "# Global immutable statics, used as labels\n",
    "BUGS_ON_COMPLETED_STORIES = 'BUGS_ON_COMPLETED_STORIES'\n",
    "BUGS_ON_UNFINISHED_STORIES = 'BUGS_ON_UNFINISHED_STORIES'\n",
    "UNFINISHED_STORIES = 'UNFINISHED_STORIES'\n",
    "UNPLANNED = 'UNPLANNED'\n",
    "OWNER_TBD = 'OWNER_TBD'\n",
    "CURRENT_SPRINT = 'CURRENT_SPRINT'\n",
    "NEXT_SPRINT = 'NEXT_SPRINT'"
   ]
  },
  {
   "cell_type": "code",
   "execution_count": null,
   "metadata": {},
   "outputs": [],
   "source": []
  }
 ],
 "metadata": {
  "kernelspec": {
   "display_name": "Python 3",
   "language": "python",
   "name": "python3"
  },
  "language_info": {
   "codemirror_mode": {
    "name": "ipython",
    "version": 3
   },
   "file_extension": ".py",
   "mimetype": "text/x-python",
   "name": "python",
   "nbconvert_exporter": "python",
   "pygments_lexer": "ipython3",
   "version": "3.7.1"
  }
 },
 "nbformat": 4,
 "nbformat_minor": 2
}
