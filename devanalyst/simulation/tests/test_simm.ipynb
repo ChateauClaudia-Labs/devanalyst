{
 "cells": [
  {
   "cell_type": "code",
   "execution_count": 1,
   "metadata": {},
   "outputs": [],
   "source": [
    "import pandas as pd\n",
    "import numpy as np\n",
    "import math\n",
    "from random import choices\n",
    "from datetime import datetime\n",
    "import statistics"
   ]
  },
  {
   "cell_type": "code",
   "execution_count": 2,
   "metadata": {},
   "outputs": [
    {
     "name": "stdout",
     "output_type": "stream",
     "text": [
      "importing Jupyter notebook from c:\\alejandro\\code\\chateauclaudia-labs\\devanalyst\\devanalyst\\simulation\\statics.ipynb\n",
      "importing Jupyter notebook from c:\\alejandro\\code\\chateauclaudia-labs\\devanalyst\\devanalyst\\simulation\\businessObjects.ipynb\n",
      "importing Jupyter notebook from c:\\alejandro\\code\\chateauclaudia-labs\\devanalyst\\devanalyst\\simulation\\simulationModels.ipynb\n"
     ]
    }
   ],
   "source": [
    "import devanalyst.simulation.statics as S_\n",
    "from devanalyst.simulation.businessObjects import WorkAssignments, ReleaseCycleContext\n",
    "from devanalyst.simulation.simulationModels import BalancedAllocationModel, GreedyAllocationModel, ModelsConfig, \\\n",
    "DefaultCostModel\n"
   ]
  },
  {
   "cell_type": "code",
   "execution_count": 3,
   "metadata": {},
   "outputs": [
    {
     "name": "stdout",
     "output_type": "stream",
     "text": [
      "importing Jupyter notebook from c:\\alejandro\\code\\chateauclaudia-labs\\devanalyst\\devanalyst\\simulation\\tests\\test_utils.ipynb\n",
      "importing Jupyter notebook from c:\\alejandro\\code\\chateauclaudia-labs\\devanalyst\\devanalyst\\simulation\\generateTimecards.ipynb\n"
     ]
    }
   ],
   "source": [
    "import devanalyst.simulation.tests.test_utils as tu_\n",
    "from devanalyst.simulation.tests.test_utils import ExpectedOutputCleaner"
   ]
  },
  {
   "cell_type": "markdown",
   "metadata": {},
   "source": [
    "<h2>test_greedyAllocationLogs</h2>"
   ]
  },
  {
   "cell_type": "code",
   "execution_count": 4,
   "metadata": {
    "code_folding": [
     0
    ]
   },
   "outputs": [],
   "source": [
    "# Implement test logic, and run it\n",
    "\n",
    "#Test logic\n",
    "def test_greedyAllocationLogs():    \n",
    "    output = {}\n",
    "    RELEASE_DURATION = 125\n",
    "    SPRINT_DURATION = 10\n",
    "    SPRINT = 1\n",
    "\n",
    "    # Configure models\n",
    "    model = GreedyAllocationModel() \n",
    "    modelsConfig = ModelsConfig([], [], model)\n",
    "    modelsConfig.random.reset(271)\n",
    "\n",
    "    teams_df, stories_df, teamsRepo, storiesRepo, ticketsRepo = tu_.initTestData(tu_.DEV_DF, tu_.PM_DF, \\\n",
    "                                                                             RELEASE_DURATION, SPRINT_DURATION, modelsConfig)\n",
    "\n",
    "    \n",
    "    # Select a team\n",
    "    teamId = teams_df['Scrum Team'][0].teamId\n",
    "    \n",
    "    modelsConfig.context = ReleaseCycleContext(teamId, teamsRepo, storiesRepo, ticketsRepo, SPRINT, SPRINT_DURATION)\n",
    "       \n",
    "    work = WorkAssignments(modelsConfig.context)\n",
    "    work = model.allocate(work, modelsConfig)\n",
    "    \n",
    "    log_df = model.buildLog_df('Sprint 1 QA', modelsConfig.context)\n",
    "        \n",
    "    output['Logs'] = log_df\n",
    "    return output\n",
    "\n",
    "# Run the test\n",
    "test_greedyAllocationLogs_ACTUAL = test_greedyAllocationLogs()"
   ]
  },
  {
   "cell_type": "code",
   "execution_count": 5,
   "metadata": {
    "code_folding": [
     0
    ]
   },
   "outputs": [],
   "source": [
    "# Uncomment to update expected output to match the actual one\n",
    "\n",
    "# Helper method\n",
    "def create_greedyAllocationLogs_EXPECTED():\n",
    "    tu_.createExpectedOutput(test_greedyAllocationLogs_ACTUAL['Logs'],    'simm.test_greedyAllocationLogs')\n",
    "\n",
    "# Uncomment to update expected output to match the actual one, and then put the comment back\n",
    "#create_greedyAllocationLogs_EXPECTED()"
   ]
  },
  {
   "cell_type": "code",
   "execution_count": 6,
   "metadata": {
    "code_folding": [
     0
    ]
   },
   "outputs": [
    {
     "data": {
      "text/plain": [
       "True"
      ]
     },
     "execution_count": 6,
     "metadata": {},
     "output_type": "execute_result"
    }
   ],
   "source": [
    "# Load expected output, update the EXPECTED and ACTUAL dictionaries, and check test is OK\n",
    "list_cols = ['Initial Data - CURRENT_SPRINT', 'Final Data - CURRENT_SPRINT', 'Remaining Data - CURRENT_SPRINT',\\\n",
    "             'Initial Data - NEXT_SPRINT', 'Final Data - NEXT_SPRINT', 'Remaining Data - NEXT_SPRINT'\n",
    "            ]\n",
    "\n",
    "test_greedyAllocationLogs_EXPECTED = {}\n",
    "\n",
    "test_greedyAllocationLogs_EXPECTED['Logs']      = tu_.loadExpectedOutput('simm.test_greedyAllocationLogs', list_cols)\n",
    "\n",
    "# Rounding inaccuracies in saving and loading CSV will create an artificial mismatch between ACTUAL and EXPECTED\n",
    "# So round EXPECTED and ACTUAL to 6 decimal places for sensitive fields (any float)\n",
    "ExpectedOutputCleaner.cleanRoundingNoise(['Initial Mean - CURRENT_SPRINT', 'Final Mean - CURRENT_SPRINT', \\\n",
    "                                          'Remaining Mean - CURRENT_SPRINT', 'Initial Distance - CURRENT_SPRINT', \\\n",
    "                                          'Final Distance - CURRENT_SPRINT', 'Remaining Distance - CURRENT_SPRINT',\\\n",
    "                                          'Initial Mean - NEXT_SPRINT', 'Final Mean - NEXT_SPRINT', \\\n",
    "                                          'Remaining Mean - NEXT_SPRINT', 'Initial Distance - NEXT_SPRINT', \\\n",
    "                                          'Final Distance - NEXT_SPRINT', 'Remaining Distance - NEXT_SPRINT'],\n",
    "                                        ['Logs'],\n",
    "                                        test_greedyAllocationLogs_EXPECTED,\n",
    "                                        test_greedyAllocationLogs_ACTUAL)\n",
    "\n",
    "tu_.EXPECTED['simm.test_greedyAllocationLogs']      = test_greedyAllocationLogs_EXPECTED['Logs']\n",
    "\n",
    "tu_.ACTUAL['simm.test_greedyAllocationLogs']        = test_greedyAllocationLogs_ACTUAL['Logs']\n",
    "\n",
    "tu_.testOK('simm.test_greedyAllocationLogs')"
   ]
  },
  {
   "cell_type": "code",
   "execution_count": null,
   "metadata": {},
   "outputs": [],
   "source": [
    "test_greedyAllocationLogs_ACTUAL['Logs'][:5]"
   ]
  },
  {
   "cell_type": "code",
   "execution_count": null,
   "metadata": {},
   "outputs": [],
   "source": [
    "test_greedyAllocationLogs_EXPECTED['Logs'][:5]"
   ]
  },
  {
   "cell_type": "code",
   "execution_count": null,
   "metadata": {
    "code_folding": []
   },
   "outputs": [],
   "source": [
    "# Uncomment to interactively visualize the logs, and then comment again once interactive analysis is done. Commenting these\n",
    "# lines after interactive analysis is completed is required as test harness can't load these visualiations\n",
    "# libraries so leaving this uncommented will crash the entire test harness.\n",
    "# NOTE: MAY NEED TO RUN TWICE, as there seems to be a bug in Jupyter Notebook so on the first run there is no output\n",
    "#import devanalyst.simulation.visualizations.simm_visuals as simm_visuals\n",
    "#simm_visuals.renderLog(test_greedyAllocationLogs_ACTUAL['Logs'],'b')"
   ]
  },
  {
   "cell_type": "code",
   "execution_count": null,
   "metadata": {
    "code_folding": []
   },
   "outputs": [],
   "source": [
    "# Uncomment to interactively visualize the logs, and then comment again once interactive analysis is done. Commenting these\n",
    "# lines after interactive analysis is completed is required as test harness can't load these visualiations\n",
    "# libraries so leaving this uncommented will crash the entire test harness.\n",
    "# NOTE: MAY NEED TO RUN TWICE, as there seems to be a bug in Jupyter Notebook so on the first run there is no output\n",
    "#import devanalyst.simulation.visualizations.simm_visuals as simm_visuals\n",
    "#simm_visuals.renderLog(test_greedyAllocationLogs_EXPECTED['Logs'],'g')"
   ]
  },
  {
   "cell_type": "markdown",
   "metadata": {},
   "source": [
    "<h1>test_greedyAllocation</h1>"
   ]
  },
  {
   "cell_type": "code",
   "execution_count": 13,
   "metadata": {
    "code_folding": [
     0
    ]
   },
   "outputs": [],
   "source": [
    "# Implement test logic, and run it\n",
    "\n",
    "#Test logic\n",
    "def test_greedyAllocation():    \n",
    "    output = {}\n",
    "    RELEASE_DURATION = 125\n",
    "    SPRINT_DURATION = 10\n",
    "\n",
    "    # Configure models\n",
    "    model = GreedyAllocationModel() \n",
    "    modelsConfig = ModelsConfig([], [], model)\n",
    "    modelsConfig.random.reset(271)\n",
    "\n",
    "    teams_df, stories_df, teamsRepo, storiesRepo, ticketsRepo = tu_.initTestData(tu_.DEV_DF, tu_.PM_DF, \\\n",
    "                                                                             RELEASE_DURATION, SPRINT_DURATION, modelsConfig)\n",
    "\n",
    "    # Select a team\n",
    "    teamId = teams_df['Scrum Team'][0].teamId\n",
    "    \n",
    "    # Choose what to work on at the start of a sprint.\n",
    "    SPRINT_DURATION = 10\n",
    "    SPRINT = 1\n",
    "    modelsConfig.context = ReleaseCycleContext(teamId, teamsRepo, storiesRepo, ticketsRepo, SPRINT, SPRINT_DURATION)\n",
    "   \n",
    "    work = WorkAssignments(modelsConfig.context)\n",
    "\n",
    "    work = model.allocate(work, modelsConfig)\n",
    "    \n",
    "    committed_df = work.committedTime(SPRINT_DURATION)\n",
    "    tasks_df = work.committedTasks()\n",
    "        \n",
    "    output['Committed'] = committed_df\n",
    "    output['Tasks'] = tasks_df\n",
    "    return output\n",
    "\n",
    "# Run the test\n",
    "test_greedyAllocation_ACTUAL = test_greedyAllocation()"
   ]
  },
  {
   "cell_type": "code",
   "execution_count": 14,
   "metadata": {
    "code_folding": [
     0
    ]
   },
   "outputs": [],
   "source": [
    "# Uncomment to update expected output to match the actual one\n",
    "\n",
    "# Helper method\n",
    "def create_greedyAllocation_EXPECTED():\n",
    "    tu_.createExpectedOutput(test_greedyAllocation_ACTUAL['Committed'],    'simm.test_greedyAllocation.Committed')\n",
    "    tu_.createExpectedOutput(test_greedyAllocation_ACTUAL['Tasks'],        'simm.test_greedyAllocation.Tasks')\n",
    "\n",
    "# Uncomment to update expected output to match the actual one, and then put the comment back\n",
    "#create_greedyAllocation_EXPECTED()"
   ]
  },
  {
   "cell_type": "code",
   "execution_count": 15,
   "metadata": {
    "code_folding": [
     0
    ]
   },
   "outputs": [
    {
     "data": {
      "text/plain": [
       "(True, True)"
      ]
     },
     "execution_count": 15,
     "metadata": {},
     "output_type": "execute_result"
    }
   ],
   "source": [
    "# Load expected output, update the EXPECTED and ACTUAL dictionaries, and check test is OK\n",
    "test_greedyAllocation_EXPECTED = {}\n",
    "\n",
    "test_greedyAllocation_EXPECTED['Committed']      = tu_.loadExpectedOutput('simm.test_greedyAllocation.Committed')\n",
    "test_greedyAllocation_EXPECTED['Tasks']          = tu_.loadExpectedOutput('simm.test_greedyAllocation.Tasks')\n",
    "\n",
    "# Rounding inaccuracies in saving and loading CSV will create an artificial mismatch between ACTUAL and EXPECTED\n",
    "# So round EXPECTED and ACTUAL to 6 decimal places for sensitive fields (any float)\n",
    "ExpectedOutputCleaner.cleanRoundingNoise(['Rejects (days)', 'Debugging (days)', 'Implementation (days)', 'Bandwidth',\\\n",
    "                                          'NEXT SPRINT (days)', 'NEXT SPRINT Bandwidth'],\n",
    "                                        ['Committed'],\n",
    "                                        test_greedyAllocation_EXPECTED,\n",
    "                                        test_greedyAllocation_ACTUAL)\n",
    "\n",
    "ExpectedOutputCleaner.cleanRoundingNoise(['Original Estimate', 'Effort Spent', 'Effort Remaining', 'Percent Achieved'],\n",
    "                                        ['Tasks'],\n",
    "                                        test_greedyAllocation_EXPECTED,\n",
    "                                        test_greedyAllocation_ACTUAL)\n",
    "\n",
    "tu_.EXPECTED['simm.test_greedyAllocation.Committed']      = test_greedyAllocation_EXPECTED['Committed']\n",
    "tu_.EXPECTED['simm.test_greedyAllocation.Tasks']          = test_greedyAllocation_EXPECTED['Tasks']\n",
    "\n",
    "tu_.ACTUAL['simm.test_greedyAllocation.Committed']        = test_greedyAllocation_ACTUAL['Committed']\n",
    "tu_.ACTUAL['simm.test_greedyAllocation.Tasks']            = test_greedyAllocation_ACTUAL['Tasks']\n",
    "\n",
    "tu_.testOK('simm.test_greedyAllocation.Committed'), \\\n",
    "tu_.testOK('simm.test_greedyAllocation.Tasks'), \\"
   ]
  },
  {
   "cell_type": "code",
   "execution_count": null,
   "metadata": {},
   "outputs": [],
   "source": [
    "test_greedyAllocation_ACTUAL['Committed']"
   ]
  },
  {
   "cell_type": "code",
   "execution_count": null,
   "metadata": {},
   "outputs": [],
   "source": [
    "test_greedyAllocation_EXPECTED['Committed']"
   ]
  },
  {
   "cell_type": "code",
   "execution_count": 10,
   "metadata": {},
   "outputs": [
    {
     "data": {
      "text/html": [
       "<div>\n",
       "<style scoped>\n",
       "    .dataframe tbody tr th:only-of-type {\n",
       "        vertical-align: middle;\n",
       "    }\n",
       "\n",
       "    .dataframe tbody tr th {\n",
       "        vertical-align: top;\n",
       "    }\n",
       "\n",
       "    .dataframe thead th {\n",
       "        text-align: right;\n",
       "    }\n",
       "</style>\n",
       "<table border=\"1\" class=\"dataframe\">\n",
       "  <thead>\n",
       "    <tr style=\"text-align: right;\">\n",
       "      <th></th>\n",
       "      <th>Owner</th>\n",
       "      <th>Task Type</th>\n",
       "      <th>Task Description</th>\n",
       "      <th>User Story Id</th>\n",
       "      <th>Planned for Sprint</th>\n",
       "      <th>Delivered in Sprint</th>\n",
       "      <th>Original Estimate</th>\n",
       "      <th>Bucket</th>\n",
       "      <th>Effort Spent</th>\n",
       "      <th>Effort Remaining</th>\n",
       "      <th>Percent Achieved</th>\n",
       "    </tr>\n",
       "  </thead>\n",
       "  <tbody>\n",
       "    <tr>\n",
       "      <th>0</th>\n",
       "      <td>Anton Easterday</td>\n",
       "      <td>UNFINISHED_STORIES</td>\n",
       "      <td>Story implementation</td>\n",
       "      <td>UserStory #151</td>\n",
       "      <td>1</td>\n",
       "      <td>NOT_SET</td>\n",
       "      <td>2.0</td>\n",
       "      <td>CURRENT_SPRINT</td>\n",
       "      <td>0.0</td>\n",
       "      <td>2.0</td>\n",
       "      <td>0.0</td>\n",
       "    </tr>\n",
       "    <tr>\n",
       "      <th>1</th>\n",
       "      <td>Anton Easterday</td>\n",
       "      <td>UNFINISHED_STORIES</td>\n",
       "      <td>Story implementation</td>\n",
       "      <td>UserStory #97</td>\n",
       "      <td>1</td>\n",
       "      <td>NOT_SET</td>\n",
       "      <td>2.0</td>\n",
       "      <td>CURRENT_SPRINT</td>\n",
       "      <td>0.0</td>\n",
       "      <td>2.0</td>\n",
       "      <td>0.0</td>\n",
       "    </tr>\n",
       "    <tr>\n",
       "      <th>2</th>\n",
       "      <td>Anton Easterday</td>\n",
       "      <td>UNFINISHED_STORIES</td>\n",
       "      <td>Story implementation</td>\n",
       "      <td>UserStory #58</td>\n",
       "      <td>1</td>\n",
       "      <td>NOT_SET</td>\n",
       "      <td>4.0</td>\n",
       "      <td>CURRENT_SPRINT</td>\n",
       "      <td>0.0</td>\n",
       "      <td>4.0</td>\n",
       "      <td>0.0</td>\n",
       "    </tr>\n",
       "    <tr>\n",
       "      <th>3</th>\n",
       "      <td>Anton Easterday</td>\n",
       "      <td>UNFINISHED_STORIES</td>\n",
       "      <td>Story implementation</td>\n",
       "      <td>UserStory #83</td>\n",
       "      <td>1</td>\n",
       "      <td>NOT_SET</td>\n",
       "      <td>2.0</td>\n",
       "      <td>CURRENT_SPRINT</td>\n",
       "      <td>0.0</td>\n",
       "      <td>2.0</td>\n",
       "      <td>0.0</td>\n",
       "    </tr>\n",
       "    <tr>\n",
       "      <th>4</th>\n",
       "      <td>Beau Hockensmith</td>\n",
       "      <td>UNFINISHED_STORIES</td>\n",
       "      <td>Story implementation</td>\n",
       "      <td>UserStory #1</td>\n",
       "      <td>1</td>\n",
       "      <td>NOT_SET</td>\n",
       "      <td>10.0</td>\n",
       "      <td>CURRENT_SPRINT</td>\n",
       "      <td>0.0</td>\n",
       "      <td>10.0</td>\n",
       "      <td>0.0</td>\n",
       "    </tr>\n",
       "    <tr>\n",
       "      <th>5</th>\n",
       "      <td>Bruno Studley</td>\n",
       "      <td>UNFINISHED_STORIES</td>\n",
       "      <td>Story implementation</td>\n",
       "      <td>UserStory #77</td>\n",
       "      <td>1</td>\n",
       "      <td>NOT_SET</td>\n",
       "      <td>3.0</td>\n",
       "      <td>CURRENT_SPRINT</td>\n",
       "      <td>0.0</td>\n",
       "      <td>3.0</td>\n",
       "      <td>0.0</td>\n",
       "    </tr>\n",
       "    <tr>\n",
       "      <th>6</th>\n",
       "      <td>Bruno Studley</td>\n",
       "      <td>UNFINISHED_STORIES</td>\n",
       "      <td>Story implementation</td>\n",
       "      <td>UserStory #137</td>\n",
       "      <td>1</td>\n",
       "      <td>NOT_SET</td>\n",
       "      <td>2.0</td>\n",
       "      <td>CURRENT_SPRINT</td>\n",
       "      <td>0.0</td>\n",
       "      <td>2.0</td>\n",
       "      <td>0.0</td>\n",
       "    </tr>\n",
       "    <tr>\n",
       "      <th>7</th>\n",
       "      <td>Bruno Studley</td>\n",
       "      <td>UNFINISHED_STORIES</td>\n",
       "      <td>Story implementation</td>\n",
       "      <td>UserStory #52</td>\n",
       "      <td>1</td>\n",
       "      <td>NOT_SET</td>\n",
       "      <td>5.0</td>\n",
       "      <td>CURRENT_SPRINT</td>\n",
       "      <td>0.0</td>\n",
       "      <td>5.0</td>\n",
       "      <td>0.0</td>\n",
       "    </tr>\n",
       "    <tr>\n",
       "      <th>8</th>\n",
       "      <td>Craig Garlitz</td>\n",
       "      <td>UNFINISHED_STORIES</td>\n",
       "      <td>Story implementation</td>\n",
       "      <td>UserStory #143</td>\n",
       "      <td>1</td>\n",
       "      <td>NOT_SET</td>\n",
       "      <td>9.0</td>\n",
       "      <td>CURRENT_SPRINT</td>\n",
       "      <td>0.0</td>\n",
       "      <td>9.0</td>\n",
       "      <td>0.0</td>\n",
       "    </tr>\n",
       "    <tr>\n",
       "      <th>9</th>\n",
       "      <td>Craig Garlitz</td>\n",
       "      <td>UNFINISHED_STORIES</td>\n",
       "      <td>Story implementation</td>\n",
       "      <td>UserStory #75</td>\n",
       "      <td>1</td>\n",
       "      <td>NOT_SET</td>\n",
       "      <td>1.0</td>\n",
       "      <td>CURRENT_SPRINT</td>\n",
       "      <td>0.0</td>\n",
       "      <td>1.0</td>\n",
       "      <td>0.0</td>\n",
       "    </tr>\n",
       "    <tr>\n",
       "      <th>10</th>\n",
       "      <td>Francisco Hoppe</td>\n",
       "      <td>UNFINISHED_STORIES</td>\n",
       "      <td>Story implementation</td>\n",
       "      <td>UserStory #8</td>\n",
       "      <td>1</td>\n",
       "      <td>NOT_SET</td>\n",
       "      <td>9.0</td>\n",
       "      <td>CURRENT_SPRINT</td>\n",
       "      <td>0.0</td>\n",
       "      <td>9.0</td>\n",
       "      <td>0.0</td>\n",
       "    </tr>\n",
       "    <tr>\n",
       "      <th>11</th>\n",
       "      <td>Francisco Hoppe</td>\n",
       "      <td>UNFINISHED_STORIES</td>\n",
       "      <td>Story implementation</td>\n",
       "      <td>UserStory #113</td>\n",
       "      <td>1</td>\n",
       "      <td>NOT_SET</td>\n",
       "      <td>1.0</td>\n",
       "      <td>CURRENT_SPRINT</td>\n",
       "      <td>0.0</td>\n",
       "      <td>1.0</td>\n",
       "      <td>0.0</td>\n",
       "    </tr>\n",
       "    <tr>\n",
       "      <th>12</th>\n",
       "      <td>Glenna Mcghie</td>\n",
       "      <td>UNFINISHED_STORIES</td>\n",
       "      <td>Story implementation</td>\n",
       "      <td>UserStory #164</td>\n",
       "      <td>1</td>\n",
       "      <td>NOT_SET</td>\n",
       "      <td>6.0</td>\n",
       "      <td>CURRENT_SPRINT</td>\n",
       "      <td>0.0</td>\n",
       "      <td>6.0</td>\n",
       "      <td>0.0</td>\n",
       "    </tr>\n",
       "    <tr>\n",
       "      <th>13</th>\n",
       "      <td>Glenna Mcghie</td>\n",
       "      <td>UNFINISHED_STORIES</td>\n",
       "      <td>Story implementation</td>\n",
       "      <td>UserStory #33</td>\n",
       "      <td>1</td>\n",
       "      <td>NOT_SET</td>\n",
       "      <td>4.0</td>\n",
       "      <td>CURRENT_SPRINT</td>\n",
       "      <td>0.0</td>\n",
       "      <td>4.0</td>\n",
       "      <td>0.0</td>\n",
       "    </tr>\n",
       "    <tr>\n",
       "      <th>14</th>\n",
       "      <td>Gregorio Darr</td>\n",
       "      <td>UNFINISHED_STORIES</td>\n",
       "      <td>Story implementation</td>\n",
       "      <td>UserStory #72</td>\n",
       "      <td>1</td>\n",
       "      <td>NOT_SET</td>\n",
       "      <td>5.0</td>\n",
       "      <td>CURRENT_SPRINT</td>\n",
       "      <td>0.0</td>\n",
       "      <td>5.0</td>\n",
       "      <td>0.0</td>\n",
       "    </tr>\n",
       "    <tr>\n",
       "      <th>15</th>\n",
       "      <td>Gregorio Darr</td>\n",
       "      <td>UNFINISHED_STORIES</td>\n",
       "      <td>Story implementation</td>\n",
       "      <td>UserStory #160</td>\n",
       "      <td>1</td>\n",
       "      <td>NOT_SET</td>\n",
       "      <td>2.0</td>\n",
       "      <td>CURRENT_SPRINT</td>\n",
       "      <td>0.0</td>\n",
       "      <td>2.0</td>\n",
       "      <td>0.0</td>\n",
       "    </tr>\n",
       "    <tr>\n",
       "      <th>16</th>\n",
       "      <td>Gregorio Darr</td>\n",
       "      <td>UNFINISHED_STORIES</td>\n",
       "      <td>Story implementation</td>\n",
       "      <td>UserStory #35</td>\n",
       "      <td>1</td>\n",
       "      <td>NOT_SET</td>\n",
       "      <td>3.0</td>\n",
       "      <td>CURRENT_SPRINT</td>\n",
       "      <td>0.0</td>\n",
       "      <td>3.0</td>\n",
       "      <td>0.0</td>\n",
       "    </tr>\n",
       "    <tr>\n",
       "      <th>17</th>\n",
       "      <td>Heriberto Martini</td>\n",
       "      <td>UNFINISHED_STORIES</td>\n",
       "      <td>Story implementation</td>\n",
       "      <td>UserStory #61</td>\n",
       "      <td>1</td>\n",
       "      <td>NOT_SET</td>\n",
       "      <td>2.0</td>\n",
       "      <td>CURRENT_SPRINT</td>\n",
       "      <td>0.0</td>\n",
       "      <td>2.0</td>\n",
       "      <td>0.0</td>\n",
       "    </tr>\n",
       "    <tr>\n",
       "      <th>18</th>\n",
       "      <td>Heriberto Martini</td>\n",
       "      <td>UNFINISHED_STORIES</td>\n",
       "      <td>Story implementation</td>\n",
       "      <td>UserStory #180</td>\n",
       "      <td>1</td>\n",
       "      <td>NOT_SET</td>\n",
       "      <td>8.0</td>\n",
       "      <td>CURRENT_SPRINT</td>\n",
       "      <td>0.0</td>\n",
       "      <td>8.0</td>\n",
       "      <td>0.0</td>\n",
       "    </tr>\n",
       "  </tbody>\n",
       "</table>\n",
       "</div>"
      ],
      "text/plain": [
       "                Owner           Task Type      Task Description  \\\n",
       "0     Anton Easterday  UNFINISHED_STORIES  Story implementation   \n",
       "1     Anton Easterday  UNFINISHED_STORIES  Story implementation   \n",
       "2     Anton Easterday  UNFINISHED_STORIES  Story implementation   \n",
       "3     Anton Easterday  UNFINISHED_STORIES  Story implementation   \n",
       "4    Beau Hockensmith  UNFINISHED_STORIES  Story implementation   \n",
       "5       Bruno Studley  UNFINISHED_STORIES  Story implementation   \n",
       "6       Bruno Studley  UNFINISHED_STORIES  Story implementation   \n",
       "7       Bruno Studley  UNFINISHED_STORIES  Story implementation   \n",
       "8       Craig Garlitz  UNFINISHED_STORIES  Story implementation   \n",
       "9       Craig Garlitz  UNFINISHED_STORIES  Story implementation   \n",
       "10    Francisco Hoppe  UNFINISHED_STORIES  Story implementation   \n",
       "11    Francisco Hoppe  UNFINISHED_STORIES  Story implementation   \n",
       "12      Glenna Mcghie  UNFINISHED_STORIES  Story implementation   \n",
       "13      Glenna Mcghie  UNFINISHED_STORIES  Story implementation   \n",
       "14      Gregorio Darr  UNFINISHED_STORIES  Story implementation   \n",
       "15      Gregorio Darr  UNFINISHED_STORIES  Story implementation   \n",
       "16      Gregorio Darr  UNFINISHED_STORIES  Story implementation   \n",
       "17  Heriberto Martini  UNFINISHED_STORIES  Story implementation   \n",
       "18  Heriberto Martini  UNFINISHED_STORIES  Story implementation   \n",
       "\n",
       "     User Story Id  Planned for Sprint Delivered in Sprint  Original Estimate  \\\n",
       "0   UserStory #151                   1             NOT_SET                2.0   \n",
       "1    UserStory #97                   1             NOT_SET                2.0   \n",
       "2    UserStory #58                   1             NOT_SET                4.0   \n",
       "3    UserStory #83                   1             NOT_SET                2.0   \n",
       "4     UserStory #1                   1             NOT_SET               10.0   \n",
       "5    UserStory #77                   1             NOT_SET                3.0   \n",
       "6   UserStory #137                   1             NOT_SET                2.0   \n",
       "7    UserStory #52                   1             NOT_SET                5.0   \n",
       "8   UserStory #143                   1             NOT_SET                9.0   \n",
       "9    UserStory #75                   1             NOT_SET                1.0   \n",
       "10    UserStory #8                   1             NOT_SET                9.0   \n",
       "11  UserStory #113                   1             NOT_SET                1.0   \n",
       "12  UserStory #164                   1             NOT_SET                6.0   \n",
       "13   UserStory #33                   1             NOT_SET                4.0   \n",
       "14   UserStory #72                   1             NOT_SET                5.0   \n",
       "15  UserStory #160                   1             NOT_SET                2.0   \n",
       "16   UserStory #35                   1             NOT_SET                3.0   \n",
       "17   UserStory #61                   1             NOT_SET                2.0   \n",
       "18  UserStory #180                   1             NOT_SET                8.0   \n",
       "\n",
       "            Bucket  Effort Spent  Effort Remaining  Percent Achieved  \n",
       "0   CURRENT_SPRINT           0.0               2.0               0.0  \n",
       "1   CURRENT_SPRINT           0.0               2.0               0.0  \n",
       "2   CURRENT_SPRINT           0.0               4.0               0.0  \n",
       "3   CURRENT_SPRINT           0.0               2.0               0.0  \n",
       "4   CURRENT_SPRINT           0.0              10.0               0.0  \n",
       "5   CURRENT_SPRINT           0.0               3.0               0.0  \n",
       "6   CURRENT_SPRINT           0.0               2.0               0.0  \n",
       "7   CURRENT_SPRINT           0.0               5.0               0.0  \n",
       "8   CURRENT_SPRINT           0.0               9.0               0.0  \n",
       "9   CURRENT_SPRINT           0.0               1.0               0.0  \n",
       "10  CURRENT_SPRINT           0.0               9.0               0.0  \n",
       "11  CURRENT_SPRINT           0.0               1.0               0.0  \n",
       "12  CURRENT_SPRINT           0.0               6.0               0.0  \n",
       "13  CURRENT_SPRINT           0.0               4.0               0.0  \n",
       "14  CURRENT_SPRINT           0.0               5.0               0.0  \n",
       "15  CURRENT_SPRINT           0.0               2.0               0.0  \n",
       "16  CURRENT_SPRINT           0.0               3.0               0.0  \n",
       "17  CURRENT_SPRINT           0.0               2.0               0.0  \n",
       "18  CURRENT_SPRINT           0.0               8.0               0.0  "
      ]
     },
     "execution_count": 10,
     "metadata": {},
     "output_type": "execute_result"
    }
   ],
   "source": [
    "test_greedyAllocation_ACTUAL['Tasks']"
   ]
  },
  {
   "cell_type": "code",
   "execution_count": null,
   "metadata": {},
   "outputs": [],
   "source": [
    "test_greedyAllocation_EXPECTED['Tasks']"
   ]
  },
  {
   "cell_type": "markdown",
   "metadata": {},
   "source": [
    "<h1>test_balancedAllocation</h1>"
   ]
  },
  {
   "cell_type": "code",
   "execution_count": 24,
   "metadata": {
    "code_folding": [
     0
    ]
   },
   "outputs": [],
   "source": [
    "# Implement test logic, and run it\n",
    "\n",
    "#Test logic\n",
    "def test_balancedAllocation():    \n",
    "    output = {}\n",
    "    RELEASE_DURATION = 125\n",
    "    SPRINT_DURATION = 10\n",
    "\n",
    "    # Configure models\n",
    "    model = BalancedAllocationModel() \n",
    "    modelsConfig = ModelsConfig([], [], model)\n",
    "    modelsConfig.random.reset(271)\n",
    "\n",
    "    teams_df, stories_df, teamsRepo, storiesRepo, ticketsRepo = tu_.initTestData(tu_.DEV_DF, tu_.PM_DF, \\\n",
    "                                                                             RELEASE_DURATION, SPRINT_DURATION, modelsConfig)\n",
    "\n",
    "    # Select a team\n",
    "    teamId = teams_df['Scrum Team'][0].teamId\n",
    "    \n",
    "    # Choose what to work on at the start of a sprint.\n",
    "    SPRINT_DURATION = 10\n",
    "    SPRINT = 1\n",
    "    modelsConfig.context = ReleaseCycleContext(teamId, teamsRepo, storiesRepo, ticketsRepo, SPRINT, SPRINT_DURATION)\n",
    "   \n",
    "    work = WorkAssignments(modelsConfig.context)\n",
    "\n",
    "    work = model.allocate(work, modelsConfig)\n",
    "    \n",
    "    committed_df = work.committedTime(SPRINT_DURATION)\n",
    "    tasks_df = work.committedTasks()\n",
    "        \n",
    "    output['Committed'] = committed_df\n",
    "    output['Tasks'] = tasks_df\n",
    "    return output, work\n",
    "\n",
    "# Run the test\n",
    "test_balancedAllocation_ACTUAL, work = test_balancedAllocation()"
   ]
  },
  {
   "cell_type": "code",
   "execution_count": 25,
   "metadata": {
    "code_folding": [
     0
    ]
   },
   "outputs": [],
   "source": [
    "# Uncomment to update expected output to match the actual one\n",
    "\n",
    "# Helper method\n",
    "def create_balancedAllocation_EXPECTED():\n",
    "    tu_.createExpectedOutput(test_balancedAllocation_ACTUAL['Committed'],    'simm.test_balancedAllocation.Committed')\n",
    "    tu_.createExpectedOutput(test_balancedAllocation_ACTUAL['Tasks'],        'simm.test_balancedAllocation.Tasks')\n",
    "\n",
    "# Uncomment to update expected output to match the actual one, and then put the comment back\n",
    "#create_balancedAllocation_EXPECTED()"
   ]
  },
  {
   "cell_type": "code",
   "execution_count": 26,
   "metadata": {
    "code_folding": [
     0
    ]
   },
   "outputs": [
    {
     "data": {
      "text/plain": [
       "(True, True)"
      ]
     },
     "execution_count": 26,
     "metadata": {},
     "output_type": "execute_result"
    }
   ],
   "source": [
    "# Load expected output, update the EXPECTED and ACTUAL dictionaries, and check test is OK\n",
    "test_balancedAllocation_EXPECTED = {}\n",
    "\n",
    "test_balancedAllocation_EXPECTED['Committed']      = tu_.loadExpectedOutput('simm.test_balancedAllocation.Committed')\n",
    "test_balancedAllocation_EXPECTED['Tasks']          = tu_.loadExpectedOutput('simm.test_balancedAllocation.Tasks')\n",
    "\n",
    "# Rounding inaccuracies in saving and loading CSV will create an artificial mismatch between ACTUAL and EXPECTED\n",
    "# So round EXPECTED and ACTUAL to 6 decimal places for sensitive fields (any float)\n",
    "ExpectedOutputCleaner.cleanRoundingNoise(['Rejects (days)', 'Debugging (days)', 'Implementation (days)', 'Bandwidth',\\\n",
    "                                          'NEXT SPRINT (days)', 'NEXT SPRINT Bandwidth'],\n",
    "                                        ['Committed'],\n",
    "                                        test_balancedAllocation_EXPECTED,\n",
    "                                        test_balancedAllocation_ACTUAL)\n",
    "ExpectedOutputCleaner.cleanRoundingNoise(['Original Estimate', 'Effort Spent', 'Effort Remaining', 'Percent Achieved'],\n",
    "                                        ['Tasks'],\n",
    "                                        test_balancedAllocation_EXPECTED,\n",
    "                                        test_balancedAllocation_ACTUAL)\n",
    "\n",
    "tu_.EXPECTED['simm.test_balancedAllocation.Committed']      = test_balancedAllocation_EXPECTED['Committed']\n",
    "tu_.EXPECTED['simm.test_balancedAllocation.Tasks']          = test_balancedAllocation_EXPECTED['Tasks']\n",
    "\n",
    "tu_.ACTUAL['simm.test_balancedAllocation.Committed']        = test_balancedAllocation_ACTUAL['Committed']\n",
    "tu_.ACTUAL['simm.test_balancedAllocation.Tasks']            = test_balancedAllocation_ACTUAL['Tasks']\n",
    "\n",
    "tu_.testOK('simm.test_balancedAllocation.Committed'), \\\n",
    "tu_.testOK('simm.test_balancedAllocation.Tasks'), \\"
   ]
  },
  {
   "cell_type": "code",
   "execution_count": null,
   "metadata": {
    "code_folding": []
   },
   "outputs": [],
   "source": [
    "test_balancedAllocation_ACTUAL['Committed']"
   ]
  },
  {
   "cell_type": "code",
   "execution_count": null,
   "metadata": {},
   "outputs": [],
   "source": [
    "test_balancedAllocation_EXPECTED['Committed']"
   ]
  },
  {
   "cell_type": "code",
   "execution_count": null,
   "metadata": {
    "code_folding": []
   },
   "outputs": [],
   "source": [
    "test_balancedAllocation_ACTUAL['Tasks']"
   ]
  },
  {
   "cell_type": "code",
   "execution_count": null,
   "metadata": {},
   "outputs": [],
   "source": [
    "test_balancedAllocation_EXPECTED['Tasks']"
   ]
  },
  {
   "cell_type": "code",
   "execution_count": null,
   "metadata": {},
   "outputs": [],
   "source": []
  },
  {
   "cell_type": "code",
   "execution_count": null,
   "metadata": {},
   "outputs": [],
   "source": []
  }
 ],
 "metadata": {
  "kernelspec": {
   "display_name": "Python 3",
   "language": "python",
   "name": "python3"
  },
  "language_info": {
   "codemirror_mode": {
    "name": "ipython",
    "version": 3
   },
   "file_extension": ".py",
   "mimetype": "text/x-python",
   "name": "python",
   "nbconvert_exporter": "python",
   "pygments_lexer": "ipython3",
   "version": "3.7.1"
  }
 },
 "nbformat": 4,
 "nbformat_minor": 2
}
