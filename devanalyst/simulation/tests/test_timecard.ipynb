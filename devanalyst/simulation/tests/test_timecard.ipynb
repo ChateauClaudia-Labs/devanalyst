{
 "cells": [
  {
   "cell_type": "code",
   "execution_count": 1,
   "metadata": {},
   "outputs": [],
   "source": [
    "import unittest\n",
    "import pandas as pd\n",
    "\n",
    "from colorama import Fore, Back, Style \n",
    "\n",
    "from datetime import datetime"
   ]
  },
  {
   "cell_type": "markdown",
   "metadata": {},
   "source": [
    "<h1>Import Code to be Tested</h1>"
   ]
  },
  {
   "cell_type": "code",
   "execution_count": 2,
   "metadata": {},
   "outputs": [
    {
     "name": "stdout",
     "output_type": "stream",
     "text": [
      "importing Jupyter notebook from c:\\users\\aleja\\documents\\code\\chateauclaudia-labs\\devanalyst\\devanalyst\\simulation\\statics.ipynb\n",
      "importing Jupyter notebook from c:\\users\\aleja\\documents\\code\\chateauclaudia-labs\\devanalyst\\devanalyst\\simulation\\businessObjects.ipynb\n",
      "importing Jupyter notebook from c:\\users\\aleja\\documents\\code\\chateauclaudia-labs\\devanalyst\\devanalyst\\simulation\\simulationModels.ipynb\n",
      "importing Jupyter notebook from c:\\users\\aleja\\documents\\code\\chateauclaudia-labs\\devanalyst\\devanalyst\\simulation\\generateTimecards.ipynb\n"
     ]
    }
   ],
   "source": [
    "import devanalyst.simulation.statics as S_\n",
    "\n",
    "import devanalyst.simulation.businessObjects as bo\n",
    "from devanalyst.simulation.businessObjects import UserStory, UserStoriesRepo, Ticket, TicketsRepo, WorkItem, \\\n",
    "UserStoryStatus, Backlog, ScrumTeam, ScrumTeamsRepo, ReleaseCycleContext, GlobalRepo\n",
    "\n",
    "from devanalyst.simulation.simulationModels import ModelsConfig, DefaultCostModel, GreedyAllocationModel, \\\n",
    "DistributedLagQualityModel, MeritocraticCostModel, NoLaggardsAllocationModel\n",
    "\n",
    "import devanalyst.simulation.generateTimecards as timecard\n",
    "from devanalyst.simulation.generateTimecards import IdCounter, WorkAssignments, ReleaseLog"
   ]
  },
  {
   "cell_type": "code",
   "execution_count": 3,
   "metadata": {},
   "outputs": [
    {
     "name": "stdout",
     "output_type": "stream",
     "text": [
      "importing Jupyter notebook from c:\\users\\aleja\\documents\\code\\chateauclaudia-labs\\devanalyst\\devanalyst\\test_utils\\test_utils.ipynb\n"
     ]
    }
   ],
   "source": [
    "import devanalyst.test_utils.test_utils as tu_\n",
    "from devanalyst.test_utils.test_utils import ExpectedOutputCleaner"
   ]
  },
  {
   "cell_type": "markdown",
   "metadata": {},
   "source": [
    "<h1>test_uss</h1>\n",
    "<p>Test User Story Status</p>"
   ]
  },
  {
   "cell_type": "code",
   "execution_count": null,
   "metadata": {
    "code_folding": [
     0,
     3,
     12,
     18,
     26,
     36
    ]
   },
   "outputs": [],
   "source": [
    "# Implement test logic, and run\n",
    "\n",
    "# Helper methods to the test\n",
    "def format_ticket(ticket):\n",
    "    return ('Ticket:' + ticket.ticketId \\\n",
    "            + ',\\n\\t\\t storyId=' + ticket.userStoryId \\\n",
    "            + ',\\n\\t\\t costToFix=' + str(ticket.estimatedCost) \\\n",
    "            + ',\\n\\t\\t sprintReported=' + str(ticket.sprintReported) \\\n",
    "            + ',\\n\\t\\t sprintFixed=' + str(ticket.sprintFixed) \\\n",
    "            + ',\\n\\t\\t effortToDate=' + str(ticket.effortToDate) \\\n",
    "            + ',\\n\\t\\t percentAchieved=' + str(ticket.percentAchieved))\n",
    "                \n",
    "def format_tickets(tickets):\n",
    "    output = ''\n",
    "    for ticket in tickets:\n",
    "        output = output + '\\n\\t\\t{' + format_ticket(ticket) + '}'\n",
    "    return output\n",
    "            \n",
    "def format_uss(uss, globalRepo):\n",
    "    openTickets = globalRepo.ticketsRepo.getOpenTickets(uss.userStoryId)        \n",
    "    return ('\\n *** USS:' + uss.userStoryId \\\n",
    "            + '\\n\\t achieved=' + str(uss.percentAchieved) \\\n",
    "            + ',\\n\\t planned=' + str(uss.planned) \\\n",
    "            + ',\\n\\t sprintPlanned=' + str(uss.sprintPlanned) \\\n",
    "            + ',\\n\\t tickets=' + format_tickets(openTickets))\n",
    "\n",
    "def format_item(item, item_label, sprint, timeInSprint):\n",
    "    return ('\\n *** ' + item_label + ' at ' + timeInSprint + ' of sprint' + str(sprint) + ': ' \\\n",
    "            + '\\n\\t userStoryId=' + str(item.userStoryId) \\\n",
    "            + ',\\n\\t taskType=' + str(item.taskType) \\\n",
    "            + ',\\n\\t ticketId=' + str(item.ticketId) \\\n",
    "            + ',\\n\\t estimate=' + '{0:.2f}'.format(item.estimate) \\\n",
    "            + ',\\n\\t percentAchieved=' + str(item.percentAchieved)  \\\n",
    "            + ',\\n\\t sprintPlanned=' + str(item.sprintPlanned))\n",
    "\n",
    "# Test logic\n",
    "def test_uss():\n",
    "    output = '' \n",
    "    repo = UserStoriesRepo([UserStory('Story A', 25, 'Joe Developer', 'Amy PM'), \\\n",
    "                            UserStory('Story B', 17, 'Alex Developer', 'Kate PM')])\n",
    "    # SPRINT 1\n",
    "    ctx = ReleaseCycleContext(teamId='', sprint=1, sprintDuration=None)\n",
    "    globalRepo = GlobalRepo(developersRepo=None, teamsRepo=None, storiesRepo=repo, ticketsRepo=TicketsRepo())\n",
    "    uss = UserStoryStatus('Story B', 0.0)\n",
    "    uss.planned = True\n",
    "    uss.sprintPlanned = 1\n",
    "    output = output + (format_uss(uss, globalRepo))\n",
    "    item = uss._generateWorkItems(ctx, globalRepo)[0]\n",
    "    output = output + (format_item(item, 'Item#1', 1, 'start'))\n",
    "    item.percentAchieved = 0.7\n",
    "    \n",
    "    globalRepo.ticketsRepo.addTicket(Ticket('Bug 100','Story B', 4, 1))\n",
    "    globalRepo.ticketsRepo.addTicket(Ticket('Bug 101','Story B', 1.5, 1))\n",
    "    \n",
    "    output = output + (format_item(item, 'Item#1', 1, 'end'))\n",
    "    uss.updateStatus([item], ctx, globalRepo)\n",
    "    \n",
    "    # SPRINT 2\n",
    "    ctx.sprint = 2\n",
    "    uss.sprintPlanned = 2\n",
    "    output = output + (format_uss(uss, globalRepo))\n",
    "\n",
    "    items = uss._generateWorkItems(ctx, globalRepo)\n",
    "    item=items[0]\n",
    "    output = output + (format_item(item, 'Item#1', 2, 'start'))\n",
    "    item=items[1]\n",
    "    output = output + (format_item(item, 'Item#2', 2, 'start'))\n",
    "    item=items[2]\n",
    "    output = output + (format_item(item, 'Item#3', 2, 'start'))\n",
    "    items[0].percentAchieved = 0.9\n",
    "    items[0].actual = 18.3\n",
    "    items[1].percentAchieved = 1.0\n",
    "    items[1].actual = 4.32\n",
    "    items[2].percentAchieved = 0.5\n",
    "    items[2].actual = 0.86\n",
    "    item=items[0]\n",
    "    output = output + (format_item(item, 'Item#1', 2, 'end'))\n",
    "    item=items[1]\n",
    "    output = output + (format_item(item, 'Item#2', 2, 'end'))\n",
    "    item=items[2]\n",
    "    output = output + (format_item(item, 'Item#3', 2, 'end'))\n",
    "    uss.updateStatus(items, ctx, globalRepo)\n",
    "    output = output + (format_uss(uss, globalRepo))\n",
    "    return output\n",
    "\n",
    "# Run the test\n",
    "test_uss_ACTUAL = test_uss()"
   ]
  },
  {
   "cell_type": "code",
   "execution_count": null,
   "metadata": {
    "code_folding": [
     0
    ]
   },
   "outputs": [],
   "source": [
    "# Uncomment to print a string output one can copy and paste into test_uss_EXPECTED\n",
    "#test_uss_ACTUAL"
   ]
  },
  {
   "cell_type": "code",
   "execution_count": null,
   "metadata": {
    "code_folding": [
     0
    ]
   },
   "outputs": [],
   "source": [
    "# Set expected output, update the EXPECTED and ACTUAL dictionaries, and check test is OK\n",
    "test_uss_EXPECTED = '\\n *** USS:Story B\\n\\t achieved=0.0,\\n\\t planned=True,\\n\\t sprintPlanned=1,\\n\\t tickets=\\n *** Item#1 at start of sprint1: \\n\\t userStoryId=Story B,\\n\\t taskType=UNFINISHED_STORIES,\\n\\t ticketId=None,\\n\\t estimate=17.00,\\n\\t percentAchieved=0.0,\\n\\t sprintPlanned=1\\n *** Item#1 at end of sprint1: \\n\\t userStoryId=Story B,\\n\\t taskType=UNFINISHED_STORIES,\\n\\t ticketId=None,\\n\\t estimate=17.00,\\n\\t percentAchieved=0.7,\\n\\t sprintPlanned=1\\n *** USS:Story B\\n\\t achieved=0.7,\\n\\t planned=True,\\n\\t sprintPlanned=2,\\n\\t tickets=\\n\\t\\t{Ticket:Bug 100,\\n\\t\\t storyId=Story B,\\n\\t\\t costToFix=4,\\n\\t\\t sprintReported=1,\\n\\t\\t sprintFixed=NOT_SET,\\n\\t\\t effortToDate=0.0,\\n\\t\\t percentAchieved=0.0}\\n\\t\\t{Ticket:Bug 101,\\n\\t\\t storyId=Story B,\\n\\t\\t costToFix=1.5,\\n\\t\\t sprintReported=1,\\n\\t\\t sprintFixed=NOT_SET,\\n\\t\\t effortToDate=0.0,\\n\\t\\t percentAchieved=0.0}\\n *** Item#1 at start of sprint2: \\n\\t userStoryId=Story B,\\n\\t taskType=UNFINISHED_STORIES,\\n\\t ticketId=None,\\n\\t estimate=5.10,\\n\\t percentAchieved=0.0,\\n\\t sprintPlanned=2\\n *** Item#2 at start of sprint2: \\n\\t userStoryId=Story B,\\n\\t taskType=DEV_TIME_BUGS,\\n\\t ticketId=Bug 100,\\n\\t estimate=4.00,\\n\\t percentAchieved=0.0,\\n\\t sprintPlanned=2\\n *** Item#3 at start of sprint2: \\n\\t userStoryId=Story B,\\n\\t taskType=DEV_TIME_BUGS,\\n\\t ticketId=Bug 101,\\n\\t estimate=1.50,\\n\\t percentAchieved=0.0,\\n\\t sprintPlanned=2\\n *** Item#1 at end of sprint2: \\n\\t userStoryId=Story B,\\n\\t taskType=UNFINISHED_STORIES,\\n\\t ticketId=None,\\n\\t estimate=5.10,\\n\\t percentAchieved=0.9,\\n\\t sprintPlanned=2\\n *** Item#2 at end of sprint2: \\n\\t userStoryId=Story B,\\n\\t taskType=DEV_TIME_BUGS,\\n\\t ticketId=Bug 100,\\n\\t estimate=4.00,\\n\\t percentAchieved=1.0,\\n\\t sprintPlanned=2\\n *** Item#3 at end of sprint2: \\n\\t userStoryId=Story B,\\n\\t taskType=DEV_TIME_BUGS,\\n\\t ticketId=Bug 101,\\n\\t estimate=1.50,\\n\\t percentAchieved=0.5,\\n\\t sprintPlanned=2\\n *** USS:Story B\\n\\t achieved=0.97,\\n\\t planned=True,\\n\\t sprintPlanned=2,\\n\\t tickets=\\n\\t\\t{Ticket:Bug 101,\\n\\t\\t storyId=Story B,\\n\\t\\t costToFix=1.5,\\n\\t\\t sprintReported=1,\\n\\t\\t sprintFixed=NOT_SET,\\n\\t\\t effortToDate=0.86,\\n\\t\\t percentAchieved=0.5}'\n",
    "\n",
    "tu_.EXPECTED['uss'] = test_uss_EXPECTED\n",
    "tu_.ACTUAL['uss'] = test_uss_ACTUAL\n",
    "tu_.testOK('uss')"
   ]
  },
  {
   "cell_type": "code",
   "execution_count": null,
   "metadata": {
    "cell_style": "split",
    "code_folding": [
     0
    ]
   },
   "outputs": [],
   "source": [
    "# Print ACTUAL output\n",
    "print(Back.BLUE + Fore.WHITE + '--------------------- ACTUAL -------------------------', \\\n",
    "      Back.RESET + Fore.BLUE + '\\n' + test_uss_ACTUAL) "
   ]
  },
  {
   "cell_type": "code",
   "execution_count": null,
   "metadata": {
    "cell_style": "split",
    "code_folding": [
     0
    ]
   },
   "outputs": [],
   "source": [
    "# Print EXPECTED output\n",
    "print(Back.GREEN + Fore.WHITE + '--------------------- EXPECTED -----------------------', \\\n",
    "      Back.RESET + Fore.GREEN + '\\n' + test_uss_EXPECTED) "
   ]
  },
  {
   "cell_type": "markdown",
   "metadata": {},
   "source": [
    "<h1>test_createTeams</h1>"
   ]
  },
  {
   "cell_type": "code",
   "execution_count": null,
   "metadata": {
    "code_folding": [
     0
    ]
   },
   "outputs": [],
   "source": [
    "# Implement test logic, and run\n",
    "\n",
    "teams_df = bo.createTeamsDF(tu_.DEV_DF, tu_.PM_DF)\n",
    "\n",
    "object_cols = ['Scrum Team'] # Need to drop these since they print always-chaning memory address + can't save it in EXPECTED\n",
    "test_createTeams_ACTUAL = teams_df.drop(object_cols, axis='columns')"
   ]
  },
  {
   "cell_type": "code",
   "execution_count": null,
   "metadata": {
    "code_folding": [
     0
    ]
   },
   "outputs": [],
   "source": [
    "# Uncomment to update expected output to match the actual one\n",
    "#tu_.createExpectedOutput(test_createTeams_ACTUAL, 'test_createTeams')"
   ]
  },
  {
   "cell_type": "code",
   "execution_count": null,
   "metadata": {
    "code_folding": [
     0
    ]
   },
   "outputs": [],
   "source": [
    "# Load expected output, update the EXPECTED and ACTUAL dictionaries, and check test is OK\n",
    "list_cols = ['Developers', 'Product Managers', 'Areas of Responsibility']\n",
    "test_createTeams_EXPECTED = tu_.loadExpectedOutput('test_createTeams', list_cols)\n",
    "\n",
    "tu_.EXPECTED['createTeams'] = test_createTeams_EXPECTED\n",
    "tu_.ACTUAL['createTeams'] = test_createTeams_ACTUAL\n",
    "tu_.testOK('createTeams')"
   ]
  },
  {
   "cell_type": "code",
   "execution_count": null,
   "metadata": {},
   "outputs": [],
   "source": [
    "test_createTeams_ACTUAL"
   ]
  },
  {
   "cell_type": "code",
   "execution_count": null,
   "metadata": {},
   "outputs": [],
   "source": [
    "test_createTeams_EXPECTED"
   ]
  },
  {
   "cell_type": "markdown",
   "metadata": {},
   "source": [
    "<h1>test_userStoryCreate</h1>\n",
    "<p>This test has multiple views, each of which is checked separately</p>\n",
    "<li>test_userStoryCreate_stories\n",
    "<li>test_userStoryCreate_estimates\n",
    "<li>test_userStoryCreate_crossCheck\n",
    "<li>test_userStoryCreate_workload"
   ]
  },
  {
   "cell_type": "code",
   "execution_count": null,
   "metadata": {
    "code_folding": [
     0
    ]
   },
   "outputs": [],
   "source": [
    "# Implement test logic, and run it\n",
    "\n",
    "#Test logic\n",
    "def test_userStoryCreate():\n",
    "    output = {}\n",
    "    RELEASE_DURATION = 125\n",
    "    SPRINT_DURATION = 10\n",
    "    NUMBER_OF_SPRINTS = 25\n",
    "\n",
    "    # Configure models\n",
    "    modelsConfig = ModelsConfig([DefaultCostModel()], [], GreedyAllocationModel()) \n",
    "    modelsConfig.random.reset(271)\n",
    "\n",
    "    teams_df, stories_df, globalRepo = tu_.initTestData(tu_.DEV_DF, tu_.PM_DF, \\\n",
    "                                                        RELEASE_DURATION, SPRINT_DURATION, modelsConfig)\n",
    "        \n",
    "    modelsConfig.globalRepo = globalRepo\n",
    "    \n",
    "    grouped_estimates_df = stories_df.groupby([ 'Scrum Team', 'Developer'])['Estimate'].sum()\n",
    "    workload_df          = stories_df.groupby([ 'Scrum Team'])['User Story Id'].count()\n",
    "    \n",
    "    avg_estimates_df = grouped_estimates_df.unstack().apply(lambda x: x.mean(), axis='columns')\n",
    "\n",
    "    # Reset index to match the way how EXPECTED will be saved as a CSV file\n",
    "    estimates_df      = grouped_estimates_df.reset_index()\n",
    "    workload_df       = workload_df.reset_index()\n",
    "    avg_estimates_df  = avg_estimates_df.reset_index()\n",
    "    \n",
    "    # The unstacking above created an column with a number as the column name, 0. That will not match once expected output is saved\n",
    "    # and reloaded, as it will come back as the string '0'. So rename that column to avoid spurious test failures\n",
    "    avg_estimates_df = avg_estimates_df.rename(index=str, columns={0: 'Avg'})\n",
    "    \n",
    "    # Because of the manipulations, the index has changed and that will cause mistaches with the EXPECTED loaded from \n",
    "    # CSV. So re-index\n",
    "    avg_estimates_df.index = pd.RangeIndex(start=0, stop=avg_estimates_df.index.size, step=1)\n",
    "    \n",
    "    crosscheck = [len(teams_df['Scrum Team'][0].backlog.pendingUserStories), \n",
    "                  len(teams_df['Scrum Team'][1].backlog.pendingUserStories),\n",
    "                  len(teams_df['Scrum Team'][2].backlog.pendingUserStories), \n",
    "                  len(teams_df['Scrum Team'][3].backlog.pendingUserStories)]\n",
    "    crosscheck_df = pd.DataFrame({'Team idx': [0,1,2,3], 'Backlog size': crosscheck})\n",
    "    \n",
    "    output['stories_df'] = stories_df\n",
    "    output['estimates_df'] = estimates_df\n",
    "    output['workload_df'] = workload_df\n",
    "    output['crosscheck_df'] = crosscheck_df\n",
    "    output['avg_estimates_df'] = avg_estimates_df\n",
    "\n",
    "    return output\n",
    "\n",
    "# Run the test\n",
    "test_userStoryCreate_ACTUAL = test_userStoryCreate()"
   ]
  },
  {
   "cell_type": "code",
   "execution_count": null,
   "metadata": {
    "code_folding": [
     0
    ]
   },
   "outputs": [],
   "source": [
    "# Uncomment to update expected output to match the actual one\n",
    "\n",
    "# Helper method\n",
    "def create_userStoryCreate_EXPECTED():\n",
    "    tu_.createExpectedOutput(test_userStoryCreate_ACTUAL['stories_df'],        'test_userStoryCreate.stories_df')\n",
    "    tu_.createExpectedOutput(test_userStoryCreate_ACTUAL['estimates_df'],      'test_userStoryCreate.estimates_df')\n",
    "    tu_.createExpectedOutput(test_userStoryCreate_ACTUAL['workload_df'],       'test_userStoryCreate.workload_df')\n",
    "    tu_.createExpectedOutput(test_userStoryCreate_ACTUAL['crosscheck_df'],     'test_userStoryCreate.crosscheck_df')\n",
    "    tu_.createExpectedOutput(test_userStoryCreate_ACTUAL['avg_estimates_df'],  'test_userStoryCreate.avg_estimates_df')\n",
    "\n",
    "# Uncomment to update expected output to match the actual one, and then put the comment back\n",
    "#create_userStoryCreate_EXPECTED()"
   ]
  },
  {
   "cell_type": "code",
   "execution_count": null,
   "metadata": {
    "code_folding": [
     0
    ]
   },
   "outputs": [],
   "source": [
    "# Load expected output, update the EXPECTED and ACTUAL dictionaries, and check test is OK\n",
    "\n",
    "test_userStoryCreate_EXPECTED = {}\n",
    "\n",
    "test_userStoryCreate_EXPECTED['stories_df']         = tu_.loadExpectedOutput('test_userStoryCreate.stories_df')\n",
    "test_userStoryCreate_EXPECTED['estimates_df']       = tu_.loadExpectedOutput('test_userStoryCreate.estimates_df')\n",
    "test_userStoryCreate_EXPECTED['workload_df']        = tu_.loadExpectedOutput('test_userStoryCreate.workload_df')\n",
    "test_userStoryCreate_EXPECTED['crosscheck_df']      = tu_.loadExpectedOutput('test_userStoryCreate.crosscheck_df')\n",
    "test_userStoryCreate_EXPECTED['avg_estimates_df']   = tu_.loadExpectedOutput('test_userStoryCreate.avg_estimates_df')\n",
    "\n",
    "# Rounding inaccuracies in saving and loading CSV will create an artificial mismatch between ACTUAL and EXPECTED\n",
    "# So round EXPECTED and ACTUAL to 6 decimal places for the sensitive fields\n",
    "ExpectedOutputCleaner.cleanRoundingNoise(['Avg'],\n",
    "                                        ['avg_estimates_df'],\n",
    "                                        test_userStoryCreate_EXPECTED,\n",
    "                                        test_userStoryCreate_ACTUAL)\n",
    "\n",
    "tu_.EXPECTED['test_userStoryCreate.stories_df']         = test_userStoryCreate_EXPECTED['stories_df']\n",
    "tu_.EXPECTED['test_userStoryCreate.estimates_df']       = test_userStoryCreate_EXPECTED['estimates_df']\n",
    "tu_.EXPECTED['test_userStoryCreate.workload_df']        = test_userStoryCreate_EXPECTED['workload_df']\n",
    "tu_.EXPECTED['test_userStoryCreate.crosscheck_df']      = test_userStoryCreate_EXPECTED['crosscheck_df']\n",
    "tu_.EXPECTED['test_userStoryCreate.avg_estimates_df']   = test_userStoryCreate_EXPECTED['avg_estimates_df']\n",
    "\n",
    "tu_.ACTUAL['test_userStoryCreate.stories_df']           = test_userStoryCreate_ACTUAL['stories_df']\n",
    "tu_.ACTUAL['test_userStoryCreate.estimates_df']         = test_userStoryCreate_ACTUAL['estimates_df']\n",
    "tu_.ACTUAL['test_userStoryCreate.workload_df']          = test_userStoryCreate_ACTUAL['workload_df']\n",
    "tu_.ACTUAL['test_userStoryCreate.crosscheck_df']        = test_userStoryCreate_ACTUAL['crosscheck_df']\n",
    "tu_.ACTUAL['test_userStoryCreate.avg_estimates_df']     = test_userStoryCreate_ACTUAL['avg_estimates_df']\n",
    "\n",
    "tu_.testOK('test_userStoryCreate.stories_df'), \\\n",
    "tu_.testOK('test_userStoryCreate.estimates_df'), \\\n",
    "tu_.testOK('test_userStoryCreate.workload_df'), \\\n",
    "tu_.testOK('test_userStoryCreate.crosscheck_df'), \\\n",
    "tu_.testOK('test_userStoryCreate.avg_estimates_df')"
   ]
  },
  {
   "cell_type": "code",
   "execution_count": null,
   "metadata": {
    "cell_style": "split"
   },
   "outputs": [],
   "source": [
    "test_userStoryCreate_ACTUAL['stories_df']"
   ]
  },
  {
   "cell_type": "code",
   "execution_count": null,
   "metadata": {
    "cell_style": "split"
   },
   "outputs": [],
   "source": [
    "test_userStoryCreate_EXPECTED['stories_df']"
   ]
  },
  {
   "cell_type": "code",
   "execution_count": null,
   "metadata": {
    "cell_style": "split"
   },
   "outputs": [],
   "source": [
    "test_userStoryCreate_ACTUAL['estimates_df']"
   ]
  },
  {
   "cell_type": "code",
   "execution_count": null,
   "metadata": {
    "cell_style": "split"
   },
   "outputs": [],
   "source": [
    "test_userStoryCreate_EXPECTED['estimates_df']"
   ]
  },
  {
   "cell_type": "code",
   "execution_count": null,
   "metadata": {
    "cell_style": "split"
   },
   "outputs": [],
   "source": [
    "test_userStoryCreate_ACTUAL['workload_df']"
   ]
  },
  {
   "cell_type": "code",
   "execution_count": null,
   "metadata": {
    "cell_style": "split"
   },
   "outputs": [],
   "source": [
    "test_userStoryCreate_EXPECTED['workload_df']"
   ]
  },
  {
   "cell_type": "code",
   "execution_count": null,
   "metadata": {
    "cell_style": "split"
   },
   "outputs": [],
   "source": [
    "test_userStoryCreate_ACTUAL['crosscheck_df']"
   ]
  },
  {
   "cell_type": "code",
   "execution_count": null,
   "metadata": {
    "cell_style": "split"
   },
   "outputs": [],
   "source": [
    "test_userStoryCreate_EXPECTED['crosscheck_df']"
   ]
  },
  {
   "cell_type": "code",
   "execution_count": null,
   "metadata": {
    "cell_style": "split"
   },
   "outputs": [],
   "source": [
    "test_userStoryCreate_ACTUAL['avg_estimates_df']"
   ]
  },
  {
   "cell_type": "code",
   "execution_count": null,
   "metadata": {
    "cell_style": "split"
   },
   "outputs": [],
   "source": [
    "test_userStoryCreate_EXPECTED['avg_estimates_df']"
   ]
  },
  {
   "cell_type": "markdown",
   "metadata": {},
   "source": [
    "<h1>test_WorkAssignments</h1>"
   ]
  },
  {
   "cell_type": "code",
   "execution_count": null,
   "metadata": {
    "code_folding": [
     0
    ]
   },
   "outputs": [],
   "source": [
    "# Implement test logic, and run it\n",
    "\n",
    "#Test logic\n",
    "def test_WorkAssignments():\n",
    "    output = {}\n",
    "    RELEASE_DURATION = 125\n",
    "    SPRINT_DURATION = 10\n",
    "    SPRINT = 1\n",
    "\n",
    "    # Configure models\n",
    "    modelsConfig = ModelsConfig([DefaultCostModel()], [], GreedyAllocationModel()) \n",
    "    modelsConfig.random.reset(271)\n",
    "\n",
    "    teams_df, stories_df, globalRepo = tu_.initTestData(tu_.DEV_DF, tu_.PM_DF, \\\n",
    "                                                        RELEASE_DURATION, SPRINT_DURATION, modelsConfig)\n",
    "\n",
    "    modelsConfig.globalRepo = globalRepo\n",
    "    teamId0 = teams_df['Scrum Team'][0].teamId\n",
    "    \n",
    "    modelsConfig.context = ReleaseCycleContext(teamId0, SPRINT, SPRINT_DURATION)\n",
    "        \n",
    "    work = WorkAssignments(modelsConfig.context, modelsConfig.globalRepo)\n",
    "    initial_df = work.committedTime(SPRINT_DURATION)\n",
    "    # Test re-assigning of work\n",
    "    item = work.allocations[S_.UNPLANNED][S_.OWNER_TBD][S_.UNFINISHED_STORIES][25]\n",
    "    work.reAssign(item, 'Bruno Studley', S_.CURRENT_SPRINT)\n",
    "    final_df = work.committedTime(SPRINT_DURATION)\n",
    "    \n",
    "    output['Initial'] = initial_df\n",
    "    output['Final'] = final_df\n",
    "\n",
    "    return output\n",
    "    \n",
    "# Run the test\n",
    "test_WorkAssignments_ACTUAL = test_WorkAssignments()"
   ]
  },
  {
   "cell_type": "code",
   "execution_count": null,
   "metadata": {
    "code_folding": [
     0
    ]
   },
   "outputs": [],
   "source": [
    "# Uncomment to update expected output to match the actual one\n",
    "\n",
    "# Helper method\n",
    "def create_WorkAssignments_EXPECTED():\n",
    "    tu_.createExpectedOutput(test_WorkAssignments_ACTUAL['Initial'],        'test_WorkAssignments.Initial')\n",
    "    tu_.createExpectedOutput(test_WorkAssignments_ACTUAL['Final'],          'test_WorkAssignments.Final')\n",
    "\n",
    "# Uncomment to update expected output to match the actual one, and then put the comment back\n",
    "#create_WorkAssignments_EXPECTED()"
   ]
  },
  {
   "cell_type": "code",
   "execution_count": null,
   "metadata": {
    "code_folding": [
     0
    ]
   },
   "outputs": [],
   "source": [
    "# Load expected output, update the EXPECTED and ACTUAL dictionaries, and check test is OK\n",
    "test_WorkAssignments_EXPECTED = {}\n",
    "\n",
    "test_WorkAssignments_EXPECTED['Initial']         = tu_.loadExpectedOutput('test_WorkAssignments.Initial')\n",
    "test_WorkAssignments_EXPECTED['Final']           = tu_.loadExpectedOutput('test_WorkAssignments.Final')\n",
    "\n",
    "tu_.EXPECTED['test_WorkAssignments.Initial']         = test_WorkAssignments_EXPECTED['Initial']\n",
    "tu_.EXPECTED['test_WorkAssignments.Final']           = test_WorkAssignments_EXPECTED['Final']\n",
    "\n",
    "tu_.ACTUAL['test_WorkAssignments.Initial']           = test_WorkAssignments_ACTUAL['Initial']\n",
    "tu_.ACTUAL['test_WorkAssignments.Final']             = test_WorkAssignments_ACTUAL['Final']\n",
    "\n",
    "tu_.testOK('test_WorkAssignments.Initial'), \\\n",
    "tu_.testOK('test_WorkAssignments.Final'), \\\n"
   ]
  },
  {
   "cell_type": "code",
   "execution_count": null,
   "metadata": {},
   "outputs": [],
   "source": [
    "test_WorkAssignments_ACTUAL['Initial']"
   ]
  },
  {
   "cell_type": "code",
   "execution_count": null,
   "metadata": {},
   "outputs": [],
   "source": [
    "test_WorkAssignments_EXPECTED['Initial']"
   ]
  },
  {
   "cell_type": "code",
   "execution_count": null,
   "metadata": {},
   "outputs": [],
   "source": [
    "test_WorkAssignments_ACTUAL['Final']"
   ]
  },
  {
   "cell_type": "code",
   "execution_count": null,
   "metadata": {},
   "outputs": [],
   "source": [
    "test_WorkAssignments_EXPECTED['Final']"
   ]
  },
  {
   "cell_type": "markdown",
   "metadata": {},
   "source": [
    "<h1>test_oneSprint</h1>"
   ]
  },
  {
   "cell_type": "code",
   "execution_count": null,
   "metadata": {
    "code_folding": [
     0
    ]
   },
   "outputs": [],
   "source": [
    "# Implement test logic, and run it\n",
    "\n",
    "#Test logic\n",
    "def test_oneSprint():    \n",
    "    output = {}\n",
    "\n",
    "    # Choose what to work on at the start of a sprint.\n",
    "    RELEASE_DURATION = 125\n",
    "    SPRINT_DURATION = 10\n",
    "    SPRINT = 1\n",
    "\n",
    "    # Configure models\n",
    "    modelsConfig = ModelsConfig([DefaultCostModel()], [], GreedyAllocationModel())\n",
    "    modelsConfig.random.reset(271)\n",
    "    \n",
    "    teams_df, stories_df, globalRepo = tu_.initTestData(tu_.DEV_DF, tu_.PM_DF, \\\n",
    "                                                        RELEASE_DURATION, SPRINT_DURATION, modelsConfig)\n",
    "    modelsConfig.globalRepo = globalRepo\n",
    "    # Select a team\n",
    "    teamId = teams_df['Scrum Team'][0].teamId\n",
    "    \n",
    "    modelsConfig.context = ReleaseCycleContext(teamId, SPRINT, SPRINT_DURATION)\n",
    "\n",
    "    work = timecard.chooseWhatToDoInSprint(modelsConfig)\n",
    "    start_committed_df = work.committedTime(SPRINT_DURATION)\n",
    "    start_tasks_df = work.committedTasks()\n",
    "    \n",
    "    # Deliver what the sprint actually accomplished, including ingest of defects arriving during sprint\n",
    "    timecard.deliverSprint(work, modelsConfig) # mutates work\n",
    "    inflow = timecard.inflowOfTickets(modelsConfig)\n",
    "    end_committed_df = work.committedTime(0) # Sprint is over, so sprint capacity parameter is 0\n",
    "    \n",
    "    # Test continued\n",
    "    timecard.updateBacklogAfterSprint(work, modelsConfig)\n",
    "    end_tasks_df = work.committedTasks()\n",
    "    \n",
    "    output['Start_Committed'] = start_committed_df\n",
    "    output['Start_Tasks'] = start_tasks_df\n",
    "    output['End_Committed'] = end_committed_df\n",
    "    output['End_Tasks'] = end_tasks_df\n",
    "    return output\n",
    "\n",
    "# Run the test\n",
    "test_oneSprint_ACTUAL = test_oneSprint()"
   ]
  },
  {
   "cell_type": "code",
   "execution_count": null,
   "metadata": {
    "code_folding": [
     0
    ]
   },
   "outputs": [],
   "source": [
    "# Uncomment to update expected output to match the actual one\n",
    "\n",
    "# Helper method\n",
    "def create_oneSprint_EXPECTED():\n",
    "    tu_.createExpectedOutput(test_oneSprint_ACTUAL['Start_Committed'],    'test_oneSprint.Start_Committed')\n",
    "    tu_.createExpectedOutput(test_oneSprint_ACTUAL['Start_Tasks'],        'test_oneSprint.Start_Tasks')\n",
    "    tu_.createExpectedOutput(test_oneSprint_ACTUAL['End_Committed'],      'test_oneSprint.End_Committed')\n",
    "    tu_.createExpectedOutput(test_oneSprint_ACTUAL['End_Tasks'],          'test_oneSprint.End_Tasks')\n",
    "\n",
    "# Uncomment to update expected output to match the actual one, and then put the comment back\n",
    "#create_oneSprint_EXPECTED()"
   ]
  },
  {
   "cell_type": "code",
   "execution_count": null,
   "metadata": {
    "code_folding": [
     0
    ]
   },
   "outputs": [],
   "source": [
    "# Load expected output, update the EXPECTED and ACTUAL dictionaries, and check test is OK\n",
    "test_oneSprint_EXPECTED = {}\n",
    "\n",
    "test_oneSprint_EXPECTED['Start_Committed']      = tu_.loadExpectedOutput('test_oneSprint.Start_Committed')\n",
    "test_oneSprint_EXPECTED['Start_Tasks']          = tu_.loadExpectedOutput('test_oneSprint.Start_Tasks')\n",
    "test_oneSprint_EXPECTED['End_Committed']        = tu_.loadExpectedOutput('test_oneSprint.End_Committed')\n",
    "test_oneSprint_EXPECTED['End_Tasks']            = tu_.loadExpectedOutput('test_oneSprint.End_Tasks')\n",
    "\n",
    "# Rounding inaccuracies in saving and loading CSV will create an artificial mismatch between ACTUAL and EXPECTED\n",
    "# So round EXPECTED and ACTUAL to 6 decimal places for sensitive fields (any float)\n",
    "ExpectedOutputCleaner.cleanRoundingNoise(['Rejects (days)', 'Debugging (days)', 'Implementation (days)', 'Bandwidth',\\\n",
    "                                          'NEXT SPRINT (days)', 'NEXT SPRINT Bandwidth'],\n",
    "                                        ['Start_Committed', 'End_Committed'],\n",
    "                                        test_oneSprint_EXPECTED,\n",
    "                                        test_oneSprint_ACTUAL)\n",
    "ExpectedOutputCleaner.cleanRoundingNoise(['Original Estimate', 'Effort Spent', 'Effort Remaining', \\\n",
    "                                          'Percent Achieved', '% Global Done'],\n",
    "                                        ['Start_Tasks', 'End_Tasks'],\n",
    "                                        test_oneSprint_EXPECTED,\n",
    "                                        test_oneSprint_ACTUAL)\n",
    "\n",
    "ExpectedOutputCleaner.destringify(['Delivered in Sprint'],\n",
    "                                 ['End_Tasks'],\n",
    "                                 test_oneSprint_EXPECTED)\n",
    "\n",
    "tu_.EXPECTED['test_oneSprint.Start_Committed']      = test_oneSprint_EXPECTED['Start_Committed']\n",
    "tu_.EXPECTED['test_oneSprint.Start_Tasks']          = test_oneSprint_EXPECTED['Start_Tasks']\n",
    "tu_.EXPECTED['test_oneSprint.End_Committed']        = test_oneSprint_EXPECTED['End_Committed']\n",
    "tu_.EXPECTED['test_oneSprint.End_Tasks']            = test_oneSprint_EXPECTED['End_Tasks']\n",
    "\n",
    "tu_.ACTUAL['test_oneSprint.Start_Committed']        = test_oneSprint_ACTUAL['Start_Committed']\n",
    "tu_.ACTUAL['test_oneSprint.Start_Tasks']            = test_oneSprint_ACTUAL['Start_Tasks']\n",
    "tu_.ACTUAL['test_oneSprint.End_Committed']          = test_oneSprint_ACTUAL['End_Committed']\n",
    "tu_.ACTUAL['test_oneSprint.End_Tasks']              = test_oneSprint_ACTUAL['End_Tasks']\n",
    "\n",
    "tu_.testOK('test_oneSprint.Start_Committed'), \\\n",
    "tu_.testOK('test_oneSprint.Start_Tasks'), \\\n",
    "tu_.testOK('test_oneSprint.End_Committed'), \\\n",
    "tu_.testOK('test_oneSprint.End_Tasks'), \\"
   ]
  },
  {
   "cell_type": "code",
   "execution_count": null,
   "metadata": {},
   "outputs": [],
   "source": [
    "test_oneSprint_ACTUAL['Start_Committed'][:5]"
   ]
  },
  {
   "cell_type": "code",
   "execution_count": null,
   "metadata": {},
   "outputs": [],
   "source": [
    "test_oneSprint_EXPECTED['Start_Committed'][:5]"
   ]
  },
  {
   "cell_type": "code",
   "execution_count": null,
   "metadata": {},
   "outputs": [],
   "source": [
    "test_oneSprint_ACTUAL['Start_Tasks'][:5]"
   ]
  },
  {
   "cell_type": "code",
   "execution_count": null,
   "metadata": {},
   "outputs": [],
   "source": [
    "test_oneSprint_EXPECTED['Start_Tasks'][:5]"
   ]
  },
  {
   "cell_type": "code",
   "execution_count": null,
   "metadata": {},
   "outputs": [],
   "source": [
    "test_oneSprint_ACTUAL['End_Committed'][:5]"
   ]
  },
  {
   "cell_type": "code",
   "execution_count": null,
   "metadata": {},
   "outputs": [],
   "source": [
    "test_oneSprint_EXPECTED['End_Committed'][:5]"
   ]
  },
  {
   "cell_type": "code",
   "execution_count": null,
   "metadata": {},
   "outputs": [],
   "source": [
    "test_oneSprint_ACTUAL['End_Tasks'][:5]"
   ]
  },
  {
   "cell_type": "code",
   "execution_count": null,
   "metadata": {},
   "outputs": [],
   "source": [
    "test_oneSprint_EXPECTED['End_Tasks'][:5]"
   ]
  },
  {
   "cell_type": "markdown",
   "metadata": {},
   "source": [
    "<h1>test_multipleSprints</h1>"
   ]
  },
  {
   "cell_type": "code",
   "execution_count": null,
   "metadata": {
    "code_folding": [
     0
    ]
   },
   "outputs": [],
   "source": [
    "# Implement test logic, and run it\n",
    "\n",
    "#Test logic\n",
    "def test_multipleSprints():\n",
    "    output = {}\n",
    "    # Test many sprints into the future, to see if eventually people have extra time and start using that extra time\n",
    "    # in the current sprint to get a head start on tasks for the next sprint\n",
    "    SPRINT_DURATION = 10\n",
    "    NUMBER_OF_SPRINTS = 15 \n",
    "    \n",
    "    # Configure models\n",
    "    modelsConfig = ModelsConfig([DefaultCostModel()], [], GreedyAllocationModel()) \n",
    "    modelsConfig.random.reset(271)\n",
    "    \n",
    "    teams_df, stories_df, globalRepo = tu_.initTestData(tu_.DEV_DF, tu_.PM_DF, \\\n",
    "                                                        125, SPRINT_DURATION, modelsConfig)\n",
    "    modelsConfig.globalRepo = globalRepo\n",
    "    # Select a team\n",
    "    teamId = teams_df['Scrum Team'][0].teamId\n",
    "        \n",
    "\n",
    "    work = None\n",
    "    for i in range(NUMBER_OF_SPRINTS):\n",
    "        sprint = i+1\n",
    "        modelsConfig.context = ReleaseCycleContext(teamId, sprint, SPRINT_DURATION)\n",
    "        work = timecard.chooseWhatToDoInSprint(modelsConfig)\n",
    "        if (i== NUMBER_OF_SPRINTS -1):\n",
    "            break\n",
    "        timecard.deliverSprint(work, modelsConfig) # mutates 'work'\n",
    "        inflow = timecard.inflowOfTickets(modelsConfig)\n",
    "        timecard.updateBacklogAfterSprint(work, modelsConfig) # Does not mutate 'work'\n",
    "    \n",
    "    # Work Assignments at the start of the last sprint. Should see some \"looking ahead\" tasks, i.e., tasks that would\n",
    "    # normally be done in the next sprint but are started in this sprint since we have time leftover from this sprint's \n",
    "    # deliverables\n",
    "    last = work\n",
    "    start_committed_df = last.committedTime(10)\n",
    "    start_tasks_df     = last.committedTasks()\n",
    "    \n",
    "    # Finish this last sprint and confirm we spent time in some of the deliveries for the next sprint (i.e., that we\n",
    "    # were \"looking ahead\")\n",
    "    timecard.deliverSprint(last, modelsConfig)\n",
    "    inflow = timecard.inflowOfTickets(modelsConfig)\n",
    "    timecard.updateBacklogAfterSprint(work, modelsConfig) # Does not mutate 'work'\n",
    "\n",
    "    end_committed_df = last.committedTime(0)\n",
    "    end_tasks_df     =last.committedTasks()\n",
    "    \n",
    "    output['start_committed']   = start_committed_df\n",
    "    output['start_tasks']       = start_tasks_df\n",
    "    output['end_committed']     = end_committed_df\n",
    "    output['end_tasks']         = end_tasks_df\n",
    "\n",
    "    return output\n",
    "\n",
    "# Run the test\n",
    "test_multipleSprints_ACTUAL = test_multipleSprints()"
   ]
  },
  {
   "cell_type": "code",
   "execution_count": null,
   "metadata": {
    "code_folding": [
     0
    ]
   },
   "outputs": [],
   "source": [
    "# Uncomment to update expected output to match the actual one\n",
    "\n",
    "# Helper method\n",
    "def create_multipleSprints_EXPECTED():\n",
    "    tu_.createExpectedOutput(test_multipleSprints_ACTUAL['start_committed'],    'test_multipleSprints.start_committed')\n",
    "    tu_.createExpectedOutput(test_multipleSprints_ACTUAL['start_tasks'],        'test_multipleSprints.start_tasks')\n",
    "    tu_.createExpectedOutput(test_multipleSprints_ACTUAL['end_committed'],      'test_multipleSprints.end_committed')\n",
    "    tu_.createExpectedOutput(test_multipleSprints_ACTUAL['end_tasks'],          'test_multipleSprints.end_tasks')\n",
    "\n",
    "# Uncomment to update expected output to match the actual one, and then put the comment back\n",
    "#create_multipleSprints_EXPECTED()"
   ]
  },
  {
   "cell_type": "code",
   "execution_count": null,
   "metadata": {
    "code_folding": [
     0
    ]
   },
   "outputs": [],
   "source": [
    "# Load expected output, update the EXPECTED and ACTUAL dictionaries, and check test is OK\n",
    "test_multipleSprints_EXPECTED = {}\n",
    "\n",
    "test_multipleSprints_EXPECTED['start_committed']    = tu_.loadExpectedOutput('test_multipleSprints.start_committed')\n",
    "test_multipleSprints_EXPECTED['start_tasks']        = tu_.loadExpectedOutput('test_multipleSprints.start_tasks')\n",
    "test_multipleSprints_EXPECTED['end_committed']      = tu_.loadExpectedOutput('test_multipleSprints.end_committed')\n",
    "test_multipleSprints_EXPECTED['end_tasks']          = tu_.loadExpectedOutput('test_multipleSprints.end_tasks')\n",
    "\n",
    "# Rounding inaccuracies in saving and loading CSV will create an artificial mismatch between ACTUAL and EXPECTED\n",
    "# So round EXPECTED and ACTUAL to 6 decimal places for sensitive fields (any float)\n",
    "ExpectedOutputCleaner.cleanRoundingNoise(['Rejects (days)', 'Debugging (days)', 'Implementation (days)', 'Bandwidth',\\\n",
    "                                          'NEXT SPRINT (days)', 'NEXT SPRINT Bandwidth'],\n",
    "                                        ['start_committed', 'end_committed'],\n",
    "                                        test_multipleSprints_EXPECTED,\n",
    "                                        test_multipleSprints_ACTUAL)\n",
    "ExpectedOutputCleaner.cleanRoundingNoise(['Original Estimate', 'Effort Spent', 'Effort Remaining', \\\n",
    "                                          'Percent Achieved', '% Global Done'],\n",
    "                                        ['start_tasks', 'end_tasks'],\n",
    "                                        test_multipleSprints_EXPECTED,\n",
    "                                        test_multipleSprints_ACTUAL)\n",
    "ExpectedOutputCleaner.destringify(['Delivered in Sprint'], \n",
    "                                  ['start_tasks', 'end_tasks'], \n",
    "                                  test_multipleSprints_EXPECTED)\n",
    "\n",
    "tu_.EXPECTED['test_multipleSprints.start_committed']    = test_multipleSprints_EXPECTED['start_committed']\n",
    "tu_.EXPECTED['test_multipleSprints.start_tasks']        = test_multipleSprints_EXPECTED['start_tasks']\n",
    "tu_.EXPECTED['test_multipleSprints.end_committed']      = test_multipleSprints_EXPECTED['end_committed']\n",
    "tu_.EXPECTED['test_multipleSprints.end_tasks']          = test_multipleSprints_EXPECTED['end_tasks']\n",
    "\n",
    "tu_.ACTUAL['test_multipleSprints.start_committed']      = test_multipleSprints_ACTUAL['start_committed']\n",
    "tu_.ACTUAL['test_multipleSprints.start_tasks']          = test_multipleSprints_ACTUAL['start_tasks']\n",
    "tu_.ACTUAL['test_multipleSprints.end_committed']        = test_multipleSprints_ACTUAL['end_committed']\n",
    "tu_.ACTUAL['test_multipleSprints.end_tasks']            = test_multipleSprints_ACTUAL['end_tasks']\n",
    "\n",
    "tu_.testOK('test_multipleSprints.start_committed'), \\\n",
    "tu_.testOK('test_multipleSprints.start_tasks'), \\\n",
    "tu_.testOK('test_multipleSprints.end_committed'), \\\n",
    "tu_.testOK('test_multipleSprints.end_tasks'), \\"
   ]
  },
  {
   "cell_type": "code",
   "execution_count": null,
   "metadata": {},
   "outputs": [],
   "source": [
    "test_multipleSprints_ACTUAL['start_committed'][:5]"
   ]
  },
  {
   "cell_type": "code",
   "execution_count": null,
   "metadata": {},
   "outputs": [],
   "source": [
    "test_multipleSprints_EXPECTED['start_committed'][:5]"
   ]
  },
  {
   "cell_type": "code",
   "execution_count": null,
   "metadata": {},
   "outputs": [],
   "source": [
    "test_multipleSprints_ACTUAL['start_tasks'][:5]"
   ]
  },
  {
   "cell_type": "code",
   "execution_count": null,
   "metadata": {},
   "outputs": [],
   "source": [
    "test_multipleSprints_EXPECTED['start_tasks'][:5]"
   ]
  },
  {
   "cell_type": "code",
   "execution_count": null,
   "metadata": {},
   "outputs": [],
   "source": [
    "test_multipleSprints_ACTUAL['end_committed'][:5]"
   ]
  },
  {
   "cell_type": "code",
   "execution_count": null,
   "metadata": {},
   "outputs": [],
   "source": [
    "test_multipleSprints_EXPECTED['end_committed'][:5]"
   ]
  },
  {
   "cell_type": "code",
   "execution_count": null,
   "metadata": {},
   "outputs": [],
   "source": [
    "test_multipleSprints_ACTUAL['end_tasks'][:5]"
   ]
  },
  {
   "cell_type": "code",
   "execution_count": null,
   "metadata": {},
   "outputs": [],
   "source": [
    "test_multipleSprints_EXPECTED['end_tasks'][:5]"
   ]
  },
  {
   "cell_type": "markdown",
   "metadata": {},
   "source": [
    "<h1>test_releaseCycle</h1>"
   ]
  },
  {
   "cell_type": "code",
   "execution_count": null,
   "metadata": {
    "code_folding": [
     0
    ]
   },
   "outputs": [],
   "source": [
    "# Implement test logic, and run it\n",
    "\n",
    "# Test logic\n",
    "def test_releaseCycle():\n",
    "    output = {}\n",
    "    RELEASE_DURATION = 125\n",
    "    SPRINT_DURATION = 10\n",
    "    NUMBER_OF_SPRINTS = 25\n",
    "\n",
    "    # Configure models\n",
    "    modelsConfig = ModelsConfig([DefaultCostModel()], [], GreedyAllocationModel()) \n",
    "    modelsConfig.random.reset(271)\n",
    "\n",
    "    teams_df, stories_df, globalRepo = tu_.initTestData(tu_.DEV_DF, tu_.PM_DF, \\\n",
    "                                                        RELEASE_DURATION, SPRINT_DURATION, modelsConfig)\n",
    "\n",
    "    modelsConfig.globalRepo = globalRepo\n",
    "\n",
    "\n",
    "    entries_df, log = timecard.runReleaseCycle(datetime(2018, 1, 15), SPRINT_DURATION, NUMBER_OF_SPRINTS, modelsConfig)   \n",
    "     \n",
    "    burnout_df = timecard.releaseBurnout(entries_df)\n",
    "    \n",
    "    output['Entries'] = entries_df\n",
    "    output['Burnout'] = burnout_df\n",
    "\n",
    "    for name in ReleaseLog.SNAPSHOTS:\n",
    "        log_df = log.mergeLogs(name)\n",
    "        output[name] = log_df\n",
    "\n",
    "    output['log'] = log #Needed for visualizations\n",
    "    return output, modelsConfig\n",
    "\n",
    "# Run the test\n",
    "test_releaseCycle_ACTUAL, modelsConfig = test_releaseCycle()"
   ]
  },
  {
   "cell_type": "code",
   "execution_count": null,
   "metadata": {
    "code_folding": [
     0
    ]
   },
   "outputs": [],
   "source": [
    "# Uncomment to update expected output to match the actual one\n",
    "\n",
    "# Helper method\n",
    "def create_releaseCycle_EXPECTED():\n",
    "    tu_.createExpectedOutput(test_releaseCycle_ACTUAL['Entries'],    'test_releaseCycle.Entries')\n",
    "    tu_.createExpectedOutput(test_releaseCycle_ACTUAL['Burnout'],    'test_releaseCycle.Burnout')\n",
    "    for name in ReleaseLog.SNAPSHOTS:\n",
    "        tu_.createExpectedOutput(test_releaseCycle_ACTUAL[name],    'test_releaseCycle.' + name)\n",
    "\n",
    "\n",
    "# Uncomment to update expected output to match the actual one, and then put the comment back\n",
    "#create_releaseCycle_EXPECTED()"
   ]
  },
  {
   "cell_type": "code",
   "execution_count": null,
   "metadata": {
    "code_folding": [
     0
    ]
   },
   "outputs": [],
   "source": [
    "# Load expected output, update the EXPECTED and ACTUAL dictionaries, and check test is OK\n",
    "test_releaseCycle_EXPECTED = {}\n",
    "\n",
    "test_releaseCycle_EXPECTED['Entries']      = tu_.loadExpectedOutput('test_releaseCycle.Entries')\n",
    "test_releaseCycle_EXPECTED['Burnout']      = tu_.loadExpectedOutput('test_releaseCycle.Burnout')\n",
    "for name in ReleaseLog.SNAPSHOTS:\n",
    "    test_releaseCycle_EXPECTED[name]       = tu_.loadExpectedOutput('test_releaseCycle.' + name)\n",
    "\n",
    "# ReleaseLog snapshots have integer-valued columns (1, 2,3, ...), and loading the EXPECTED CSV file will convert\n",
    "# them to strings ('1', '2', '3', ...), so to avoid spurious test failures rename the columns of the\n",
    "# EXPECTED data we just loaded\n",
    "cols_to_align = ReleaseLog.SNAPSHOTS.copy()\n",
    "# These columns don't have integer-valued columns\n",
    "cols_to_align.remove('Resourcing')\n",
    "cols_to_align.remove('Outcome')\n",
    "cols_to_align \n",
    "ExpectedOutputCleaner.alignColumns(cols_to_align,\n",
    "                                  test_releaseCycle_EXPECTED,\n",
    "                                  test_releaseCycle_ACTUAL)\n",
    "\n",
    "ExpectedOutputCleaner.cleanRoundingNoise(['Time Spent'],\n",
    "                                        ['Entries'],\n",
    "                                        test_releaseCycle_EXPECTED,\n",
    "                                        test_releaseCycle_ACTUAL)\n",
    "ExpectedOutputCleaner.cleanRoundingNoise(['Effort', 'Implementation Effort', 'Debugging Effort', 'Cum % Completion'],\n",
    "                                        ['Burnout'],\n",
    "                                        test_releaseCycle_EXPECTED,\n",
    "                                        test_releaseCycle_ACTUAL)\n",
    "                                       \n",
    "testlets = ReleaseLog.SNAPSHOTS.copy()\n",
    "# All log snapshots except 'Resourcing' and 'Outcome' have the same sensitive fields\n",
    "testlets.remove('Resourcing') \n",
    "testlets.remove('Outcome') \n",
    "ExpectedOutputCleaner.cleanRoundingNoise([0,1,2,3,4,5,6,7,8,9,10],\n",
    "                                        testlets,\n",
    "                                        test_releaseCycle_EXPECTED,\n",
    "                                        test_releaseCycle_ACTUAL)\n",
    "\n",
    "ExpectedOutputCleaner.cleanRoundingNoise(['Rejects (days)', 'Debugging (days)', 'Implementation (days)', \\\n",
    "                                          'Bandwidth', 'NEXT SPRINT (days)', 'NEXT SPRINT Bandwidth'],\n",
    "                                         ['Resourcing'],\n",
    "                                        test_releaseCycle_EXPECTED,\n",
    "                                        test_releaseCycle_ACTUAL)\n",
    "\n",
    "ExpectedOutputCleaner.cleanRoundingNoise(['Original Estimate', 'Effort Spent','Effort Remaining', \\\n",
    "                                          'Percent Achieved', '% Global Done'],\n",
    "                                         ['Outcome'],\n",
    "                                        test_releaseCycle_EXPECTED,\n",
    "                                        test_releaseCycle_ACTUAL)\n",
    "                                    \n",
    "\n",
    "ExpectedOutputCleaner.standardizeDates(['Date'],\n",
    "                                      ['Entries'],\n",
    "                                      test_releaseCycle_EXPECTED)\n",
    "\n",
    "ExpectedOutputCleaner.destringify(['Delivered in Sprint'],\n",
    "                                 ['Outcome'],\n",
    "                                 test_releaseCycle_EXPECTED)\n",
    "\n",
    "tu_.EXPECTED['test_releaseCycle.Entries']        = test_releaseCycle_EXPECTED['Entries']\n",
    "tu_.EXPECTED['test_releaseCycle.Burnout']        = test_releaseCycle_EXPECTED['Burnout']\n",
    "for name in ReleaseLog.SNAPSHOTS:\n",
    "    tu_.EXPECTED['test_releaseCycle.' + name]        = test_releaseCycle_EXPECTED[name]\n",
    "\n",
    "tu_.ACTUAL['test_releaseCycle.Entries']          = test_releaseCycle_ACTUAL['Entries']\n",
    "tu_.ACTUAL['test_releaseCycle.Burnout']          = test_releaseCycle_ACTUAL['Burnout']\n",
    "for name in ReleaseLog.SNAPSHOTS:\n",
    "    tu_.ACTUAL['test_releaseCycle.' + name]        = test_releaseCycle_ACTUAL[name]\n",
    "\n",
    "results = []\n",
    "results.append(tu_.testOK('test_releaseCycle.Entries'))\n",
    "results.append(tu_.testOK('test_releaseCycle.Burnout'))\n",
    "for name in ReleaseLog.SNAPSHOTS:\n",
    "    results.append(tu_.testOK('test_releaseCycle.' + name))\n",
    "                   \n",
    "results"
   ]
  },
  {
   "cell_type": "code",
   "execution_count": null,
   "metadata": {
    "code_folding": [
     0
    ]
   },
   "outputs": [],
   "source": [
    "# Uncomment to interactively visualize the release logs, and then comment again once interactive analysis is done. Commenting these\n",
    "# lines after interactive analysis is completed is required as test harness can't load these visualiations\n",
    "# libraries so leaving this uncommented will crash the entire test harness.\n",
    "# NB: MAY NEED TO RUN TWICE (there is a bug in Jupyter notebook, I think, so first time you call this it shows no visuals)\n",
    "#import devanalyst.simulation.visualizations.timecard_visuals as tc_visuals\n",
    "#tc_visuals.renderReleaseCycleLog(teamId = 'Team A', release_log=test_releaseCycle_ACTUAL['log'], first=1, last=17, spurious_columns=['Team Id', 'Sprint'])"
   ]
  },
  {
   "cell_type": "code",
   "execution_count": null,
   "metadata": {
    "code_folding": [
     0
    ]
   },
   "outputs": [],
   "source": [
    "# Script to debug test failures when entries change. This was very useful when the test failed because of simply the\n",
    "# removal of spurious entries (tails of 0's), for which the tu_.taintFailuresToStop was very useful. This allows\n",
    "# detecting the spurious rows and discard them, and at that point we have the same number of rows. Any mismatches\n",
    "# after that should be just innocent rotations of some entries, for which tu_.find_mismatches(e2, a) helps find the\n",
    "# few rows that account for the mismatches, and visual inspection usually is enough to verify it is simply an innocent\n",
    "# rotation\n",
    "def spurious_errors_debug(): # return or extract pertinent lines. This function is just a template\n",
    "    a = test_releaseCycle_ACTUAL['Entries']\n",
    "    e = test_releaseCycle_EXPECTED['Entries']\n",
    "    at = tu_.taintFailuresToStop(a, 'User Story', 'Time Spent')\n",
    "    et = tu_.taintFailuresToStop(e, 'User Story', 'Time Spent')\n",
    "    discard = list(et[et['TAINTED'] == True].index)\n",
    "    e2 = e.drop(discard)\n",
    "    e2.index = a.index\n",
    "    tu_.find_mismatches(e2, a)\n",
    "    e2.loc[[1178, 1182, 1184, 1216, 1218, 1220, 1232]]\n",
    "    a.loc[[1178, 1182, 1184, 1216, 1218, 1220, 1232]]"
   ]
  },
  {
   "cell_type": "code",
   "execution_count": null,
   "metadata": {},
   "outputs": [],
   "source": [
    "test_releaseCycle_ACTUAL['Entries'][0:8]"
   ]
  },
  {
   "cell_type": "code",
   "execution_count": null,
   "metadata": {},
   "outputs": [],
   "source": [
    "test_releaseCycle_EXPECTED['Entries'][0:8]"
   ]
  },
  {
   "cell_type": "code",
   "execution_count": null,
   "metadata": {},
   "outputs": [],
   "source": [
    "test_releaseCycle_ACTUAL['Burnout'][:5]"
   ]
  },
  {
   "cell_type": "code",
   "execution_count": null,
   "metadata": {},
   "outputs": [],
   "source": [
    "test_releaseCycle_EXPECTED['Burnout'][:5]"
   ]
  },
  {
   "cell_type": "code",
   "execution_count": null,
   "metadata": {},
   "outputs": [],
   "source": [
    "test_releaseCycle_ACTUAL['planned_Start_CURRENT_SPRINT'][0:8]"
   ]
  },
  {
   "cell_type": "code",
   "execution_count": null,
   "metadata": {},
   "outputs": [],
   "source": [
    "test_releaseCycle_EXPECTED['planned_Start_CURRENT_SPRINT'][0:8]"
   ]
  },
  {
   "cell_type": "code",
   "execution_count": null,
   "metadata": {},
   "outputs": [],
   "source": [
    "test_releaseCycle_ACTUAL['planned_End_CURRENT_SPRINT'][0:8]"
   ]
  },
  {
   "cell_type": "code",
   "execution_count": null,
   "metadata": {},
   "outputs": [],
   "source": [
    "test_releaseCycle_EXPECTED['planned_End_CURRENT_SPRINT'][0:8]"
   ]
  },
  {
   "cell_type": "code",
   "execution_count": null,
   "metadata": {},
   "outputs": [],
   "source": [
    "test_releaseCycle_ACTUAL['planned_Start_NEXT_SPRINT'][0:8]"
   ]
  },
  {
   "cell_type": "code",
   "execution_count": null,
   "metadata": {},
   "outputs": [],
   "source": [
    "test_releaseCycle_EXPECTED['planned_Start_NEXT_SPRINT'][0:8]"
   ]
  },
  {
   "cell_type": "code",
   "execution_count": null,
   "metadata": {},
   "outputs": [],
   "source": [
    "test_releaseCycle_ACTUAL['planned_End_NEXT_SPRINT'][0:8]"
   ]
  },
  {
   "cell_type": "code",
   "execution_count": null,
   "metadata": {},
   "outputs": [],
   "source": [
    "test_releaseCycle_EXPECTED['planned_End_NEXT_SPRINT'][0:8]"
   ]
  },
  {
   "cell_type": "code",
   "execution_count": null,
   "metadata": {},
   "outputs": [],
   "source": [
    "test_releaseCycle_ACTUAL['backlog'][0:8]"
   ]
  },
  {
   "cell_type": "code",
   "execution_count": null,
   "metadata": {},
   "outputs": [],
   "source": [
    "test_releaseCycle_EXPECTED['backlog'][0:8]"
   ]
  },
  {
   "cell_type": "code",
   "execution_count": null,
   "metadata": {},
   "outputs": [],
   "source": [
    "test_releaseCycle_ACTUAL['Resourcing'][0:8]"
   ]
  },
  {
   "cell_type": "code",
   "execution_count": null,
   "metadata": {},
   "outputs": [],
   "source": [
    "test_releaseCycle_EXPECTED['Resourcing'][0:8]"
   ]
  },
  {
   "cell_type": "code",
   "execution_count": null,
   "metadata": {},
   "outputs": [],
   "source": [
    "test_releaseCycle_ACTUAL['Outcome'][0:8]"
   ]
  },
  {
   "cell_type": "code",
   "execution_count": null,
   "metadata": {},
   "outputs": [],
   "source": [
    "test_releaseCycle_EXPECTED['Outcome'][0:8]"
   ]
  },
  {
   "cell_type": "markdown",
   "metadata": {},
   "source": [
    "<h1>test_buggyReleaseCycle</h1>"
   ]
  },
  {
   "cell_type": "code",
   "execution_count": null,
   "metadata": {
    "code_folding": [
     0
    ]
   },
   "outputs": [],
   "source": [
    "# Implement test logic, and run it\n",
    "\n",
    "# Test logic\n",
    "def test_buggyReleaseCycle():\n",
    "    output = {}\n",
    "    RELEASE_DURATION = 125\n",
    "    SPRINT_DURATION = 10\n",
    "    NUMBER_OF_SPRINTS = 25\n",
    "\n",
    "    # Configure models\n",
    "    modelsConfig = ModelsConfig([DefaultCostModel(0.0)], [DistributedLagQualityModel()], GreedyAllocationModel()) \n",
    "    modelsConfig.random.reset(271)\n",
    "\n",
    "    teams_df, stories_df, globalRepo = tu_.initTestData(tu_.DEV_DF, tu_.PM_DF, \\\n",
    "                                                        RELEASE_DURATION, SPRINT_DURATION, modelsConfig)\n",
    "    \n",
    "    modelsConfig.globalRepo = globalRepo\n",
    "    \n",
    "\n",
    "    entries_df, log = timecard.runReleaseCycle(datetime(2018, 1, 15), SPRINT_DURATION, NUMBER_OF_SPRINTS, modelsConfig)  \n",
    "    \n",
    "    stories_df = UserStory.build_stories_df(globalRepo)\n",
    "    bugs_df    = Ticket.build_bugs_df(globalRepo.ticketsRepo.tickets) \n",
    "    burnout_df = timecard.releaseBurnout(entries_df)\n",
    "    \n",
    "    output['Entries']       = entries_df\n",
    "    output['User_Stories']  = stories_df\n",
    "    output['Tickets']       = bugs_df\n",
    "    output['Burnout']       = burnout_df\n",
    "\n",
    "    for name in ReleaseLog.SNAPSHOTS:\n",
    "        log_df = log.mergeLogs(name)\n",
    "        output[name] = log_df\n",
    "\n",
    "    output['log'] = log #Needed for visualizations\n",
    "    return output, modelsConfig\n",
    "\n",
    "# Run the test\n",
    "test_buggyReleaseCycle_ACTUAL, modelsConfig = test_buggyReleaseCycle()"
   ]
  },
  {
   "cell_type": "code",
   "execution_count": null,
   "metadata": {
    "code_folding": [
     0
    ]
   },
   "outputs": [],
   "source": [
    "# Uncomment to update expected output to match the actual one\n",
    "\n",
    "# Helper method\n",
    "def create_buggyReleaseCycle_EXPECTED():\n",
    "    tu_.createExpectedOutput(test_buggyReleaseCycle_ACTUAL['Entries'],         'test_buggyReleaseCycle.Entries')\n",
    "    tu_.createExpectedOutput(test_buggyReleaseCycle_ACTUAL['User_Stories'],    'test_buggyReleaseCycle.User_Stories')\n",
    "    tu_.createExpectedOutput(test_buggyReleaseCycle_ACTUAL['Tickets'],         'test_buggyReleaseCycle.Tickets')\n",
    "    tu_.createExpectedOutput(test_buggyReleaseCycle_ACTUAL['Burnout'],         'test_buggyReleaseCycle.Burnout')\n",
    "    for name in ReleaseLog.SNAPSHOTS:\n",
    "        tu_.createExpectedOutput(test_buggyReleaseCycle_ACTUAL[name],          'test_buggyReleaseCycle.' + name)\n",
    "\n",
    "\n",
    "# Uncomment to update expected output to match the actual one, and then put the comment back\n",
    "#create_buggyReleaseCycle_EXPECTED()"
   ]
  },
  {
   "cell_type": "code",
   "execution_count": null,
   "metadata": {
    "code_folding": [
     0
    ]
   },
   "outputs": [],
   "source": [
    "# Load expected output, update the EXPECTED and ACTUAL dictionaries, and check test is OK\n",
    "test_buggyReleaseCycle_EXPECTED = {}\n",
    "\n",
    "list_cols_bugs = [] # Lists are loaded as strings, so require special processing on load\n",
    "list_cols_stories = ['Open Bugs', 'Closed Bugs']\n",
    "\n",
    "test_buggyReleaseCycle_EXPECTED['Entries']      = tu_.loadExpectedOutput('test_buggyReleaseCycle.Entries')\n",
    "test_buggyReleaseCycle_EXPECTED['User_Stories'] = tu_.loadExpectedOutput('test_buggyReleaseCycle.User_Stories',\n",
    "                                                                        list_cols_stories)\n",
    "test_buggyReleaseCycle_EXPECTED['Tickets']      = tu_.loadExpectedOutput('test_buggyReleaseCycle.Tickets',\n",
    "                                                                        list_cols_bugs)\n",
    "test_buggyReleaseCycle_EXPECTED['Burnout']      = tu_.loadExpectedOutput('test_buggyReleaseCycle.Burnout')\n",
    "for name in ReleaseLog.SNAPSHOTS:\n",
    "    test_buggyReleaseCycle_EXPECTED[name]       = tu_.loadExpectedOutput('test_buggyReleaseCycle.' + name)\n",
    "\n",
    "# ReleaseLog snapshots have integer-valued columns (1, 2,3, ...), and loading the EXPECTED CSV file will convert\n",
    "# them to strings ('1', '2', '3', ...), so to avoid spurious test failures rename the columns of the\n",
    "# EXPECTED data we just loaded\n",
    "cols_to_align = ReleaseLog.SNAPSHOTS.copy()\n",
    "# These columns don't have integer-valued columns\n",
    "cols_to_align.remove('Resourcing')\n",
    "cols_to_align.remove('Outcome') \n",
    "\n",
    "ExpectedOutputCleaner.alignColumns(cols_to_align,\n",
    "                                  test_buggyReleaseCycle_EXPECTED,\n",
    "                                  test_buggyReleaseCycle_ACTUAL)\n",
    "\n",
    "ExpectedOutputCleaner.cleanRoundingNoise(['Time Spent'],\n",
    "                                        ['Entries'],\n",
    "                                        test_buggyReleaseCycle_EXPECTED,\n",
    "                                        test_buggyReleaseCycle_ACTUAL)\n",
    "ExpectedOutputCleaner.cleanRoundingNoise(['Estimated Cost', 'Effort to Date', 'Percent Achieved'],\n",
    "                                        ['Tickets'],\n",
    "                                        test_buggyReleaseCycle_EXPECTED,\n",
    "                                        test_buggyReleaseCycle_ACTUAL)\n",
    "ExpectedOutputCleaner.cleanRoundingNoise(['Effort', 'Implementation Effort', 'Debugging Effort', 'Cum % Completion'],\n",
    "                                        ['Burnout'],\n",
    "                                        test_buggyReleaseCycle_EXPECTED,\n",
    "                                        test_buggyReleaseCycle_ACTUAL)\n",
    "                                       \n",
    "testlets = ReleaseLog.SNAPSHOTS.copy()\n",
    "# All log snapshots except 'Resourcing' and Outcome' have the same sensitive fields\n",
    "testlets.remove('Resourcing')\n",
    "testlets.remove('Outcome') \n",
    "ExpectedOutputCleaner.cleanRoundingNoise([0,1,2,3,4,5,6,7,8,9,10],\n",
    "                                        testlets,\n",
    "                                        test_buggyReleaseCycle_EXPECTED,\n",
    "                                        test_buggyReleaseCycle_ACTUAL)\n",
    "\n",
    "ExpectedOutputCleaner.cleanRoundingNoise(['Rejects (days)', 'Debugging (days)', 'Implementation (days)', \\\n",
    "                                          'Bandwidth', 'NEXT SPRINT (days)', 'NEXT SPRINT Bandwidth'],\n",
    "                                         ['Resourcing'],\n",
    "                                        test_buggyReleaseCycle_EXPECTED,\n",
    "                                        test_buggyReleaseCycle_ACTUAL)\n",
    "\n",
    "\n",
    "ExpectedOutputCleaner.cleanRoundingNoise(['Original Estimate', 'Effort Spent','Effort Remaining', \\\n",
    "                                          'Percent Achieved', 'Global Estimate', '% Global Done'],\n",
    "                                         ['Outcome'],\n",
    "                                        test_buggyReleaseCycle_EXPECTED,\n",
    "                                        test_buggyReleaseCycle_ACTUAL)\n",
    "                                    \n",
    "\n",
    "ExpectedOutputCleaner.standardizeDates(['Date'],\n",
    "                                      ['Entries'],\n",
    "                                      test_buggyReleaseCycle_EXPECTED)\n",
    "\n",
    "\n",
    "ExpectedOutputCleaner.destringify(['Delivered in Sprint'],\n",
    "                                 ['Outcome'],\n",
    "                                 test_buggyReleaseCycle_EXPECTED)\n",
    "\n",
    "tu_.EXPECTED['test_buggyReleaseCycle.Entries']        = test_buggyReleaseCycle_EXPECTED['Entries']\n",
    "tu_.EXPECTED['test_buggyReleaseCycle.User_Stories']   = test_buggyReleaseCycle_EXPECTED['User_Stories']\n",
    "tu_.EXPECTED['test_buggyReleaseCycle.Tickets']        = test_buggyReleaseCycle_EXPECTED['Tickets']\n",
    "tu_.EXPECTED['test_buggyReleaseCycle.Burnout']        = test_buggyReleaseCycle_EXPECTED['Burnout']\n",
    "for name in ReleaseLog.SNAPSHOTS:\n",
    "    tu_.EXPECTED['test_buggyReleaseCycle.' + name]    = test_buggyReleaseCycle_EXPECTED[name]\n",
    "\n",
    "tu_.ACTUAL['test_buggyReleaseCycle.Entries']          = test_buggyReleaseCycle_ACTUAL['Entries']\n",
    "tu_.ACTUAL['test_buggyReleaseCycle.User_Stories']     = test_buggyReleaseCycle_ACTUAL['User_Stories']\n",
    "tu_.ACTUAL['test_buggyReleaseCycle.Tickets']          = test_buggyReleaseCycle_ACTUAL['Tickets']\n",
    "tu_.ACTUAL['test_buggyReleaseCycle.Burnout']          = test_buggyReleaseCycle_ACTUAL['Burnout']\n",
    "for name in ReleaseLog.SNAPSHOTS:\n",
    "    tu_.ACTUAL['test_buggyReleaseCycle.' + name]      = test_buggyReleaseCycle_ACTUAL[name]\n",
    "\n",
    "results = []\n",
    "results.append(tu_.testOK('test_buggyReleaseCycle.Entries'))\n",
    "results.append(tu_.testOK('test_buggyReleaseCycle.User_Stories'))\n",
    "results.append(tu_.testOK('test_buggyReleaseCycle.Tickets'))\n",
    "results.append(tu_.testOK('test_buggyReleaseCycle.Burnout'))\n",
    "for name in ReleaseLog.SNAPSHOTS:\n",
    "    results.append(tu_.testOK('test_buggyReleaseCycle.' + name))\n",
    "                   \n",
    "results"
   ]
  },
  {
   "cell_type": "code",
   "execution_count": null,
   "metadata": {
    "code_folding": [
     0
    ]
   },
   "outputs": [],
   "source": [
    "# Uncomment to interactively visualize the release logs, and then comment again once interactive analysis is done. Commenting these\n",
    "# lines after interactive analysis is completed is required as test harness can't load these visualiations\n",
    "# libraries so leaving this uncommented will crash the entire test harness.\n",
    "# NB: MAY NEED TO RUN TWICE (there is a bug in Jupyter notebook, I think, so first time you call this it shows no visuals)\n",
    "#import devanalyst.simulation.visualizations.timecard_visuals as tc_visuals\n",
    "#tc_visuals.renderReleaseCycleLog(teamId = 'Team A', release_log=test_buggyReleaseCycle_ACTUAL['log'], first=1, last=19, spurious_columns=['Team Id', 'Sprint'])"
   ]
  },
  {
   "cell_type": "code",
   "execution_count": null,
   "metadata": {
    "code_folding": [
     0
    ]
   },
   "outputs": [],
   "source": [
    "# Script to debug test failures when entries change. This was very useful when the test failed because of simply the\n",
    "# removal of spurious entries (tails of 0's), for which the tu_.taintFailuresToStop was very useful. This allows\n",
    "# detecting the spurious rows and discard them, and at that point we have the same number of rows. Any mismatches\n",
    "# after that should be just innocent rotations of some entries, for which tu_.find_mismatches(e2, a) helps find the\n",
    "# few rows that account for the mismatches, and visual inspection usually is enough to verify it is simply an innocent\n",
    "# rotation\n",
    "def spurious_errors_debug(): # return or extract pertinent lines. This function is just a template\n",
    "    a = test_buggyReleaseCycle_ACTUAL['Entries']\n",
    "    e = test_buggyReleaseCycle_EXPECTED['Entries']\n",
    "    at = tu_.taintFailuresToStop(a, 'User Story', 'Time Spent')\n",
    "    et = tu_.taintFailuresToStop(e, 'User Story', 'Time Spent')\n",
    "    discard = list(et[et['TAINTED'] == True].index)\n",
    "    e2 = e.drop(discard)\n",
    "    e2.index = a.index\n",
    "    tu_.find_mismatches(e2, a)\n",
    "    e2.loc[[1178, 1182, 1184, 1216, 1218, 1220, 1232]]\n",
    "    a.loc[[1178, 1182, 1184, 1216, 1218, 1220, 1232]]"
   ]
  },
  {
   "cell_type": "code",
   "execution_count": null,
   "metadata": {},
   "outputs": [],
   "source": [
    "test_buggyReleaseCycle_ACTUAL['Entries'][0:8]"
   ]
  },
  {
   "cell_type": "code",
   "execution_count": null,
   "metadata": {},
   "outputs": [],
   "source": [
    "test_buggyReleaseCycle_EXPECTED['Entries'][0:8]"
   ]
  },
  {
   "cell_type": "code",
   "execution_count": null,
   "metadata": {},
   "outputs": [],
   "source": [
    "test_buggyReleaseCycle_ACTUAL['User_Stories'][0:8]"
   ]
  },
  {
   "cell_type": "code",
   "execution_count": null,
   "metadata": {},
   "outputs": [],
   "source": [
    "test_buggyReleaseCycle_EXPECTED['User_Stories'][0:8]"
   ]
  },
  {
   "cell_type": "code",
   "execution_count": null,
   "metadata": {},
   "outputs": [],
   "source": [
    "test_buggyReleaseCycle_ACTUAL['Tickets'][0:8]"
   ]
  },
  {
   "cell_type": "code",
   "execution_count": null,
   "metadata": {},
   "outputs": [],
   "source": [
    "test_buggyReleaseCycle_EXPECTED['Tickets'][0:8]"
   ]
  },
  {
   "cell_type": "code",
   "execution_count": null,
   "metadata": {},
   "outputs": [],
   "source": [
    "test_buggyReleaseCycle_ACTUAL['Burnout'][0:8]"
   ]
  },
  {
   "cell_type": "code",
   "execution_count": null,
   "metadata": {},
   "outputs": [],
   "source": [
    "test_buggyReleaseCycle_EXPECTED['Burnout'][0:8]"
   ]
  },
  {
   "cell_type": "code",
   "execution_count": null,
   "metadata": {},
   "outputs": [],
   "source": [
    "test_buggyReleaseCycle_ACTUAL['planned_Start_CURRENT_SPRINT'][0:8]"
   ]
  },
  {
   "cell_type": "code",
   "execution_count": null,
   "metadata": {},
   "outputs": [],
   "source": [
    "test_buggyReleaseCycle_EXPECTED['planned_Start_CURRENT_SPRINT'][0:8]"
   ]
  },
  {
   "cell_type": "code",
   "execution_count": null,
   "metadata": {},
   "outputs": [],
   "source": [
    "test_buggyReleaseCycle_ACTUAL['planned_End_CURRENT_SPRINT'][0:8]"
   ]
  },
  {
   "cell_type": "code",
   "execution_count": null,
   "metadata": {},
   "outputs": [],
   "source": [
    "test_buggyReleaseCycle_EXPECTED['planned_End_CURRENT_SPRINT'][0:8]"
   ]
  },
  {
   "cell_type": "code",
   "execution_count": null,
   "metadata": {},
   "outputs": [],
   "source": [
    "test_buggyReleaseCycle_ACTUAL['planned_Start_NEXT_SPRINT'][0:8]"
   ]
  },
  {
   "cell_type": "code",
   "execution_count": null,
   "metadata": {},
   "outputs": [],
   "source": [
    "test_buggyReleaseCycle_EXPECTED['planned_Start_NEXT_SPRINT'][0:8]"
   ]
  },
  {
   "cell_type": "code",
   "execution_count": null,
   "metadata": {},
   "outputs": [],
   "source": [
    "test_buggyReleaseCycle_ACTUAL['planned_End_NEXT_SPRINT'][0:8]"
   ]
  },
  {
   "cell_type": "code",
   "execution_count": null,
   "metadata": {},
   "outputs": [],
   "source": [
    "test_buggyReleaseCycle_EXPECTED['planned_End_NEXT_SPRINT'][0:8]"
   ]
  },
  {
   "cell_type": "code",
   "execution_count": null,
   "metadata": {},
   "outputs": [],
   "source": [
    "test_buggyReleaseCycle_ACTUAL['backlog'][0:8]"
   ]
  },
  {
   "cell_type": "code",
   "execution_count": null,
   "metadata": {},
   "outputs": [],
   "source": [
    "test_buggyReleaseCycle_EXPECTED['backlog'][0:8]"
   ]
  },
  {
   "cell_type": "code",
   "execution_count": null,
   "metadata": {},
   "outputs": [],
   "source": [
    "test_buggyReleaseCycle_ACTUAL['Resourcing'][0:8]"
   ]
  },
  {
   "cell_type": "code",
   "execution_count": null,
   "metadata": {},
   "outputs": [],
   "source": [
    "test_buggyReleaseCycle_EXPECTED['Resourcing'][0:8]"
   ]
  },
  {
   "cell_type": "code",
   "execution_count": null,
   "metadata": {},
   "outputs": [],
   "source": [
    "test_buggyReleaseCycle_ACTUAL['Outcome'][0:8]"
   ]
  },
  {
   "cell_type": "code",
   "execution_count": null,
   "metadata": {},
   "outputs": [],
   "source": [
    "test_buggyReleaseCycle_EXPECTED['Outcome'][0:8]"
   ]
  },
  {
   "cell_type": "markdown",
   "metadata": {},
   "source": [
    "<h1>test_workStealing</h1>"
   ]
  },
  {
   "cell_type": "code",
   "execution_count": 13,
   "metadata": {
    "code_folding": [
     0
    ]
   },
   "outputs": [
    {
     "name": "stderr",
     "output_type": "stream",
     "text": [
      "C:\\Users\\aleja\\Documents\\CodeImages\\Technos\\Anaconda3\\envs\\devanalystenv\\lib\\site-packages\\pandas\\core\\ops.py:1649: FutureWarning: elementwise comparison failed; returning scalar instead, but in the future will perform elementwise comparison\n",
      "  result = method(y)\n"
     ]
    }
   ],
   "source": [
    "# Implement test logic, and run it\n",
    "\n",
    "#Test logic\n",
    "def test_workStealing():\n",
    "    output = {}\n",
    "    \n",
    "    RELEASE_DURATION = 60\n",
    "    SPRINT_DURATION = 10\n",
    "    NUMBER_OF_SPRINTS = 20\n",
    "\n",
    "    DEVA_DF = tu_.DEV_DF[tu_.DEV_DF['Scrum Team'] == 'A']    \n",
    "    \n",
    "    modelsConfig = ModelsConfig([MeritocraticCostModel()], [DistributedLagQualityModel()], NoLaggardsAllocationModel())\n",
    "    modelsConfig.random.reset(271)\n",
    "\n",
    "    teams_df, stories_dfDUMMY, globalRepo = tu_.initTestData(DEVA_DF, tu_.PM_DF, \\\n",
    "                                                        RELEASE_DURATION, SPRINT_DURATION, modelsConfig)\n",
    "    modelsConfig.globalRepo = globalRepo\n",
    "\n",
    "    entries_df, log = timecard.runReleaseCycle(datetime(2018, 1, 15), SPRINT_DURATION, NUMBER_OF_SPRINTS, modelsConfig) \n",
    "    ## Need to set stories3_df **after** release cycle since developer ownerships might be changed during the release\n",
    "    stories_df = UserStory.build_stories_df(globalRepo)\n",
    "\n",
    "# Output dataframes\n",
    "    \n",
    "    burnout             = timecard.releaseBurnout(entries_df)\n",
    "    utilization_df      = timecard.utilization(entries_df, [11, 12, 13, 14, 15, 16, 17, 18, 19])\n",
    "    \n",
    "    workStolen          = timecard.tabulateWorkStolen(modelsConfig)\n",
    "    workStolen_df       = timecard.buildWorkStolen_df(workStolen)\n",
    "    \n",
    "    explain_us1         = timecard.explainWorkStolen(workStolen, 'UserStory #1', log)\n",
    "    explain_us2         = timecard.explainWorkStolen(workStolen, 'UserStory #70', log)\n",
    "    \n",
    "    lag, bal, actuals   = timecard.workStealingRetrospective(13, log, modelsConfig)\n",
    "    \n",
    "    output['burnout']                              = burnout\n",
    "    output['utilization']                          = utilization_df\n",
    "    output['works_stolen']                         = workStolen_df\n",
    "    output['userStory1_work_stolen_explanation']   = explain_us1\n",
    "    output['userStory70_work_stolen_explanation']  = explain_us2\n",
    "    output['laggard_candidates_to_steal_sprint13'] = lag\n",
    "    output['balance_candidates_to_steal_sprint13'] = bal\n",
    "    output['actual_steal_sprint13']                = actuals\n",
    "    \n",
    "    return output\n",
    "\n",
    "# Run the test\n",
    "test_workStealing_ACTUAL = test_workStealing()"
   ]
  },
  {
   "cell_type": "code",
   "execution_count": 14,
   "metadata": {
    "code_folding": [
     0
    ]
   },
   "outputs": [],
   "source": [
    "# Uncomment to update expected output to match the actual one\n",
    "\n",
    "# Helper method\n",
    "def create_workStealing_EXPECTED():\n",
    "    tu_.createExpectedOutput(test_workStealing_ACTUAL['burnout'], \\\n",
    "                            'timecard.test_workStealing.burnout')\n",
    "    tu_.createExpectedOutput(test_workStealing_ACTUAL['utilization'], \\\n",
    "                            'timecard.test_workStealing.utilization')\n",
    "    tu_.createExpectedOutput(test_workStealing_ACTUAL['works_stolen'], \\\n",
    "                            'timecard.test_workStealing.works_stolen')\n",
    "    tu_.createExpectedOutput(test_workStealing_ACTUAL['userStory1_work_stolen_explanation'], \\\n",
    "                            'timecard.test_workStealing.userStory1_work_stolen_explanation')\n",
    "    tu_.createExpectedOutput(test_workStealing_ACTUAL['userStory70_work_stolen_explanation'], \\\n",
    "                            'timecard.test_workStealing.userStory70_work_stolen_explanation')\n",
    "    tu_.createExpectedOutput(test_workStealing_ACTUAL['laggard_candidates_to_steal_sprint13'], \\\n",
    "                            'timecard.test_workStealing.laggard_candidates_to_steal_sprint13')\n",
    "    tu_.createExpectedOutput(test_workStealing_ACTUAL['balance_candidates_to_steal_sprint13'], \\\n",
    "                            'timecard.test_workStealing.balance_candidates_to_steal_sprint13')\n",
    "    tu_.createExpectedOutput(test_workStealing_ACTUAL['actual_steal_sprint13'], \\\n",
    "                            'timecard.test_workStealing.actual_steal_sprint13')\n",
    "\n",
    "# Uncomment to update expected output to match the actual one, and then put the comment back\n",
    "#create_workStealing_EXPECTED()"
   ]
  },
  {
   "cell_type": "code",
   "execution_count": 22,
   "metadata": {
    "code_folding": [
     0
    ]
   },
   "outputs": [
    {
     "data": {
      "text/plain": [
       "(True, True, True, True, True, True, True, True)"
      ]
     },
     "execution_count": 22,
     "metadata": {},
     "output_type": "execute_result"
    }
   ],
   "source": [
    "# Load expected output, update the EXPECTED and ACTUAL dictionaries, and check test is OK\n",
    "list_cols = [] # Lists are loaded as strings, so require special processing on load\n",
    "\n",
    "test_workStealing_EXPECTED = {}\n",
    "\n",
    "PFX = 'timecard.test_workStealing.'\n",
    "test_workStealing_EXPECTED['burnout']                              = tu_.loadExpectedOutput(PFX + 'burnout', \\\n",
    "                                                                                            list_cols)\n",
    "test_workStealing_EXPECTED['utilization']                          = tu_.loadExpectedOutput(PFX + 'utilization', \\\n",
    "                                                                                            list_cols)\n",
    "test_workStealing_EXPECTED['works_stolen']                         = tu_.loadExpectedOutput(PFX + 'works_stolen', \\\n",
    "                                                                    list_cols)\n",
    "test_workStealing_EXPECTED['userStory1_work_stolen_explanation']   = tu_.loadExpectedOutput(PFX + 'userStory1_work_stolen_explanation', \\\n",
    "                                                                                            list_cols)\n",
    "test_workStealing_EXPECTED['userStory70_work_stolen_explanation']  = tu_.loadExpectedOutput(PFX + 'userStory70_work_stolen_explanation', \\\n",
    "                                                                                            list_cols)\n",
    "test_workStealing_EXPECTED['laggard_candidates_to_steal_sprint13'] = tu_.loadExpectedOutput(PFX + 'laggard_candidates_to_steal_sprint13', \\\n",
    "                                                                                            list_cols)\n",
    "test_workStealing_EXPECTED['balance_candidates_to_steal_sprint13'] = tu_.loadExpectedOutput(PFX + 'balance_candidates_to_steal_sprint13', \\\n",
    "                                                                                            list_cols)\n",
    "test_workStealing_EXPECTED['actual_steal_sprint13']                = tu_.loadExpectedOutput(PFX + 'actual_steal_sprint13', \\\n",
    "                                                                                            list_cols)\n",
    "\n",
    "# Rounding inaccuracies in saving and loading CSV will create an artificial mismatch between ACTUAL and EXPECTED\n",
    "# So round EXPECTED and ACTUAL to 6 decimal places for sensitive fields (any float)\n",
    "ExpectedOutputCleaner.cleanRoundingNoise(['Effort', 'Implementation Effort', 'Debugging Effort', 'Cum % Completion'],\n",
    "                                        ['burnout'],\n",
    "                                        test_workStealing_EXPECTED,\n",
    "                                        test_workStealing_ACTUAL)\n",
    "ExpectedOutputCleaner.cleanRoundingNoise(['Sprint 11', 'Sprint 12', 'Sprint 13', 'Sprint 14', 'Sprint 15', \\\n",
    "                                          'Sprint 16', 'Sprint 17', 'Sprint 18', 'Sprint 19'],\n",
    "                                        ['utilization'],\n",
    "                                        test_workStealing_EXPECTED,\n",
    "                                        test_workStealing_ACTUAL)\n",
    "\n",
    "ExpectedOutputCleaner.cleanRoundingNoise(['Original Estimate', 'Effort Spent','Effort Remaining', \\\n",
    "                                          'Percent Achieved', 'Global Estimate', '% Global Done'],\n",
    "                                         ['userStory1_work_stolen_explanation', 'userStory70_work_stolen_explanation', \\\n",
    "                                          'laggard_candidates_to_steal_sprint13', 'balance_candidates_to_steal_sprint13'],\n",
    "                                        test_workStealing_EXPECTED,\n",
    "                                        test_workStealing_ACTUAL)\n",
    "    \n",
    "ExpectedOutputCleaner.alignIndex(['userStory1_work_stolen_explanation', 'userStory70_work_stolen_explanation', \\\n",
    "                                 'laggard_candidates_to_steal_sprint13', 'balance_candidates_to_steal_sprint13', \\\n",
    "                                 'actual_steal_sprint13'],\n",
    "                                 test_workStealing_EXPECTED,\n",
    "                                  test_workStealing_ACTUAL)\n",
    "\n",
    "\n",
    "ExpectedOutputCleaner.destringify(['Delivered in Sprint'],\n",
    "                                 ['userStory1_work_stolen_explanation', 'userStory70_work_stolen_explanation', \\\n",
    "                                 'laggard_candidates_to_steal_sprint13', 'balance_candidates_to_steal_sprint13'],\n",
    "                                 test_workStealing_EXPECTED)\n",
    "\n",
    "\n",
    "\n",
    "tu_.EXPECTED[PFX + 'burnout']                              = test_workStealing_EXPECTED['burnout']\n",
    "tu_.EXPECTED[PFX + 'utilization']                          = test_workStealing_EXPECTED['utilization']\n",
    "tu_.EXPECTED[PFX + 'works_stolen']                         = test_workStealing_EXPECTED['works_stolen']\n",
    "tu_.EXPECTED[PFX + 'userStory1_work_stolen_explanation']   = test_workStealing_EXPECTED['userStory1_work_stolen_explanation']\n",
    "tu_.EXPECTED[PFX + 'userStory70_work_stolen_explanation']  = test_workStealing_EXPECTED['userStory70_work_stolen_explanation']\n",
    "tu_.EXPECTED[PFX + 'laggard_candidates_to_steal_sprint13'] = test_workStealing_EXPECTED['laggard_candidates_to_steal_sprint13']\n",
    "tu_.EXPECTED[PFX + 'balance_candidates_to_steal_sprint13'] = test_workStealing_EXPECTED['balance_candidates_to_steal_sprint13']\n",
    "tu_.EXPECTED[PFX + 'actual_steal_sprint13']                = test_workStealing_EXPECTED['actual_steal_sprint13']\n",
    "\n",
    "tu_.ACTUAL[PFX + 'burnout']                                = test_workStealing_ACTUAL['burnout']\n",
    "tu_.ACTUAL[PFX + 'utilization']                            = test_workStealing_ACTUAL['utilization']\n",
    "tu_.ACTUAL[PFX + 'works_stolen']                           = test_workStealing_ACTUAL['works_stolen']\n",
    "tu_.ACTUAL[PFX + 'userStory1_work_stolen_explanation']     = test_workStealing_ACTUAL['userStory1_work_stolen_explanation']\n",
    "tu_.ACTUAL[PFX + 'userStory70_work_stolen_explanation']    = test_workStealing_ACTUAL['userStory70_work_stolen_explanation']\n",
    "tu_.ACTUAL[PFX + 'laggard_candidates_to_steal_sprint13']   = test_workStealing_ACTUAL['laggard_candidates_to_steal_sprint13']\n",
    "tu_.ACTUAL[PFX + 'balance_candidates_to_steal_sprint13']   = test_workStealing_ACTUAL['balance_candidates_to_steal_sprint13']\n",
    "tu_.ACTUAL[PFX + 'actual_steal_sprint13']                  = test_workStealing_ACTUAL['actual_steal_sprint13']\n",
    "\n",
    "tu_.testOK(PFX + 'burnout'), \\\n",
    "tu_.testOK(PFX + 'utilization'), \\\n",
    "tu_.testOK(PFX + 'works_stolen'), \\\n",
    "tu_.testOK(PFX + 'userStory1_work_stolen_explanation'), \\\n",
    "tu_.testOK(PFX + 'userStory70_work_stolen_explanation'), \\\n",
    "tu_.testOK(PFX + 'laggard_candidates_to_steal_sprint13'), \\\n",
    "tu_.testOK(PFX + 'balance_candidates_to_steal_sprint13'), \\\n",
    "tu_.testOK(PFX + 'actual_steal_sprint13'), \\\n"
   ]
  },
  {
   "cell_type": "code",
   "execution_count": null,
   "metadata": {},
   "outputs": [],
   "source": [
    "test_workStealing_ACTUAL['burnout']"
   ]
  },
  {
   "cell_type": "code",
   "execution_count": null,
   "metadata": {},
   "outputs": [],
   "source": [
    "test_workStealing_EXPECTED['burnout']"
   ]
  },
  {
   "cell_type": "code",
   "execution_count": 7,
   "metadata": {},
   "outputs": [
    {
     "data": {
      "text/html": [
       "<div>\n",
       "<style scoped>\n",
       "    .dataframe tbody tr th:only-of-type {\n",
       "        vertical-align: middle;\n",
       "    }\n",
       "\n",
       "    .dataframe tbody tr th {\n",
       "        vertical-align: top;\n",
       "    }\n",
       "\n",
       "    .dataframe thead th {\n",
       "        text-align: right;\n",
       "    }\n",
       "</style>\n",
       "<table border=\"1\" class=\"dataframe\">\n",
       "  <thead>\n",
       "    <tr style=\"text-align: right;\">\n",
       "      <th></th>\n",
       "      <th>index</th>\n",
       "      <th>Sprint 11</th>\n",
       "      <th>Sprint 12</th>\n",
       "      <th>Sprint 13</th>\n",
       "      <th>Sprint 14</th>\n",
       "      <th>Sprint 15</th>\n",
       "      <th>Sprint 16</th>\n",
       "      <th>Sprint 17</th>\n",
       "      <th>Sprint 18</th>\n",
       "      <th>Sprint 19</th>\n",
       "    </tr>\n",
       "  </thead>\n",
       "  <tbody>\n",
       "    <tr>\n",
       "      <th>0</th>\n",
       "      <td>Anton Easterday</td>\n",
       "      <td>10.0</td>\n",
       "      <td>10.000000</td>\n",
       "      <td>0.733333</td>\n",
       "      <td>7.333333</td>\n",
       "      <td>NaN</td>\n",
       "      <td>NaN</td>\n",
       "      <td>NaN</td>\n",
       "      <td>NaN</td>\n",
       "      <td>NaN</td>\n",
       "    </tr>\n",
       "    <tr>\n",
       "      <th>1</th>\n",
       "      <td>Beau Hockensmith</td>\n",
       "      <td>10.0</td>\n",
       "      <td>10.000000</td>\n",
       "      <td>10.000000</td>\n",
       "      <td>10.000000</td>\n",
       "      <td>6.8</td>\n",
       "      <td>NaN</td>\n",
       "      <td>NaN</td>\n",
       "      <td>NaN</td>\n",
       "      <td>NaN</td>\n",
       "    </tr>\n",
       "    <tr>\n",
       "      <th>2</th>\n",
       "      <td>Bruno Studley</td>\n",
       "      <td>10.0</td>\n",
       "      <td>10.000000</td>\n",
       "      <td>10.000000</td>\n",
       "      <td>10.000000</td>\n",
       "      <td>2.8</td>\n",
       "      <td>NaN</td>\n",
       "      <td>NaN</td>\n",
       "      <td>NaN</td>\n",
       "      <td>6.0</td>\n",
       "    </tr>\n",
       "    <tr>\n",
       "      <th>3</th>\n",
       "      <td>Craig Garlitz</td>\n",
       "      <td>10.0</td>\n",
       "      <td>10.000000</td>\n",
       "      <td>10.000000</td>\n",
       "      <td>6.800000</td>\n",
       "      <td>NaN</td>\n",
       "      <td>4.8</td>\n",
       "      <td>NaN</td>\n",
       "      <td>NaN</td>\n",
       "      <td>NaN</td>\n",
       "    </tr>\n",
       "    <tr>\n",
       "      <th>4</th>\n",
       "      <td>Francisco Hoppe</td>\n",
       "      <td>10.0</td>\n",
       "      <td>9.633333</td>\n",
       "      <td>9.000000</td>\n",
       "      <td>NaN</td>\n",
       "      <td>NaN</td>\n",
       "      <td>1.6</td>\n",
       "      <td>NaN</td>\n",
       "      <td>NaN</td>\n",
       "      <td>NaN</td>\n",
       "    </tr>\n",
       "    <tr>\n",
       "      <th>5</th>\n",
       "      <td>Glenna Mcghie</td>\n",
       "      <td>10.0</td>\n",
       "      <td>10.000000</td>\n",
       "      <td>10.000000</td>\n",
       "      <td>10.000000</td>\n",
       "      <td>NaN</td>\n",
       "      <td>7.2</td>\n",
       "      <td>NaN</td>\n",
       "      <td>NaN</td>\n",
       "      <td>NaN</td>\n",
       "    </tr>\n",
       "    <tr>\n",
       "      <th>6</th>\n",
       "      <td>Gregorio Darr</td>\n",
       "      <td>10.0</td>\n",
       "      <td>10.000000</td>\n",
       "      <td>7.000000</td>\n",
       "      <td>NaN</td>\n",
       "      <td>NaN</td>\n",
       "      <td>NaN</td>\n",
       "      <td>NaN</td>\n",
       "      <td>NaN</td>\n",
       "      <td>NaN</td>\n",
       "    </tr>\n",
       "    <tr>\n",
       "      <th>7</th>\n",
       "      <td>Heriberto Martini</td>\n",
       "      <td>10.0</td>\n",
       "      <td>10.000000</td>\n",
       "      <td>10.000000</td>\n",
       "      <td>2.600000</td>\n",
       "      <td>NaN</td>\n",
       "      <td>NaN</td>\n",
       "      <td>NaN</td>\n",
       "      <td>NaN</td>\n",
       "      <td>NaN</td>\n",
       "    </tr>\n",
       "  </tbody>\n",
       "</table>\n",
       "</div>"
      ],
      "text/plain": [
       "               index  Sprint 11  Sprint 12  Sprint 13  Sprint 14  Sprint 15  \\\n",
       "0    Anton Easterday       10.0  10.000000   0.733333   7.333333        NaN   \n",
       "1   Beau Hockensmith       10.0  10.000000  10.000000  10.000000        6.8   \n",
       "2      Bruno Studley       10.0  10.000000  10.000000  10.000000        2.8   \n",
       "3      Craig Garlitz       10.0  10.000000  10.000000   6.800000        NaN   \n",
       "4    Francisco Hoppe       10.0   9.633333   9.000000        NaN        NaN   \n",
       "5      Glenna Mcghie       10.0  10.000000  10.000000  10.000000        NaN   \n",
       "6      Gregorio Darr       10.0  10.000000   7.000000        NaN        NaN   \n",
       "7  Heriberto Martini       10.0  10.000000  10.000000   2.600000        NaN   \n",
       "\n",
       "   Sprint 16  Sprint 17  Sprint 18  Sprint 19  \n",
       "0        NaN        NaN        NaN        NaN  \n",
       "1        NaN        NaN        NaN        NaN  \n",
       "2        NaN        NaN        NaN        6.0  \n",
       "3        4.8        NaN        NaN        NaN  \n",
       "4        1.6        NaN        NaN        NaN  \n",
       "5        7.2        NaN        NaN        NaN  \n",
       "6        NaN        NaN        NaN        NaN  \n",
       "7        NaN        NaN        NaN        NaN  "
      ]
     },
     "execution_count": 7,
     "metadata": {},
     "output_type": "execute_result"
    }
   ],
   "source": [
    "test_workStealing_ACTUAL['utilization']"
   ]
  },
  {
   "cell_type": "code",
   "execution_count": 8,
   "metadata": {},
   "outputs": [
    {
     "data": {
      "text/html": [
       "<div>\n",
       "<style scoped>\n",
       "    .dataframe tbody tr th:only-of-type {\n",
       "        vertical-align: middle;\n",
       "    }\n",
       "\n",
       "    .dataframe tbody tr th {\n",
       "        vertical-align: top;\n",
       "    }\n",
       "\n",
       "    .dataframe thead th {\n",
       "        text-align: right;\n",
       "    }\n",
       "</style>\n",
       "<table border=\"1\" class=\"dataframe\">\n",
       "  <thead>\n",
       "    <tr style=\"text-align: right;\">\n",
       "      <th></th>\n",
       "      <th>Sprint 11</th>\n",
       "      <th>Sprint 12</th>\n",
       "      <th>Sprint 13</th>\n",
       "      <th>Sprint 14</th>\n",
       "      <th>Sprint 15</th>\n",
       "      <th>Sprint 16</th>\n",
       "      <th>Sprint 17</th>\n",
       "      <th>Sprint 18</th>\n",
       "      <th>Sprint 19</th>\n",
       "    </tr>\n",
       "  </thead>\n",
       "  <tbody>\n",
       "    <tr>\n",
       "      <th>0</th>\n",
       "      <td>10.0</td>\n",
       "      <td>10.000000</td>\n",
       "      <td>0.733333</td>\n",
       "      <td>7.333333</td>\n",
       "      <td>NaN</td>\n",
       "      <td>NaN</td>\n",
       "      <td>NaN</td>\n",
       "      <td>NaN</td>\n",
       "      <td>NaN</td>\n",
       "    </tr>\n",
       "    <tr>\n",
       "      <th>1</th>\n",
       "      <td>10.0</td>\n",
       "      <td>10.000000</td>\n",
       "      <td>10.000000</td>\n",
       "      <td>10.000000</td>\n",
       "      <td>6.8</td>\n",
       "      <td>NaN</td>\n",
       "      <td>NaN</td>\n",
       "      <td>NaN</td>\n",
       "      <td>NaN</td>\n",
       "    </tr>\n",
       "    <tr>\n",
       "      <th>2</th>\n",
       "      <td>10.0</td>\n",
       "      <td>10.000000</td>\n",
       "      <td>10.000000</td>\n",
       "      <td>10.000000</td>\n",
       "      <td>2.8</td>\n",
       "      <td>NaN</td>\n",
       "      <td>NaN</td>\n",
       "      <td>NaN</td>\n",
       "      <td>6.0</td>\n",
       "    </tr>\n",
       "    <tr>\n",
       "      <th>3</th>\n",
       "      <td>10.0</td>\n",
       "      <td>10.000000</td>\n",
       "      <td>10.000000</td>\n",
       "      <td>6.800000</td>\n",
       "      <td>NaN</td>\n",
       "      <td>4.8</td>\n",
       "      <td>NaN</td>\n",
       "      <td>NaN</td>\n",
       "      <td>NaN</td>\n",
       "    </tr>\n",
       "    <tr>\n",
       "      <th>4</th>\n",
       "      <td>10.0</td>\n",
       "      <td>9.633333</td>\n",
       "      <td>9.000000</td>\n",
       "      <td>NaN</td>\n",
       "      <td>NaN</td>\n",
       "      <td>1.6</td>\n",
       "      <td>NaN</td>\n",
       "      <td>NaN</td>\n",
       "      <td>NaN</td>\n",
       "    </tr>\n",
       "    <tr>\n",
       "      <th>5</th>\n",
       "      <td>10.0</td>\n",
       "      <td>10.000000</td>\n",
       "      <td>10.000000</td>\n",
       "      <td>10.000000</td>\n",
       "      <td>NaN</td>\n",
       "      <td>7.2</td>\n",
       "      <td>NaN</td>\n",
       "      <td>NaN</td>\n",
       "      <td>NaN</td>\n",
       "    </tr>\n",
       "    <tr>\n",
       "      <th>6</th>\n",
       "      <td>10.0</td>\n",
       "      <td>10.000000</td>\n",
       "      <td>7.000000</td>\n",
       "      <td>NaN</td>\n",
       "      <td>NaN</td>\n",
       "      <td>NaN</td>\n",
       "      <td>NaN</td>\n",
       "      <td>NaN</td>\n",
       "      <td>NaN</td>\n",
       "    </tr>\n",
       "    <tr>\n",
       "      <th>7</th>\n",
       "      <td>10.0</td>\n",
       "      <td>10.000000</td>\n",
       "      <td>10.000000</td>\n",
       "      <td>2.600000</td>\n",
       "      <td>NaN</td>\n",
       "      <td>NaN</td>\n",
       "      <td>NaN</td>\n",
       "      <td>NaN</td>\n",
       "      <td>NaN</td>\n",
       "    </tr>\n",
       "  </tbody>\n",
       "</table>\n",
       "</div>"
      ],
      "text/plain": [
       "   Sprint 11  Sprint 12  Sprint 13  Sprint 14  Sprint 15  Sprint 16  \\\n",
       "0       10.0  10.000000   0.733333   7.333333        NaN        NaN   \n",
       "1       10.0  10.000000  10.000000  10.000000        6.8        NaN   \n",
       "2       10.0  10.000000  10.000000  10.000000        2.8        NaN   \n",
       "3       10.0  10.000000  10.000000   6.800000        NaN        4.8   \n",
       "4       10.0   9.633333   9.000000        NaN        NaN        1.6   \n",
       "5       10.0  10.000000  10.000000  10.000000        NaN        7.2   \n",
       "6       10.0  10.000000   7.000000        NaN        NaN        NaN   \n",
       "7       10.0  10.000000  10.000000   2.600000        NaN        NaN   \n",
       "\n",
       "   Sprint 17  Sprint 18  Sprint 19  \n",
       "0        NaN        NaN        NaN  \n",
       "1        NaN        NaN        NaN  \n",
       "2        NaN        NaN        6.0  \n",
       "3        NaN        NaN        NaN  \n",
       "4        NaN        NaN        NaN  \n",
       "5        NaN        NaN        NaN  \n",
       "6        NaN        NaN        NaN  \n",
       "7        NaN        NaN        NaN  "
      ]
     },
     "execution_count": 8,
     "metadata": {},
     "output_type": "execute_result"
    }
   ],
   "source": [
    "test_workStealing_EXPECTED['utilization']"
   ]
  },
  {
   "cell_type": "code",
   "execution_count": 29,
   "metadata": {},
   "outputs": [
    {
     "data": {
      "text/html": [
       "<div>\n",
       "<style scoped>\n",
       "    .dataframe tbody tr th:only-of-type {\n",
       "        vertical-align: middle;\n",
       "    }\n",
       "\n",
       "    .dataframe tbody tr th {\n",
       "        vertical-align: top;\n",
       "    }\n",
       "\n",
       "    .dataframe thead th {\n",
       "        text-align: right;\n",
       "    }\n",
       "</style>\n",
       "<table border=\"1\" class=\"dataframe\">\n",
       "  <thead>\n",
       "    <tr style=\"text-align: right;\">\n",
       "      <th></th>\n",
       "      <th>User Story Id</th>\n",
       "      <th>Assigned on Sprint</th>\n",
       "      <th>Assigned to Developer</th>\n",
       "    </tr>\n",
       "  </thead>\n",
       "  <tbody>\n",
       "    <tr>\n",
       "      <th>0</th>\n",
       "      <td>UserStory #1</td>\n",
       "      <td>9</td>\n",
       "      <td>Anton Easterday</td>\n",
       "    </tr>\n",
       "    <tr>\n",
       "      <th>1</th>\n",
       "      <td>UserStory #1</td>\n",
       "      <td>10</td>\n",
       "      <td>Heriberto Martini</td>\n",
       "    </tr>\n",
       "    <tr>\n",
       "      <th>2</th>\n",
       "      <td>UserStory #4</td>\n",
       "      <td>7</td>\n",
       "      <td>Beau Hockensmith</td>\n",
       "    </tr>\n",
       "    <tr>\n",
       "      <th>3</th>\n",
       "      <td>UserStory #4</td>\n",
       "      <td>8</td>\n",
       "      <td>Heriberto Martini</td>\n",
       "    </tr>\n",
       "    <tr>\n",
       "      <th>4</th>\n",
       "      <td>UserStory #5</td>\n",
       "      <td>4</td>\n",
       "      <td>Anton Easterday</td>\n",
       "    </tr>\n",
       "    <tr>\n",
       "      <th>5</th>\n",
       "      <td>UserStory #5</td>\n",
       "      <td>5</td>\n",
       "      <td>Heriberto Martini</td>\n",
       "    </tr>\n",
       "    <tr>\n",
       "      <th>6</th>\n",
       "      <td>UserStory #7</td>\n",
       "      <td>11</td>\n",
       "      <td>Beau Hockensmith</td>\n",
       "    </tr>\n",
       "    <tr>\n",
       "      <th>7</th>\n",
       "      <td>UserStory #7</td>\n",
       "      <td>12</td>\n",
       "      <td>Anton Easterday</td>\n",
       "    </tr>\n",
       "    <tr>\n",
       "      <th>8</th>\n",
       "      <td>UserStory #7</td>\n",
       "      <td>13</td>\n",
       "      <td>Francisco Hoppe</td>\n",
       "    </tr>\n",
       "    <tr>\n",
       "      <th>9</th>\n",
       "      <td>UserStory #20</td>\n",
       "      <td>6</td>\n",
       "      <td>Anton Easterday</td>\n",
       "    </tr>\n",
       "    <tr>\n",
       "      <th>10</th>\n",
       "      <td>UserStory #20</td>\n",
       "      <td>7</td>\n",
       "      <td>Craig Garlitz</td>\n",
       "    </tr>\n",
       "    <tr>\n",
       "      <th>11</th>\n",
       "      <td>UserStory #22</td>\n",
       "      <td>1</td>\n",
       "      <td>Anton Easterday</td>\n",
       "    </tr>\n",
       "    <tr>\n",
       "      <th>12</th>\n",
       "      <td>UserStory #22</td>\n",
       "      <td>2</td>\n",
       "      <td>Gregorio Darr</td>\n",
       "    </tr>\n",
       "    <tr>\n",
       "      <th>13</th>\n",
       "      <td>UserStory #28</td>\n",
       "      <td>1</td>\n",
       "      <td>Anton Easterday</td>\n",
       "    </tr>\n",
       "    <tr>\n",
       "      <th>14</th>\n",
       "      <td>UserStory #28</td>\n",
       "      <td>1</td>\n",
       "      <td>Francisco Hoppe</td>\n",
       "    </tr>\n",
       "    <tr>\n",
       "      <th>15</th>\n",
       "      <td>UserStory #36</td>\n",
       "      <td>2</td>\n",
       "      <td>Craig Garlitz</td>\n",
       "    </tr>\n",
       "    <tr>\n",
       "      <th>16</th>\n",
       "      <td>UserStory #36</td>\n",
       "      <td>5</td>\n",
       "      <td>Anton Easterday</td>\n",
       "    </tr>\n",
       "    <tr>\n",
       "      <th>17</th>\n",
       "      <td>UserStory #39</td>\n",
       "      <td>4</td>\n",
       "      <td>Beau Hockensmith</td>\n",
       "    </tr>\n",
       "    <tr>\n",
       "      <th>18</th>\n",
       "      <td>UserStory #39</td>\n",
       "      <td>7</td>\n",
       "      <td>Heriberto Martini</td>\n",
       "    </tr>\n",
       "    <tr>\n",
       "      <th>19</th>\n",
       "      <td>UserStory #40</td>\n",
       "      <td>8</td>\n",
       "      <td>Glenna Mcghie</td>\n",
       "    </tr>\n",
       "    <tr>\n",
       "      <th>20</th>\n",
       "      <td>UserStory #40</td>\n",
       "      <td>12</td>\n",
       "      <td>Beau Hockensmith</td>\n",
       "    </tr>\n",
       "    <tr>\n",
       "      <th>21</th>\n",
       "      <td>UserStory #40</td>\n",
       "      <td>13</td>\n",
       "      <td>Glenna Mcghie</td>\n",
       "    </tr>\n",
       "    <tr>\n",
       "      <th>22</th>\n",
       "      <td>UserStory #48</td>\n",
       "      <td>2</td>\n",
       "      <td>Gregorio Darr</td>\n",
       "    </tr>\n",
       "    <tr>\n",
       "      <th>23</th>\n",
       "      <td>UserStory #48</td>\n",
       "      <td>6</td>\n",
       "      <td>Craig Garlitz</td>\n",
       "    </tr>\n",
       "    <tr>\n",
       "      <th>24</th>\n",
       "      <td>UserStory #49</td>\n",
       "      <td>7</td>\n",
       "      <td>Anton Easterday</td>\n",
       "    </tr>\n",
       "    <tr>\n",
       "      <th>25</th>\n",
       "      <td>UserStory #49</td>\n",
       "      <td>8</td>\n",
       "      <td>Francisco Hoppe</td>\n",
       "    </tr>\n",
       "    <tr>\n",
       "      <th>26</th>\n",
       "      <td>UserStory #51</td>\n",
       "      <td>10</td>\n",
       "      <td>Anton Easterday</td>\n",
       "    </tr>\n",
       "    <tr>\n",
       "      <th>27</th>\n",
       "      <td>UserStory #51</td>\n",
       "      <td>11</td>\n",
       "      <td>Heriberto Martini</td>\n",
       "    </tr>\n",
       "    <tr>\n",
       "      <th>28</th>\n",
       "      <td>UserStory #53</td>\n",
       "      <td>7</td>\n",
       "      <td>Gregorio Darr</td>\n",
       "    </tr>\n",
       "    <tr>\n",
       "      <th>29</th>\n",
       "      <td>UserStory #53</td>\n",
       "      <td>10</td>\n",
       "      <td>Anton Easterday</td>\n",
       "    </tr>\n",
       "    <tr>\n",
       "      <th>...</th>\n",
       "      <td>...</td>\n",
       "      <td>...</td>\n",
       "      <td>...</td>\n",
       "    </tr>\n",
       "    <tr>\n",
       "      <th>33</th>\n",
       "      <td>UserStory #60</td>\n",
       "      <td>4</td>\n",
       "      <td>Francisco Hoppe</td>\n",
       "    </tr>\n",
       "    <tr>\n",
       "      <th>34</th>\n",
       "      <td>UserStory #62</td>\n",
       "      <td>1</td>\n",
       "      <td>Bruno Studley</td>\n",
       "    </tr>\n",
       "    <tr>\n",
       "      <th>35</th>\n",
       "      <td>UserStory #62</td>\n",
       "      <td>5</td>\n",
       "      <td>Anton Easterday</td>\n",
       "    </tr>\n",
       "    <tr>\n",
       "      <th>36</th>\n",
       "      <td>UserStory #63</td>\n",
       "      <td>8</td>\n",
       "      <td>Anton Easterday</td>\n",
       "    </tr>\n",
       "    <tr>\n",
       "      <th>37</th>\n",
       "      <td>UserStory #63</td>\n",
       "      <td>9</td>\n",
       "      <td>Bruno Studley</td>\n",
       "    </tr>\n",
       "    <tr>\n",
       "      <th>38</th>\n",
       "      <td>UserStory #63</td>\n",
       "      <td>12</td>\n",
       "      <td>Beau Hockensmith</td>\n",
       "    </tr>\n",
       "    <tr>\n",
       "      <th>39</th>\n",
       "      <td>UserStory #65</td>\n",
       "      <td>1</td>\n",
       "      <td>Craig Garlitz</td>\n",
       "    </tr>\n",
       "    <tr>\n",
       "      <th>40</th>\n",
       "      <td>UserStory #65</td>\n",
       "      <td>5</td>\n",
       "      <td>Anton Easterday</td>\n",
       "    </tr>\n",
       "    <tr>\n",
       "      <th>41</th>\n",
       "      <td>UserStory #65</td>\n",
       "      <td>8</td>\n",
       "      <td>Beau Hockensmith</td>\n",
       "    </tr>\n",
       "    <tr>\n",
       "      <th>42</th>\n",
       "      <td>UserStory #67</td>\n",
       "      <td>1</td>\n",
       "      <td>Beau Hockensmith</td>\n",
       "    </tr>\n",
       "    <tr>\n",
       "      <th>43</th>\n",
       "      <td>UserStory #67</td>\n",
       "      <td>4</td>\n",
       "      <td>Anton Easterday</td>\n",
       "    </tr>\n",
       "    <tr>\n",
       "      <th>44</th>\n",
       "      <td>UserStory #70</td>\n",
       "      <td>1</td>\n",
       "      <td>Beau Hockensmith</td>\n",
       "    </tr>\n",
       "    <tr>\n",
       "      <th>45</th>\n",
       "      <td>UserStory #70</td>\n",
       "      <td>1</td>\n",
       "      <td>Glenna Mcghie</td>\n",
       "    </tr>\n",
       "    <tr>\n",
       "      <th>46</th>\n",
       "      <td>UserStory #70</td>\n",
       "      <td>8</td>\n",
       "      <td>Beau Hockensmith</td>\n",
       "    </tr>\n",
       "    <tr>\n",
       "      <th>47</th>\n",
       "      <td>UserStory #70</td>\n",
       "      <td>9</td>\n",
       "      <td>Francisco Hoppe</td>\n",
       "    </tr>\n",
       "    <tr>\n",
       "      <th>48</th>\n",
       "      <td>UserStory #72</td>\n",
       "      <td>1</td>\n",
       "      <td>Gregorio Darr</td>\n",
       "    </tr>\n",
       "    <tr>\n",
       "      <th>49</th>\n",
       "      <td>UserStory #72</td>\n",
       "      <td>7</td>\n",
       "      <td>Anton Easterday</td>\n",
       "    </tr>\n",
       "    <tr>\n",
       "      <th>50</th>\n",
       "      <td>UserStory #73</td>\n",
       "      <td>10</td>\n",
       "      <td>Gregorio Darr</td>\n",
       "    </tr>\n",
       "    <tr>\n",
       "      <th>51</th>\n",
       "      <td>UserStory #73</td>\n",
       "      <td>13</td>\n",
       "      <td>Glenna Mcghie</td>\n",
       "    </tr>\n",
       "    <tr>\n",
       "      <th>52</th>\n",
       "      <td>UserStory #73</td>\n",
       "      <td>14</td>\n",
       "      <td>Anton Easterday</td>\n",
       "    </tr>\n",
       "    <tr>\n",
       "      <th>53</th>\n",
       "      <td>UserStory #74</td>\n",
       "      <td>7</td>\n",
       "      <td>Heriberto Martini</td>\n",
       "    </tr>\n",
       "    <tr>\n",
       "      <th>54</th>\n",
       "      <td>UserStory #74</td>\n",
       "      <td>10</td>\n",
       "      <td>Glenna Mcghie</td>\n",
       "    </tr>\n",
       "    <tr>\n",
       "      <th>55</th>\n",
       "      <td>UserStory #75</td>\n",
       "      <td>2</td>\n",
       "      <td>Beau Hockensmith</td>\n",
       "    </tr>\n",
       "    <tr>\n",
       "      <th>56</th>\n",
       "      <td>UserStory #75</td>\n",
       "      <td>5</td>\n",
       "      <td>Francisco Hoppe</td>\n",
       "    </tr>\n",
       "    <tr>\n",
       "      <th>57</th>\n",
       "      <td>UserStory #78</td>\n",
       "      <td>5</td>\n",
       "      <td>Bruno Studley</td>\n",
       "    </tr>\n",
       "    <tr>\n",
       "      <th>58</th>\n",
       "      <td>UserStory #78</td>\n",
       "      <td>8</td>\n",
       "      <td>Beau Hockensmith</td>\n",
       "    </tr>\n",
       "    <tr>\n",
       "      <th>59</th>\n",
       "      <td>UserStory #78</td>\n",
       "      <td>11</td>\n",
       "      <td>Anton Easterday</td>\n",
       "    </tr>\n",
       "    <tr>\n",
       "      <th>60</th>\n",
       "      <td>UserStory #79</td>\n",
       "      <td>1</td>\n",
       "      <td>Gregorio Darr</td>\n",
       "    </tr>\n",
       "    <tr>\n",
       "      <th>61</th>\n",
       "      <td>UserStory #79</td>\n",
       "      <td>6</td>\n",
       "      <td>Heriberto Martini</td>\n",
       "    </tr>\n",
       "    <tr>\n",
       "      <th>62</th>\n",
       "      <td>UserStory #79</td>\n",
       "      <td>9</td>\n",
       "      <td>Anton Easterday</td>\n",
       "    </tr>\n",
       "  </tbody>\n",
       "</table>\n",
       "<p>63 rows × 3 columns</p>\n",
       "</div>"
      ],
      "text/plain": [
       "    User Story Id  Assigned on Sprint Assigned to Developer\n",
       "0    UserStory #1                   9       Anton Easterday\n",
       "1    UserStory #1                  10     Heriberto Martini\n",
       "2    UserStory #4                   7      Beau Hockensmith\n",
       "3    UserStory #4                   8     Heriberto Martini\n",
       "4    UserStory #5                   4       Anton Easterday\n",
       "5    UserStory #5                   5     Heriberto Martini\n",
       "6    UserStory #7                  11      Beau Hockensmith\n",
       "7    UserStory #7                  12       Anton Easterday\n",
       "8    UserStory #7                  13       Francisco Hoppe\n",
       "9   UserStory #20                   6       Anton Easterday\n",
       "10  UserStory #20                   7         Craig Garlitz\n",
       "11  UserStory #22                   1       Anton Easterday\n",
       "12  UserStory #22                   2         Gregorio Darr\n",
       "13  UserStory #28                   1       Anton Easterday\n",
       "14  UserStory #28                   1       Francisco Hoppe\n",
       "15  UserStory #36                   2         Craig Garlitz\n",
       "16  UserStory #36                   5       Anton Easterday\n",
       "17  UserStory #39                   4      Beau Hockensmith\n",
       "18  UserStory #39                   7     Heriberto Martini\n",
       "19  UserStory #40                   8         Glenna Mcghie\n",
       "20  UserStory #40                  12      Beau Hockensmith\n",
       "21  UserStory #40                  13         Glenna Mcghie\n",
       "22  UserStory #48                   2         Gregorio Darr\n",
       "23  UserStory #48                   6         Craig Garlitz\n",
       "24  UserStory #49                   7       Anton Easterday\n",
       "25  UserStory #49                   8       Francisco Hoppe\n",
       "26  UserStory #51                  10       Anton Easterday\n",
       "27  UserStory #51                  11     Heriberto Martini\n",
       "28  UserStory #53                   7         Gregorio Darr\n",
       "29  UserStory #53                  10       Anton Easterday\n",
       "..            ...                 ...                   ...\n",
       "33  UserStory #60                   4       Francisco Hoppe\n",
       "34  UserStory #62                   1         Bruno Studley\n",
       "35  UserStory #62                   5       Anton Easterday\n",
       "36  UserStory #63                   8       Anton Easterday\n",
       "37  UserStory #63                   9         Bruno Studley\n",
       "38  UserStory #63                  12      Beau Hockensmith\n",
       "39  UserStory #65                   1         Craig Garlitz\n",
       "40  UserStory #65                   5       Anton Easterday\n",
       "41  UserStory #65                   8      Beau Hockensmith\n",
       "42  UserStory #67                   1      Beau Hockensmith\n",
       "43  UserStory #67                   4       Anton Easterday\n",
       "44  UserStory #70                   1      Beau Hockensmith\n",
       "45  UserStory #70                   1         Glenna Mcghie\n",
       "46  UserStory #70                   8      Beau Hockensmith\n",
       "47  UserStory #70                   9       Francisco Hoppe\n",
       "48  UserStory #72                   1         Gregorio Darr\n",
       "49  UserStory #72                   7       Anton Easterday\n",
       "50  UserStory #73                  10         Gregorio Darr\n",
       "51  UserStory #73                  13         Glenna Mcghie\n",
       "52  UserStory #73                  14       Anton Easterday\n",
       "53  UserStory #74                   7     Heriberto Martini\n",
       "54  UserStory #74                  10         Glenna Mcghie\n",
       "55  UserStory #75                   2      Beau Hockensmith\n",
       "56  UserStory #75                   5       Francisco Hoppe\n",
       "57  UserStory #78                   5         Bruno Studley\n",
       "58  UserStory #78                   8      Beau Hockensmith\n",
       "59  UserStory #78                  11       Anton Easterday\n",
       "60  UserStory #79                   1         Gregorio Darr\n",
       "61  UserStory #79                   6     Heriberto Martini\n",
       "62  UserStory #79                   9       Anton Easterday\n",
       "\n",
       "[63 rows x 3 columns]"
      ]
     },
     "execution_count": 29,
     "metadata": {},
     "output_type": "execute_result"
    }
   ],
   "source": [
    "test_workStealing_ACTUAL['works_stolen']"
   ]
  },
  {
   "cell_type": "code",
   "execution_count": null,
   "metadata": {},
   "outputs": [],
   "source": [
    "test_workStealing_EXPECTED['works_stolen']"
   ]
  },
  {
   "cell_type": "code",
   "execution_count": null,
   "metadata": {},
   "outputs": [],
   "source": []
  },
  {
   "cell_type": "code",
   "execution_count": 18,
   "metadata": {},
   "outputs": [
    {
     "data": {
      "text/plain": [
       "(Int64Index([2, 24, 18, 14], dtype='int64'),\n",
       " RangeIndex(start=0, stop=4, step=1))"
      ]
     },
     "execution_count": 18,
     "metadata": {},
     "output_type": "execute_result"
    }
   ],
   "source": [
    "a = test_workStealing_ACTUAL['userStory1_work_stolen_explanation']\n",
    "e = test_workStealing_EXPECTED['userStory1_work_stolen_explanation']\n",
    "a.index, e.index"
   ]
  },
  {
   "cell_type": "code",
   "execution_count": null,
   "metadata": {},
   "outputs": [],
   "source": []
  },
  {
   "cell_type": "code",
   "execution_count": null,
   "metadata": {},
   "outputs": [],
   "source": []
  },
  {
   "cell_type": "code",
   "execution_count": 23,
   "metadata": {},
   "outputs": [
    {
     "data": {
      "text/html": [
       "<div>\n",
       "<style scoped>\n",
       "    .dataframe tbody tr th:only-of-type {\n",
       "        vertical-align: middle;\n",
       "    }\n",
       "\n",
       "    .dataframe tbody tr th {\n",
       "        vertical-align: top;\n",
       "    }\n",
       "\n",
       "    .dataframe thead th {\n",
       "        text-align: right;\n",
       "    }\n",
       "</style>\n",
       "<table border=\"1\" class=\"dataframe\">\n",
       "  <thead>\n",
       "    <tr style=\"text-align: right;\">\n",
       "      <th></th>\n",
       "      <th>Sprint</th>\n",
       "      <th>Owner</th>\n",
       "      <th>Task Type</th>\n",
       "      <th>Task Description</th>\n",
       "      <th>User Story Id</th>\n",
       "      <th>Planned for Sprint</th>\n",
       "      <th>Most Recently Assigned in Sprint</th>\n",
       "      <th>Delivered in Sprint</th>\n",
       "      <th>Original Estimate</th>\n",
       "      <th>Bucket</th>\n",
       "      <th>Effort Spent</th>\n",
       "      <th>Effort Remaining</th>\n",
       "      <th>Percent Achieved</th>\n",
       "      <th>Global Estimate</th>\n",
       "      <th>% Global Done</th>\n",
       "    </tr>\n",
       "  </thead>\n",
       "  <tbody>\n",
       "    <tr>\n",
       "      <th>2</th>\n",
       "      <td>9</td>\n",
       "      <td>Anton Easterday</td>\n",
       "      <td>UNFINISHED_STORIES</td>\n",
       "      <td>Story implementation</td>\n",
       "      <td>UserStory #1</td>\n",
       "      <td>9.0</td>\n",
       "      <td>9.0</td>\n",
       "      <td>NOT_SET</td>\n",
       "      <td>10.0</td>\n",
       "      <td>NEXT_SPRINT</td>\n",
       "      <td>0.0</td>\n",
       "      <td>10.0</td>\n",
       "      <td>0.000000</td>\n",
       "      <td>10.0</td>\n",
       "      <td>0.00</td>\n",
       "    </tr>\n",
       "    <tr>\n",
       "      <th>24</th>\n",
       "      <td>10</td>\n",
       "      <td>Heriberto Martini</td>\n",
       "      <td>UNFINISHED_STORIES</td>\n",
       "      <td>Story implementation</td>\n",
       "      <td>UserStory #1</td>\n",
       "      <td>9.0</td>\n",
       "      <td>10.0</td>\n",
       "      <td>NOT_SET</td>\n",
       "      <td>10.0</td>\n",
       "      <td>CURRENT_SPRINT</td>\n",
       "      <td>5.8</td>\n",
       "      <td>7.1</td>\n",
       "      <td>0.290000</td>\n",
       "      <td>10.0</td>\n",
       "      <td>0.29</td>\n",
       "    </tr>\n",
       "    <tr>\n",
       "      <th>18</th>\n",
       "      <td>11</td>\n",
       "      <td>Heriberto Martini</td>\n",
       "      <td>UNFINISHED_STORIES</td>\n",
       "      <td>Story implementation</td>\n",
       "      <td>UserStory #1</td>\n",
       "      <td>9.0</td>\n",
       "      <td>10.0</td>\n",
       "      <td>NOT_SET</td>\n",
       "      <td>7.1</td>\n",
       "      <td>CURRENT_SPRINT</td>\n",
       "      <td>10.0</td>\n",
       "      <td>2.1</td>\n",
       "      <td>0.704225</td>\n",
       "      <td>10.0</td>\n",
       "      <td>0.79</td>\n",
       "    </tr>\n",
       "    <tr>\n",
       "      <th>14</th>\n",
       "      <td>12</td>\n",
       "      <td>Heriberto Martini</td>\n",
       "      <td>UNFINISHED_STORIES</td>\n",
       "      <td>Story implementation</td>\n",
       "      <td>UserStory #1</td>\n",
       "      <td>9.0</td>\n",
       "      <td>10.0</td>\n",
       "      <td>12</td>\n",
       "      <td>2.1</td>\n",
       "      <td>CURRENT_SPRINT</td>\n",
       "      <td>4.2</td>\n",
       "      <td>0.0</td>\n",
       "      <td>1.000000</td>\n",
       "      <td>10.0</td>\n",
       "      <td>1.00</td>\n",
       "    </tr>\n",
       "  </tbody>\n",
       "</table>\n",
       "</div>"
      ],
      "text/plain": [
       "    Sprint              Owner           Task Type      Task Description  \\\n",
       "2        9    Anton Easterday  UNFINISHED_STORIES  Story implementation   \n",
       "24      10  Heriberto Martini  UNFINISHED_STORIES  Story implementation   \n",
       "18      11  Heriberto Martini  UNFINISHED_STORIES  Story implementation   \n",
       "14      12  Heriberto Martini  UNFINISHED_STORIES  Story implementation   \n",
       "\n",
       "   User Story Id  Planned for Sprint  Most Recently Assigned in Sprint  \\\n",
       "2   UserStory #1                 9.0                               9.0   \n",
       "24  UserStory #1                 9.0                              10.0   \n",
       "18  UserStory #1                 9.0                              10.0   \n",
       "14  UserStory #1                 9.0                              10.0   \n",
       "\n",
       "   Delivered in Sprint  Original Estimate          Bucket  Effort Spent  \\\n",
       "2              NOT_SET               10.0     NEXT_SPRINT           0.0   \n",
       "24             NOT_SET               10.0  CURRENT_SPRINT           5.8   \n",
       "18             NOT_SET                7.1  CURRENT_SPRINT          10.0   \n",
       "14                  12                2.1  CURRENT_SPRINT           4.2   \n",
       "\n",
       "    Effort Remaining  Percent Achieved  Global Estimate  % Global Done  \n",
       "2               10.0          0.000000             10.0           0.00  \n",
       "24               7.1          0.290000             10.0           0.29  \n",
       "18               2.1          0.704225             10.0           0.79  \n",
       "14               0.0          1.000000             10.0           1.00  "
      ]
     },
     "execution_count": 23,
     "metadata": {},
     "output_type": "execute_result"
    }
   ],
   "source": [
    "test_workStealing_ACTUAL['userStory1_work_stolen_explanation']"
   ]
  },
  {
   "cell_type": "code",
   "execution_count": 24,
   "metadata": {},
   "outputs": [
    {
     "data": {
      "text/html": [
       "<div>\n",
       "<style scoped>\n",
       "    .dataframe tbody tr th:only-of-type {\n",
       "        vertical-align: middle;\n",
       "    }\n",
       "\n",
       "    .dataframe tbody tr th {\n",
       "        vertical-align: top;\n",
       "    }\n",
       "\n",
       "    .dataframe thead th {\n",
       "        text-align: right;\n",
       "    }\n",
       "</style>\n",
       "<table border=\"1\" class=\"dataframe\">\n",
       "  <thead>\n",
       "    <tr style=\"text-align: right;\">\n",
       "      <th></th>\n",
       "      <th>Sprint</th>\n",
       "      <th>Owner</th>\n",
       "      <th>Task Type</th>\n",
       "      <th>Task Description</th>\n",
       "      <th>User Story Id</th>\n",
       "      <th>Planned for Sprint</th>\n",
       "      <th>Most Recently Assigned in Sprint</th>\n",
       "      <th>Delivered in Sprint</th>\n",
       "      <th>Original Estimate</th>\n",
       "      <th>Bucket</th>\n",
       "      <th>Effort Spent</th>\n",
       "      <th>Effort Remaining</th>\n",
       "      <th>Percent Achieved</th>\n",
       "      <th>Global Estimate</th>\n",
       "      <th>% Global Done</th>\n",
       "    </tr>\n",
       "  </thead>\n",
       "  <tbody>\n",
       "    <tr>\n",
       "      <th>2</th>\n",
       "      <td>9</td>\n",
       "      <td>Anton Easterday</td>\n",
       "      <td>UNFINISHED_STORIES</td>\n",
       "      <td>Story implementation</td>\n",
       "      <td>UserStory #1</td>\n",
       "      <td>9.0</td>\n",
       "      <td>9.0</td>\n",
       "      <td>NOT_SET</td>\n",
       "      <td>10.0</td>\n",
       "      <td>NEXT_SPRINT</td>\n",
       "      <td>0.0</td>\n",
       "      <td>10.0</td>\n",
       "      <td>0.000000</td>\n",
       "      <td>10.0</td>\n",
       "      <td>0.00</td>\n",
       "    </tr>\n",
       "    <tr>\n",
       "      <th>24</th>\n",
       "      <td>10</td>\n",
       "      <td>Heriberto Martini</td>\n",
       "      <td>UNFINISHED_STORIES</td>\n",
       "      <td>Story implementation</td>\n",
       "      <td>UserStory #1</td>\n",
       "      <td>9.0</td>\n",
       "      <td>10.0</td>\n",
       "      <td>NOT_SET</td>\n",
       "      <td>10.0</td>\n",
       "      <td>CURRENT_SPRINT</td>\n",
       "      <td>5.8</td>\n",
       "      <td>7.1</td>\n",
       "      <td>0.290000</td>\n",
       "      <td>10.0</td>\n",
       "      <td>0.29</td>\n",
       "    </tr>\n",
       "    <tr>\n",
       "      <th>18</th>\n",
       "      <td>11</td>\n",
       "      <td>Heriberto Martini</td>\n",
       "      <td>UNFINISHED_STORIES</td>\n",
       "      <td>Story implementation</td>\n",
       "      <td>UserStory #1</td>\n",
       "      <td>9.0</td>\n",
       "      <td>10.0</td>\n",
       "      <td>NOT_SET</td>\n",
       "      <td>7.1</td>\n",
       "      <td>CURRENT_SPRINT</td>\n",
       "      <td>10.0</td>\n",
       "      <td>2.1</td>\n",
       "      <td>0.704225</td>\n",
       "      <td>10.0</td>\n",
       "      <td>0.79</td>\n",
       "    </tr>\n",
       "    <tr>\n",
       "      <th>14</th>\n",
       "      <td>12</td>\n",
       "      <td>Heriberto Martini</td>\n",
       "      <td>UNFINISHED_STORIES</td>\n",
       "      <td>Story implementation</td>\n",
       "      <td>UserStory #1</td>\n",
       "      <td>9.0</td>\n",
       "      <td>10.0</td>\n",
       "      <td>12</td>\n",
       "      <td>2.1</td>\n",
       "      <td>CURRENT_SPRINT</td>\n",
       "      <td>4.2</td>\n",
       "      <td>0.0</td>\n",
       "      <td>1.000000</td>\n",
       "      <td>10.0</td>\n",
       "      <td>1.00</td>\n",
       "    </tr>\n",
       "  </tbody>\n",
       "</table>\n",
       "</div>"
      ],
      "text/plain": [
       "    Sprint              Owner           Task Type      Task Description  \\\n",
       "2        9    Anton Easterday  UNFINISHED_STORIES  Story implementation   \n",
       "24      10  Heriberto Martini  UNFINISHED_STORIES  Story implementation   \n",
       "18      11  Heriberto Martini  UNFINISHED_STORIES  Story implementation   \n",
       "14      12  Heriberto Martini  UNFINISHED_STORIES  Story implementation   \n",
       "\n",
       "   User Story Id  Planned for Sprint  Most Recently Assigned in Sprint  \\\n",
       "2   UserStory #1                 9.0                               9.0   \n",
       "24  UserStory #1                 9.0                              10.0   \n",
       "18  UserStory #1                 9.0                              10.0   \n",
       "14  UserStory #1                 9.0                              10.0   \n",
       "\n",
       "   Delivered in Sprint  Original Estimate          Bucket  Effort Spent  \\\n",
       "2              NOT_SET               10.0     NEXT_SPRINT           0.0   \n",
       "24             NOT_SET               10.0  CURRENT_SPRINT           5.8   \n",
       "18             NOT_SET                7.1  CURRENT_SPRINT          10.0   \n",
       "14                  12                2.1  CURRENT_SPRINT           4.2   \n",
       "\n",
       "    Effort Remaining  Percent Achieved  Global Estimate  % Global Done  \n",
       "2               10.0          0.000000             10.0           0.00  \n",
       "24               7.1          0.290000             10.0           0.29  \n",
       "18               2.1          0.704225             10.0           0.79  \n",
       "14               0.0          1.000000             10.0           1.00  "
      ]
     },
     "execution_count": 24,
     "metadata": {},
     "output_type": "execute_result"
    }
   ],
   "source": [
    "test_workStealing_EXPECTED['userStory1_work_stolen_explanation']"
   ]
  },
  {
   "cell_type": "code",
   "execution_count": 25,
   "metadata": {},
   "outputs": [
    {
     "data": {
      "text/html": [
       "<div>\n",
       "<style scoped>\n",
       "    .dataframe tbody tr th:only-of-type {\n",
       "        vertical-align: middle;\n",
       "    }\n",
       "\n",
       "    .dataframe tbody tr th {\n",
       "        vertical-align: top;\n",
       "    }\n",
       "\n",
       "    .dataframe thead th {\n",
       "        text-align: right;\n",
       "    }\n",
       "</style>\n",
       "<table border=\"1\" class=\"dataframe\">\n",
       "  <thead>\n",
       "    <tr style=\"text-align: right;\">\n",
       "      <th></th>\n",
       "      <th>Sprint</th>\n",
       "      <th>Owner</th>\n",
       "      <th>Task Type</th>\n",
       "      <th>Task Description</th>\n",
       "      <th>User Story Id</th>\n",
       "      <th>Planned for Sprint</th>\n",
       "      <th>Most Recently Assigned in Sprint</th>\n",
       "      <th>Delivered in Sprint</th>\n",
       "      <th>Original Estimate</th>\n",
       "      <th>Bucket</th>\n",
       "      <th>Effort Spent</th>\n",
       "      <th>Effort Remaining</th>\n",
       "      <th>Percent Achieved</th>\n",
       "      <th>Global Estimate</th>\n",
       "      <th>% Global Done</th>\n",
       "    </tr>\n",
       "  </thead>\n",
       "  <tbody>\n",
       "    <tr>\n",
       "      <th>18</th>\n",
       "      <td>1</td>\n",
       "      <td>Glenna Mcghie</td>\n",
       "      <td>UNFINISHED_STORIES</td>\n",
       "      <td>Story implementation</td>\n",
       "      <td>UserStory #70</td>\n",
       "      <td>1.0</td>\n",
       "      <td>1.0</td>\n",
       "      <td>NOT_SET</td>\n",
       "      <td>5.000000</td>\n",
       "      <td>CURRENT_SPRINT</td>\n",
       "      <td>0.000000</td>\n",
       "      <td>5.000000</td>\n",
       "      <td>0.000000</td>\n",
       "      <td>5.0</td>\n",
       "      <td>0.000000</td>\n",
       "    </tr>\n",
       "    <tr>\n",
       "      <th>21</th>\n",
       "      <td>7</td>\n",
       "      <td>Glenna Mcghie</td>\n",
       "      <td>UNFINISHED_STORIES</td>\n",
       "      <td>Story implementation</td>\n",
       "      <td>UserStory #70</td>\n",
       "      <td>1.0</td>\n",
       "      <td>1.0</td>\n",
       "      <td>NOT_SET</td>\n",
       "      <td>5.000000</td>\n",
       "      <td>CURRENT_SPRINT</td>\n",
       "      <td>0.000000</td>\n",
       "      <td>5.000000</td>\n",
       "      <td>0.000000</td>\n",
       "      <td>5.0</td>\n",
       "      <td>0.000000</td>\n",
       "    </tr>\n",
       "    <tr>\n",
       "      <th>7</th>\n",
       "      <td>8</td>\n",
       "      <td>Beau Hockensmith</td>\n",
       "      <td>UNFINISHED_STORIES</td>\n",
       "      <td>Story implementation</td>\n",
       "      <td>UserStory #70</td>\n",
       "      <td>1.0</td>\n",
       "      <td>8.0</td>\n",
       "      <td>NOT_SET</td>\n",
       "      <td>5.000000</td>\n",
       "      <td>CURRENT_SPRINT</td>\n",
       "      <td>0.000000</td>\n",
       "      <td>5.000000</td>\n",
       "      <td>0.000000</td>\n",
       "      <td>5.0</td>\n",
       "      <td>0.000000</td>\n",
       "    </tr>\n",
       "    <tr>\n",
       "      <th>7</th>\n",
       "      <td>8</td>\n",
       "      <td>Beau Hockensmith</td>\n",
       "      <td>UNFINISHED_STORIES</td>\n",
       "      <td>Story implementation</td>\n",
       "      <td>UserStory #70</td>\n",
       "      <td>1.0</td>\n",
       "      <td>8.0</td>\n",
       "      <td>NOT_SET</td>\n",
       "      <td>5.000000</td>\n",
       "      <td>CURRENT_SPRINT</td>\n",
       "      <td>0.000000</td>\n",
       "      <td>5.000000</td>\n",
       "      <td>0.000000</td>\n",
       "      <td>5.0</td>\n",
       "      <td>0.000000</td>\n",
       "    </tr>\n",
       "    <tr>\n",
       "      <th>15</th>\n",
       "      <td>9</td>\n",
       "      <td>Francisco Hoppe</td>\n",
       "      <td>UNFINISHED_STORIES</td>\n",
       "      <td>Story implementation</td>\n",
       "      <td>UserStory #70</td>\n",
       "      <td>1.0</td>\n",
       "      <td>9.0</td>\n",
       "      <td>NOT_SET</td>\n",
       "      <td>5.000000</td>\n",
       "      <td>CURRENT_SPRINT</td>\n",
       "      <td>1.366667</td>\n",
       "      <td>3.633333</td>\n",
       "      <td>0.273333</td>\n",
       "      <td>5.0</td>\n",
       "      <td>0.273333</td>\n",
       "    </tr>\n",
       "    <tr>\n",
       "      <th>12</th>\n",
       "      <td>10</td>\n",
       "      <td>Francisco Hoppe</td>\n",
       "      <td>UNFINISHED_STORIES</td>\n",
       "      <td>Story implementation</td>\n",
       "      <td>UserStory #70</td>\n",
       "      <td>1.0</td>\n",
       "      <td>9.0</td>\n",
       "      <td>10</td>\n",
       "      <td>3.633333</td>\n",
       "      <td>CURRENT_SPRINT</td>\n",
       "      <td>3.633333</td>\n",
       "      <td>0.000000</td>\n",
       "      <td>1.000000</td>\n",
       "      <td>5.0</td>\n",
       "      <td>1.000000</td>\n",
       "    </tr>\n",
       "    <tr>\n",
       "      <th>5</th>\n",
       "      <td>13</td>\n",
       "      <td>Francisco Hoppe</td>\n",
       "      <td>DEV_TIME_BUGS</td>\n",
       "      <td>Ticket #27</td>\n",
       "      <td>UserStory #70</td>\n",
       "      <td>13.0</td>\n",
       "      <td>13.0</td>\n",
       "      <td>13</td>\n",
       "      <td>1.000000</td>\n",
       "      <td>CURRENT_SPRINT</td>\n",
       "      <td>1.000000</td>\n",
       "      <td>0.000000</td>\n",
       "      <td>1.000000</td>\n",
       "      <td>1.0</td>\n",
       "      <td>1.000000</td>\n",
       "    </tr>\n",
       "  </tbody>\n",
       "</table>\n",
       "</div>"
      ],
      "text/plain": [
       "    Sprint             Owner           Task Type      Task Description  \\\n",
       "18       1     Glenna Mcghie  UNFINISHED_STORIES  Story implementation   \n",
       "21       7     Glenna Mcghie  UNFINISHED_STORIES  Story implementation   \n",
       "7        8  Beau Hockensmith  UNFINISHED_STORIES  Story implementation   \n",
       "7        8  Beau Hockensmith  UNFINISHED_STORIES  Story implementation   \n",
       "15       9   Francisco Hoppe  UNFINISHED_STORIES  Story implementation   \n",
       "12      10   Francisco Hoppe  UNFINISHED_STORIES  Story implementation   \n",
       "5       13   Francisco Hoppe       DEV_TIME_BUGS            Ticket #27   \n",
       "\n",
       "    User Story Id  Planned for Sprint  Most Recently Assigned in Sprint  \\\n",
       "18  UserStory #70                 1.0                               1.0   \n",
       "21  UserStory #70                 1.0                               1.0   \n",
       "7   UserStory #70                 1.0                               8.0   \n",
       "7   UserStory #70                 1.0                               8.0   \n",
       "15  UserStory #70                 1.0                               9.0   \n",
       "12  UserStory #70                 1.0                               9.0   \n",
       "5   UserStory #70                13.0                              13.0   \n",
       "\n",
       "   Delivered in Sprint  Original Estimate          Bucket  Effort Spent  \\\n",
       "18             NOT_SET           5.000000  CURRENT_SPRINT      0.000000   \n",
       "21             NOT_SET           5.000000  CURRENT_SPRINT      0.000000   \n",
       "7              NOT_SET           5.000000  CURRENT_SPRINT      0.000000   \n",
       "7              NOT_SET           5.000000  CURRENT_SPRINT      0.000000   \n",
       "15             NOT_SET           5.000000  CURRENT_SPRINT      1.366667   \n",
       "12                  10           3.633333  CURRENT_SPRINT      3.633333   \n",
       "5                   13           1.000000  CURRENT_SPRINT      1.000000   \n",
       "\n",
       "    Effort Remaining  Percent Achieved  Global Estimate  % Global Done  \n",
       "18          5.000000          0.000000              5.0       0.000000  \n",
       "21          5.000000          0.000000              5.0       0.000000  \n",
       "7           5.000000          0.000000              5.0       0.000000  \n",
       "7           5.000000          0.000000              5.0       0.000000  \n",
       "15          3.633333          0.273333              5.0       0.273333  \n",
       "12          0.000000          1.000000              5.0       1.000000  \n",
       "5           0.000000          1.000000              1.0       1.000000  "
      ]
     },
     "execution_count": 25,
     "metadata": {},
     "output_type": "execute_result"
    }
   ],
   "source": [
    "test_workStealing_ACTUAL['userStory70_work_stolen_explanation']"
   ]
  },
  {
   "cell_type": "code",
   "execution_count": null,
   "metadata": {},
   "outputs": [],
   "source": [
    "test_workStealing_EXPECTED['userStory70_work_stolen_explanation']"
   ]
  },
  {
   "cell_type": "code",
   "execution_count": 26,
   "metadata": {},
   "outputs": [
    {
     "data": {
      "text/html": [
       "<div>\n",
       "<style scoped>\n",
       "    .dataframe tbody tr th:only-of-type {\n",
       "        vertical-align: middle;\n",
       "    }\n",
       "\n",
       "    .dataframe tbody tr th {\n",
       "        vertical-align: top;\n",
       "    }\n",
       "\n",
       "    .dataframe thead th {\n",
       "        text-align: right;\n",
       "    }\n",
       "</style>\n",
       "<table border=\"1\" class=\"dataframe\">\n",
       "  <thead>\n",
       "    <tr style=\"text-align: right;\">\n",
       "      <th></th>\n",
       "      <th>Owner</th>\n",
       "      <th>Task Type</th>\n",
       "      <th>Task Description</th>\n",
       "      <th>User Story Id</th>\n",
       "      <th>Planned for Sprint</th>\n",
       "      <th>Most Recently Assigned in Sprint</th>\n",
       "      <th>Delivered in Sprint</th>\n",
       "      <th>Original Estimate</th>\n",
       "      <th>Bucket</th>\n",
       "      <th>Effort Spent</th>\n",
       "      <th>Effort Remaining</th>\n",
       "      <th>Percent Achieved</th>\n",
       "      <th>Global Estimate</th>\n",
       "      <th>% Global Done</th>\n",
       "      <th>Sprint</th>\n",
       "    </tr>\n",
       "  </thead>\n",
       "  <tbody>\n",
       "    <tr>\n",
       "      <th>13</th>\n",
       "      <td>Gregorio Darr</td>\n",
       "      <td>UNFINISHED_STORIES</td>\n",
       "      <td>Story implementation</td>\n",
       "      <td>UserStory #73</td>\n",
       "      <td>10</td>\n",
       "      <td>10</td>\n",
       "      <td>NOT_SET</td>\n",
       "      <td>3.666667</td>\n",
       "      <td>CURRENT_SPRINT</td>\n",
       "      <td>0.0</td>\n",
       "      <td>3.666667</td>\n",
       "      <td>0.0</td>\n",
       "      <td>7</td>\n",
       "      <td>0.47619</td>\n",
       "      <td>12</td>\n",
       "    </tr>\n",
       "  </tbody>\n",
       "</table>\n",
       "</div>"
      ],
      "text/plain": [
       "            Owner           Task Type      Task Description  User Story Id  \\\n",
       "13  Gregorio Darr  UNFINISHED_STORIES  Story implementation  UserStory #73   \n",
       "\n",
       "    Planned for Sprint  Most Recently Assigned in Sprint Delivered in Sprint  \\\n",
       "13                  10                                10             NOT_SET   \n",
       "\n",
       "    Original Estimate          Bucket  Effort Spent  Effort Remaining  \\\n",
       "13           3.666667  CURRENT_SPRINT           0.0          3.666667   \n",
       "\n",
       "    Percent Achieved  Global Estimate  % Global Done  Sprint  \n",
       "13               0.0                7        0.47619      12  "
      ]
     },
     "execution_count": 26,
     "metadata": {},
     "output_type": "execute_result"
    }
   ],
   "source": [
    "test_workStealing_ACTUAL['laggard_candidates_to_steal_sprint13']"
   ]
  },
  {
   "cell_type": "code",
   "execution_count": null,
   "metadata": {},
   "outputs": [],
   "source": [
    "test_workStealing_EXPECTED['laggard_candidates_to_steal_sprint13']"
   ]
  },
  {
   "cell_type": "code",
   "execution_count": 27,
   "metadata": {},
   "outputs": [
    {
     "data": {
      "text/html": [
       "<div>\n",
       "<style scoped>\n",
       "    .dataframe tbody tr th:only-of-type {\n",
       "        vertical-align: middle;\n",
       "    }\n",
       "\n",
       "    .dataframe tbody tr th {\n",
       "        vertical-align: top;\n",
       "    }\n",
       "\n",
       "    .dataframe thead th {\n",
       "        text-align: right;\n",
       "    }\n",
       "</style>\n",
       "<table border=\"1\" class=\"dataframe\">\n",
       "  <thead>\n",
       "    <tr style=\"text-align: right;\">\n",
       "      <th></th>\n",
       "      <th>Owner</th>\n",
       "      <th>Task Type</th>\n",
       "      <th>Task Description</th>\n",
       "      <th>User Story Id</th>\n",
       "      <th>Planned for Sprint</th>\n",
       "      <th>Most Recently Assigned in Sprint</th>\n",
       "      <th>Delivered in Sprint</th>\n",
       "      <th>Original Estimate</th>\n",
       "      <th>Bucket</th>\n",
       "      <th>Effort Spent</th>\n",
       "      <th>Effort Remaining</th>\n",
       "      <th>Percent Achieved</th>\n",
       "      <th>Global Estimate</th>\n",
       "      <th>% Global Done</th>\n",
       "      <th>Sprint</th>\n",
       "    </tr>\n",
       "  </thead>\n",
       "  <tbody>\n",
       "    <tr>\n",
       "      <th>0</th>\n",
       "      <td>Anton Easterday</td>\n",
       "      <td>UNFINISHED_STORIES</td>\n",
       "      <td>Story implementation</td>\n",
       "      <td>UserStory #78</td>\n",
       "      <td>5</td>\n",
       "      <td>11</td>\n",
       "      <td>NOT_SET</td>\n",
       "      <td>5.366667</td>\n",
       "      <td>CURRENT_SPRINT</td>\n",
       "      <td>10.0</td>\n",
       "      <td>0.366667</td>\n",
       "      <td>0.931677</td>\n",
       "      <td>9</td>\n",
       "      <td>0.959259</td>\n",
       "      <td>12</td>\n",
       "    </tr>\n",
       "    <tr>\n",
       "      <th>1</th>\n",
       "      <td>Anton Easterday</td>\n",
       "      <td>UNFINISHED_STORIES</td>\n",
       "      <td>Story implementation</td>\n",
       "      <td>UserStory #7</td>\n",
       "      <td>11</td>\n",
       "      <td>12</td>\n",
       "      <td>NOT_SET</td>\n",
       "      <td>8.000000</td>\n",
       "      <td>CURRENT_SPRINT</td>\n",
       "      <td>0.0</td>\n",
       "      <td>8.000000</td>\n",
       "      <td>0.000000</td>\n",
       "      <td>8</td>\n",
       "      <td>0.000000</td>\n",
       "      <td>12</td>\n",
       "    </tr>\n",
       "    <tr>\n",
       "      <th>3</th>\n",
       "      <td>Beau Hockensmith</td>\n",
       "      <td>UNFINISHED_STORIES</td>\n",
       "      <td>Story implementation</td>\n",
       "      <td>UserStory #63</td>\n",
       "      <td>8</td>\n",
       "      <td>12</td>\n",
       "      <td>NOT_SET</td>\n",
       "      <td>7.000000</td>\n",
       "      <td>CURRENT_SPRINT</td>\n",
       "      <td>6.0</td>\n",
       "      <td>5.500000</td>\n",
       "      <td>0.214286</td>\n",
       "      <td>9</td>\n",
       "      <td>0.388889</td>\n",
       "      <td>12</td>\n",
       "    </tr>\n",
       "    <tr>\n",
       "      <th>4</th>\n",
       "      <td>Beau Hockensmith</td>\n",
       "      <td>UNFINISHED_STORIES</td>\n",
       "      <td>Story implementation</td>\n",
       "      <td>UserStory #40</td>\n",
       "      <td>8</td>\n",
       "      <td>12</td>\n",
       "      <td>NOT_SET</td>\n",
       "      <td>4.500000</td>\n",
       "      <td>NEXT_SPRINT</td>\n",
       "      <td>0.0</td>\n",
       "      <td>4.500000</td>\n",
       "      <td>0.000000</td>\n",
       "      <td>6</td>\n",
       "      <td>0.250000</td>\n",
       "      <td>12</td>\n",
       "    </tr>\n",
       "    <tr>\n",
       "      <th>8</th>\n",
       "      <td>Craig Garlitz</td>\n",
       "      <td>UNFINISHED_STORIES</td>\n",
       "      <td>Story implementation</td>\n",
       "      <td>UserStory #81</td>\n",
       "      <td>5</td>\n",
       "      <td>5</td>\n",
       "      <td>NOT_SET</td>\n",
       "      <td>4.666667</td>\n",
       "      <td>CURRENT_SPRINT</td>\n",
       "      <td>2.0</td>\n",
       "      <td>4.000000</td>\n",
       "      <td>0.142857</td>\n",
       "      <td>10</td>\n",
       "      <td>0.600000</td>\n",
       "      <td>12</td>\n",
       "    </tr>\n",
       "    <tr>\n",
       "      <th>12</th>\n",
       "      <td>Gregorio Darr</td>\n",
       "      <td>UNFINISHED_STORIES</td>\n",
       "      <td>Story implementation</td>\n",
       "      <td>UserStory #9</td>\n",
       "      <td>10</td>\n",
       "      <td>10</td>\n",
       "      <td>NOT_SET</td>\n",
       "      <td>5.666667</td>\n",
       "      <td>CURRENT_SPRINT</td>\n",
       "      <td>10.0</td>\n",
       "      <td>2.333333</td>\n",
       "      <td>0.588235</td>\n",
       "      <td>9</td>\n",
       "      <td>0.740741</td>\n",
       "      <td>12</td>\n",
       "    </tr>\n",
       "    <tr>\n",
       "      <th>13</th>\n",
       "      <td>Gregorio Darr</td>\n",
       "      <td>UNFINISHED_STORIES</td>\n",
       "      <td>Story implementation</td>\n",
       "      <td>UserStory #73</td>\n",
       "      <td>10</td>\n",
       "      <td>10</td>\n",
       "      <td>NOT_SET</td>\n",
       "      <td>3.666667</td>\n",
       "      <td>CURRENT_SPRINT</td>\n",
       "      <td>0.0</td>\n",
       "      <td>3.666667</td>\n",
       "      <td>0.000000</td>\n",
       "      <td>7</td>\n",
       "      <td>0.476190</td>\n",
       "      <td>12</td>\n",
       "    </tr>\n",
       "    <tr>\n",
       "      <th>15</th>\n",
       "      <td>Heriberto Martini</td>\n",
       "      <td>UNFINISHED_STORIES</td>\n",
       "      <td>Story implementation</td>\n",
       "      <td>UserStory #51</td>\n",
       "      <td>10</td>\n",
       "      <td>11</td>\n",
       "      <td>NOT_SET</td>\n",
       "      <td>8.000000</td>\n",
       "      <td>CURRENT_SPRINT</td>\n",
       "      <td>5.8</td>\n",
       "      <td>5.100000</td>\n",
       "      <td>0.362500</td>\n",
       "      <td>8</td>\n",
       "      <td>0.362500</td>\n",
       "      <td>12</td>\n",
       "    </tr>\n",
       "  </tbody>\n",
       "</table>\n",
       "</div>"
      ],
      "text/plain": [
       "                Owner           Task Type      Task Description  \\\n",
       "0     Anton Easterday  UNFINISHED_STORIES  Story implementation   \n",
       "1     Anton Easterday  UNFINISHED_STORIES  Story implementation   \n",
       "3    Beau Hockensmith  UNFINISHED_STORIES  Story implementation   \n",
       "4    Beau Hockensmith  UNFINISHED_STORIES  Story implementation   \n",
       "8       Craig Garlitz  UNFINISHED_STORIES  Story implementation   \n",
       "12      Gregorio Darr  UNFINISHED_STORIES  Story implementation   \n",
       "13      Gregorio Darr  UNFINISHED_STORIES  Story implementation   \n",
       "15  Heriberto Martini  UNFINISHED_STORIES  Story implementation   \n",
       "\n",
       "    User Story Id  Planned for Sprint  Most Recently Assigned in Sprint  \\\n",
       "0   UserStory #78                   5                                11   \n",
       "1    UserStory #7                  11                                12   \n",
       "3   UserStory #63                   8                                12   \n",
       "4   UserStory #40                   8                                12   \n",
       "8   UserStory #81                   5                                 5   \n",
       "12   UserStory #9                  10                                10   \n",
       "13  UserStory #73                  10                                10   \n",
       "15  UserStory #51                  10                                11   \n",
       "\n",
       "   Delivered in Sprint  Original Estimate          Bucket  Effort Spent  \\\n",
       "0              NOT_SET           5.366667  CURRENT_SPRINT          10.0   \n",
       "1              NOT_SET           8.000000  CURRENT_SPRINT           0.0   \n",
       "3              NOT_SET           7.000000  CURRENT_SPRINT           6.0   \n",
       "4              NOT_SET           4.500000     NEXT_SPRINT           0.0   \n",
       "8              NOT_SET           4.666667  CURRENT_SPRINT           2.0   \n",
       "12             NOT_SET           5.666667  CURRENT_SPRINT          10.0   \n",
       "13             NOT_SET           3.666667  CURRENT_SPRINT           0.0   \n",
       "15             NOT_SET           8.000000  CURRENT_SPRINT           5.8   \n",
       "\n",
       "    Effort Remaining  Percent Achieved  Global Estimate  % Global Done  Sprint  \n",
       "0           0.366667          0.931677                9       0.959259      12  \n",
       "1           8.000000          0.000000                8       0.000000      12  \n",
       "3           5.500000          0.214286                9       0.388889      12  \n",
       "4           4.500000          0.000000                6       0.250000      12  \n",
       "8           4.000000          0.142857               10       0.600000      12  \n",
       "12          2.333333          0.588235                9       0.740741      12  \n",
       "13          3.666667          0.000000                7       0.476190      12  \n",
       "15          5.100000          0.362500                8       0.362500      12  "
      ]
     },
     "execution_count": 27,
     "metadata": {},
     "output_type": "execute_result"
    }
   ],
   "source": [
    "test_workStealing_ACTUAL['balance_candidates_to_steal_sprint13']"
   ]
  },
  {
   "cell_type": "code",
   "execution_count": null,
   "metadata": {},
   "outputs": [],
   "source": [
    "test_workStealing_EXPECTED['balance_candidates_to_steal_sprint13']"
   ]
  },
  {
   "cell_type": "code",
   "execution_count": 28,
   "metadata": {},
   "outputs": [
    {
     "data": {
      "text/html": [
       "<div>\n",
       "<style scoped>\n",
       "    .dataframe tbody tr th:only-of-type {\n",
       "        vertical-align: middle;\n",
       "    }\n",
       "\n",
       "    .dataframe tbody tr th {\n",
       "        vertical-align: top;\n",
       "    }\n",
       "\n",
       "    .dataframe thead th {\n",
       "        text-align: right;\n",
       "    }\n",
       "</style>\n",
       "<table border=\"1\" class=\"dataframe\">\n",
       "  <thead>\n",
       "    <tr style=\"text-align: right;\">\n",
       "      <th></th>\n",
       "      <th>User Story Id</th>\n",
       "      <th>Assigned on Sprint</th>\n",
       "      <th>Assigned to Developer</th>\n",
       "    </tr>\n",
       "  </thead>\n",
       "  <tbody>\n",
       "    <tr>\n",
       "      <th>8</th>\n",
       "      <td>UserStory #7</td>\n",
       "      <td>13</td>\n",
       "      <td>Francisco Hoppe</td>\n",
       "    </tr>\n",
       "    <tr>\n",
       "      <th>21</th>\n",
       "      <td>UserStory #40</td>\n",
       "      <td>13</td>\n",
       "      <td>Glenna Mcghie</td>\n",
       "    </tr>\n",
       "    <tr>\n",
       "      <th>51</th>\n",
       "      <td>UserStory #73</td>\n",
       "      <td>13</td>\n",
       "      <td>Glenna Mcghie</td>\n",
       "    </tr>\n",
       "  </tbody>\n",
       "</table>\n",
       "</div>"
      ],
      "text/plain": [
       "    User Story Id  Assigned on Sprint Assigned to Developer\n",
       "8    UserStory #7                  13       Francisco Hoppe\n",
       "21  UserStory #40                  13         Glenna Mcghie\n",
       "51  UserStory #73                  13         Glenna Mcghie"
      ]
     },
     "execution_count": 28,
     "metadata": {},
     "output_type": "execute_result"
    }
   ],
   "source": [
    "test_workStealing_ACTUAL['actual_steal_sprint13']"
   ]
  },
  {
   "cell_type": "code",
   "execution_count": null,
   "metadata": {},
   "outputs": [],
   "source": [
    "test_workStealing_EXPECTED['actual_steal_sprint13']"
   ]
  }
 ],
 "metadata": {
  "kernelspec": {
   "display_name": "Python 3",
   "language": "python",
   "name": "python3"
  },
  "language_info": {
   "codemirror_mode": {
    "name": "ipython",
    "version": 3
   },
   "file_extension": ".py",
   "mimetype": "text/x-python",
   "name": "python",
   "nbconvert_exporter": "python",
   "pygments_lexer": "ipython3",
   "version": "3.7.3"
  }
 },
 "nbformat": 4,
 "nbformat_minor": 2
}
