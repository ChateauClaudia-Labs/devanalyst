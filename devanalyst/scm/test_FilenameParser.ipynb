{
 "cells": [
  {
   "cell_type": "code",
   "execution_count": null,
   "metadata": {},
   "outputs": [],
   "source": []
  },
  {
   "cell_type": "code",
   "execution_count": null,
   "metadata": {},
   "outputs": [],
   "source": [
    "# Testing set to test FilenameParser\n",
    "file1 = 'MisysPD/DBLoader/CBSDBLoader/BFG/CB_CMN_DataExtractUtillity_PRC.bfg.store'\n",
    "file2 = 'MisysPD/CBS/CBSDatabase/BF_DML/Scripts/BFCBS53_AS4_031.sql'\n",
    "file3 = 'MisysPD/Bundles/CBS/servercommon/microflows/CB-CMN-DataExtractUtillity-PRC.properties'\n",
    "file4 = 'MisysPD/CBS/CBSArtefacts/Microflows/Processflows/CB_CMN_DataExtractUtillity_PRC.bfg'\n",
    "file5 = 'MisysPD/CBS/CBSArtefacts/Microflows/Processflows/CB_CMN_DataExtractUtillity_PRC.bfg.mo'\n",
    "file6 = '.../INSTALL_LOCATION/BankFusion/SYMBOLIC/ServerConf/repository/artefact_repository/resource/blob/resourcedata/xsd/bf.com.ibm.websphere.sibx.servicegateway.ServiceGatewayAsyncResponse_resourcedata_xsd.blob'\n",
    "file7 = 'retail/v1/cbs/mock/pom.xml'\n",
    "file8 = 'MisysPD/LOWorkflowArtefacts/LOLibrary/com/misys/lo/bpel/controller/LOBPELController.class'\n",
    "file9 = 'cargo-ipd/cargo-ipd-ui-npm/store/sample-csv/IPD_AllReports_ColumnNameMappings.xlsx'\n",
    "file10 = 'MisysPD/CBS/CBSArtefacts/Messages/Screens/CB_CHG_AmendOnlineCharge.bfm'\n",
    "file11 = 'MisysPD/BankFusion/Documents/designtime/fcbp_developer_guide.pdf'\n",
    "file12 = 'MisysPD/CBS/UXP/UXPWeb/WebContent/rt/js/d/app/cbs.js'\n",
    "file13 = 'MisysPD/CBS/CBSArtefacts/ActivitySteps/CalculateBillerCharges.asd'\n",
    "file14 = 'MisysPD/ApplicationHelperJars/DevelopmentOnly/hibernate-jpa-2.1-api-1.0.0.Final.jar'\n",
    "file15 = 'MisysPD/BankFusion/Database/Upgrades-old/P01-US657/DBLoader/BFConfig/ImportResources.xls'\n",
    "file16 = 'MisysPD/BankFusion/BankFusionWeb/WebContent/api/fonts/droid-sans-v6-latin-700.svg'\n",
    "file17 = 'MisysPD/WhatIf/WhatIFArtifacts/CrystalReports/WF_QuotationDetails.rpt'\n",
    "file18 = 'retail/v1/fcbp/services/user/definition/Swagger.json'\n",
    "file19 = 'MisysPD/CBS/CBSInterfaces/Attributes/CB_CHG_Charges.xsd'\n",
    "file20 = 'MisysPD/CBS/CBSTest/FitTests/Payments/MaintainMandate/MP_MAN_MaintainMandate_SRV.fit'\n",
    "file21 = 'MisysPD/CBS/CBSArtefacts/BusinessObjects/CB_CMN_GlobalEnterpriseDetail.bod'\n",
    "file22 = 'MisysPD/BankFusion/Database/Upgrades-old/P01-US657/DBLoader/dbLoader_DB2.bat'\n",
    "file23 = 'retail/v1/essence/account/mock/README.txt'\n",
    "file24 = 'BFUB/MAPSGERMANY/MAPS5.3/MAPS-AbstractProducts/Acceptance.bpc'\n",
    "file25 = 'retail/v1/fcbp/services/user/definition/User.yaml'\n",
    "file26 = 'BFUB/MAPSGERMANY/MAPS5.3/Tool - Germany/StaticDataConfigurator/lib/jre6/bin/JdbcOdbc.dll'\n",
    "file27 = 'MisysPD/WhatIf/WIFConfigResources/WIFConf/conf/customJavaScript/rt/html/composition/WhatIF_Components/loanDetails.html'\n",
    "file28 = 'MisysPD/UXP/UXPWeb/WebContent/jquery-release-1.9.1/jquery-ui-release/images/ui-icons_444444_256x240.png'\n",
    "file29 = 'MisysPD/PaymentMessaging/BFPaymentMessaging/src-fic/com/misys/bankfusion/paymentmessaging/fic/PaymentsFICController.java'\n",
    "file30 = 'MisysPD/CBS/CBSReferencedBOs/{ => src/com/trapedza/bankfusion/steps/refimpl}/ICB_BillerSuccessMessage.java'\n",
    "file31 = 'MisysPD/CBS/CBSReferencedBOs/ICB_BillerSuccessMessage.java'\n",
    "file32 = 'MisysPD/PaymentMessaging/BFPaymentMessaging/{src-api => src-fic}/com/misys/fbe/api/constants/ApiConstants.java'\n",
    "file33 = 'MisysPD/BankFusion/WPS/BFLibrary/com/misys/bankfusion/workflowengine/common/util/BFHumanTaskManagerWrapper.java'\n",
    "file34 = 'BFUB/MAPSGERMANY/MAPS5.3/Tool - Germany/StaticConfiguration/DataConfigurator/dist/temporaryFolder/AbstractSQLHandler.java'\n",
    "file35 = 'BFUB/MAPSGERMANY/MAPS5.3/Tool - Germany/StaticConfiguration/DataConfigurator/temporaryFolder/AbstractSQLHandler.java'\n",
    "file36 = 'MisysPD/LoanOrigination/LOBusiness/.classpath'\n",
    "file37 = 'MisysPD/UXP/UXPWeb/WebContent/rt/css/mys.css'\n",
    "file38 = 'IPDFFC/IPD2Essence/scripts/ipd/essence/ListBranchRqMapper.groovy'\n",
    "file39 = 'MisysPD/BankFusion/SystemTest/Fit Tests/SSOLoginService/SSOLoginService.suite'\n",
    "file40 = 'BFUB/MAPSGERMANY/MAPS5.3/Tool - Germany/StaticDataConfigurator/lib/jre6/bin/tnameserv.exe'\n",
    "file41 = 'EssenceUpgrade/roles/Patch_ApplicationServer/tasks/main.yml'\n",
    "file42 = 'DB2WAS/roles/application-server/tasks/main.yml'\n",
    "file43 = 'MisysPD/BranchTeller/BranchTellerArtefacts/Templates/Dynasty/RevLocalRemittanceAdvice.frm'\n",
    "file44 = 'MisysPD/PaymentMessaging/PaymentMessagingConfigResources/conf/business/paymentMessaging/STEP2/ct/FasterPayment/PaymentEvent.pmdsl'\n",
    "file45 = 'MisysPD/BranchTeller/BranchTellerAPIs/.project'\n",
    "file46 = 'MisysPD/PartyFoundation/PFDatabase/DataModel/PARTY60_DataModel.zip'\n",
    "file47 = 'cargo-ipd/cargo-ipd-ui-npm/store/sample-csv/Run_DeductionDetails_PoolReport.csv'\n",
    "file48 = 'BFUB/MAPSUK/MAPS5.3/Tool - UK/StaticDataConfigurator/lib/jre6/lib/images/cursors/win32_CopyNoDrop32x32.gif'\n",
    "file50 = 'MisysPD/IslamicBanking/IBDatabase/IB2.3UpgradePath/Sqls/Transformations/FBE531/DB2/UB_BFTeller_Consumption_Menu_Reordering.SQL'\n",
    "file51 = 'BFUB/MAPSUK/MAPS5.3/Tool - UK/StaticDataConfigurator/lib/jre6/lib/fonts/LucidaSansDemiBold.ttf'\n",
    "file52 = 'MisysPD/UBTools/CodeAnomaliesValidator/logs/boidcheck_java_bfg.log'\n",
    "file53 = 'MisysPD/UBTools/Archival/MovePartitions/ExecuteMovePartitionsUtility.sh'\n",
    "file54 = 'MisysPD/LOWorkflowArtefacts/LoanOriginationModule/Process/EnterpriseOverdraft/EnterpriseOverdraftWorkflow.bpel'\n",
    "file55 = 'MisysPD/LOWorkflowArtefacts/LoanOriginationModule/Process/PersonalLoan/PersonalLoanWorkflow.bpelex'\n",
    "file56 = 'MisysPD/BankFusion/Platform Resources/WebServices/CreateApplicationService.bfws'\n",
    "file57 = 'BFUB/MAPSUK/MAPS5.3/Tool - UK/StaticDataConfigurator/resource/helpers/DataDefinition.xlt'\n",
    "file58 = 'BFUB/MAPSUK/MAPS5.3/Tool - UK/StaticConfiguration/DataConfigurator/dist/Tools/QS_ExchangeRates-Template-V1.0.xlsm'\n",
    "file59 = 'BFUB/MAPSUK/MAPS5.3/Tool - UK/StaticDataConfigurator/resource/helpers/DataDefinition.xltm'\n",
    "file60 = 'MisysPD/BankFusion/Build/FusionMonitoringUXP/FusionMonitoringUXP.tar.gz'\n",
    "file61 = 'MisysPD/PaymentMessaging/PaymentMessagingConfigResources/conf/business/paymentMessaging/STEP2/ct/pain001Topacs008Validation.xsl'\n",
    "file62 = 'MisysPD/UniversalBankingInterfaces/InterfaceResources/ProfileQueueQCFCreation/createUB-WASInterfaces.jy'\n",
    "file63 = 'BFUB/MAPSUK/MAPS5.3/Tool - UK/StaticDataConfigurator/lib/jre6/lib/cmm/CIEXYZ.pf'\n",
    "file64 = 'MisysPD/BankFusion/{ConverterBinaryToText => FileRepositoryGenerator}/.gitignore'\n",
    "file65 = 'MisysPD/UniversalBankingInterfaces/InterfaceResources/UBFIRCOInstallConfig/DBClient.cfg'\n"
   ]
  },
  {
   "cell_type": "code",
   "execution_count": null,
   "metadata": {},
   "outputs": [],
   "source": [
    "FILE = file65\n",
    "FILE"
   ]
  },
  {
   "cell_type": "code",
   "execution_count": null,
   "metadata": {},
   "outputs": [],
   "source": [
    "fp = FilenameParser(FILE, package_folders=package_folders,\n",
    "                    artifact_families=artifact_families,\n",
    "                   package_prefixes=['com/misys', 'com/trapedza', 'com/finastra'])\n",
    "fp.parse()\n",
    "fp.layer, fp.submodule, fp.package_type, fp.package, fp.classname, fp.artifact_type, fp.artifact_family"
   ]
  },
  {
   "cell_type": "code",
   "execution_count": null,
   "metadata": {},
   "outputs": [],
   "source": []
  }
 ],
 "metadata": {
  "kernelspec": {
   "display_name": "Python 3",
   "language": "python",
   "name": "python3"
  },
  "language_info": {
   "codemirror_mode": {
    "name": "ipython",
    "version": 3
   },
   "file_extension": ".py",
   "mimetype": "text/x-python",
   "name": "python",
   "nbconvert_exporter": "python",
   "pygments_lexer": "ipython3",
   "version": "3.7.3"
  }
 },
 "nbformat": 4,
 "nbformat_minor": 2
}
