{
 "cells": [
  {
   "cell_type": "code",
   "execution_count": 1,
   "metadata": {},
   "outputs": [],
   "source": [
    "import pandas as pd\n",
    "import numpy as np\n",
    "import math\n",
    "from random import choices\n",
    "import seaborn as sns\n",
    "from datetime import datetime\n",
    "import matplotlib.pyplot as plt\n",
    "from matplotlib.colors import ListedColormap\n",
    "import statistics"
   ]
  },
  {
   "cell_type": "code",
   "execution_count": 2,
   "metadata": {},
   "outputs": [
    {
     "name": "stdout",
     "output_type": "stream",
     "text": [
      "importing Jupyter notebook from c:\\alex\\code\\labs\\devanalyst\\devanalyst\\simulation\\statics.ipynb\n",
      "importing Jupyter notebook from c:\\alex\\code\\labs\\devanalyst\\devanalyst\\simulation\\GenerateTimecards.ipynb\n",
      "importing Jupyter notebook from c:\\alex\\code\\labs\\devanalyst\\devanalyst\\simulation\\simulationModels.ipynb\n"
     ]
    }
   ],
   "source": [
    "import devanalyst.simulation.statics as S_\n",
    "import devanalyst.simulation.GenerateTimecards as timecard\n",
    "from devanalyst.simulation.GenerateTimecards import WorkAssignments\n",
    "from devanalyst.simulation.simulationModels import BalancedAllocationModel, GreedyAllocationModel, ModelsConfig, \\\n",
    "Distribution, DefaultCostModel"
   ]
  },
  {
   "cell_type": "code",
   "execution_count": 3,
   "metadata": {},
   "outputs": [
    {
     "name": "stdout",
     "output_type": "stream",
     "text": [
      "importing Jupyter notebook from c:\\alex\\code\\labs\\devanalyst\\devanalyst\\simulation\\tests\\test_utils.ipynb\n"
     ]
    }
   ],
   "source": [
    "import devanalyst.simulation.tests.test_utils as tu_"
   ]
  },
  {
   "cell_type": "code",
   "execution_count": 4,
   "metadata": {},
   "outputs": [
    {
     "name": "stdout",
     "output_type": "stream",
     "text": [
      "importing Jupyter notebook from c:\\alex\\code\\labs\\devanalyst\\devanalyst\\simulation\\visualizations\\simm_visuals.ipynb\n"
     ]
    }
   ],
   "source": [
    "import devanalyst.simulation.visualizations.simm_visuals as simm_visuals"
   ]
  },
  {
   "cell_type": "markdown",
   "metadata": {},
   "source": [
    "<h1>Pilots</h1>"
   ]
  },
  {
   "cell_type": "markdown",
   "metadata": {},
   "source": [
    "<h2>Searching for a better bar chart for WorkAssignments</h2>"
   ]
  },
  {
   "cell_type": "code",
   "execution_count": 5,
   "metadata": {},
   "outputs": [],
   "source": [
    "def genReleaseCycleSheets(modelsConfig):\n",
    "    RELEASE_DURATION = 60\n",
    "    SPRINT_DURATION = 10\n",
    "    \n",
    "    tu_.loadTestResources()\n",
    "    \n",
    "    teams_df, stories_df, teamsRepo, storiesRepo, ticketsRepo = tu_.initTestData(tu_.DEV_DF, \\\n",
    "                                                                                           tu_.PM_DF, \\\n",
    "                                                                                           RELEASE_DURATION, \\\n",
    "                                                                                           SPRINT_DURATION, \\\n",
    "                                                                                          modelsConfig)\n",
    "    \n",
    "    NUMBER_OF_SPRINTS = 25\n",
    "\n",
    "    entries_df, worksheets, releaseLog = timecard.runReleaseCycle(teamsRepo, ticketsRepo, storiesRepo, datetime(2018, 1, 15), \\\n",
    "                                                   SPRINT_DURATION, NUMBER_OF_SPRINTS, modelsConfig)    \n",
    "    \n",
    "    return entries_df, worksheets, releaseLog, teamsRepo, storiesRepo"
   ]
  },
  {
   "cell_type": "code",
   "execution_count": 6,
   "metadata": {},
   "outputs": [],
   "source": [
    "SPRINT_DURATION = 10\n",
    "modelsConfig = ModelsConfig([DefaultCostModel(0.25)], [], GreedyAllocationModel(SPRINT_DURATION)) \n",
    "modelsConfig.random.reset(271)\n",
    "entries_df, worksheets, releaseLog, TEAMS_REPO, STORIES_REPO = genReleaseCycleSheets(modelsConfig)"
   ]
  },
  {
   "cell_type": "code",
   "execution_count": 11,
   "metadata": {
    "code_folding": [
     39,
     78
    ]
   },
   "outputs": [],
   "source": [
    "class VisualizeWork:\n",
    "    \n",
    "    def render(start_df, end_df):\n",
    "        # RGB\n",
    "        lime = [0/256, 255/256, 0/256,1]\n",
    "        light_green = [0/256, 220/256, 0/256,1]\n",
    "        green = [0/256, 128/256, 0/256,1]\n",
    "        \n",
    "        amber = [255/256,191/256,0/256,1]\n",
    "        dark_amber = [255/256,100/256,0/256,1]\n",
    "        red = [255/256, 0/256, 0/256,1]\n",
    "        \n",
    "        aqua = [0/256,255/256,255/256, 1]\n",
    "        blue = [0/256,0/256,255/256, 1]\n",
    "        purple = [128/256, 0/256, 128/256, 1]\n",
    "        \n",
    "        light_blue = [0/256,200/256,255/256, 1]\n",
    "        \n",
    "        start_colors = np.array([blue, light_blue, aqua])\n",
    "        start_cmp = ListedColormap(start_colors)\n",
    "        start_ax = start_df.set_index('Breakout').T.plot(kind='bar', stacked=True, \\\n",
    "                                                           colormap = start_cmp, position = 1.0, width=0.35)\n",
    "        start_ax.set(xlabel = 'Estimate', ylabel = '# of stories')\n",
    "        \n",
    "        '''\n",
    "        newcolors2 = np.array([green, aqua, amber, red])\n",
    "        newcmp2 = ListedColormap(newcolors2)\n",
    "        ax2 = burnout_df.set_index('Breakout').T.plot(kind='bar', stacked=True, colormap = newcmp2, position = 1.0, ax=ax, width=0.35)\n",
    "        ax2.set(xlabel = 'Estimate', ylabel = '# of stories')\n",
    "        '''\n",
    "        end_colors = np.array([green, dark_amber, amber, purple, red])\n",
    "        end_cmp = ListedColormap(end_colors)\n",
    "        end_ax = end_df.set_index('Breakout').T.plot(kind='bar', stacked=True, \\\n",
    "                                                           colormap = end_cmp, position = 0.0, width=0.35, ax=start_ax)\n",
    "        end_ax.set(xlabel = 'Estimate', ylabel = '# of stories')\n",
    "\n",
    "\n",
    "        \n",
    "        plt.legend(loc='center left', bbox_to_anchor=(1.0, 0.5))   \n",
    "        \n",
    "        \n",
    "    def render_backlog(backlog_df):\n",
    "        # RGB\n",
    "        lime = [0/256, 255/256, 0/256,1]\n",
    "        light_green = [0/256, 220/256, 0/256,1]\n",
    "        green = [0/256, 128/256, 0/256,1]\n",
    "        \n",
    "        amber = [255/256,191/256,0/256,1]\n",
    "        dark_amber = [255/256,100/256,0/256,1]\n",
    "        red = [255/256, 0/256, 0/256,1]\n",
    "        gray = [128/256, 128/256, 128/256,1]\n",
    "        \n",
    "        aqua = [0/256,255/256,255/256, 1]\n",
    "        blue = [0/256,0/256,255/256, 1]\n",
    "        purple = [128/256, 0/256, 128/256, 1]\n",
    "        \n",
    "        light_blue = [0/256,200/256,255/256, 1]\n",
    "        \n",
    "        start_colors = np.array([gray, green, dark_amber, amber, purple])\n",
    "        start_cmp = ListedColormap(start_colors)\n",
    "        start_ax = backlog_df.set_index('Breakout').T.plot(kind='bar', stacked=True, \\\n",
    "                                                           colormap = start_cmp, position = 0.0, width=0.35)\n",
    "        start_ax.set(xlabel = 'Estimate', ylabel = '# of stories')\n",
    "        \n",
    "\n",
    "        plt.legend(loc='center left', bbox_to_anchor=(1.0, 0.5))\n",
    "    \n",
    "    "
   ]
  },
  {
   "cell_type": "code",
   "execution_count": 12,
   "metadata": {},
   "outputs": [
    {
     "data": {
      "image/png": "[encoded data removed]",
      "text/plain": [
       "<Figure size 432x288 with 1 Axes>"
      ]
     },
     "metadata": {
      "needs_background": "light"
     },
     "output_type": "display_data"
    }
   ],
   "source": [
    "SPRINT = 1\n",
    "start_df = releaseLog.log['Team A'][SPRINT]['planned_Start_CURRENT_SPRINT']\n",
    "end_df = releaseLog.log['Team A'][SPRINT]['planned_End_CURRENT_SPRINT']\n",
    "VisualizeWork.render(start_df, end_df)"
   ]
  },
  {
   "cell_type": "code",
   "execution_count": 9,
   "metadata": {},
   "outputs": [
    {
     "data": {
      "image/png": "[encoded data removed]",
      "text/plain": [
       "<Figure size 432x288 with 1 Axes>"
      ]
     },
     "metadata": {
      "needs_background": "light"
     },
     "output_type": "display_data"
    }
   ],
   "source": [
    "backlog_df = releaseLog.log['Team A'][SPRINT+1]['backlog']\n",
    "end_df = None\n",
    "VisualizeWork.render_backlog(backlog_df)"
   ]
  },
  {
   "cell_type": "code",
   "execution_count": 10,
   "metadata": {},
   "outputs": [
    {
     "data": {
      "text/html": [
       "<div>\n",
       "<style scoped>\n",
       "    .dataframe tbody tr th:only-of-type {\n",
       "        vertical-align: middle;\n",
       "    }\n",
       "\n",
       "    .dataframe tbody tr th {\n",
       "        vertical-align: top;\n",
       "    }\n",
       "\n",
       "    .dataframe thead th {\n",
       "        text-align: right;\n",
       "    }\n",
       "</style>\n",
       "<table border=\"1\" class=\"dataframe\">\n",
       "  <thead>\n",
       "    <tr style=\"text-align: right;\">\n",
       "      <th></th>\n",
       "      <th>Breakout</th>\n",
       "      <th>0</th>\n",
       "      <th>1</th>\n",
       "      <th>2</th>\n",
       "      <th>3</th>\n",
       "      <th>4</th>\n",
       "      <th>5</th>\n",
       "      <th>6</th>\n",
       "      <th>7</th>\n",
       "      <th>8</th>\n",
       "      <th>9</th>\n",
       "      <th>10</th>\n",
       "    </tr>\n",
       "  </thead>\n",
       "  <tbody>\n",
       "    <tr>\n",
       "      <th>0</th>\n",
       "      <td>Unplanned</td>\n",
       "      <td>0.0</td>\n",
       "      <td>2.0</td>\n",
       "      <td>8.0</td>\n",
       "      <td>9.000000</td>\n",
       "      <td>5.0</td>\n",
       "      <td>3.0</td>\n",
       "      <td>4.0</td>\n",
       "      <td>8.0</td>\n",
       "      <td>12.0</td>\n",
       "      <td>6.000000</td>\n",
       "      <td>5.0</td>\n",
       "    </tr>\n",
       "    <tr>\n",
       "      <th>1</th>\n",
       "      <td>Completed</td>\n",
       "      <td>0.0</td>\n",
       "      <td>0.0</td>\n",
       "      <td>2.0</td>\n",
       "      <td>0.000000</td>\n",
       "      <td>1.0</td>\n",
       "      <td>2.0</td>\n",
       "      <td>3.0</td>\n",
       "      <td>0.0</td>\n",
       "      <td>0.0</td>\n",
       "      <td>0.000000</td>\n",
       "      <td>0.0</td>\n",
       "    </tr>\n",
       "    <tr>\n",
       "      <th>2</th>\n",
       "      <td>Planned Progressed</td>\n",
       "      <td>0.0</td>\n",
       "      <td>0.0</td>\n",
       "      <td>0.0</td>\n",
       "      <td>1.333333</td>\n",
       "      <td>0.5</td>\n",
       "      <td>1.2</td>\n",
       "      <td>0.0</td>\n",
       "      <td>0.0</td>\n",
       "      <td>0.0</td>\n",
       "      <td>0.888889</td>\n",
       "      <td>0.8</td>\n",
       "    </tr>\n",
       "    <tr>\n",
       "      <th>3</th>\n",
       "      <td>Planned Remaining</td>\n",
       "      <td>0.0</td>\n",
       "      <td>0.0</td>\n",
       "      <td>0.0</td>\n",
       "      <td>0.666667</td>\n",
       "      <td>0.5</td>\n",
       "      <td>0.8</td>\n",
       "      <td>0.0</td>\n",
       "      <td>0.0</td>\n",
       "      <td>0.0</td>\n",
       "      <td>0.111111</td>\n",
       "      <td>0.2</td>\n",
       "    </tr>\n",
       "    <tr>\n",
       "      <th>4</th>\n",
       "      <td>Not Started</td>\n",
       "      <td>0.0</td>\n",
       "      <td>3.0</td>\n",
       "      <td>1.0</td>\n",
       "      <td>0.000000</td>\n",
       "      <td>0.0</td>\n",
       "      <td>0.0</td>\n",
       "      <td>0.0</td>\n",
       "      <td>0.0</td>\n",
       "      <td>0.0</td>\n",
       "      <td>0.000000</td>\n",
       "      <td>0.0</td>\n",
       "    </tr>\n",
       "  </tbody>\n",
       "</table>\n",
       "</div>"
      ],
      "text/plain": [
       "             Breakout    0    1    2         3    4    5    6    7     8  \\\n",
       "0           Unplanned  0.0  2.0  8.0  9.000000  5.0  3.0  4.0  8.0  12.0   \n",
       "1           Completed  0.0  0.0  2.0  0.000000  1.0  2.0  3.0  0.0   0.0   \n",
       "2  Planned Progressed  0.0  0.0  0.0  1.333333  0.5  1.2  0.0  0.0   0.0   \n",
       "3   Planned Remaining  0.0  0.0  0.0  0.666667  0.5  0.8  0.0  0.0   0.0   \n",
       "4         Not Started  0.0  3.0  1.0  0.000000  0.0  0.0  0.0  0.0   0.0   \n",
       "\n",
       "          9   10  \n",
       "0  6.000000  5.0  \n",
       "1  0.000000  0.0  \n",
       "2  0.888889  0.8  \n",
       "3  0.111111  0.2  \n",
       "4  0.000000  0.0  "
      ]
     },
     "execution_count": 10,
     "metadata": {},
     "output_type": "execute_result"
    }
   ],
   "source": [
    "backlog_df"
   ]
  },
  {
   "cell_type": "code",
   "execution_count": null,
   "metadata": {},
   "outputs": [],
   "source": []
  },
  {
   "cell_type": "code",
   "execution_count": null,
   "metadata": {},
   "outputs": [],
   "source": []
  },
  {
   "cell_type": "code",
   "execution_count": null,
   "metadata": {},
   "outputs": [],
   "source": []
  },
  {
   "cell_type": "markdown",
   "metadata": {},
   "source": [
    "<h2>Burnout in release cycle - Pilot</h2>"
   ]
  },
  {
   "cell_type": "code",
   "execution_count": null,
   "metadata": {},
   "outputs": [],
   "source": [
    "# \n",
    "def genReleaseCycle(modelsConfig):\n",
    "    RELEASE_DURATION = 60\n",
    "    SPRINT_DURATION = 10\n",
    "    \n",
    "    tu_.loadTestResources()\n",
    "    \n",
    "    teams_df, stories_df, teamsRepo, storiesRepo, ticketsRepo = tu_.initTestData(tu_.DEV_DF, \\\n",
    "                                                                                           tu_.PM_DF, \\\n",
    "                                                                                           RELEASE_DURATION, \\\n",
    "                                                                                           SPRINT_DURATION, \\\n",
    "                                                                                          modelsConfig)\n",
    "    \n",
    "    NUMBER_OF_SPRINTS = 25\n",
    "\n",
    "    entries_df, worksheets = timecard.runReleaseCycle(teamsRepo, ticketsRepo, storiesRepo, datetime(2018, 1, 15), \\\n",
    "                                                   SPRINT_DURATION, NUMBER_OF_SPRINTS, modelsConfig)    \n",
    "    \n",
    "    return entries_df, worksheets, storiesRepo"
   ]
  },
  {
   "cell_type": "code",
   "execution_count": null,
   "metadata": {},
   "outputs": [],
   "source": [
    "def genBurnout(entries_df, storiesRepo):\n",
    "    bystory = entries_df.groupby('User Story')\n",
    "    u = bystory.apply(storyInfo, storiesRepo)\n",
    "    \n",
    "    \n",
    "    u = u.reset_index()\n",
    "    u.drop(['level_1'], axis='columns', inplace=True)\n",
    "    s = u.groupby('Final Sprint')\n",
    "    burnout = s.apply(sprintInfo)\n",
    "    burnout = burnout.reset_index()\n",
    "    burnout.drop(['level_1'], axis='columns', inplace=True)\n",
    "    \n",
    "\n",
    "    return burnout, u"
   ]
  },
  {
   "cell_type": "code",
   "execution_count": null,
   "metadata": {},
   "outputs": [],
   "source": [
    "\n"
   ]
  },
  {
   "cell_type": "code",
   "execution_count": null,
   "metadata": {},
   "outputs": [],
   "source": [
    "def storyInfo(group_df, storiesRepo):\n",
    "    info = {}\n",
    "    \n",
    "    #Go back, as min['Date'] is end of first sprint\n",
    "    info['Start'] = [timecard.subtractBusinessDays(group_df['Date'].min(), SPRINT_DURATION)] \n",
    "    info['End'] = [group_df['Date'].max()]\n",
    "    info['Elapsed Time'] = (info['End'][0] - info['Start'][0]).days\n",
    "    info['Effort'] = group_df['Time Spent'].sum()\n",
    "    info['Initial Sprint'] = [group_df['Sprint'].min()]\n",
    "    info['Final Sprint'] = [group_df['Sprint'].max()]  \n",
    "    '''\n",
    "    userStoryId = group_df['User Story']\n",
    "    userStory = storiesRepo.findStory(userStoryId)\n",
    "    info['Original estimate'] = userStory.originalEstimate    \n",
    "    '''\n",
    "    \n",
    "    return pd.DataFrame(info)"
   ]
  },
  {
   "cell_type": "code",
   "execution_count": null,
   "metadata": {},
   "outputs": [],
   "source": [
    "def sprintInfo(group_df):\n",
    "    info = {}\n",
    "    \n",
    "    info['Effort'] = group_df['Effort'].sum()\n",
    "    info['Avg Effort'] = group_df['Effort'].mean()\n",
    "    info['Stories Completed'] = [group_df['User Story'].count()]\n",
    "    info['Over 1 sprint'] = [group_df[group_df['Elapsed Time']==14]['User Story'].count()]\n",
    "    info['Over 2 sprint'] = [group_df[group_df['Elapsed Time']==28]['User Story'].count()]\n",
    "    info['Over 3 sprint'] = [group_df[group_df['Elapsed Time']==42]['User Story'].count()]\n",
    "    info['Over 4 sprint'] = [group_df[group_df['Elapsed Time']==56]['User Story'].count()]\n",
    " \n",
    "    \n",
    "    return pd.DataFrame(info)"
   ]
  },
  {
   "cell_type": "code",
   "execution_count": null,
   "metadata": {},
   "outputs": [],
   "source": [
    "SPRINT_DURATION = 10\n",
    "modelsConfig1 = ModelsConfig([DefaultCostModel(0.0)], [], BalancedAllocationModel(SPRINT_DURATION)) \n",
    "modelsConfig1.random.reset(271)\n",
    "entries_df1, worksheets1, storiesRepo = genReleaseCycle(modelsConfig1)"
   ]
  },
  {
   "cell_type": "code",
   "execution_count": null,
   "metadata": {},
   "outputs": [],
   "source": [
    "burn1, u1 = genBurnout(entries_df1, storiesRepo)\n",
    "burn1"
   ]
  },
  {
   "cell_type": "code",
   "execution_count": null,
   "metadata": {},
   "outputs": [],
   "source": [
    "u1"
   ]
  },
  {
   "cell_type": "code",
   "execution_count": null,
   "metadata": {},
   "outputs": [],
   "source": [
    "SPRINT_DURATION = 10\n",
    "modelsConfig2 = ModelsConfig([DefaultCostModel(0.0)], [], GreedyAllocationModel(SPRINT_DURATION)) \n",
    "modelsConfig2.random.reset(271)\n",
    "entries_df2, worksheets2, storiesRepo = genReleaseCycle(modelsConfig2)"
   ]
  },
  {
   "cell_type": "code",
   "execution_count": null,
   "metadata": {},
   "outputs": [],
   "source": [
    "burn2, u2 = genBurnout(entries_df2, storiesRepo)\n",
    "burn2"
   ]
  },
  {
   "cell_type": "code",
   "execution_count": null,
   "metadata": {},
   "outputs": [],
   "source": [
    "burn1['Effort'].plot(label = 'Balanced'), burn2['Effort'].plot(label = 'Greedy'), plt.legend()"
   ]
  },
  {
   "cell_type": "code",
   "execution_count": null,
   "metadata": {},
   "outputs": [],
   "source": [
    "burn1['Avg Effort'].plot(label = 'Balanced'), burn2['Avg Effort'].plot(label = 'Greedy'), plt.legend()"
   ]
  },
  {
   "cell_type": "code",
   "execution_count": null,
   "metadata": {},
   "outputs": [],
   "source": [
    "u1_10 = u1[u1['Final Sprint'] == 10]\n",
    "u1_10.shape"
   ]
  },
  {
   "cell_type": "code",
   "execution_count": null,
   "metadata": {},
   "outputs": [],
   "source": [
    "u1_10[u1_10['Initial Sprint'] == 10]['Effort'].mean()"
   ]
  },
  {
   "cell_type": "code",
   "execution_count": null,
   "metadata": {},
   "outputs": [],
   "source": [
    "u1_10['Effort'].mean()"
   ]
  },
  {
   "cell_type": "code",
   "execution_count": null,
   "metadata": {},
   "outputs": [],
   "source": [
    "u1_10[u1_10['Initial Sprint'] == 10].shape"
   ]
  },
  {
   "cell_type": "code",
   "execution_count": null,
   "metadata": {},
   "outputs": [],
   "source": [
    "u1_10[u1_10['Initial Sprint'] == 9]['Effort'].mean()"
   ]
  },
  {
   "cell_type": "code",
   "execution_count": null,
   "metadata": {},
   "outputs": [],
   "source": [
    "u1_10[u1_10['Initial Sprint'] == 9].shape"
   ]
  },
  {
   "cell_type": "code",
   "execution_count": null,
   "metadata": {},
   "outputs": [],
   "source": []
  }
 ],
 "metadata": {
  "kernelspec": {
   "display_name": "Python 3",
   "language": "python",
   "name": "python3"
  },
  "language_info": {
   "codemirror_mode": {
    "name": "ipython",
    "version": 3
   },
   "file_extension": ".py",
   "mimetype": "text/x-python",
   "name": "python",
   "nbconvert_exporter": "python",
   "pygments_lexer": "ipython3",
   "version": "3.7.1"
  }
 },
 "nbformat": 4,
 "nbformat_minor": 2
}
