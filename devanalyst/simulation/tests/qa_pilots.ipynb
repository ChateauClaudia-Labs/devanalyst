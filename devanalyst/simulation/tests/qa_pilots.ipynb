{
 "cells": [
  {
   "cell_type": "code",
   "execution_count": 1,
   "metadata": {},
   "outputs": [],
   "source": [
    "import pandas as pd\n",
    "import numpy as np\n",
    "import math\n",
    "from random import choices\n",
    "import seaborn as sns\n",
    "from datetime import datetime\n",
    "import matplotlib.pyplot as plt\n",
    "import statistics"
   ]
  },
  {
   "cell_type": "code",
   "execution_count": 2,
   "metadata": {},
   "outputs": [
    {
     "name": "stdout",
     "output_type": "stream",
     "text": [
      "importing Jupyter notebook from c:\\alex\\code\\labs\\devanalyst\\devanalyst\\simulation\\statics.ipynb\n",
      "importing Jupyter notebook from c:\\alex\\code\\labs\\devanalyst\\devanalyst\\simulation\\GenerateTimecards.ipynb\n",
      "importing Jupyter notebook from c:\\alex\\code\\labs\\devanalyst\\devanalyst\\simulation\\simulationModels.ipynb\n"
     ]
    }
   ],
   "source": [
    "import devanalyst.simulation.statics as S_\n",
    "import devanalyst.simulation.GenerateTimecards as timecard\n",
    "from devanalyst.simulation.GenerateTimecards import WorkAssignments\n",
    "from devanalyst.simulation.simulationModels import BalancedAllocationModel, GreedyAllocationModel, ModelsConfig, \\\n",
    "Distribution, DefaultCostModel"
   ]
  },
  {
   "cell_type": "code",
   "execution_count": 3,
   "metadata": {},
   "outputs": [
    {
     "name": "stdout",
     "output_type": "stream",
     "text": [
      "importing Jupyter notebook from c:\\alex\\code\\labs\\devanalyst\\devanalyst\\simulation\\tests\\test_utils.ipynb\n"
     ]
    }
   ],
   "source": [
    "import devanalyst.simulation.tests.test_utils as tu_"
   ]
  },
  {
   "cell_type": "code",
   "execution_count": 4,
   "metadata": {},
   "outputs": [
    {
     "name": "stdout",
     "output_type": "stream",
     "text": [
      "importing Jupyter notebook from c:\\alex\\code\\labs\\devanalyst\\devanalyst\\simulation\\visualizations\\simm_visuals.ipynb\n"
     ]
    }
   ],
   "source": [
    "import devanalyst.simulation.visualizations.simm_visuals as simm_visuals"
   ]
  },
  {
   "cell_type": "markdown",
   "metadata": {},
   "source": [
    "<h1>Pilots</h1>"
   ]
  },
  {
   "cell_type": "markdown",
   "metadata": {},
   "source": [
    "<h2>Allocation across full release cycle - Pilot</h2>"
   ]
  },
  {
   "cell_type": "code",
   "execution_count": 7,
   "metadata": {
    "code_folding": [
     0
    ]
   },
   "outputs": [],
   "source": [
    "def getPlans(work):\n",
    "    unassigned = work.allocations[S_.UNPLANNED][S_.OWNER_TBD]\n",
    "    unplanned = []\n",
    "    unplanned.extend(unassigned[S_.BUGS_ON_COMPLETED_STORIES])\n",
    "    unplanned.extend(unassigned[S_.BUGS_ON_UNFINISHED_STORIES])\n",
    "    unplanned.extend(unassigned[S_.UNFINISHED_STORIES])\n",
    "    \n",
    "    planned_CURRENT_SPRINT = []\n",
    "    subwork = work.allocations[S_.CURRENT_SPRINT]\n",
    "    for person in subwork.keys():\n",
    "        planned_CURRENT_SPRINT.extend(subwork[person][S_.BUGS_ON_COMPLETED_STORIES])\n",
    "        planned_CURRENT_SPRINT.extend(subwork[person][S_.BUGS_ON_UNFINISHED_STORIES])\n",
    "        planned_CURRENT_SPRINT.extend(subwork[person][S_.UNFINISHED_STORIES])\n",
    "\n",
    "    planned_NEXT_SPRINT = []\n",
    "    subwork = work.allocations[S_.NEXT_SPRINT]\n",
    "    for person in subwork.keys():\n",
    "        planned_NEXT_SPRINT.extend(subwork[person][S_.BUGS_ON_COMPLETED_STORIES])\n",
    "        planned_NEXT_SPRINT.extend(subwork[person][S_.BUGS_ON_UNFINISHED_STORIES])\n",
    "        planned_NEXT_SPRINT.extend(subwork[person][S_.UNFINISHED_STORIES])\n",
    "\n",
    "            \n",
    "    return planned_CURRENT_SPRINT, planned_NEXT_SPRINT, unplanned"
   ]
  },
  {
   "cell_type": "code",
   "execution_count": 8,
   "metadata": {
    "code_folding": []
   },
   "outputs": [],
   "source": [
    "def captureReleasePlans():    \n",
    "# Run a release cycle and capture all the plans at the start and end of each sprint\n",
    "    output = {}\n",
    "\n",
    "    SPRINT_DURATION = 10\n",
    "    NUMBER_OF_SPRINTS = 15\n",
    "    EXTRA_SPRINTS_BUFFER = 5 # Buffer to finish up work that didn't fit into the intended number of sprints\n",
    "    RELEASE_DURATION = SPRINT_DURATION * NUMBER_OF_SPRINTS\n",
    "\n",
    "    # Configure models\n",
    "    model = GreedyAllocationModel(SPRINT_DURATION) \n",
    "    modelsConfig = ModelsConfig([], [], model)\n",
    "    modelsConfig.random.reset(271)\n",
    "\n",
    "    teams_df, stories_df, teamsRepo, storiesRepo, ticketsRepo = tu_.initTestData(tu_.DEV_DF, tu_.PM_DF, \\\n",
    "                                                                             RELEASE_DURATION, SPRINT_DURATION, modelsConfig)\n",
    "    # Select a team\n",
    "    teamId = teams_df['Scrum Team'][0].teamId\n",
    "\n",
    "    # Go through the sprints\n",
    "    for n in range(NUMBER_OF_SPRINTS + EXTRA_SPRINTS_BUFFER):\n",
    "        sprint = n+1\n",
    "        output[sprint] = {}\n",
    "        \n",
    "        work = WorkAssignments(teamId, teamsRepo, storiesRepo, sprint) \n",
    "        \n",
    "        #Debugging\n",
    "        if (sprint==1):\n",
    "            committed_df = work.committedTime(SPRINT_DURATION)\n",
    "            tasks_df = work.committedTasks()\n",
    "\n",
    "        planned_start_CURRENT_SPRINT, planned_start_NEXT_SPRINT, unplanned_start = getPlans(work)\n",
    "        output[sprint]['planned_start_CURRENT_SPRINT'] = planned_start_CURRENT_SPRINT\n",
    "        output[sprint]['planned_start_NEXT_SPRINT'] = planned_start_NEXT_SPRINT\n",
    "        output[sprint]['unplanned_start'] = unplanned_start\n",
    "\n",
    "        work = timecard.chooseWhatToDoInSprint(teamId, teamsRepo, storiesRepo, SPRINT_DURATION, modelsConfig, sprint)           \n",
    "        timecard.deliverSprint(teamId, teamsRepo, ticketsRepo, storiesRepo, work, SPRINT_DURATION, modelsConfig) # mutates 'work'\n",
    "        inflow = timecard.inflowOfTickets(teamId, teamsRepo, ticketsRepo, storiesRepo)\n",
    "        timecard.updateBacklogAfterSprint(teamId, teamsRepo, ticketsRepo, storiesRepo, work, inflow) # Does not mutate 'work'\n",
    "    \n",
    "        planned_end_CURRENT_SPRINT, planned_end_NEXT_SPRINT, unplanned_end = getPlans(work)\n",
    "        output[sprint]['planned_end_CURRENT_SPRINT'] = planned_end_CURRENT_SPRINT\n",
    "        output[sprint]['planned_end_NEXT_SPRINT'] = planned_end_NEXT_SPRINT\n",
    "        output[sprint]['unplanned_end'] = unplanned_end\n",
    "    \n",
    "    return output, committed_df, tasks_df, teamsRepo, storiesRepo, modelsConfig\n",
    "plans, c1, t1, TEAMS_REPO, STORIES_REPO, MODELS_CONFIG = captureReleasePlans()"
   ]
  },
  {
   "cell_type": "code",
   "execution_count": 9,
   "metadata": {
    "code_folding": [
     0,
     10
    ]
   },
   "outputs": [],
   "source": [
    "def _buildDistribution(snapshot, model):\n",
    "    distribution = {}\n",
    "    for e in snapshot:\n",
    "        x = model._getBin(e)                       \n",
    "        if x in distribution:\n",
    "            distribution[x] = distribution[x] + 1\n",
    "        else:\n",
    "            distribution[x] = 1                \n",
    "    return distribution    \n",
    "\n",
    "def _calcSnapshotDistance(snapshot1, snapshot2, model):\n",
    "    return model._measureDistributionDistance(_buildDistribution(snapshot1, model), \\\n",
    "                                             _buildDistribution(snapshot2, model))"
   ]
  },
  {
   "cell_type": "code",
   "execution_count": 10,
   "metadata": {
    "code_folding": [
     0,
     27
    ]
   },
   "outputs": [],
   "source": [
    "def _plotPlansHelper(sprint, releasePlans, sprintDuration, figure, snapshot, ax, color):\n",
    "\n",
    "    #ax = figure.add_subplot(2,3,ax_idx)\n",
    "    \n",
    "    data = []\n",
    "    target = []\n",
    "    if sprint -1 < len(releasePlans): # sprints start at 1, 2, 3, ... wheras len(releasePlans) goes 0, 1, 2, ..., \n",
    "        for item in releasePlans[sprint][snapshot]:\n",
    "            data.append(item.estimate)\n",
    "        for item in releasePlans[sprint]['unplanned_start']:\n",
    "            target.append(item.estimate)\n",
    "            \n",
    "    sns.distplot(data, bins=sprintDuration, color=color, ax=ax)\n",
    "    #ax1.legend(loc ='best')\n",
    "    ax.set_title(snapshot)\n",
    "    if len(data)==0:\n",
    "        mean = 0\n",
    "    else:\n",
    "        mean = statistics.mean(data)\n",
    "        \n",
    "    model = BalancedAllocationModel(sprintDuration)\n",
    "\n",
    "    \n",
    "    distance = _calcSnapshotDistance(data, target, model)\n",
    "    \n",
    "    ax.set_xlabel('size=' + str(len(data)) + '; mean=' + str(round(mean, 2)) + '; distance=' + str(round(distance,2)))\n",
    "    \n",
    "def plotPlans(sprint, releasePlans, sprintDuration):\n",
    "    #fig = plt.figure()\n",
    "\n",
    "    fig, axs = plt.subplots(2, 3)   \n",
    "\n",
    "    fig.suptitle('--------------------------------------------- SPRINT '+ str(sprint) + \n",
    "                 ' ---------------------------------------------', fontsize=16, y=1.4, x=1)\n",
    "\n",
    "    _plotPlansHelper(sprint, releasePlans, sprintDuration, fig, 'unplanned_start', axs[0][0], 'g')\n",
    "    _plotPlansHelper(sprint, releasePlans, sprintDuration, fig, 'planned_start_CURRENT_SPRINT', axs[0][1], 'b')\n",
    "    _plotPlansHelper(sprint, releasePlans, sprintDuration, fig, 'planned_start_NEXT_SPRINT', axs[0][2], 'b')\n",
    "    _plotPlansHelper(sprint, releasePlans, sprintDuration, fig, 'unplanned_end', axs[1][0], 'g')\n",
    "    _plotPlansHelper(sprint, releasePlans, sprintDuration, fig, 'planned_end_CURRENT_SPRINT', axs[1][1], 'b')\n",
    "    _plotPlansHelper(sprint, releasePlans, sprintDuration, fig, 'planned_end_NEXT_SPRINT', axs[1][2], 'b')\n",
    "    \n",
    "    plt.subplots_adjust(top=1.2, right=2.3, wspace=0.3, hspace=0.5)"
   ]
  },
  {
   "cell_type": "code",
   "execution_count": 11,
   "metadata": {},
   "outputs": [
    {
     "ename": "AttributeError",
     "evalue": "'BalancedAllocationModel' object has no attribute '_measureDistributionDistance'",
     "output_type": "error",
     "traceback": [
      "\u001b[1;31m---------------------------------------------------------------------------\u001b[0m",
      "\u001b[1;31mAttributeError\u001b[0m                            Traceback (most recent call last)",
      "\u001b[1;32m<ipython-input-11-6ceb1dbf9192>\u001b[0m in \u001b[0;36m<module>\u001b[1;34m\u001b[0m\n\u001b[1;32m----> 1\u001b[1;33m \u001b[0mplotPlans\u001b[0m\u001b[1;33m(\u001b[0m\u001b[1;36m1\u001b[0m\u001b[1;33m,\u001b[0m \u001b[0mplans\u001b[0m\u001b[1;33m,\u001b[0m \u001b[1;36m10\u001b[0m\u001b[1;33m)\u001b[0m\u001b[1;33m\u001b[0m\u001b[1;33m\u001b[0m\u001b[0m\n\u001b[0m",
      "\u001b[1;32m<ipython-input-10-80d0e05e4333>\u001b[0m in \u001b[0;36mplotPlans\u001b[1;34m(sprint, releasePlans, sprintDuration)\u001b[0m\n\u001b[0;32m     34\u001b[0m                  ' ---------------------------------------------', fontsize=16, y=1.4, x=1)\n\u001b[0;32m     35\u001b[0m \u001b[1;33m\u001b[0m\u001b[0m\n\u001b[1;32m---> 36\u001b[1;33m     \u001b[0m_plotPlansHelper\u001b[0m\u001b[1;33m(\u001b[0m\u001b[0msprint\u001b[0m\u001b[1;33m,\u001b[0m \u001b[0mreleasePlans\u001b[0m\u001b[1;33m,\u001b[0m \u001b[0msprintDuration\u001b[0m\u001b[1;33m,\u001b[0m \u001b[0mfig\u001b[0m\u001b[1;33m,\u001b[0m \u001b[1;34m'unplanned_start'\u001b[0m\u001b[1;33m,\u001b[0m \u001b[0maxs\u001b[0m\u001b[1;33m[\u001b[0m\u001b[1;36m0\u001b[0m\u001b[1;33m]\u001b[0m\u001b[1;33m[\u001b[0m\u001b[1;36m0\u001b[0m\u001b[1;33m]\u001b[0m\u001b[1;33m,\u001b[0m \u001b[1;34m'g'\u001b[0m\u001b[1;33m)\u001b[0m\u001b[1;33m\u001b[0m\u001b[1;33m\u001b[0m\u001b[0m\n\u001b[0m\u001b[0;32m     37\u001b[0m     \u001b[0m_plotPlansHelper\u001b[0m\u001b[1;33m(\u001b[0m\u001b[0msprint\u001b[0m\u001b[1;33m,\u001b[0m \u001b[0mreleasePlans\u001b[0m\u001b[1;33m,\u001b[0m \u001b[0msprintDuration\u001b[0m\u001b[1;33m,\u001b[0m \u001b[0mfig\u001b[0m\u001b[1;33m,\u001b[0m \u001b[1;34m'planned_start_CURRENT_SPRINT'\u001b[0m\u001b[1;33m,\u001b[0m \u001b[0maxs\u001b[0m\u001b[1;33m[\u001b[0m\u001b[1;36m0\u001b[0m\u001b[1;33m]\u001b[0m\u001b[1;33m[\u001b[0m\u001b[1;36m1\u001b[0m\u001b[1;33m]\u001b[0m\u001b[1;33m,\u001b[0m \u001b[1;34m'b'\u001b[0m\u001b[1;33m)\u001b[0m\u001b[1;33m\u001b[0m\u001b[1;33m\u001b[0m\u001b[0m\n\u001b[0;32m     38\u001b[0m     \u001b[0m_plotPlansHelper\u001b[0m\u001b[1;33m(\u001b[0m\u001b[0msprint\u001b[0m\u001b[1;33m,\u001b[0m \u001b[0mreleasePlans\u001b[0m\u001b[1;33m,\u001b[0m \u001b[0msprintDuration\u001b[0m\u001b[1;33m,\u001b[0m \u001b[0mfig\u001b[0m\u001b[1;33m,\u001b[0m \u001b[1;34m'planned_start_NEXT_SPRINT'\u001b[0m\u001b[1;33m,\u001b[0m \u001b[0maxs\u001b[0m\u001b[1;33m[\u001b[0m\u001b[1;36m0\u001b[0m\u001b[1;33m]\u001b[0m\u001b[1;33m[\u001b[0m\u001b[1;36m2\u001b[0m\u001b[1;33m]\u001b[0m\u001b[1;33m,\u001b[0m \u001b[1;34m'b'\u001b[0m\u001b[1;33m)\u001b[0m\u001b[1;33m\u001b[0m\u001b[1;33m\u001b[0m\u001b[0m\n",
      "\u001b[1;32m<ipython-input-10-80d0e05e4333>\u001b[0m in \u001b[0;36m_plotPlansHelper\u001b[1;34m(sprint, releasePlans, sprintDuration, figure, snapshot, ax, color)\u001b[0m\n\u001b[0;32m     22\u001b[0m \u001b[1;33m\u001b[0m\u001b[0m\n\u001b[0;32m     23\u001b[0m \u001b[1;33m\u001b[0m\u001b[0m\n\u001b[1;32m---> 24\u001b[1;33m     \u001b[0mdistance\u001b[0m \u001b[1;33m=\u001b[0m \u001b[0m_calcSnapshotDistance\u001b[0m\u001b[1;33m(\u001b[0m\u001b[0mdata\u001b[0m\u001b[1;33m,\u001b[0m \u001b[0mtarget\u001b[0m\u001b[1;33m,\u001b[0m \u001b[0mmodel\u001b[0m\u001b[1;33m)\u001b[0m\u001b[1;33m\u001b[0m\u001b[1;33m\u001b[0m\u001b[0m\n\u001b[0m\u001b[0;32m     25\u001b[0m \u001b[1;33m\u001b[0m\u001b[0m\n\u001b[0;32m     26\u001b[0m     \u001b[0max\u001b[0m\u001b[1;33m.\u001b[0m\u001b[0mset_xlabel\u001b[0m\u001b[1;33m(\u001b[0m\u001b[1;34m'size='\u001b[0m \u001b[1;33m+\u001b[0m \u001b[0mstr\u001b[0m\u001b[1;33m(\u001b[0m\u001b[0mlen\u001b[0m\u001b[1;33m(\u001b[0m\u001b[0mdata\u001b[0m\u001b[1;33m)\u001b[0m\u001b[1;33m)\u001b[0m \u001b[1;33m+\u001b[0m \u001b[1;34m'; mean='\u001b[0m \u001b[1;33m+\u001b[0m \u001b[0mstr\u001b[0m\u001b[1;33m(\u001b[0m\u001b[0mround\u001b[0m\u001b[1;33m(\u001b[0m\u001b[0mmean\u001b[0m\u001b[1;33m,\u001b[0m \u001b[1;36m2\u001b[0m\u001b[1;33m)\u001b[0m\u001b[1;33m)\u001b[0m \u001b[1;33m+\u001b[0m \u001b[1;34m'; distance='\u001b[0m \u001b[1;33m+\u001b[0m \u001b[0mstr\u001b[0m\u001b[1;33m(\u001b[0m\u001b[0mround\u001b[0m\u001b[1;33m(\u001b[0m\u001b[0mdistance\u001b[0m\u001b[1;33m,\u001b[0m\u001b[1;36m2\u001b[0m\u001b[1;33m)\u001b[0m\u001b[1;33m)\u001b[0m\u001b[1;33m)\u001b[0m\u001b[1;33m\u001b[0m\u001b[1;33m\u001b[0m\u001b[0m\n",
      "\u001b[1;32m<ipython-input-9-13a350e9e344>\u001b[0m in \u001b[0;36m_calcSnapshotDistance\u001b[1;34m(snapshot1, snapshot2, model)\u001b[0m\n\u001b[0;32m     10\u001b[0m \u001b[1;33m\u001b[0m\u001b[0m\n\u001b[0;32m     11\u001b[0m \u001b[1;32mdef\u001b[0m \u001b[0m_calcSnapshotDistance\u001b[0m\u001b[1;33m(\u001b[0m\u001b[0msnapshot1\u001b[0m\u001b[1;33m,\u001b[0m \u001b[0msnapshot2\u001b[0m\u001b[1;33m,\u001b[0m \u001b[0mmodel\u001b[0m\u001b[1;33m)\u001b[0m\u001b[1;33m:\u001b[0m\u001b[1;33m\u001b[0m\u001b[1;33m\u001b[0m\u001b[0m\n\u001b[1;32m---> 12\u001b[1;33m     return model._measureDistributionDistance(_buildDistribution(snapshot1, model), \\\n\u001b[0m\u001b[0;32m     13\u001b[0m                                              _buildDistribution(snapshot2, model))\n",
      "\u001b[1;31mAttributeError\u001b[0m: 'BalancedAllocationModel' object has no attribute '_measureDistributionDistance'"
     ]
    },
    {
     "data": {
      "image/png": "[encoded data removed]",
      "text/plain": [
       "<Figure size 432x288 with 6 Axes>"
      ]
     },
     "metadata": {
      "needs_background": "light"
     },
     "output_type": "display_data"
    }
   ],
   "source": [
    "plotPlans(1, plans, 10)"
   ]
  },
  {
   "cell_type": "code",
   "execution_count": null,
   "metadata": {},
   "outputs": [],
   "source": [
    "plotPlans(2, plans, 10)"
   ]
  },
  {
   "cell_type": "code",
   "execution_count": null,
   "metadata": {},
   "outputs": [],
   "source": [
    "plotPlans(3, plans, 10)"
   ]
  },
  {
   "cell_type": "code",
   "execution_count": null,
   "metadata": {},
   "outputs": [],
   "source": [
    "plotPlans(4, plans, 10)"
   ]
  },
  {
   "cell_type": "code",
   "execution_count": null,
   "metadata": {},
   "outputs": [],
   "source": [
    "plotPlans(5, plans, 10)"
   ]
  },
  {
   "cell_type": "code",
   "execution_count": null,
   "metadata": {},
   "outputs": [],
   "source": [
    "plotPlans(6, plans, 10)"
   ]
  },
  {
   "cell_type": "code",
   "execution_count": null,
   "metadata": {},
   "outputs": [],
   "source": [
    "plotPlans(7, plans, 10)"
   ]
  },
  {
   "cell_type": "code",
   "execution_count": null,
   "metadata": {},
   "outputs": [],
   "source": [
    "plotPlans(8, plans, 10)"
   ]
  },
  {
   "cell_type": "code",
   "execution_count": null,
   "metadata": {},
   "outputs": [],
   "source": [
    "plotPlans(9, plans, 10)"
   ]
  },
  {
   "cell_type": "code",
   "execution_count": null,
   "metadata": {},
   "outputs": [],
   "source": [
    "plotPlans(10, plans, 10)"
   ]
  },
  {
   "cell_type": "code",
   "execution_count": null,
   "metadata": {},
   "outputs": [],
   "source": [
    "plotPlans(11, plans, 10)"
   ]
  },
  {
   "cell_type": "code",
   "execution_count": null,
   "metadata": {},
   "outputs": [],
   "source": [
    "plotPlans(12, plans, 10)"
   ]
  },
  {
   "cell_type": "code",
   "execution_count": null,
   "metadata": {},
   "outputs": [],
   "source": [
    "plotPlans(13, plans, 10)"
   ]
  },
  {
   "cell_type": "code",
   "execution_count": null,
   "metadata": {},
   "outputs": [],
   "source": [
    "plotPlans(14, plans, 10)"
   ]
  },
  {
   "cell_type": "code",
   "execution_count": null,
   "metadata": {},
   "outputs": [],
   "source": [
    "plotPlans(15, plans, 10)"
   ]
  },
  {
   "cell_type": "code",
   "execution_count": null,
   "metadata": {},
   "outputs": [],
   "source": [
    "plotPlans(16, plans, 10)"
   ]
  },
  {
   "cell_type": "code",
   "execution_count": null,
   "metadata": {},
   "outputs": [],
   "source": [
    "plotPlans(17, plans, 10)"
   ]
  },
  {
   "cell_type": "markdown",
   "metadata": {},
   "source": [
    "<h2>Burnout in release cycle - Pilot</h2>"
   ]
  },
  {
   "cell_type": "code",
   "execution_count": null,
   "metadata": {},
   "outputs": [],
   "source": [
    "# \n",
    "def genReleaseCycle(modelsConfig):\n",
    "    RELEASE_DURATION = 60\n",
    "    SPRINT_DURATION = 10\n",
    "    \n",
    "    tu_.loadTestResources()\n",
    "    \n",
    "    teams_df, stories_df, teamsRepo, storiesRepo, ticketsRepo = tu_.initTestData(tu_.DEV_DF, \\\n",
    "                                                                                           tu_.PM_DF, \\\n",
    "                                                                                           RELEASE_DURATION, \\\n",
    "                                                                                           SPRINT_DURATION, \\\n",
    "                                                                                          modelsConfig)\n",
    "    \n",
    "    NUMBER_OF_SPRINTS = 25\n",
    "\n",
    "    entries_df, worksheets = timecard.runReleaseCycle(teamsRepo, ticketsRepo, storiesRepo, datetime(2018, 1, 15), \\\n",
    "                                                   SPRINT_DURATION, NUMBER_OF_SPRINTS, modelsConfig)    \n",
    "    \n",
    "    return entries_df, worksheets, storiesRepo"
   ]
  },
  {
   "cell_type": "code",
   "execution_count": null,
   "metadata": {},
   "outputs": [],
   "source": [
    "def genBurnout(entries_df, storiesRepo):\n",
    "    bystory = entries_df.groupby('User Story')\n",
    "    u = bystory.apply(storyInfo, storiesRepo)\n",
    "    \n",
    "    \n",
    "    u = u.reset_index()\n",
    "    u.drop(['level_1'], axis='columns', inplace=True)\n",
    "    s = u.groupby('Final Sprint')\n",
    "    burnout = s.apply(sprintInfo)\n",
    "    burnout = burnout.reset_index()\n",
    "    burnout.drop(['level_1'], axis='columns', inplace=True)\n",
    "    \n",
    "\n",
    "    return burnout, u"
   ]
  },
  {
   "cell_type": "code",
   "execution_count": null,
   "metadata": {},
   "outputs": [],
   "source": [
    "\n"
   ]
  },
  {
   "cell_type": "code",
   "execution_count": null,
   "metadata": {},
   "outputs": [],
   "source": [
    "def storyInfo(group_df, storiesRepo):\n",
    "    info = {}\n",
    "    \n",
    "    #Go back, as min['Date'] is end of first sprint\n",
    "    info['Start'] = [timecard.subtractBusinessDays(group_df['Date'].min(), SPRINT_DURATION)] \n",
    "    info['End'] = [group_df['Date'].max()]\n",
    "    info['Elapsed Time'] = (info['End'][0] - info['Start'][0]).days\n",
    "    info['Effort'] = group_df['Time Spent'].sum()\n",
    "    info['Initial Sprint'] = [group_df['Sprint'].min()]\n",
    "    info['Final Sprint'] = [group_df['Sprint'].max()]  \n",
    "    '''\n",
    "    userStoryId = group_df['User Story']\n",
    "    userStory = storiesRepo.findStory(userStoryId)\n",
    "    info['Original estimate'] = userStory.originalEstimate    \n",
    "    '''\n",
    "    \n",
    "    return pd.DataFrame(info)"
   ]
  },
  {
   "cell_type": "code",
   "execution_count": null,
   "metadata": {},
   "outputs": [],
   "source": [
    "def sprintInfo(group_df):\n",
    "    info = {}\n",
    "    \n",
    "    info['Effort'] = group_df['Effort'].sum()\n",
    "    info['Avg Effort'] = group_df['Effort'].mean()\n",
    "    info['Stories Completed'] = [group_df['User Story'].count()]\n",
    "    info['Over 1 sprint'] = [group_df[group_df['Elapsed Time']==14]['User Story'].count()]\n",
    "    info['Over 2 sprint'] = [group_df[group_df['Elapsed Time']==28]['User Story'].count()]\n",
    "    info['Over 3 sprint'] = [group_df[group_df['Elapsed Time']==42]['User Story'].count()]\n",
    "    info['Over 4 sprint'] = [group_df[group_df['Elapsed Time']==56]['User Story'].count()]\n",
    " \n",
    "    \n",
    "    return pd.DataFrame(info)"
   ]
  },
  {
   "cell_type": "code",
   "execution_count": null,
   "metadata": {},
   "outputs": [],
   "source": [
    "SPRINT_DURATION = 10\n",
    "modelsConfig1 = ModelsConfig([DefaultCostModel(0.0)], [], BalancedAllocationModel(SPRINT_DURATION)) \n",
    "modelsConfig1.random.reset(271)\n",
    "entries_df1, worksheets1, storiesRepo = genReleaseCycle(modelsConfig1)"
   ]
  },
  {
   "cell_type": "code",
   "execution_count": null,
   "metadata": {},
   "outputs": [],
   "source": [
    "burn1, u1 = genBurnout(entries_df1, storiesRepo)\n",
    "burn1"
   ]
  },
  {
   "cell_type": "code",
   "execution_count": null,
   "metadata": {},
   "outputs": [],
   "source": [
    "u1"
   ]
  },
  {
   "cell_type": "code",
   "execution_count": null,
   "metadata": {},
   "outputs": [],
   "source": [
    "SPRINT_DURATION = 10\n",
    "modelsConfig2 = ModelsConfig([DefaultCostModel(0.0)], [], GreedyAllocationModel(SPRINT_DURATION)) \n",
    "modelsConfig2.random.reset(271)\n",
    "entries_df2, worksheets2, storiesRepo = genReleaseCycle(modelsConfig2)"
   ]
  },
  {
   "cell_type": "code",
   "execution_count": null,
   "metadata": {},
   "outputs": [],
   "source": [
    "burn2, u2 = genBurnout(entries_df2, storiesRepo)\n",
    "burn2"
   ]
  },
  {
   "cell_type": "code",
   "execution_count": null,
   "metadata": {},
   "outputs": [],
   "source": [
    "burn1['Effort'].plot(label = 'Balanced'), burn2['Effort'].plot(label = 'Greedy'), plt.legend()"
   ]
  },
  {
   "cell_type": "code",
   "execution_count": null,
   "metadata": {},
   "outputs": [],
   "source": [
    "burn1['Avg Effort'].plot(label = 'Balanced'), burn2['Avg Effort'].plot(label = 'Greedy'), plt.legend()"
   ]
  },
  {
   "cell_type": "code",
   "execution_count": null,
   "metadata": {},
   "outputs": [],
   "source": [
    "u1_10 = u1[u1['Final Sprint'] == 10]\n",
    "u1_10.shape"
   ]
  },
  {
   "cell_type": "code",
   "execution_count": null,
   "metadata": {},
   "outputs": [],
   "source": [
    "u1_10[u1_10['Initial Sprint'] == 10]['Effort'].mean()"
   ]
  },
  {
   "cell_type": "code",
   "execution_count": null,
   "metadata": {},
   "outputs": [],
   "source": [
    "u1_10['Effort'].mean()"
   ]
  },
  {
   "cell_type": "code",
   "execution_count": null,
   "metadata": {},
   "outputs": [],
   "source": [
    "u1_10[u1_10['Initial Sprint'] == 10].shape"
   ]
  },
  {
   "cell_type": "code",
   "execution_count": null,
   "metadata": {},
   "outputs": [],
   "source": [
    "u1_10[u1_10['Initial Sprint'] == 9]['Effort'].mean()"
   ]
  },
  {
   "cell_type": "code",
   "execution_count": null,
   "metadata": {},
   "outputs": [],
   "source": [
    "u1_10[u1_10['Initial Sprint'] == 9].shape"
   ]
  },
  {
   "cell_type": "code",
   "execution_count": null,
   "metadata": {},
   "outputs": [],
   "source": []
  }
 ],
 "metadata": {
  "kernelspec": {
   "display_name": "Python 3",
   "language": "python",
   "name": "python3"
  },
  "language_info": {
   "codemirror_mode": {
    "name": "ipython",
    "version": 3
   },
   "file_extension": ".py",
   "mimetype": "text/x-python",
   "name": "python",
   "nbconvert_exporter": "python",
   "pygments_lexer": "ipython3",
   "version": "3.7.1"
  }
 },
 "nbformat": 4,
 "nbformat_minor": 2
}
