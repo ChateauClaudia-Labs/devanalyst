{
 "cells": [
  {
   "cell_type": "code",
   "execution_count": 1,
   "metadata": {},
   "outputs": [],
   "source": [
    "import seaborn as sns\n",
    "import matplotlib.pyplot as plt\n",
    "import statistics"
   ]
  },
  {
   "cell_type": "code",
   "execution_count": 3,
   "metadata": {},
   "outputs": [
    {
     "name": "stdout",
     "output_type": "stream",
     "text": [
      "importing Jupyter notebook from c:\\alex\\code\\labs\\devanalyst\\devanalyst\\simulation\\statics.ipynb\n",
      "importing Jupyter notebook from c:\\alex\\code\\labs\\devanalyst\\devanalyst\\simulation\\simulationModels.ipynb\n",
      "importing Jupyter notebook from c:\\alex\\code\\labs\\devanalyst\\devanalyst\\simulation\\GenerateTimecards.ipynb\n"
     ]
    }
   ],
   "source": [
    "import devanalyst.simulation.statics as S_\n",
    "from devanalyst.simulation.simulationModels import Distribution"
   ]
  },
  {
   "cell_type": "markdown",
   "metadata": {},
   "source": [
    "<h1>Timecard Visualizations</h1>"
   ]
  },
  {
   "cell_type": "markdown",
   "metadata": {},
   "source": [
    "<h2>Visualize runReleaseCycle's log</h2>"
   ]
  },
  {
   "cell_type": "code",
   "execution_count": 18,
   "metadata": {
    "code_folding": []
   },
   "outputs": [],
   "source": [
    "def _getTarget(sprint, teamLog, targetPhase):\n",
    "    target = []\n",
    "    for item in teamLog[sprint]['unplanned_' + targetPhase]:\n",
    "        target.append(item.estimate)\n",
    "    return target"
   ]
  },
  {
   "cell_type": "code",
   "execution_count": 22,
   "metadata": {
    "code_folding": []
   },
   "outputs": [],
   "source": [
    "def _renderRCLHelper(sprint, teamLog, target, sprintDuration, figure, snapshot, ax, color):\n",
    "\n",
    "    data = []\n",
    "    for item in teamLog[sprint][snapshot]:\n",
    "        data.append(item.estimate)\n",
    "            \n",
    "    sns.distplot(data, bins=sprintDuration, color=color, ax=ax)\n",
    "    ax.set_title(snapshot)\n",
    "    if len(data)==0:\n",
    "        mean = 0\n",
    "    else:\n",
    "        mean = statistics.mean(data)\n",
    "        \n",
    "    dataDist = Distribution.sample_to_dist(data, sprintDuration)\n",
    "    targetDist = Distribution.sample_to_dist(target, sprintDuration)\n",
    "    distance = Distribution.measureDistributionDistance(dataDist, targetDist)\n",
    "    \n",
    "    ax.set_xlabel('size=' + str(len(data)) + '; mean=' + str(round(mean, 2)) + '; distance=' + str(round(distance,2)))"
   ]
  },
  {
   "cell_type": "code",
   "execution_count": 21,
   "metadata": {
    "code_folding": []
   },
   "outputs": [],
   "source": [
    "# -release_log: a ReleaseLog instance.\n",
    "def renderReleaseCycleLog(teamId, release_log, sprintDuration, first, last):\n",
    "    \n",
    "    sprints = list(release_log.log[teamId].keys())\n",
    "    log = release_log.log # release_log is a ReleaseLog instance, and 'log' is a dict\n",
    "    \n",
    "    phases = ['T0','T1','T2','T3']\n",
    "    \n",
    "    for sprint in sprints:\n",
    "        if sprint < first or sprint > last: # Only run for the chosen sprints\n",
    "            continue\n",
    "        target = _getTarget(sprint, log[teamId], 'T0')\n",
    "            \n",
    "        fig, axs = plt.subplots(len(phases), 3)   \n",
    "\n",
    "        fig.suptitle('--------------------------------------------- SPRINT '+ str(sprint) + \n",
    "                     ' ---------------------------------------------', fontsize=16, y=1.4, x=1)\n",
    "\n",
    "        for idx in range(len(phases)):\n",
    "            phase = phases[idx]\n",
    "            _renderRCLHelper(sprint, log[teamId], target, sprintDuration, fig, \\\n",
    "                            'unplanned_' + phase, axs[idx][0], 'g')\n",
    "            _renderRCLHelper(sprint, log[teamId], target, sprintDuration, fig, \\\n",
    "                            'planned_' + phase + '_CURRENT_SPRINT', axs[idx][1], 'b')\n",
    "            _renderRCLHelper(sprint, log[teamId], target, sprintDuration, fig, \\\n",
    "                            'planned_' + phase + '_NEXT_SPRINT', axs[idx][2], 'b')\n",
    "                             \n",
    "        plt.subplots_adjust(top=1.2, right=2.3, wspace=0.3, hspace=1.5)"
   ]
  },
  {
   "cell_type": "code",
   "execution_count": null,
   "metadata": {},
   "outputs": [],
   "source": []
  }
 ],
 "metadata": {
  "kernelspec": {
   "display_name": "Python 3",
   "language": "python",
   "name": "python3"
  },
  "language_info": {
   "codemirror_mode": {
    "name": "ipython",
    "version": 3
   },
   "file_extension": ".py",
   "mimetype": "text/x-python",
   "name": "python",
   "nbconvert_exporter": "python",
   "pygments_lexer": "ipython3",
   "version": "3.7.1"
  }
 },
 "nbformat": 4,
 "nbformat_minor": 2
}
