{
 "cells": [
  {
   "cell_type": "code",
   "execution_count": 112,
   "metadata": {},
   "outputs": [],
   "source": [
    "#import unittest\n",
    "#from unittest import TestCase\n",
    "import pandas as pd\n",
    "import os, sys\n",
    "from io import StringIO\n",
    "import pkg_resources\n",
    "import importlib\n",
    "from colorama import Fore, Back, Style "
   ]
  },
  {
   "cell_type": "code",
   "execution_count": 113,
   "metadata": {},
   "outputs": [],
   "source": [
    "import devanalyst.simulation.GenerateTimecards as timecards\n",
    "from devanalyst.simulation.GenerateTimecards import UserStoriesRepo, UserStory, UserStoryStatus, Ticket, TicketsRepo"
   ]
  },
  {
   "cell_type": "code",
   "execution_count": 114,
   "metadata": {},
   "outputs": [],
   "source": [
    "# Reloads the devanalyst modules used in this notebook. Useful to refresh after code changes in the devanalyst modules\n",
    "def reload():\n",
    "    global timecards\n",
    "    timecards = importlib.import_module('devanalyst.simulation.GenerateTimecards')\n",
    "    timecards = importlib.reload(timecards)"
   ]
  },
  {
   "cell_type": "code",
   "execution_count": 115,
   "metadata": {},
   "outputs": [],
   "source": [
    "# Re-run this each time the source code changes, so that we have the latest version\n",
    "#reload()"
   ]
  },
  {
   "cell_type": "code",
   "execution_count": 116,
   "metadata": {},
   "outputs": [],
   "source": [
    "#globals used in this test\n",
    "PM_DF = None\n",
    "DEV_DF = None\n",
    "TEAMS_DF = None"
   ]
  },
  {
   "cell_type": "code",
   "execution_count": 117,
   "metadata": {},
   "outputs": [],
   "source": [
    "def loadTestResources():\n",
    "    global PM_DF\n",
    "    global DEV_DF\n",
    "    resource_path = '/'.join(('Resources', 'Simulation', 'Team.xlsx'))\n",
    "    resource_package = 'devanalyst'\n",
    "    fullpath = pkg_resources.resource_filename(resource_package, resource_path)\n",
    "    PM_DF = pd.read_excel(fullpath, 'PMs')\n",
    "    DEV_DF = pd.read_excel(fullpath, 'Dev')"
   ]
  },
  {
   "cell_type": "markdown",
   "metadata": {},
   "source": [
    "<h1>Test User Story Status</h1>"
   ]
  },
  {
   "cell_type": "code",
   "execution_count": 118,
   "metadata": {},
   "outputs": [],
   "source": [
    "# Helper methods to the test\n",
    "def format_ticket(ticket):\n",
    "    return ('Ticket:' + ticket.ticketId \\\n",
    "            + ',\\n\\t\\t storyId=' + ticket.userStoryId \\\n",
    "            + ',\\n\\t\\t costToFix=' + str(ticket.costToFix) \\\n",
    "            + ',\\n\\t\\t effortToDate=' + str(ticket.effortToDate) \\\n",
    "            + ',\\n\\t\\t percentAchieved=' + str(ticket.percentAchieved))\n",
    "                \n",
    "def format_tickets(tickets):\n",
    "    output = ''\n",
    "    for ticket in tickets:\n",
    "        output = output + '\\n\\t\\t{' + format_ticket(ticket) + '}'\n",
    "    return output\n",
    "            \n",
    "def format_uss(uss):\n",
    "    return ('\\n *** USS:' + uss.userStoryId \\\n",
    "            + '\\n\\t achieved=' + str(uss.percentAchieved) \\\n",
    "            + ',\\n\\t planned=' + str(uss.planned) \\\n",
    "            + ',\\n\\t sprintPlanned=' + str(uss.sprintPlanned) \\\n",
    "            + ',\\n\\t tickets=' + format_tickets(uss.pendingTickets))\n",
    "\n",
    "\n",
    "def format_item(item, item_label, sprint, timeInSprint):\n",
    "    return ('\\n *** ' + item_label + ' at ' + timeInSprint + ' of sprint' + str(sprint) + ': ' \\\n",
    "            + '\\n\\t userStoryId=' + str(item.userStoryId) \\\n",
    "            + ',\\n\\t taskType=' + str(item.taskType) \\\n",
    "            + ',\\n\\t ticketId=' + str(item.ticketId) \\\n",
    "            + ',\\n\\t estimate=' + '{0:.2f}'.format(item.estimate) \\\n",
    "            + ',\\n\\t percentAchieved=' + str(item.percentAchieved)  \\\n",
    "            + ',\\n\\t sprintPlanned=' + str(item.sprintPlanned))\n",
    " \n",
    "def test_uss():\n",
    "    output = '' \n",
    "    repo = UserStoriesRepo([UserStory('Story A', 25, 'Joe Developer', 'Amy PM'), \\\n",
    "                          UserStory('Story B', 17, 'Alex Developer', 'Kate PM')])\n",
    "    uss = UserStoryStatus('Story B', 0.0)\n",
    "    uss.planned = True\n",
    "    uss.sprintPlanned = 1\n",
    "    output = output + (format_uss(uss))\n",
    "    item = uss.generateWorkItems(repo)[0]\n",
    "    output = output + (format_item(item, 'Item#1', 1, 'start'))\n",
    "    item.percentAchieved = 0.7\n",
    "    newTickets = [Ticket('Bug 100','Story B', 4), Ticket('Bug 101','Story B', 1.5)]\n",
    "    bugRepo = TicketsRepo(newTickets)\n",
    "    output = output + (format_item(item, 'Item#1', 1, 'end'))\n",
    "    uss.updateStatus([item], newTickets, bugRepo)\n",
    "    uss.sprintPlanned = 2\n",
    "    output = output + (format_uss(uss))\n",
    "\n",
    "    items = uss.generateWorkItems(repo)\n",
    "    item=items[0]\n",
    "    output = output + (format_item(item, 'Item#1', 2, 'start'))\n",
    "    item=items[1]\n",
    "    output = output + (format_item(item, 'Item#2', 2, 'start'))\n",
    "    item=items[2]\n",
    "    output = output + (format_item(item, 'Item#3', 2, 'start'))\n",
    "    items[0].percentAchieved = 0.9\n",
    "    items[1].percentAchieved = 1.0\n",
    "    items[2].percentAchieved = 0.5\n",
    "    item=items[0]\n",
    "    item=items[0]\n",
    "    item=items[1]\n",
    "    output = output + (format_item(item, 'Item#2', 2, 'end'))\n",
    "    item=items[2]\n",
    "    output = output + (format_item(item, 'Item#3', 2, 'end'))\n",
    "    uss.updateStatus(items, [], bugRepo)\n",
    "    output = output + (format_uss(uss))\n",
    "    return output"
   ]
  },
  {
   "cell_type": "code",
   "execution_count": 119,
   "metadata": {},
   "outputs": [],
   "source": [
    "# Expected output\n",
    "test_uss_EXPECTED = '\\n *** USS:Story B\\n\\t achieved=0.0,\\n\\t planned=True,\\n\\t sprintPlanned=1,\\n\\t tickets=\\n *** Item#1 at start of sprint1: \\n\\t userStoryId=Story B,\\n\\t taskType=UNFINISHED_STORIES,\\n\\t ticketId=None,\\n\\t estimate=17.00,\\n\\t percentAchieved=0.0,\\n\\t sprintPlanned=1\\n *** Item#1 at end of sprint1: \\n\\t userStoryId=Story B,\\n\\t taskType=UNFINISHED_STORIES,\\n\\t ticketId=None,\\n\\t estimate=17.00,\\n\\t percentAchieved=0.7,\\n\\t sprintPlanned=1\\n *** USS:Story B\\n\\t achieved=0.7,\\n\\t planned=True,\\n\\t sprintPlanned=2,\\n\\t tickets=\\n\\t\\t{Ticket:Bug 100,\\n\\t\\t storyId=Story B,\\n\\t\\t costToFix=4,\\n\\t\\t effortToDate=0.0,\\n\\t\\t percentAchieved=0.0}\\n\\t\\t{Ticket:Bug 101,\\n\\t\\t storyId=Story B,\\n\\t\\t costToFix=1.5,\\n\\t\\t effortToDate=0.0,\\n\\t\\t percentAchieved=0.0}\\n *** Item#1 at start of sprint2: \\n\\t userStoryId=Story B,\\n\\t taskType=UNFINISHED_STORIES,\\n\\t ticketId=None,\\n\\t estimate=5.10,\\n\\t percentAchieved=0.0,\\n\\t sprintPlanned=2\\n *** Item#2 at start of sprint2: \\n\\t userStoryId=Story B,\\n\\t taskType=BUGS_ON_UNFINISHED_STORIES,\\n\\t ticketId=Bug 100,\\n\\t estimate=2.00,\\n\\t percentAchieved=0.0,\\n\\t sprintPlanned=2\\n *** Item#3 at start of sprint2: \\n\\t userStoryId=Story B,\\n\\t taskType=BUGS_ON_UNFINISHED_STORIES,\\n\\t ticketId=Bug 101,\\n\\t estimate=2.00,\\n\\t percentAchieved=0.0,\\n\\t sprintPlanned=2\\n *** Item#2 at end of sprint2: \\n\\t userStoryId=Story B,\\n\\t taskType=BUGS_ON_UNFINISHED_STORIES,\\n\\t ticketId=Bug 100,\\n\\t estimate=2.00,\\n\\t percentAchieved=1.0,\\n\\t sprintPlanned=2\\n *** Item#3 at end of sprint2: \\n\\t userStoryId=Story B,\\n\\t taskType=BUGS_ON_UNFINISHED_STORIES,\\n\\t ticketId=Bug 101,\\n\\t estimate=2.00,\\n\\t percentAchieved=0.5,\\n\\t sprintPlanned=2\\n *** USS:Story B\\n\\t achieved=0.97,\\n\\t planned=True,\\n\\t sprintPlanned=2,\\n\\t tickets=\\n\\t\\t{Ticket:Bug 101,\\n\\t\\t storyId=Story B,\\n\\t\\t costToFix=1.5,\\n\\t\\t effortToDate=2.0,\\n\\t\\t percentAchieved=0.5}'"
   ]
  },
  {
   "cell_type": "code",
   "execution_count": 120,
   "metadata": {},
   "outputs": [],
   "source": [
    "test_uss_ACTUAL = test_uss()"
   ]
  },
  {
   "cell_type": "code",
   "execution_count": 121,
   "metadata": {},
   "outputs": [],
   "source": [
    "# Uncomment to update test_uss_EXPECTED with the value of test_uss_ACTUAL by copy-and-paste\n",
    "#test_uss_ACTUAL"
   ]
  },
  {
   "cell_type": "code",
   "execution_count": 122,
   "metadata": {
    "cell_style": "split"
   },
   "outputs": [
    {
     "name": "stdout",
     "output_type": "stream",
     "text": [
      "\u001b[44m\u001b[37m--------------------- ACTUAL ------------------------- \u001b[49m\u001b[34m\n",
      "\n",
      " *** USS:Story B\n",
      "\t achieved=0.0,\n",
      "\t planned=True,\n",
      "\t sprintPlanned=1,\n",
      "\t tickets=\n",
      " *** Item#1 at start of sprint1: \n",
      "\t userStoryId=Story B,\n",
      "\t taskType=UNFINISHED_STORIES,\n",
      "\t ticketId=None,\n",
      "\t estimate=17.00,\n",
      "\t percentAchieved=0.0,\n",
      "\t sprintPlanned=1\n",
      " *** Item#1 at end of sprint1: \n",
      "\t userStoryId=Story B,\n",
      "\t taskType=UNFINISHED_STORIES,\n",
      "\t ticketId=None,\n",
      "\t estimate=17.00,\n",
      "\t percentAchieved=0.7,\n",
      "\t sprintPlanned=1\n",
      " *** USS:Story B\n",
      "\t achieved=0.7,\n",
      "\t planned=True,\n",
      "\t sprintPlanned=2,\n",
      "\t tickets=\n",
      "\t\t{Ticket:Bug 100,\n",
      "\t\t storyId=Story B,\n",
      "\t\t costToFix=4,\n",
      "\t\t effortToDate=0.0,\n",
      "\t\t percentAchieved=0.0}\n",
      "\t\t{Ticket:Bug 101,\n",
      "\t\t storyId=Story B,\n",
      "\t\t costToFix=1.5,\n",
      "\t\t effortToDate=0.0,\n",
      "\t\t percentAchieved=0.0}\n",
      " *** Item#1 at start of sprint2: \n",
      "\t userStoryId=Story B,\n",
      "\t taskType=UNFINISHED_STORIES,\n",
      "\t ticketId=None,\n",
      "\t estimate=5.10,\n",
      "\t percentAchieved=0.0,\n",
      "\t sprintPlanned=2\n",
      " *** Item#2 at start of sprint2: \n",
      "\t userStoryId=Story B,\n",
      "\t taskType=BUGS_ON_UNFINISHED_STORIES,\n",
      "\t ticketId=Bug 100,\n",
      "\t estimate=2.00,\n",
      "\t percentAchieved=0.0,\n",
      "\t sprintPlanned=2\n",
      " *** Item#3 at start of sprint2: \n",
      "\t userStoryId=Story B,\n",
      "\t taskType=BUGS_ON_UNFINISHED_STORIES,\n",
      "\t ticketId=Bug 101,\n",
      "\t estimate=2.00,\n",
      "\t percentAchieved=0.0,\n",
      "\t sprintPlanned=2\n",
      " *** Item#2 at end of sprint2: \n",
      "\t userStoryId=Story B,\n",
      "\t taskType=BUGS_ON_UNFINISHED_STORIES,\n",
      "\t ticketId=Bug 100,\n",
      "\t estimate=2.00,\n",
      "\t percentAchieved=1.0,\n",
      "\t sprintPlanned=2\n",
      " *** Item#3 at end of sprint2: \n",
      "\t userStoryId=Story B,\n",
      "\t taskType=BUGS_ON_UNFINISHED_STORIES,\n",
      "\t ticketId=Bug 101,\n",
      "\t estimate=2.00,\n",
      "\t percentAchieved=0.5,\n",
      "\t sprintPlanned=2\n",
      " *** USS:Story B\n",
      "\t achieved=0.97,\n",
      "\t planned=True,\n",
      "\t sprintPlanned=2,\n",
      "\t tickets=\n",
      "\t\t{Ticket:Bug 101,\n",
      "\t\t storyId=Story B,\n",
      "\t\t costToFix=1.5,\n",
      "\t\t effortToDate=2.0,\n",
      "\t\t percentAchieved=0.5}\n"
     ]
    }
   ],
   "source": [
    "print(Back.BLUE + Fore.WHITE + '--------------------- ACTUAL -------------------------', \\\n",
    "      Back.RESET + Fore.BLUE + '\\n' + test_uss_ACTUAL) "
   ]
  },
  {
   "cell_type": "code",
   "execution_count": 123,
   "metadata": {
    "cell_style": "split"
   },
   "outputs": [
    {
     "name": "stdout",
     "output_type": "stream",
     "text": [
      "\u001b[42m\u001b[37m--------------------- EXPECTED ----------------------- \u001b[49m\u001b[32m\n",
      "\n",
      " *** USS:Story B\n",
      "\t achieved=0.0,\n",
      "\t planned=True,\n",
      "\t sprintPlanned=1,\n",
      "\t tickets=\n",
      " *** Item#1 at start of sprint1: \n",
      "\t userStoryId=Story B,\n",
      "\t taskType=UNFINISHED_STORIES,\n",
      "\t ticketId=None,\n",
      "\t estimate=17.00,\n",
      "\t percentAchieved=0.0,\n",
      "\t sprintPlanned=1\n",
      " *** Item#1 at end of sprint1: \n",
      "\t userStoryId=Story B,\n",
      "\t taskType=UNFINISHED_STORIES,\n",
      "\t ticketId=None,\n",
      "\t estimate=17.00,\n",
      "\t percentAchieved=0.7,\n",
      "\t sprintPlanned=1\n",
      " *** USS:Story B\n",
      "\t achieved=0.7,\n",
      "\t planned=True,\n",
      "\t sprintPlanned=2,\n",
      "\t tickets=\n",
      "\t\t{Ticket:Bug 100,\n",
      "\t\t storyId=Story B,\n",
      "\t\t costToFix=4,\n",
      "\t\t effortToDate=0.0,\n",
      "\t\t percentAchieved=0.0}\n",
      "\t\t{Ticket:Bug 101,\n",
      "\t\t storyId=Story B,\n",
      "\t\t costToFix=1.5,\n",
      "\t\t effortToDate=0.0,\n",
      "\t\t percentAchieved=0.0}\n",
      " *** Item#1 at start of sprint2: \n",
      "\t userStoryId=Story B,\n",
      "\t taskType=UNFINISHED_STORIES,\n",
      "\t ticketId=None,\n",
      "\t estimate=5.10,\n",
      "\t percentAchieved=0.0,\n",
      "\t sprintPlanned=2\n",
      " *** Item#2 at start of sprint2: \n",
      "\t userStoryId=Story B,\n",
      "\t taskType=BUGS_ON_UNFINISHED_STORIES,\n",
      "\t ticketId=Bug 100,\n",
      "\t estimate=2.00,\n",
      "\t percentAchieved=0.0,\n",
      "\t sprintPlanned=2\n",
      " *** Item#3 at start of sprint2: \n",
      "\t userStoryId=Story B,\n",
      "\t taskType=BUGS_ON_UNFINISHED_STORIES,\n",
      "\t ticketId=Bug 101,\n",
      "\t estimate=2.00,\n",
      "\t percentAchieved=0.0,\n",
      "\t sprintPlanned=2\n",
      " *** Item#2 at end of sprint2: \n",
      "\t userStoryId=Story B,\n",
      "\t taskType=BUGS_ON_UNFINISHED_STORIES,\n",
      "\t ticketId=Bug 100,\n",
      "\t estimate=2.00,\n",
      "\t percentAchieved=1.0,\n",
      "\t sprintPlanned=2\n",
      " *** Item#3 at end of sprint2: \n",
      "\t userStoryId=Story B,\n",
      "\t taskType=BUGS_ON_UNFINISHED_STORIES,\n",
      "\t ticketId=Bug 101,\n",
      "\t estimate=2.00,\n",
      "\t percentAchieved=0.5,\n",
      "\t sprintPlanned=2\n",
      " *** USS:Story B\n",
      "\t achieved=0.97,\n",
      "\t planned=True,\n",
      "\t sprintPlanned=2,\n",
      "\t tickets=\n",
      "\t\t{Ticket:Bug 101,\n",
      "\t\t storyId=Story B,\n",
      "\t\t costToFix=1.5,\n",
      "\t\t effortToDate=2.0,\n",
      "\t\t percentAchieved=0.5}\n"
     ]
    }
   ],
   "source": [
    "print(Back.GREEN + Fore.WHITE + '--------------------- EXPECTED -----------------------', \\\n",
    "      Back.RESET + Fore.GREEN + '\\n' + test_uss_EXPECTED) "
   ]
  },
  {
   "cell_type": "code",
   "execution_count": 124,
   "metadata": {},
   "outputs": [],
   "source": [
    "#class TestUSS(TestCase):\n",
    "#\n",
    "#    def test(self):\n",
    "#        self.assertTrue(test_uss_ACTUAL == test_uss_EXPECTED)"
   ]
  },
  {
   "cell_type": "code",
   "execution_count": 125,
   "metadata": {},
   "outputs": [],
   "source": [
    "#TestUSS().test()"
   ]
  },
  {
   "cell_type": "code",
   "execution_count": 126,
   "metadata": {},
   "outputs": [],
   "source": [
    "#unittest.main(argv=[''], verbosity=2, exit=False)"
   ]
  },
  {
   "cell_type": "code",
   "execution_count": null,
   "metadata": {},
   "outputs": [],
   "source": []
  }
 ],
 "metadata": {
  "kernelspec": {
   "display_name": "Python 3",
   "language": "python",
   "name": "python3"
  },
  "language_info": {
   "codemirror_mode": {
    "name": "ipython",
    "version": 3
   },
   "file_extension": ".py",
   "mimetype": "text/x-python",
   "name": "python",
   "nbconvert_exporter": "python",
   "pygments_lexer": "ipython3",
   "version": "3.7.1"
  }
 },
 "nbformat": 4,
 "nbformat_minor": 2
}
