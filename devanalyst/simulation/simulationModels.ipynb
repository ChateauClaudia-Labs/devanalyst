{
 "cells": [
  {
   "cell_type": "code",
   "execution_count": 1,
   "metadata": {},
   "outputs": [],
   "source": [
    "import pandas as pd\n",
    "import numpy as np\n",
    "import math\n",
    "from random import choices"
   ]
  },
  {
   "cell_type": "code",
   "execution_count": 2,
   "metadata": {},
   "outputs": [
    {
     "name": "stdout",
     "output_type": "stream",
     "text": [
      "importing Jupyter notebook from c:\\alex\\code\\labs\\devanalyst\\devanalyst\\simulation\\GenerateTimecards.ipynb\n",
      "importing Jupyter notebook from c:\\alex\\code\\labs\\devanalyst\\devanalyst\\simulation\\statics.ipynb\n",
      "importing Jupyter notebook from c:\\alex\\code\\labs\\devanalyst\\devanalyst\\simulation\\simulationModels.ipynb\n"
     ]
    }
   ],
   "source": [
    "import devanalyst.simulation.GenerateTimecards as timecard\n",
    "import devanalyst.simulation.statics as S_"
   ]
  },
  {
   "cell_type": "markdown",
   "metadata": {},
   "source": [
    "<h1>Stochastic Utilities</h1>"
   ]
  },
  {
   "cell_type": "code",
   "execution_count": 3,
   "metadata": {
    "code_folding": [
     0
    ]
   },
   "outputs": [],
   "source": [
    "# Helper class to make random choices, but with a consistent generator instance across all calling sequences \n",
    "# so that if required a deterministic output is produced system-wide from a single seed.\n",
    "class Random():\n",
    "    def __init__(self):\n",
    "        self.seed = None\n",
    "        self.random = np.random.RandomState()\n",
    "        \n",
    "    def reset(self, seed):\n",
    "        self.seed = seed\n",
    "        self.random = np.random.RandomState(self.seed)\n",
    "        \n",
    "    # Returns a random element from an array. Returns None if array is empty\n",
    "    def pickOne(self, array):\n",
    "        if len(array)==0:\n",
    "            return None\n",
    "        return array[self.random.randint(0, len(array))]\n",
    "\n",
    "    # Returns a random index from a Pandas Series\n",
    "    def pickOneIdx(self, series):\n",
    "        return series.index[self.random.randint(0, len(series))]   \n",
    "\n",
    "    # Returns an integer corresponding to a random duration between 1 day and the maxDuration. \n",
    "    def pickHowLong(self, maxDuration):\n",
    "        return self.random.randint(1, maxDuration +1)    "
   ]
  },
  {
   "cell_type": "code",
   "execution_count": 14,
   "metadata": {
    "code_folding": [
     0
    ]
   },
   "outputs": [],
   "source": [
    "class ModelsConfig:\n",
    "    \n",
    "    # -costModels: array of CostModel instances, each representing an independent driver for how actual costs deviate from\n",
    "    # estimates. Thus the real cost is obtained by applying all the models in succession to the estimate.\n",
    "    # -qualityModels: TBD\n",
    "    # -allocationModel: an instance of an AllocationModel\n",
    "    # -random: a Random instance, used for all stochastic-related calculations.\n",
    "    # -context: a dictionary where the caller can put extra information about the call. Useful when debugging\n",
    "    def __init__(self, costModels, qualityModels, allocationModel):\n",
    "        self.costModels        = costModels\n",
    "        self.qualityModels     = qualityModels\n",
    "        self.allocationModel  = allocationModel\n",
    "        \n",
    "        self.random = Random()\n",
    "        self.context = {}"
   ]
  },
  {
   "cell_type": "markdown",
   "metadata": {},
   "source": [
    "<h1>Cost Models</h1>"
   ]
  },
  {
   "cell_type": "code",
   "execution_count": 5,
   "metadata": {
    "code_folding": [
     0
    ]
   },
   "outputs": [],
   "source": [
    "class CostModel:\n",
    "# Abstract class\n",
    "    \n",
    "    # Returns a cost multipier for the WorkItem 'item', i.e., a number equal to the ratio between the 'actual cost'\n",
    "    # (in man-days) of developing the 'item' and the 'estimated cost'\n",
    "    #\n",
    "    # -item: a WorkItem\n",
    "    def runModel(self, item): \n",
    "        return # This is the abstract class, so this method should never be called as concrete class implement it."
   ]
  },
  {
   "cell_type": "code",
   "execution_count": 6,
   "metadata": {
    "code_folding": [
     0
    ]
   },
   "outputs": [],
   "source": [
    "class DefaultCostModel (CostModel):\n",
    "# Default class for models that simulate how actual costs differ from estimates. Usually there might be different\n",
    "# implementations, each trying to capture a different dynamic with a different driver. This default class just assumes\n",
    "# everything takes longer than expected by a given delay\n",
    "\n",
    "    # -delay_pct: the percentage by which estimates are off. For example, a delay_pct of 0.25 means that a task\n",
    "    # estimated to take 10 man-days actually takes 12.5 man-days.\n",
    "    def __init__(self, delay_pct = 0.25):\n",
    "        self.delay_pct = delay_pct\n",
    "        return  \n",
    "    # \n",
    "    def runModel(self, item):   \n",
    "        return 1 + self.delay_pct"
   ]
  },
  {
   "cell_type": "code",
   "execution_count": 7,
   "metadata": {
    "code_folding": [
     0
    ]
   },
   "outputs": [],
   "source": [
    "def computeRealCost(item, costModels):\n",
    "# Computes the real cost of delivering a work item, based on a number of 'factors', which are functions implementing a model\n",
    "# for what drives costs to differ from estimates.\n",
    "\n",
    "    cost = item.estimate;\n",
    "    for m in costModels:\n",
    "        cost *= m.runModel(item)\n",
    "    return cost"
   ]
  },
  {
   "cell_type": "markdown",
   "metadata": {},
   "source": [
    "<h1>Allocation Models</h1>"
   ]
  },
  {
   "cell_type": "code",
   "execution_count": 8,
   "metadata": {
    "code_folding": [
     0
    ]
   },
   "outputs": [],
   "source": [
    "class _AvailabilityCriterion:\n",
    "# Abstract parent class\n",
    "    def _getPeopleWithBandwidth(self, timeRequired, sprintDuration):\n",
    "        return"
   ]
  },
  {
   "cell_type": "code",
   "execution_count": 9,
   "metadata": {
    "code_folding": [
     0
    ]
   },
   "outputs": [],
   "source": [
    "class _GreedyAvailabilityCriterion (_AvailabilityCriterion):  \n",
    "    \n",
    "    def __init__(self, work, currentOrNext):\n",
    "        self.work = work\n",
    "        self.currentOrNext = currentOrNext\n",
    "    \n",
    "        return\n",
    "    \n",
    "    def _getPeopleWithBandwidth(self, timeRequired, sprintDuration):\n",
    "        if self.currentOrNext:\n",
    "            available = self.work.committedTime(sprintDuration)[['Developer', 'Bandwidth']]\n",
    "            return list(available[available['Bandwidth'] >= timeRequired]['Developer'])\n",
    "            \n",
    "        else:\n",
    "            available = self.work.committedTime(sprintDuration)[['Developer', 'NEXT SPRINT Bandwidth']]\n",
    "            # Filter to only developers who have 'carry over' bandwidth from this spring into the next one\n",
    "            haveCarryOver = available[available['NEXT SPRINT Bandwidth'] > sprintDuration] \n",
    "            return list(haveCarryOver[haveCarryOver['NEXT SPRINT Bandwidth'] >= timeRequired]['Developer'])  "
   ]
  },
  {
   "cell_type": "code",
   "execution_count": 10,
   "metadata": {
    "code_folding": [
     0,
     5
    ]
   },
   "outputs": [],
   "source": [
    "class AllocationModel:\n",
    "# Abstract class \n",
    "\n",
    "    # Implemented by concrete classes.\n",
    "    # Mutates work by allocating WorkItem's to developers, depleting the workToPik\n",
    "    def _allocate_helper(self, work, workToPick, currentOrNext, modelsConfig): \n",
    "        return\n",
    "    \n",
    "    def allocate(self, work, modelsConfig):\n",
    "        unplanned = work.allocations[S_.UNPLANNED][S_.OWNER_TBD]\n",
    "        workToPick = []\n",
    "        workToPick.extend(unplanned[S_.BUGS_ON_COMPLETED_STORIES])\n",
    "        workToPick.extend(unplanned[S_.BUGS_ON_UNFINISHED_STORIES])\n",
    "        workToPick.extend(unplanned[S_.UNFINISHED_STORIES])   \n",
    "\n",
    "        self._allocate_helper(work, workToPick, True, modelsConfig) # mutates 'work' and 'workToPick'\n",
    "\n",
    "        # Now try again, but this time allocating any unused time to deliverables for the next sprint, i.e., use\n",
    "        # time left over from the current sprint to get a heat start on the work for the next sprint, borrowing next sprint's\n",
    "        # capacity since we only need to deliver then\n",
    "\n",
    "        #Update unplanned, workToPick since we changed it in prior call to helper\n",
    "        unplanned = work.allocations[S_.UNPLANNED][S_.OWNER_TBD] \n",
    "        workToPick = []\n",
    "        workToPick.extend(unplanned[S_.BUGS_ON_COMPLETED_STORIES])\n",
    "        workToPick.extend(unplanned[S_.BUGS_ON_UNFINISHED_STORIES])\n",
    "        workToPick.extend(unplanned[S_.UNFINISHED_STORIES]) \n",
    "\n",
    "        self._allocate_helper(work, workToPick, False, modelsConfig) # mutates 'work' and 'workToPick'    \n",
    "        \n",
    "        return work"
   ]
  },
  {
   "cell_type": "code",
   "execution_count": 31,
   "metadata": {
    "code_folding": [
     0,
     8,
     23
    ]
   },
   "outputs": [],
   "source": [
    "class GreedyAllocationModel (AllocationModel):\n",
    "# For a sprint, allocates work to developers by maximizing the planned tasks for each developer.\n",
    "# So as long as the developer has some bandwidth left in the sprint, the algorithm will search for a user story\n",
    "# that can be done in the remaining time.\n",
    "# As a result, this algorithm has a tendency to plan short-duration user stories early in the release cycle, so that\n",
    "# later sprints in the release cycle need to deal with comparatively coarser-sized user stories. This causes the\n",
    "# release cycle to be unbalanced: later sprints have big-ticket items for the most part.\n",
    "\n",
    "    def __init__(self, sprintDuration):\n",
    "        self.sprintDuration = sprintDuration\n",
    "        return\n",
    "\n",
    "    # Mutates 'work' and 'workToPick' by allocating WorkItem's to developers and in the process depleting\n",
    "    # partially or fully the 'workToPick'\n",
    "    #\n",
    "    # -workToPick: an array of WorkItem objects, corresponding to unplanned tasks that are candidate tasks to allocate\n",
    "    # to developers\n",
    "    # -work: a WorkAssignment instance reflecting a ScrumTeam's allocations and remaining bandwidth prior to the\n",
    "    # allocation this model will conduct. This model's allocation process will then mutate 'work' by reflecting in it\n",
    "    # tasks that are no longer unplanned but rather are now allocated to a particular developer.\n",
    "    # -currentOrNext: boolean to indicate if the allocation is being done for the current sprint or the next sprint. True \n",
    "    # for current, False for next.\n",
    "    # -modelsConfig: parameters for running the model (e.g., random generators)\n",
    "    def _allocate_helper(self, work, workToPick, currentOrNext, modelsConfig): \n",
    "        availabilityCriterion   = _GreedyAvailabilityCriterion(work, currentOrNext)        \n",
    "        while len(workToPick) > 0:\n",
    "            \n",
    "            item = modelsConfig.random.pickOne(workToPick)\n",
    "            \n",
    "            workToPick.remove(item) # In next cycle of loop don't want to encounter this item, as it would be processed by then\n",
    "            timeRequired = item.estimate * (1-item.percentAchieved)\n",
    "        \n",
    "            peopleWithTimeToDoIt = availabilityCriterion._getPeopleWithBandwidth(timeRequired, self.sprintDuration)\n",
    "            \n",
    "            potentialOwner = modelsConfig.random.pickOne(peopleWithTimeToDoIt)\n",
    "            \n",
    "            if potentialOwner == None:\n",
    "                # This WorkItem can't be done in this sprint, as nobody has enough time for the effort it requires.\n",
    "                # Try with some other work item\n",
    "                 continue\n",
    "            \n",
    "            if currentOrNext:\n",
    "                work.reAssign(item, potentialOwner, S_.CURRENT_SPRINT)\n",
    "            else:\n",
    "                work.reAssign(item, potentialOwner, S_.NEXT_SPRINT) \n"
   ]
  },
  {
   "cell_type": "code",
   "execution_count": 42,
   "metadata": {
    "code_folding": [
     83,
     118,
     129,
     136,
     166,
     202
    ]
   },
   "outputs": [],
   "source": [
    "class BalancedAllocationModel (AllocationModel):\n",
    "# For a sprint, allocates work to developers by trying to keep a roughly average user story size across all sprints\n",
    "# in the release.\n",
    "\n",
    "    def __init__(self, sprintDuration):\n",
    "        self.sprintDuration = sprintDuration\n",
    "        return\n",
    "\n",
    "    # Mutates 'work' and 'workToPick' by allocating WorkItem's to developers and in the process depleting\n",
    "    # partially or fully the 'workToPick'\n",
    "    #\n",
    "    # -workToPick: an array of WorkItem objects, corresponding to unplanned tasks that are candidate tasks to allocate\n",
    "    # to developers\n",
    "    # -work: a WorkAssignment instance reflecting a ScrumTeam's allocations and remaining bandwidth prior to the\n",
    "    # allocation this model will conduct. This model's allocation process will then mutate 'work' by reflecting in it\n",
    "    # tasks that are no longer unplanned but rather are now allocated to a particular developer.\n",
    "    # -currentOrNext: boolean to indicate if the allocation is being done for the current sprint or the next sprint. True \n",
    "    # for current, False for next.\n",
    "    # -modelsConfig: parameters for running the model (e.g., random generators)\n",
    "    def _allocate_helper(self, work, workToPick, currentOrNext, modelsConfig): \n",
    "        \n",
    "        if (len(workToPick) == 0):\n",
    "            return # Nothing to do, and if we don't return may get an assertion below as we assume there is work to pick\n",
    "        \n",
    "        availabilityCriterion   = _GreedyAvailabilityCriterion(work, currentOrNext)  \n",
    "        \n",
    "        # For debugging - we want to make sure that after the while loop we did allocate at least something, so\n",
    "        # keep track of when we allocate stuff\n",
    "        something_was_allocated = False\n",
    "        assertion_info = {}\n",
    "        assertion_info['modelsConfig context'] = modelsConfig.context\n",
    "        assertion_info['len(workToPick) at start'] = len(workToPick)\n",
    "        assertion_info['itemAttractiveness'] = []\n",
    "        assertion_info['item.userStoryId'] = []\n",
    "        assertion_info['item.taskType'] = []\n",
    "        assertion_info['potentialOwner'] = []\n",
    "        \n",
    "        #Important to freeze target before the loop, since the loop depletes workToPick so must compute target before loop\n",
    "        target = self._getUnnormalizedDistribution(workToPick) \n",
    "        while len(workToPick) > 0:\n",
    "            \n",
    "            #item = modelsConfig.random.pickOne(workToPick)\n",
    "            \n",
    "            item = self._pickItem(workToPick, work)\n",
    "            workToPick.remove(item) # In next cycle of loop don't want to encounter this item, as it would be processed by then\n",
    "            \n",
    "            # Check if item gets us closer to the target, and if it does not then discard it and try again\n",
    "            priorWork = self._inferDistribution(work)\n",
    "            itemAttractiveness = self._calcAttractiveness(item, priorWork, target) \n",
    "            # For debugging\n",
    "            assertion_info['priorWork'] = priorWork\n",
    "            assertion_info['target'] = target\n",
    "            assertion_info['item.estimate'] = item.estimate\n",
    "            assertion_info['itemAttractiveness'].append(itemAttractiveness)\n",
    "            assertion_info['item.userStoryId'].append(item.userStoryId)\n",
    "            assertion_info['item.taskType'].append(item.taskType)\n",
    "\n",
    "            if (itemAttractiveness <= 0):\n",
    "                continue\n",
    "            \n",
    "            timeRequired = item.estimate * (1-item.percentAchieved)\n",
    "        \n",
    "            peopleWithTimeToDoIt = availabilityCriterion._getPeopleWithBandwidth(timeRequired, self.sprintDuration)\n",
    "            \n",
    "            potentialOwner = modelsConfig.random.pickOne(peopleWithTimeToDoIt)\n",
    "            \n",
    "            # For debugging\n",
    "            assertion_info['potentialOwner'].append(potentialOwner)\n",
    "            \n",
    "            if potentialOwner == None:\n",
    "                # This WorkItem can't be done in this sprint, as nobody has enough time for the effort it requires.\n",
    "                # Try with some other work item\n",
    "                 continue\n",
    "            \n",
    "            if currentOrNext:\n",
    "                work.reAssign(item, potentialOwner, S_.CURRENT_SPRINT)\n",
    "                something_was_allocated = True\n",
    "            else:\n",
    "                work.reAssign(item, potentialOwner, S_.NEXT_SPRINT) \n",
    "                something_was_allocated = True\n",
    "\n",
    "        # For debugging, confirm that we at least allocated something for the current release\n",
    "        assertion_info['len(workToPick) at end'] = len(workToPick)\n",
    "        if currentOrNext:\n",
    "            assert something_was_allocated, assertion_info\n",
    "    \n",
    "    def _getAvgEstimate(self, workToPick):\n",
    "        runningTotal = 0.0\n",
    "        count = 0.0\n",
    "        for item in workToPick:\n",
    "            count += 1\n",
    "            runningTotal += item.estimate\n",
    "        if (count > 0):\n",
    "            return runningTotal/count\n",
    "        else:\n",
    "            return 0\n",
    "        \n",
    "    # Returns an unnormalized distribution of the estimated effort required for the WorkItems in items.\n",
    "    # The distribution is represented as a dictionary, where the keys are the \"x axis\" (the possible values\n",
    "    # for estimates) and the value for each key are the \"y axis\" of the distribution (the count of how many\n",
    "    # WorkItems have such an estimate)\n",
    "    # \n",
    "    # NOTE: WorkItems that were partially progressed in prior sprints may have a residual estimate that is\n",
    "    # not a nice integer number, but a number with lots of decimal places. To avoid issues with having a distribution\n",
    "    # that is too finely cut we use bins of length 0.1 and classify each estimate in a bin. That way we limit\n",
    "    # the number of possibly values of 'x'\n",
    "    def _getUnnormalizedDistribution(self, items):\n",
    "        distribution = {}\n",
    "        \n",
    "        for item in items:\n",
    "            x = self._getBin(item.estimate)           \n",
    "            \n",
    "            if x in distribution:\n",
    "                distribution[x] = distribution[x] + 1\n",
    "            else:\n",
    "                distribution[x] = 1\n",
    "                \n",
    "        return distribution\n",
    "\n",
    "    # Returns a probability distribution (i.e., sum of \"y's\" is 1.0) by scaling down the y values of the given\n",
    "    # distribution\n",
    "    def _normalizeDistribution(self, dist):\n",
    "\n",
    "        area = 0\n",
    "        for x in dist.keys():\n",
    "            area += dist[x]\n",
    "            \n",
    "        if area == 0:\n",
    "            return None\n",
    "        \n",
    "        normalized_dist = {}\n",
    "                \n",
    "        for x in dist.keys():\n",
    "            normalized_dist[x] = dist[x]/area\n",
    "        return normalized_dist\n",
    "    \n",
    "    def _getBin(self, estimate):\n",
    "        return round(10*estimate)/10 # This assigns estimate to one of the bins of width 0.1 \n",
    "        \n",
    "    def _measureDistributionDistance(self, dist1, dist2):\n",
    "        # First ensure that the distributions (represented by dictionaries) have the same keys, padding with 0's\n",
    "        # if needed\n",
    "        \n",
    "        prob1 = dist1 #self._normalizeDistribution(dist1)\n",
    "        prob2 = dist2 #self._normalizeDistribution(dist2)\n",
    "        \n",
    "        if (prob1 == None): # Boundary case. Treat it like it is all 0's\n",
    "            prob1 = {0:0}\n",
    "        if (prob2 == None): # Boundary case. Treat it like it is all 0's\n",
    "            prob2 = {0:0}\n",
    "        \n",
    "        keys1 = set(prob1.keys())\n",
    "        keys2 = set(prob2.keys())\n",
    "        all_keys = keys1.union(keys2)\n",
    "        for x in all_keys:\n",
    "            if x not in keys1:\n",
    "                prob1[x] = 0.0\n",
    "            if x not in keys2:\n",
    "                prob2[x] = 0.0\n",
    "        \n",
    "        # Now compute the L2 difference of the distributions\n",
    "        sum_of_squares = 0\n",
    "        for x in all_keys:\n",
    "            f1 = prob1[x]\n",
    "            f2 = prob2[x]\n",
    "            sum_of_squares += (f1-f2)*(f1-f2)\n",
    "        return math.sqrt(sum_of_squares)\n",
    "        \n",
    "        \n",
    "    def _appendToUnnormalizedDistribution(self, dist, estimate):\n",
    "        \n",
    "        result = dist.copy()\n",
    "        if estimate in result.keys():\n",
    "            result[estimate] =result[estimate] + 1\n",
    "        else:\n",
    "            result[estimate] = 1\n",
    "        return result\n",
    "    \n",
    "    # Computes an attractiveness score for selecting the item, based on the impact that selecting it\n",
    "    # would have on the runningAverage. Attractiveness is higher if the 'distance' between the running and target\n",
    "    # distributions is reduced. If selecting the item ends up increasing the distance then its attractiveness is negative.\n",
    "    def _calcAttractiveness(self, item, runningDistribution, targetDistribution):\n",
    "        \n",
    "        initial_distance = self._measureDistributionDistance(runningDistribution, targetDistribution)\n",
    "        \n",
    "        updatedDistribution = self._appendToUnnormalizedDistribution(runningDistribution, item.estimate)\n",
    "\n",
    "        final_distance = self._measureDistributionDistance(updatedDistribution, targetDistribution)\n",
    "        \n",
    "        attractiveness = initial_distance - final_distance\n",
    "        return attractiveness\n",
    "    \n",
    "    def _pickItem(self, workToPick, work):\n",
    "        \n",
    "        runningDistribution = self._inferDistribution(work)\n",
    "        targetDistribution = self._getUnnormalizedDistribution(workToPick)\n",
    "        weights = []\n",
    "        for item in workToPick:\n",
    "            attractiveness = self._calcAttractiveness(item, runningDistribution, targetDistribution)\n",
    "            weights.append(attractiveness)\n",
    "            \n",
    "        selection = choices(workToPick, weights)[0]\n",
    "        return selection\n",
    "        \n",
    "     \n",
    "    def _inferDistribution(self, work):\n",
    "        workAlreadyPlanned = []\n",
    "        for bucket in [S_.CURRENT_SPRINT, S_.NEXT_SPRINT]:\n",
    "            subwork = work.allocations[bucket]\n",
    "            for person in subwork.keys():\n",
    "                workAlreadyPlanned.extend(subwork[person][S_.BUGS_ON_COMPLETED_STORIES])\n",
    "                workAlreadyPlanned.extend(subwork[person][S_.BUGS_ON_UNFINISHED_STORIES])\n",
    "                workAlreadyPlanned.extend(subwork[person][S_.UNFINISHED_STORIES])\n",
    "        \n",
    "        return self._getUnnormalizedDistribution(workAlreadyPlanned)\n"
   ]
  },
  {
   "cell_type": "code",
   "execution_count": null,
   "metadata": {},
   "outputs": [],
   "source": []
  }
 ],
 "metadata": {
  "kernelspec": {
   "display_name": "Python 3",
   "language": "python",
   "name": "python3"
  },
  "language_info": {
   "codemirror_mode": {
    "name": "ipython",
    "version": 3
   },
   "file_extension": ".py",
   "mimetype": "text/x-python",
   "name": "python",
   "nbconvert_exporter": "python",
   "pygments_lexer": "ipython3",
   "version": "3.7.1"
  }
 },
 "nbformat": 4,
 "nbformat_minor": 2
}
