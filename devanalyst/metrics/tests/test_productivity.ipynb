{
 "cells": [
  {
   "cell_type": "code",
   "execution_count": 1,
   "metadata": {},
   "outputs": [],
   "source": [
    "from datetime import datetime\n",
    "import pandas as pd"
   ]
  },
  {
   "cell_type": "code",
   "execution_count": 2,
   "metadata": {},
   "outputs": [
    {
     "name": "stdout",
     "output_type": "stream",
     "text": [
      "importing Jupyter notebook from c:\\users\\aleja\\documents\\code\\chateauclaudia-labs\\devanalyst\\devanalyst\\simulation\\statics.ipynb\n",
      "importing Jupyter notebook from c:\\users\\aleja\\documents\\code\\chateauclaudia-labs\\devanalyst\\devanalyst\\simulation\\simulationModels.ipynb\n",
      "importing Jupyter notebook from c:\\users\\aleja\\documents\\code\\chateauclaudia-labs\\devanalyst\\devanalyst\\simulation\\businessObjects.ipynb\n",
      "importing Jupyter notebook from c:\\users\\aleja\\documents\\code\\chateauclaudia-labs\\devanalyst\\devanalyst\\simulation\\Engine.ipynb\n",
      "importing Jupyter notebook from c:\\users\\aleja\\documents\\code\\chateauclaudia-labs\\devanalyst\\devanalyst\\simulation\\generateTimecards.ipynb\n",
      "importing Jupyter notebook from c:\\users\\aleja\\documents\\code\\chateauclaudia-labs\\devanalyst\\devanalyst\\metrics\\ProductivityMetrics.ipynb\n"
     ]
    }
   ],
   "source": [
    "import devanalyst.simulation.statics as S_\n",
    "\n",
    "from devanalyst.simulation.simulationModels import ModelsConfig, DefaultCostModel, MeritocraticCostModel, \\\n",
    "DistributedLagQualityModel, GreedyAllocationModel, NoLaggardsAllocationModel\n",
    "from devanalyst.simulation.businessObjects import TicketsRepo, Backlog, UserStoryStatus\n",
    "from devanalyst.simulation.Engine import ReleaseSimulationEngine\n",
    "\n",
    "from devanalyst.metrics.ProductivityMetrics import CommitsAnalysis, DragAnalyzer\n",
    "import devanalyst.simulation.generateTimecards as timecard\n"
   ]
  },
  {
   "cell_type": "code",
   "execution_count": 3,
   "metadata": {},
   "outputs": [
    {
     "name": "stdout",
     "output_type": "stream",
     "text": [
      "importing Jupyter notebook from c:\\users\\aleja\\documents\\code\\chateauclaudia-labs\\devanalyst\\devanalyst\\test_utils\\test_utils.ipynb\n"
     ]
    }
   ],
   "source": [
    "import devanalyst.test_utils.test_utils as tu_\n",
    "from devanalyst.test_utils.test_utils import ExpectedOutputCleaner"
   ]
  },
  {
   "cell_type": "markdown",
   "metadata": {},
   "source": [
    "<h1>Test Simple Productivity</h1>\n",
    "Tests commits productivity under multiple scenarios, but in all cases assumes no interference. Therefore what differs\n",
    "across scenarios is how work loads are partitioned among developers. There is no 'systemic waste' to eliminate in any of\n",
    "these scenarios since there is no interference assumed."
   ]
  },
  {
   "cell_type": "code",
   "execution_count": 26,
   "metadata": {
    "code_folding": [
     10,
     25
    ]
   },
   "outputs": [],
   "source": [
    "# Implement test logic, and run it\n",
    "\n",
    "#Helper function. Returns the time entries (as a dataframe) and logs for the release cycle. Also mutates 'modelsConfig'\n",
    "# \n",
    "# -modelsConfig: configuration of what models to use to simulate a release cycle. It is expected to be passed in \n",
    "# 'minimal form', i.e., only the models should be set. Everything else in 'modelsConfig' is likely to be mutated by \n",
    "# this function in the process of generating the release cycle. In particular, these are mutated: \n",
    "#      a) the repositories that 'modelsConfig' refers to, and \n",
    "#      b) the random seed used by 'modelsConfig'.\n",
    "#\n",
    "def run_release(modelsConfig):\n",
    "    RELEASE_DURATION = 60\n",
    "    SPRINT_DURATION = 10\n",
    "    NUMBER_OF_SPRINTS = 30\n",
    "\n",
    "    modelsConfig.random.reset(271)\n",
    "\n",
    "    teams_df, stories_dfDUMMY, globalRepo = tu_.initTestData(tu_.DEV_DF, tu_.PM_DF, \\\n",
    "                                                        RELEASE_DURATION, SPRINT_DURATION, modelsConfig)\n",
    "    modelsConfig.globalRepo = globalRepo\n",
    "    NUMBER_OF_SPRINTS = 30\n",
    "    entries_df, log = timecard.runReleaseCycle(datetime(2018, 1, 15), SPRINT_DURATION, NUMBER_OF_SPRINTS, modelsConfig)\n",
    "    return entries_df, log\n",
    "\n",
    "#Test logic\n",
    "def test_simple_productivity():\n",
    "    output = {}\n",
    "\n",
    "    # Case 1: no delays\n",
    "    modelsConfig1 = ModelsConfig([DefaultCostModel(0.0)], [DistributedLagQualityModel()], GreedyAllocationModel())\n",
    "    entries1_df, log1                          = run_release(modelsConfig1)\n",
    "    commits1_impl, commits1_bugs, commits1_all = CommitsAnalysis.tabulateCommits(modelsConfig1)\n",
    "    \n",
    "    # Case 2: Meritocratic delays without work stealing\n",
    "    modelsConfig2 = ModelsConfig([MeritocraticCostModel()], [DistributedLagQualityModel()], GreedyAllocationModel())\n",
    "    entries2_df, log2                          = run_release(modelsConfig2)\n",
    "    commits2_impl, commits2_bugs, commits2_all = CommitsAnalysis.tabulateCommits(modelsConfig2)\n",
    "\n",
    "    # Case 3: Meritocratic delays with work stealing\n",
    "    modelsConfig3 = ModelsConfig([MeritocraticCostModel()], [DistributedLagQualityModel()], NoLaggardsAllocationModel())\n",
    "    entries3_df, log3                          = run_release(modelsConfig3)\n",
    "    commits3_impl, commits3_bugs, commits3_all = CommitsAnalysis.tabulateCommits(modelsConfig3)\n",
    "    \n",
    "    \n",
    "    output['no_delay']                 = commits1_impl\n",
    "    output['meritocratic']             = commits2_impl\n",
    "    output['work_stealing']            = commits3_impl\n",
    "\n",
    "    return output\n",
    "\n",
    "# Run the test\n",
    "test_simple_ACTUAL = test_simple_productivity()"
   ]
  },
  {
   "cell_type": "code",
   "execution_count": 27,
   "metadata": {
    "code_folding": [
     0
    ]
   },
   "outputs": [],
   "source": [
    "# Uncomment to update expected output to match the actual one\n",
    "\n",
    "# Helper method\n",
    "def create_test_simple_EXPECTED():\n",
    "    tu_.createExpectedOutput(test_simple_ACTUAL['no_delay'],     'productivity.test_simple.no_delay',\n",
    "                                                                           module = 'metrics')\n",
    "    tu_.createExpectedOutput(test_simple_ACTUAL['meritocratic'], 'productivity.test_simple.meritocratic',\n",
    "                                                                           module = 'metrics')    \n",
    "    tu_.createExpectedOutput(test_simple_ACTUAL['work_stealing'],'productivity.test_simple.work_stealing',\n",
    "                                                                           module = 'metrics')\n",
    "\n",
    "# Uncomment to update expected output to match the actual one, and then put the comment back\n",
    "#create_test_simple_EXPECTED()"
   ]
  },
  {
   "cell_type": "code",
   "execution_count": 47,
   "metadata": {
    "code_folding": []
   },
   "outputs": [
    {
     "data": {
      "text/plain": [
       "(True, True, True)"
      ]
     },
     "execution_count": 47,
     "metadata": {},
     "output_type": "execute_result"
    }
   ],
   "source": [
    "# Load expected output, update the EXPECTED and ACTUAL dictionaries, and check test is OK\n",
    "list_cols = [] # Lists are loaded as strings, so require special processing on load\n",
    "\n",
    "test_simple_EXPECTED = {}\n",
    "\n",
    "\n",
    "# When loading the CSV files for expected output, they will introduce a spurious integer index. So replace that\n",
    "# by using the 'Developer' column as the index, which is how the actuals are indexed, so that expected matches actuals.\n",
    "test_simple_EXPECTED['no_delay']      = tu_.loadExpectedOutput('productivity.test_simple.no_delay', \n",
    "                                                                            list_cols,\n",
    "                                                                           module = 'metrics').set_index('Developer')\n",
    "                                                                            \n",
    "test_simple_EXPECTED['meritocratic']  = tu_.loadExpectedOutput('productivity.test_simple.meritocratic', \n",
    "                                                                            list_cols,\n",
    "                                                                           module = 'metrics').set_index('Developer')\n",
    "\n",
    "test_simple_EXPECTED['work_stealing'] = tu_.loadExpectedOutput('productivity.test_simple.work_stealing', \n",
    "                                                                            list_cols,\n",
    "                                                                           module = 'metrics').set_index('Developer')\n",
    "\n",
    "# Sort the results of loading work stealing. For some example it loads in a different order.\n",
    "test_simple_EXPECTED['work_stealing'].sort_values(by=['Developer'], inplace=True)\n",
    "\n",
    "\n",
    "tu_.EXPECTED['productivity.test_simple.no_delay']      = test_simple_EXPECTED['no_delay']\n",
    "tu_.EXPECTED['productivity.test_simple.meritocratic']  = test_simple_EXPECTED['meritocratic']\n",
    "tu_.EXPECTED['productivity.test_simple.work_stealing'] = test_simple_EXPECTED['work_stealing']\n",
    "\n",
    "tu_.ACTUAL['productivity.test_simple.no_delay']        = test_simple_ACTUAL['no_delay']\n",
    "tu_.ACTUAL['productivity.test_simple.meritocratic']    = test_simple_ACTUAL['meritocratic']\n",
    "tu_.ACTUAL['productivity.test_simple.work_stealing']   = test_simple_ACTUAL['work_stealing']\n",
    "\n",
    "tu_.testOK('productivity.test_simple.no_delay'), \\\n",
    "tu_.testOK('productivity.test_simple.meritocratic'), \\\n",
    "tu_.testOK('productivity.test_simple.work_stealing'), \\\n"
   ]
  },
  {
   "cell_type": "code",
   "execution_count": null,
   "metadata": {},
   "outputs": [],
   "source": [
    "# Uncomment to interactively visualize the logs, and then comment again once interactive analysis is done. Commenting these\n",
    "# lines after interactive analysis is completed is required as test harness can't load these visualiations\n",
    "# libraries so leaving this uncommented will crash the entire test harness.\n",
    "# NOTE: MAY NEED TO RUN TWICE, as there seems to be a bug in Jupyter Notebook so on the first run there is no output\n",
    "#CommitsAnalysis.chartCommits(test_simple_ACTUAL['no_delay'])"
   ]
  },
  {
   "cell_type": "code",
   "execution_count": null,
   "metadata": {},
   "outputs": [],
   "source": [
    "# Uncomment to interactively visualize the logs, and then comment again once interactive analysis is done. Commenting these\n",
    "# lines after interactive analysis is completed is required as test harness can't load these visualiations\n",
    "# libraries so leaving this uncommented will crash the entire test harness.\n",
    "# NOTE: MAY NEED TO RUN TWICE, as there seems to be a bug in Jupyter Notebook so on the first run there is no output\n",
    "#CommitsAnalysis.chartCommits(test_simple_ACTUAL['meritocratic'])"
   ]
  },
  {
   "cell_type": "code",
   "execution_count": null,
   "metadata": {},
   "outputs": [],
   "source": [
    "# Uncomment to interactively visualize the logs, and then comment again once interactive analysis is done. Commenting these\n",
    "# lines after interactive analysis is completed is required as test harness can't load these visualiations\n",
    "# libraries so leaving this uncommented will crash the entire test harness.\n",
    "# NOTE: MAY NEED TO RUN TWICE, as there seems to be a bug in Jupyter Notebook so on the first run there is no output\n",
    "#CommitsAnalysis.chartCommits(test_simple_ACTUAL['work_stealing'])"
   ]
  },
  {
   "cell_type": "code",
   "execution_count": null,
   "metadata": {},
   "outputs": [],
   "source": [
    "test_simple_ACTUAL['no_delay'][:5]"
   ]
  },
  {
   "cell_type": "code",
   "execution_count": null,
   "metadata": {},
   "outputs": [],
   "source": [
    "test_simple_EXPECTED['no_delay'][:5]"
   ]
  },
  {
   "cell_type": "code",
   "execution_count": 44,
   "metadata": {},
   "outputs": [
    {
     "data": {
      "text/html": [
       "<div>\n",
       "<style scoped>\n",
       "    .dataframe tbody tr th:only-of-type {\n",
       "        vertical-align: middle;\n",
       "    }\n",
       "\n",
       "    .dataframe tbody tr th {\n",
       "        vertical-align: top;\n",
       "    }\n",
       "\n",
       "    .dataframe thead th {\n",
       "        text-align: right;\n",
       "    }\n",
       "</style>\n",
       "<table border=\"1\" class=\"dataframe\">\n",
       "  <thead>\n",
       "    <tr style=\"text-align: right;\">\n",
       "      <th></th>\n",
       "      <th>User Story Id</th>\n",
       "    </tr>\n",
       "    <tr>\n",
       "      <th>Developer</th>\n",
       "      <th></th>\n",
       "    </tr>\n",
       "  </thead>\n",
       "  <tbody>\n",
       "    <tr>\n",
       "      <th>Anton Easterday</th>\n",
       "      <td>12</td>\n",
       "    </tr>\n",
       "    <tr>\n",
       "      <th>Beau Hockensmith</th>\n",
       "      <td>7</td>\n",
       "    </tr>\n",
       "    <tr>\n",
       "      <th>Bruno Studley</th>\n",
       "      <td>8</td>\n",
       "    </tr>\n",
       "    <tr>\n",
       "      <th>Craig Garlitz</th>\n",
       "      <td>8</td>\n",
       "    </tr>\n",
       "    <tr>\n",
       "      <th>Francisco Hoppe</th>\n",
       "      <td>17</td>\n",
       "    </tr>\n",
       "  </tbody>\n",
       "</table>\n",
       "</div>"
      ],
      "text/plain": [
       "                  User Story Id\n",
       "Developer                      \n",
       "Anton Easterday              12\n",
       "Beau Hockensmith              7\n",
       "Bruno Studley                 8\n",
       "Craig Garlitz                 8\n",
       "Francisco Hoppe              17"
      ]
     },
     "execution_count": 44,
     "metadata": {},
     "output_type": "execute_result"
    }
   ],
   "source": [
    "test_simple_ACTUAL['meritocratic'][:5]"
   ]
  },
  {
   "cell_type": "code",
   "execution_count": null,
   "metadata": {},
   "outputs": [],
   "source": [
    "test_simple_EXPECTED['meritocratic'][:5]"
   ]
  },
  {
   "cell_type": "code",
   "execution_count": 9,
   "metadata": {},
   "outputs": [
    {
     "data": {
      "text/html": [
       "<div>\n",
       "<style scoped>\n",
       "    .dataframe tbody tr th:only-of-type {\n",
       "        vertical-align: middle;\n",
       "    }\n",
       "\n",
       "    .dataframe tbody tr th {\n",
       "        vertical-align: top;\n",
       "    }\n",
       "\n",
       "    .dataframe thead th {\n",
       "        text-align: right;\n",
       "    }\n",
       "</style>\n",
       "<table border=\"1\" class=\"dataframe\">\n",
       "  <thead>\n",
       "    <tr style=\"text-align: right;\">\n",
       "      <th></th>\n",
       "      <th>User Story Id</th>\n",
       "    </tr>\n",
       "    <tr>\n",
       "      <th>Developer</th>\n",
       "      <th></th>\n",
       "    </tr>\n",
       "  </thead>\n",
       "  <tbody>\n",
       "    <tr>\n",
       "      <th>Anton Easterday</th>\n",
       "      <td>13</td>\n",
       "    </tr>\n",
       "    <tr>\n",
       "      <th>Beau Hockensmith</th>\n",
       "      <td>4</td>\n",
       "    </tr>\n",
       "    <tr>\n",
       "      <th>Bruno Studley</th>\n",
       "      <td>7</td>\n",
       "    </tr>\n",
       "    <tr>\n",
       "      <th>Craig Garlitz</th>\n",
       "      <td>7</td>\n",
       "    </tr>\n",
       "    <tr>\n",
       "      <th>Francisco Hoppe</th>\n",
       "      <td>23</td>\n",
       "    </tr>\n",
       "    <tr>\n",
       "      <th>Glenna Mcghie</th>\n",
       "      <td>5</td>\n",
       "    </tr>\n",
       "    <tr>\n",
       "      <th>Gregorio Darr</th>\n",
       "      <td>6</td>\n",
       "    </tr>\n",
       "    <tr>\n",
       "      <th>Heriberto Martini</th>\n",
       "      <td>16</td>\n",
       "    </tr>\n",
       "    <tr>\n",
       "      <th>Hyun Jaffe</th>\n",
       "      <td>10</td>\n",
       "    </tr>\n",
       "    <tr>\n",
       "      <th>Isaura Casterline</th>\n",
       "      <td>6</td>\n",
       "    </tr>\n",
       "    <tr>\n",
       "      <th>Jacinto Immel</th>\n",
       "      <td>8</td>\n",
       "    </tr>\n",
       "    <tr>\n",
       "      <th>Jesse Kellogg</th>\n",
       "      <td>16</td>\n",
       "    </tr>\n",
       "    <tr>\n",
       "      <th>Josh Rusher</th>\n",
       "      <td>9</td>\n",
       "    </tr>\n",
       "    <tr>\n",
       "      <th>Lashaunda Greaves</th>\n",
       "      <td>10</td>\n",
       "    </tr>\n",
       "    <tr>\n",
       "      <th>Lonnie Belz</th>\n",
       "      <td>9</td>\n",
       "    </tr>\n",
       "    <tr>\n",
       "      <th>Lorriane Demmer</th>\n",
       "      <td>20</td>\n",
       "    </tr>\n",
       "    <tr>\n",
       "      <th>Margorie Beringer</th>\n",
       "      <td>11</td>\n",
       "    </tr>\n",
       "    <tr>\n",
       "      <th>Marquis Tefft</th>\n",
       "      <td>7</td>\n",
       "    </tr>\n",
       "    <tr>\n",
       "      <th>Mckenzie Ma</th>\n",
       "      <td>14</td>\n",
       "    </tr>\n",
       "    <tr>\n",
       "      <th>Mervin Lindsay</th>\n",
       "      <td>5</td>\n",
       "    </tr>\n",
       "    <tr>\n",
       "      <th>Milan Hinman</th>\n",
       "      <td>6</td>\n",
       "    </tr>\n",
       "    <tr>\n",
       "      <th>Mohammad Tineo</th>\n",
       "      <td>12</td>\n",
       "    </tr>\n",
       "    <tr>\n",
       "      <th>Nohemi Santini</th>\n",
       "      <td>9</td>\n",
       "    </tr>\n",
       "    <tr>\n",
       "      <th>Olevia Haymaker</th>\n",
       "      <td>8</td>\n",
       "    </tr>\n",
       "    <tr>\n",
       "      <th>Pedro Sisk</th>\n",
       "      <td>21</td>\n",
       "    </tr>\n",
       "    <tr>\n",
       "      <th>Percy Aumiller</th>\n",
       "      <td>8</td>\n",
       "    </tr>\n",
       "    <tr>\n",
       "      <th>Randy Pettitt</th>\n",
       "      <td>12</td>\n",
       "    </tr>\n",
       "    <tr>\n",
       "      <th>Renee Audette</th>\n",
       "      <td>6</td>\n",
       "    </tr>\n",
       "    <tr>\n",
       "      <th>Teddy Straley</th>\n",
       "      <td>14</td>\n",
       "    </tr>\n",
       "    <tr>\n",
       "      <th>Tyrone Goo</th>\n",
       "      <td>7</td>\n",
       "    </tr>\n",
       "  </tbody>\n",
       "</table>\n",
       "</div>"
      ],
      "text/plain": [
       "                   User Story Id\n",
       "Developer                       \n",
       "Anton Easterday               13\n",
       "Beau Hockensmith               4\n",
       "Bruno Studley                  7\n",
       "Craig Garlitz                  7\n",
       "Francisco Hoppe               23\n",
       "Glenna Mcghie                  5\n",
       "Gregorio Darr                  6\n",
       "Heriberto Martini             16\n",
       "Hyun Jaffe                    10\n",
       "Isaura Casterline              6\n",
       "Jacinto Immel                  8\n",
       "Jesse Kellogg                 16\n",
       "Josh Rusher                    9\n",
       "Lashaunda Greaves             10\n",
       "Lonnie Belz                    9\n",
       "Lorriane Demmer               20\n",
       "Margorie Beringer             11\n",
       "Marquis Tefft                  7\n",
       "Mckenzie Ma                   14\n",
       "Mervin Lindsay                 5\n",
       "Milan Hinman                   6\n",
       "Mohammad Tineo                12\n",
       "Nohemi Santini                 9\n",
       "Olevia Haymaker                8\n",
       "Pedro Sisk                    21\n",
       "Percy Aumiller                 8\n",
       "Randy Pettitt                 12\n",
       "Renee Audette                  6\n",
       "Teddy Straley                 14\n",
       "Tyrone Goo                     7"
      ]
     },
     "execution_count": 9,
     "metadata": {},
     "output_type": "execute_result"
    }
   ],
   "source": [
    "test_simple_ACTUAL['work_stealing'][:5]"
   ]
  },
  {
   "cell_type": "code",
   "execution_count": 8,
   "metadata": {},
   "outputs": [
    {
     "data": {
      "text/html": [
       "<div>\n",
       "<style scoped>\n",
       "    .dataframe tbody tr th:only-of-type {\n",
       "        vertical-align: middle;\n",
       "    }\n",
       "\n",
       "    .dataframe tbody tr th {\n",
       "        vertical-align: top;\n",
       "    }\n",
       "\n",
       "    .dataframe thead th {\n",
       "        text-align: right;\n",
       "    }\n",
       "</style>\n",
       "<table border=\"1\" class=\"dataframe\">\n",
       "  <thead>\n",
       "    <tr style=\"text-align: right;\">\n",
       "      <th></th>\n",
       "      <th>User Story Id</th>\n",
       "    </tr>\n",
       "    <tr>\n",
       "      <th>Developer</th>\n",
       "      <th></th>\n",
       "    </tr>\n",
       "  </thead>\n",
       "  <tbody>\n",
       "    <tr>\n",
       "      <th>Anton Easterday</th>\n",
       "      <td>11</td>\n",
       "    </tr>\n",
       "    <tr>\n",
       "      <th>Beau Hockensmith</th>\n",
       "      <td>5</td>\n",
       "    </tr>\n",
       "    <tr>\n",
       "      <th>Bruno Studley</th>\n",
       "      <td>8</td>\n",
       "    </tr>\n",
       "    <tr>\n",
       "      <th>Craig Garlitz</th>\n",
       "      <td>7</td>\n",
       "    </tr>\n",
       "    <tr>\n",
       "      <th>Francisco Hoppe</th>\n",
       "      <td>22</td>\n",
       "    </tr>\n",
       "  </tbody>\n",
       "</table>\n",
       "</div>"
      ],
      "text/plain": [
       "                  User Story Id\n",
       "Developer                      \n",
       "Anton Easterday              11\n",
       "Beau Hockensmith              5\n",
       "Bruno Studley                 8\n",
       "Craig Garlitz                 7\n",
       "Francisco Hoppe              22"
      ]
     },
     "execution_count": 8,
     "metadata": {},
     "output_type": "execute_result"
    }
   ],
   "source": [
    "test_simple_EXPECTED['work_stealing'][:5]"
   ]
  },
  {
   "cell_type": "code",
   "execution_count": null,
   "metadata": {},
   "outputs": [],
   "source": []
  },
  {
   "cell_type": "markdown",
   "metadata": {},
   "source": [
    "<h1>Test drag removal</h1>"
   ]
  },
  {
   "cell_type": "code",
   "execution_count": null,
   "metadata": {
    "code_folding": [
     0
    ]
   },
   "outputs": [],
   "source": [
    "# Implement test logic, and run it\n",
    "\n",
    "#Test logic\n",
    "def test_drag():\n",
    "    output = {}\n",
    "    RELEASE_DURATION = 60\n",
    "    SPRINT_DURATION = 10\n",
    "    NUMBER_OF_SPRINTS = 30\n",
    "\n",
    "    # Look at full team, with anyone able to work in anybody else's area.\n",
    "    singleTeam_df = tu_.DEV_DF.copy()\n",
    "    singleTeam_df['Scrum Team'] = 'Entire R&D'\n",
    "\n",
    "    # Configure models\n",
    "    modelsConfig = ModelsConfig([MeritocraticCostModel()], [DistributedLagQualityModel()], NoLaggardsAllocationModel())\n",
    "    modelsConfig.random.reset(271)\n",
    "    teams_df, stories_dfDUMMY, globalRepo = tu_.initTestData(singleTeam_df, tu_.PM_DF, \\\n",
    "                                                             RELEASE_DURATION, SPRINT_DURATION, modelsConfig)\n",
    "    modelsConfig.globalRepo = globalRepo\n",
    "    \n",
    "    # Run simulations\n",
    "    engine = ReleaseSimulationEngine(modelsConfig)\n",
    "    analyzer = DragAnalyzer(engine, NUMBER_OF_SPRINTS, SPRINT_DURATION, datetime(2018, 1, 15), 0.9)\n",
    "    analyzer.runSimulations()\n",
    "    impact = analyzer.tabulateDragImpact()\n",
    "    \n",
    "\n",
    "    output['Burnout_with_drag']         = analyzer.stats['With_drag']    .burnout\n",
    "    output['Burnout_without_drag']      = analyzer.stats['Without_drag'] .burnout\n",
    "    output['Entries_with_drag']         = analyzer.stats['With_drag']    .entries_df\n",
    "    output['Entries_without_drag']      = analyzer.stats['Without_drag'] .entries_df\n",
    "    output['Commits_impl_with_drag']    = analyzer.stats['With_drag']    .commits_impl\n",
    "    output['Commits_impl_without_drag'] = analyzer.stats['Without_drag'] .commits_impl\n",
    "    output['Commits_bugs_with_drag']    = analyzer.stats['With_drag']    .commits_bugs\n",
    "    output['Commits_bugs_without_drag'] = analyzer.stats['Without_drag'] .commits_bugs\n",
    "    output['Commits_all_with_drag']     = analyzer.stats['With_drag']    .commits_all\n",
    "    output['Commits_all_without_drag']  = analyzer.stats['Without_drag'] .commits_all\n",
    "    output['Impact']                    = impact    \n",
    "\n",
    "    return output, analyzer\n",
    "\n",
    "# Run the test\n",
    "test_drag_ACTUAL, analyzer = test_drag()"
   ]
  },
  {
   "cell_type": "code",
   "execution_count": null,
   "metadata": {
    "code_folding": [
     0
    ]
   },
   "outputs": [],
   "source": [
    "# Uncomment to update expected output to match the actual one\n",
    "\n",
    "# Helper method\n",
    "def create_drag_EXPECTED():\n",
    "    tu_.createExpectedOutput(test_drag_ACTUAL['Burnout_with_drag'],    \n",
    "                             'productivity.test_drag.Burnout_with_drag', module = 'metrics')\n",
    "    tu_.createExpectedOutput(test_drag_ACTUAL['Burnout_without_drag'],    \n",
    "                             'productivity.test_drag.Burnout_without_drag', module = 'metrics')\n",
    "    tu_.createExpectedOutput(test_drag_ACTUAL['Entries_with_drag'],    \n",
    "                             'productivity.test_drag.Entries_with_drag', module = 'metrics')\n",
    "    tu_.createExpectedOutput(test_drag_ACTUAL['Entries_without_drag'],     \n",
    "                             'productivity.test_drag.Entries_without_drag', module = 'metrics')\n",
    "    tu_.createExpectedOutput(test_drag_ACTUAL['Commits_impl_with_drag'],    \n",
    "                             'productivity.test_drag.Commits_impl_with_drag', module = 'metrics')\n",
    "    tu_.createExpectedOutput(test_drag_ACTUAL['Commits_impl_without_drag'], \n",
    "                             'productivity.test_drag.Commits_impl_without_drag', module = 'metrics')\n",
    "    tu_.createExpectedOutput(test_drag_ACTUAL['Commits_bugs_with_drag'],    \n",
    "                             'productivity.test_drag.Commits_bugs_with_drag', module = 'metrics')\n",
    "    tu_.createExpectedOutput(test_drag_ACTUAL['Commits_bugs_without_drag'],    \n",
    "                             'productivity.test_drag.Commits_bugs_without_drag', module = 'metrics')\n",
    "    tu_.createExpectedOutput(test_drag_ACTUAL['Commits_all_with_drag'],    \n",
    "                             'productivity.test_drag.Commits_all_with_drag', module = 'metrics')\n",
    "    tu_.createExpectedOutput(test_drag_ACTUAL['Commits_all_without_drag'],    \n",
    "                             'productivity.test_drag.Commits_all_without_drag', module = 'metrics')\n",
    "    tu_.createExpectedOutput(test_drag_ACTUAL['Impact'],    \n",
    "                             'productivity.test_drag.Impact', module = 'metrics')\n",
    "\n",
    "# Uncomment to update expected output to match the actual one, and then put the comment back\n",
    "#create_drag_EXPECTED()"
   ]
  },
  {
   "cell_type": "code",
   "execution_count": null,
   "metadata": {
    "code_folding": [
     0
    ]
   },
   "outputs": [],
   "source": [
    "# Load expected output, update the EXPECTED and ACTUAL dictionaries, and check test is OK\n",
    "list_cols = [] # Lists are loaded as strings, so require special processing on load\n",
    "\n",
    "test_drag_EXPECTED = {}\n",
    "\n",
    "test_drag_EXPECTED['Burnout_with_drag']         = tu_.loadExpectedOutput('productivity.test_drag.Burnout_with_drag', \n",
    "                                                                         list_cols,\n",
    "                                                                         module = 'metrics')\n",
    "test_drag_EXPECTED['Burnout_without_drag']      = tu_.loadExpectedOutput('productivity.test_drag.Burnout_without_drag', \n",
    "                                                                         list_cols,\n",
    "                                                                         module = 'metrics')\n",
    "test_drag_EXPECTED['Entries_with_drag']         = tu_.loadExpectedOutput('productivity.test_drag.Entries_with_drag', \n",
    "                                                                         list_cols,\n",
    "                                                                         module = 'metrics')\n",
    "test_drag_EXPECTED['Entries_without_drag']      = tu_.loadExpectedOutput('productivity.test_drag.Entries_without_drag', \n",
    "                                                                         list_cols,\n",
    "                                                                         module = 'metrics')\n",
    "test_drag_EXPECTED['Commits_impl_with_drag']    = tu_.loadExpectedOutput('productivity.test_drag.Commits_impl_with_drag', \n",
    "                                                                         list_cols,\n",
    "                                                                         module = 'metrics').set_index('Developer')\n",
    "test_drag_EXPECTED['Commits_impl_without_drag'] = tu_.loadExpectedOutput('productivity.test_drag.Commits_impl_without_drag', \n",
    "                                                                         list_cols,\n",
    "                                                                         module = 'metrics').set_index('Developer')\n",
    "test_drag_EXPECTED['Commits_bugs_with_drag']    = tu_.loadExpectedOutput('productivity.test_drag.Commits_bugs_with_drag', \n",
    "                                                                         list_cols,\n",
    "                                                                         module = 'metrics').set_index('Developer')\n",
    "test_drag_EXPECTED['Commits_bugs_without_drag'] = tu_.loadExpectedOutput('productivity.test_drag.Commits_bugs_without_drag', \n",
    "                                                                         list_cols,\n",
    "                                                                         module = 'metrics').set_index('Developer')\n",
    "test_drag_EXPECTED['Commits_all_with_drag']     = tu_.loadExpectedOutput('productivity.test_drag.Commits_all_with_drag', \n",
    "                                                                         list_cols,\n",
    "                                                                         module = 'metrics').set_index('Developer')\n",
    "test_drag_EXPECTED['Commits_all_without_drag']  = tu_.loadExpectedOutput('productivity.test_drag.Commits_all_without_drag', \n",
    "                                                                         list_cols,\n",
    "                                                                         module = 'metrics').set_index('Developer')\n",
    "test_drag_EXPECTED['Impact']                    = tu_.loadExpectedOutput('productivity.test_drag.Impact', \n",
    "                                                                         list_cols,\n",
    "                                                                         module = 'metrics')\n",
    "\n",
    "# Rounding inaccuracies in saving and loading CSV will create an artificial mismatch between ACTUAL and EXPECTED\n",
    "# So round EXPECTED and ACTUAL to 6 decimal places for sensitive fields (any float)\n",
    "ExpectedOutputCleaner.cleanRoundingNoise(['Time Spent'],\n",
    "                                        ['Entries_with_drag', 'Entries_without_drag'],\n",
    "                                        test_drag_EXPECTED,\n",
    "                                        test_drag_ACTUAL)\n",
    "ExpectedOutputCleaner.cleanRoundingNoise(['Effort', 'Implementation Effort', 'Debugging Effort', 'Cum % Completion'],\n",
    "                                        ['Burnout_with_drag', 'Burnout_without_drag'],\n",
    "                                        test_drag_EXPECTED,\n",
    "                                        test_drag_ACTUAL)\n",
    "\n",
    "# Dates are loaded as strings, not pd.Timestamps, so to avoid spurious mismatches between ACTUAL (which \n",
    "# represents dates as pd.Timestamps) and EXPECTED, convert the EXPECTED dates into pd.Timestamps\n",
    "ExpectedOutputCleaner.standardizeDates(['Date'],\n",
    "                                      ['Entries_with_drag', 'Entries_without_drag'],\n",
    "                                      test_drag_EXPECTED)\n",
    "\n",
    "# Align columns\n",
    "ExpectedOutputCleaner.alignColumns(['Commits_all_with_drag', 'Commits_all_without_drag'],\n",
    "                                   test_drag_EXPECTED,\n",
    "                                  test_drag_ACTUAL)\n",
    "\n",
    "tu_.EXPECTED['productivity.test_drag.Burnout_with_drag']             = test_drag_EXPECTED['Burnout_with_drag']\n",
    "tu_.EXPECTED['productivity.test_drag.Burnout_without_drag']          = test_drag_EXPECTED['Burnout_without_drag']\n",
    "tu_.EXPECTED['productivity.test_drag.Entries_with_drag']             = test_drag_EXPECTED['Entries_with_drag']\n",
    "tu_.EXPECTED['productivity.test_drag.Entries_without_drag']          = test_drag_EXPECTED['Entries_without_drag']\n",
    "tu_.EXPECTED['productivity.test_drag.Commits_impl_with_drag']        = test_drag_EXPECTED['Commits_impl_with_drag']\n",
    "tu_.EXPECTED['productivity.test_drag.Commits_impl_without_drag']     = test_drag_EXPECTED['Commits_impl_without_drag']\n",
    "tu_.EXPECTED['productivity.test_drag.Commits_bugs_with_drag']        = test_drag_EXPECTED['Commits_bugs_with_drag']\n",
    "tu_.EXPECTED['productivity.test_drag.Commits_bugs_without_drag']     = test_drag_EXPECTED['Commits_bugs_without_drag']\n",
    "tu_.EXPECTED['productivity.test_drag.Commits_all_with_drag']         = test_drag_EXPECTED['Commits_all_with_drag']\n",
    "tu_.EXPECTED['productivity.test_drag.Commits_all_without_drag']      = test_drag_EXPECTED['Commits_all_without_drag']\n",
    "tu_.EXPECTED['productivity.test_drag.Impact']                        = test_drag_EXPECTED['Impact']\n",
    "\n",
    "tu_.ACTUAL['productivity.test_drag.Burnout_with_drag']             = test_drag_ACTUAL['Burnout_with_drag']\n",
    "tu_.ACTUAL['productivity.test_drag.Burnout_without_drag']          = test_drag_ACTUAL['Burnout_without_drag']\n",
    "tu_.ACTUAL['productivity.test_drag.Entries_with_drag']             = test_drag_ACTUAL['Entries_with_drag']\n",
    "tu_.ACTUAL['productivity.test_drag.Entries_without_drag']          = test_drag_ACTUAL['Entries_without_drag']\n",
    "tu_.ACTUAL['productivity.test_drag.Commits_impl_with_drag']        = test_drag_ACTUAL['Commits_impl_with_drag']\n",
    "tu_.ACTUAL['productivity.test_drag.Commits_impl_without_drag']     = test_drag_ACTUAL['Commits_impl_without_drag']\n",
    "tu_.ACTUAL['productivity.test_drag.Commits_bugs_with_drag']        = test_drag_ACTUAL['Commits_bugs_with_drag']\n",
    "tu_.ACTUAL['productivity.test_drag.Commits_bugs_without_drag']     = test_drag_ACTUAL['Commits_bugs_without_drag']\n",
    "tu_.ACTUAL['productivity.test_drag.Commits_all_with_drag']         = test_drag_ACTUAL['Commits_all_with_drag']\n",
    "tu_.ACTUAL['productivity.test_drag.Commits_all_without_drag']      = test_drag_ACTUAL['Commits_all_without_drag']\n",
    "tu_.ACTUAL['productivity.test_drag.Impact']                        = test_drag_ACTUAL['Impact']\n",
    "\n",
    "tu_.testOK('productivity.test_drag.Burnout_with_drag'), \\\n",
    "tu_.testOK('productivity.test_drag.Burnout_without_drag'), \\\n",
    "tu_.testOK('productivity.test_drag.Entries_with_drag'), \\\n",
    "tu_.testOK('productivity.test_drag.Entries_without_drag'), \\\n",
    "tu_.testOK('productivity.test_drag.Commits_impl_with_drag'), \\\n",
    "tu_.testOK('productivity.test_drag.Commits_impl_without_drag'), \\\n",
    "tu_.testOK('productivity.test_drag.Commits_bugs_with_drag'), \\\n",
    "tu_.testOK('productivity.test_drag.Commits_bugs_without_drag'), \\\n",
    "tu_.testOK('productivity.test_drag.Commits_all_with_drag'), \\\n",
    "tu_.testOK('productivity.test_drag.Commits_all_without_drag'), \\\n",
    "tu_.testOK('productivity.test_drag.Impact'), \\"
   ]
  },
  {
   "cell_type": "code",
   "execution_count": null,
   "metadata": {},
   "outputs": [],
   "source": [
    "# Uncomment to see chart. Then comment it again, as test harness will fail if it is not commented since it can't\n",
    "# load graphic libraries. Also, you may need to run this twice (some Jupyter bug apparently blocks rendering on\n",
    "# a first call)\n",
    "#CommitsAnalysis.chartCommits(analyzer.stats['With_drag'].commits_impl)"
   ]
  },
  {
   "cell_type": "code",
   "execution_count": null,
   "metadata": {},
   "outputs": [],
   "source": [
    "# Uncomment to see chart. Then comment it again, as test harness will fail if it is not commented since it can't\n",
    "# load graphic libraries. Also, you may need to run this twice (some Jupyter bug apparently blocks rendering on\n",
    "# a first call)\n",
    "#CommitsAnalysis.chartCommits(analyzer.stats['Without_drag'].commits_impl)"
   ]
  },
  {
   "cell_type": "code",
   "execution_count": null,
   "metadata": {},
   "outputs": [],
   "source": [
    "test_drag_ACTUAL['Burnout_with_drag'][:5]"
   ]
  },
  {
   "cell_type": "code",
   "execution_count": null,
   "metadata": {},
   "outputs": [],
   "source": [
    "test_drag_EXPECTED['Burnout_with_drag'][:5]"
   ]
  },
  {
   "cell_type": "code",
   "execution_count": null,
   "metadata": {},
   "outputs": [],
   "source": [
    "test_drag_ACTUAL['Burnout_without_drag'][:5]"
   ]
  },
  {
   "cell_type": "code",
   "execution_count": null,
   "metadata": {},
   "outputs": [],
   "source": [
    "test_drag_EXPECTED['Burnout_without_drag'][:5]"
   ]
  },
  {
   "cell_type": "code",
   "execution_count": null,
   "metadata": {},
   "outputs": [],
   "source": [
    "test_drag_ACTUAL['Entries_with_drag'][:5]"
   ]
  },
  {
   "cell_type": "code",
   "execution_count": null,
   "metadata": {},
   "outputs": [],
   "source": [
    "test_drag_EXPECTED['Entries_with_drag'][:5]"
   ]
  },
  {
   "cell_type": "code",
   "execution_count": null,
   "metadata": {},
   "outputs": [],
   "source": [
    "test_drag_ACTUAL['Entries_without_drag'][:5]"
   ]
  },
  {
   "cell_type": "code",
   "execution_count": null,
   "metadata": {},
   "outputs": [],
   "source": [
    "test_drag_EXPECTED['Entries_without_drag'][:5]"
   ]
  },
  {
   "cell_type": "code",
   "execution_count": null,
   "metadata": {},
   "outputs": [],
   "source": [
    "test_drag_ACTUAL['Commits_impl_with_drag'][:5]"
   ]
  },
  {
   "cell_type": "code",
   "execution_count": null,
   "metadata": {},
   "outputs": [],
   "source": [
    "test_drag_EXPECTED['Commits_impl_with_drag'][:5]"
   ]
  },
  {
   "cell_type": "code",
   "execution_count": null,
   "metadata": {},
   "outputs": [],
   "source": [
    "test_drag_ACTUAL['Commits_impl_without_drag'][:5]"
   ]
  },
  {
   "cell_type": "code",
   "execution_count": null,
   "metadata": {},
   "outputs": [],
   "source": [
    "test_drag_EXPECTED['Commits_impl_without_drag'][:5]"
   ]
  },
  {
   "cell_type": "code",
   "execution_count": null,
   "metadata": {},
   "outputs": [],
   "source": [
    "test_drag_ACTUAL['Commits_bugs_with_drag'][:5]"
   ]
  },
  {
   "cell_type": "code",
   "execution_count": null,
   "metadata": {},
   "outputs": [],
   "source": [
    "test_drag_EXPECTED['Commits_bugs_with_drag'][:5]"
   ]
  },
  {
   "cell_type": "code",
   "execution_count": null,
   "metadata": {},
   "outputs": [],
   "source": [
    "test_drag_ACTUAL['Commits_bugs_without_drag'][:5]"
   ]
  },
  {
   "cell_type": "code",
   "execution_count": null,
   "metadata": {},
   "outputs": [],
   "source": [
    "test_drag_EXPECTED['Commits_bugs_without_drag'][:5]"
   ]
  },
  {
   "cell_type": "code",
   "execution_count": null,
   "metadata": {},
   "outputs": [],
   "source": [
    "test_drag_ACTUAL['Commits_all_with_drag'][:5]"
   ]
  },
  {
   "cell_type": "code",
   "execution_count": null,
   "metadata": {},
   "outputs": [],
   "source": [
    "test_drag_EXPECTED['Commits_all_with_drag'][:5]"
   ]
  },
  {
   "cell_type": "code",
   "execution_count": null,
   "metadata": {},
   "outputs": [],
   "source": []
  },
  {
   "cell_type": "code",
   "execution_count": null,
   "metadata": {},
   "outputs": [],
   "source": [
    "a = test_drag_ACTUAL['Commits_all_without_drag']\n",
    "e = test_drag_EXPECTED['Commits_all_without_drag']\n",
    "a.columns, e.columns"
   ]
  },
  {
   "cell_type": "code",
   "execution_count": null,
   "metadata": {},
   "outputs": [],
   "source": []
  },
  {
   "cell_type": "code",
   "execution_count": null,
   "metadata": {},
   "outputs": [],
   "source": []
  },
  {
   "cell_type": "code",
   "execution_count": null,
   "metadata": {},
   "outputs": [],
   "source": [
    "test_drag_ACTUAL['Commits_all_without_drag'][:5]"
   ]
  },
  {
   "cell_type": "code",
   "execution_count": null,
   "metadata": {},
   "outputs": [],
   "source": [
    "test_drag_EXPECTED['Commits_all_without_drag'][:5]"
   ]
  },
  {
   "cell_type": "code",
   "execution_count": null,
   "metadata": {},
   "outputs": [],
   "source": [
    "test_drag_ACTUAL['Impact']"
   ]
  },
  {
   "cell_type": "code",
   "execution_count": null,
   "metadata": {},
   "outputs": [],
   "source": [
    "test_drag_EXPECTED['Impact']"
   ]
  },
  {
   "cell_type": "code",
   "execution_count": null,
   "metadata": {},
   "outputs": [],
   "source": []
  }
 ],
 "metadata": {
  "kernelspec": {
   "display_name": "Python 3",
   "language": "python",
   "name": "python3"
  },
  "language_info": {
   "codemirror_mode": {
    "name": "ipython",
    "version": 3
   },
   "file_extension": ".py",
   "mimetype": "text/x-python",
   "name": "python",
   "nbconvert_exporter": "python",
   "pygments_lexer": "ipython3",
   "version": "3.7.3"
  }
 },
 "nbformat": 4,
 "nbformat_minor": 2
}
