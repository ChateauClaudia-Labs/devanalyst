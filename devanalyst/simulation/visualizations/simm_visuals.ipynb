{
 "cells": [
  {
   "cell_type": "code",
   "execution_count": 1,
   "metadata": {},
   "outputs": [],
   "source": [
    "import seaborn as sns\n",
    "import matplotlib.pyplot as plt"
   ]
  },
  {
   "cell_type": "code",
   "execution_count": 2,
   "metadata": {},
   "outputs": [
    {
     "name": "stdout",
     "output_type": "stream",
     "text": [
      "importing Jupyter notebook from c:\\alex\\code\\labs\\devanalyst\\devanalyst\\simulation\\statics.ipynb\n"
     ]
    }
   ],
   "source": [
    "import devanalyst.simulation.statics as S_"
   ]
  },
  {
   "cell_type": "markdown",
   "metadata": {},
   "source": [
    "<h1>Simulation Model Visualizations</h1>"
   ]
  },
  {
   "cell_type": "markdown",
   "metadata": {},
   "source": [
    "<h2>Visualize an AllocationModel's log</h2>"
   ]
  },
  {
   "cell_type": "code",
   "execution_count": 5,
   "metadata": {
    "code_folding": [
     0
    ]
   },
   "outputs": [],
   "source": [
    "def renderLog(log_df, color):\n",
    "    \n",
    "    DEL = ' - '\n",
    "\n",
    "    fig, axs = plt.subplots(log_df.index.size, 6) \n",
    "    \n",
    "    label = log_df.iloc[0]['Title']\n",
    "\n",
    "    fig.suptitle('---------------------------------------------  '+ str(label) + \n",
    "                 ' ---------------------------------------------', fontsize=16, y=10.4, x=1)\n",
    "\n",
    "    OFFSET = -3\n",
    "    for bucket in [S_.CURRENT_SPRINT, S_.NEXT_SPRINT]:\n",
    "        OFFSET += 3\n",
    "        if bucket == S_.CURRENT_SPRINT:\n",
    "            SUFFIX = 'CURRENT'\n",
    "        else:\n",
    "            SUFFIX = 'NEXT'\n",
    "        for index, snapshot_info in log_df.iterrows():\n",
    "        \n",
    "            remaining_size           = snapshot_info['Remaining Size' + DEL + bucket]\n",
    "            remaining_mean           = snapshot_info['Remaining Mean' + DEL + bucket]\n",
    "            remaining_distance       = snapshot_info['Remaining Distance' + DEL + bucket]\n",
    "            remaining_data           = snapshot_info['Remaining Data' + DEL + bucket]\n",
    "            initial_size             = snapshot_info['Initial Size' + DEL + bucket]\n",
    "            initial_mean             = snapshot_info['Initial Mean' + DEL + bucket]\n",
    "            initial_distance         = snapshot_info['Initial Distance' + DEL + bucket]\n",
    "            initial_data             = snapshot_info['Initial Data' + DEL + bucket]\n",
    "            final_size               = snapshot_info['Final Size' + DEL + bucket]\n",
    "            final_mean               = snapshot_info['Final Mean' + DEL + bucket]\n",
    "            final_distance           = snapshot_info['Final Distance' + DEL + bucket]\n",
    "            final_data               = snapshot_info['Final Data' + DEL + bucket]\n",
    "            cycle                    = snapshot_info['Cycle']\n",
    "#            color                    = snapshot_info['Color' + DEL + bucket]\n",
    "            bins                     = snapshot_info['Bins' + DEL + bucket]\n",
    "        \n",
    "            ax_remaining             = axs[index][0 + OFFSET]\n",
    "            ax_initial               = axs[index][1 + OFFSET]\n",
    "            ax_final                 = axs[index][2 + OFFSET]\n",
    "\n",
    "            sns.distplot(remaining_data, bins=bins, color=color, ax=ax_remaining)\n",
    "            ax_remaining.set_title('#' + str(cycle) + ': Remaining ' + ' ('+ SUFFIX+ ')')\n",
    "            ax_remaining.set_xlabel('s=' + str(remaining_size) + \\\n",
    "                                '; m=' + str(round(remaining_mean, 2)) + \\\n",
    "                                '; d=' + str(round(remaining_distance,2)))\n",
    "\n",
    "            sns.distplot(initial_data, bins=bins, color=color, ax=ax_initial)\n",
    "            ax_initial.set_title('#' + str(cycle) + ': Initial ' + ' ('+ SUFFIX+ ')')\n",
    "            ax_initial.set_xlabel('s=' + str(initial_size) + \\\n",
    "                              '; m=' + str(round(initial_mean, 2)) + \\\n",
    "                              '; d=' + str(round(initial_distance,2)))\n",
    "\n",
    "            sns.distplot(final_data, bins=bins, color=color, ax=ax_final)\n",
    "            ax_final.set_title('#' + str(cycle) + 'Final ' + ' ('+ SUFFIX+ ')')\n",
    "            ax_final.set_xlabel('s=' + str(final_size) + \\\n",
    "                            '; m=' + str(round(final_mean, 2)) + \n",
    "                            '; d=' + str(round(final_distance,2)))\n",
    "                \n",
    "    plt.subplots_adjust(top=10.2, right=2.3, wspace=0.3, hspace=1.0)"
   ]
  },
  {
   "cell_type": "code",
   "execution_count": null,
   "metadata": {},
   "outputs": [],
   "source": []
  }
 ],
 "metadata": {
  "kernelspec": {
   "display_name": "Python 3",
   "language": "python",
   "name": "python3"
  },
  "language_info": {
   "codemirror_mode": {
    "name": "ipython",
    "version": 3
   },
   "file_extension": ".py",
   "mimetype": "text/x-python",
   "name": "python",
   "nbconvert_exporter": "python",
   "pygments_lexer": "ipython3",
   "version": "3.7.1"
  }
 },
 "nbformat": 4,
 "nbformat_minor": 2
}
