{
 "cells": [
  {
   "cell_type": "code",
   "execution_count": 1,
   "metadata": {},
   "outputs": [],
   "source": [
    "import pandas as pd\n",
    "import numpy as np\n",
    "import math\n",
    "from random import choices\n",
    "from datetime import datetime\n",
    "import statistics"
   ]
  },
  {
   "cell_type": "code",
   "execution_count": 2,
   "metadata": {},
   "outputs": [
    {
     "name": "stdout",
     "output_type": "stream",
     "text": [
      "importing Jupyter notebook from c:\\alex\\code\\labs\\devanalyst\\devanalyst\\simulation\\statics.ipynb\n",
      "importing Jupyter notebook from c:\\alex\\code\\labs\\devanalyst\\devanalyst\\simulation\\GenerateTimecards.ipynb\n",
      "importing Jupyter notebook from c:\\alex\\code\\labs\\devanalyst\\devanalyst\\simulation\\simulationModels.ipynb\n"
     ]
    }
   ],
   "source": [
    "import devanalyst.simulation.statics as S_\n",
    "import devanalyst.simulation.GenerateTimecards as timecard\n",
    "from devanalyst.simulation.GenerateTimecards import WorkAssignments\n",
    "from devanalyst.simulation.simulationModels import BalancedAllocationModel, GreedyAllocationModel, ModelsConfig, DefaultCostModel"
   ]
  },
  {
   "cell_type": "code",
   "execution_count": 3,
   "metadata": {},
   "outputs": [
    {
     "name": "stdout",
     "output_type": "stream",
     "text": [
      "importing Jupyter notebook from c:\\alex\\code\\labs\\devanalyst\\devanalyst\\simulation\\tests\\test_utils.ipynb\n"
     ]
    }
   ],
   "source": [
    "import devanalyst.simulation.tests.test_utils as tu_"
   ]
  },
  {
   "cell_type": "markdown",
   "metadata": {},
   "source": [
    "<h1>test_greedyAllocation</h1>"
   ]
  },
  {
   "cell_type": "code",
   "execution_count": 4,
   "metadata": {
    "code_folding": [
     0
    ]
   },
   "outputs": [],
   "source": [
    "# Implement test logic, and run it\n",
    "\n",
    "#Test logic\n",
    "def test_greedyAllocation():    \n",
    "    output = {}\n",
    "    RELEASE_DURATION = 125\n",
    "    SPRINT_DURATION = 10\n",
    "\n",
    "    # Configure models\n",
    "    model = GreedyAllocationModel(SPRINT_DURATION) \n",
    "    modelsConfig = ModelsConfig([], [], model)\n",
    "    modelsConfig.random.reset(271)\n",
    "\n",
    "    teams_df, stories_df, teamsRepo, storiesRepo, ticketsRepo = tu_.initTestData(tu_.DEV_DF, tu_.PM_DF, \\\n",
    "                                                                             RELEASE_DURATION, SPRINT_DURATION, modelsConfig)\n",
    "\n",
    "    # Select a team\n",
    "    teamId = teams_df['Scrum Team'][0].teamId\n",
    "    \n",
    "    # Choose what to work on at the start of a sprint.\n",
    "    SPRINT_DURATION = 10\n",
    "\n",
    "   \n",
    "    work = WorkAssignments(teamId, teamsRepo, storiesRepo, sprint=1)\n",
    "\n",
    "    work = model.allocate(work, modelsConfig)\n",
    "    \n",
    "    committed_df = work.committedTime(SPRINT_DURATION)\n",
    "    tasks_df = work.committedTasks()\n",
    "        \n",
    "    output['Committed'] = committed_df\n",
    "    output['Tasks'] = tasks_df\n",
    "    return output\n",
    "\n",
    "# Run the test\n",
    "test_greedyAllocation_ACTUAL = test_greedyAllocation()"
   ]
  },
  {
   "cell_type": "code",
   "execution_count": 5,
   "metadata": {
    "code_folding": [
     0
    ]
   },
   "outputs": [],
   "source": [
    "# Uncomment to update expected output to match the actual one\n",
    "\n",
    "# Helper method\n",
    "def create_greedyAllocation_EXPECTED():\n",
    "    tu_.createExpectedOutput(test_greedyAllocation_ACTUAL['Committed'],    'simm.test_greedyAllocation.Committed')\n",
    "    tu_.createExpectedOutput(test_greedyAllocation_ACTUAL['Tasks'],        'simm.test_greedyAllocation.Tasks')\n",
    "\n",
    "# Uncomment to update expected output to match the actual one, and then put the comment back\n",
    "#create_greedyAllocation_EXPECTED()"
   ]
  },
  {
   "cell_type": "code",
   "execution_count": 6,
   "metadata": {
    "code_folding": [
     0
    ]
   },
   "outputs": [
    {
     "data": {
      "text/plain": [
       "(True, True)"
      ]
     },
     "execution_count": 6,
     "metadata": {},
     "output_type": "execute_result"
    }
   ],
   "source": [
    "# Load expected output, update the EXPECTED and ACTUAL dictionaries, and check test is OK\n",
    "test_greedyAllocation_EXPECTED = {}\n",
    "\n",
    "test_greedyAllocation_EXPECTED['Committed']      = tu_.loadExpectedOutput('simm.test_greedyAllocation.Committed')\n",
    "test_greedyAllocation_EXPECTED['Tasks']          = tu_.loadExpectedOutput('simm.test_greedyAllocation.Tasks')\n",
    "\n",
    "# Rounding inaccuracies in saving and loading CSV will create an artificial mismatch between ACTUAL and EXPECTED\n",
    "# So round EXPECTED and ACTUAL to 6 decimal places for sensitive fields (any float)\n",
    "sensitive_fields = ['Rejects (days)', 'Debugging (days)', 'Implementation (days)', 'Bandwidth',\\\n",
    "                    'NEXT SPRINT (days)', 'NEXT SPRINT Bandwidth']\n",
    "testlets = ['Committed']\n",
    "for field in sensitive_fields:\n",
    "    for testlet in testlets:\n",
    "        rounded = test_greedyAllocation_EXPECTED[testlet][field].apply(lambda x: round(x, 6)) # Round to 6 decimal places\n",
    "        test_greedyAllocation_EXPECTED[testlet][field] = rounded\n",
    "        rounded = test_greedyAllocation_ACTUAL[testlet][field].apply(lambda x: round(x, 6)) # Round to 6 decimal places\n",
    "        test_greedyAllocation_ACTUAL[testlet][field] = rounded\n",
    "sensitive_fields = ['Original Estimate', 'Effort Spent', 'Effort Remaining', 'Percent Achieved']\n",
    "testlets = ['Tasks']\n",
    "for field in sensitive_fields:\n",
    "    for testlet in testlets:\n",
    "        rounded = test_greedyAllocation_EXPECTED[testlet][field].apply(lambda x: round(x, 6)) # Round to 6 decimal places\n",
    "        test_greedyAllocation_EXPECTED[testlet][field] = rounded\n",
    "        rounded = test_greedyAllocation_ACTUAL[testlet][field].apply(lambda x: round(x, 6)) # Round to 6 decimal places\n",
    "        test_greedyAllocation_ACTUAL[testlet][field] = rounded\n",
    "\n",
    "tu_.EXPECTED['simm.test_greedyAllocation.Committed']      = test_greedyAllocation_EXPECTED['Committed']\n",
    "tu_.EXPECTED['simm.test_greedyAllocation.Tasks']          = test_greedyAllocation_EXPECTED['Tasks']\n",
    "\n",
    "tu_.ACTUAL['simm.test_greedyAllocation.Committed']        = test_greedyAllocation_ACTUAL['Committed']\n",
    "tu_.ACTUAL['simm.test_greedyAllocation.Tasks']            = test_greedyAllocation_ACTUAL['Tasks']\n",
    "\n",
    "tu_.testOK('simm.test_greedyAllocation.Committed'), \\\n",
    "tu_.testOK('simm.test_greedyAllocation.Tasks'), \\"
   ]
  },
  {
   "cell_type": "code",
   "execution_count": null,
   "metadata": {},
   "outputs": [],
   "source": [
    "test_greedyAllocation_ACTUAL['Committed']"
   ]
  },
  {
   "cell_type": "code",
   "execution_count": null,
   "metadata": {},
   "outputs": [],
   "source": [
    "test_greedyAllocation_EXPECTED['Committed']"
   ]
  },
  {
   "cell_type": "code",
   "execution_count": null,
   "metadata": {},
   "outputs": [],
   "source": [
    "test_greedyAllocation_ACTUAL['Tasks']"
   ]
  },
  {
   "cell_type": "code",
   "execution_count": null,
   "metadata": {},
   "outputs": [],
   "source": [
    "test_greedyAllocation_EXPECTED['Tasks']"
   ]
  },
  {
   "cell_type": "markdown",
   "metadata": {},
   "source": [
    "<h1>test_balancedAllocation</h1>"
   ]
  },
  {
   "cell_type": "code",
   "execution_count": 7,
   "metadata": {
    "code_folding": [
     0
    ]
   },
   "outputs": [],
   "source": [
    "# Implement test logic, and run it\n",
    "\n",
    "#Test logic\n",
    "def test_balancedAllocation():    \n",
    "    output = {}\n",
    "    RELEASE_DURATION = 125\n",
    "    SPRINT_DURATION = 10\n",
    "\n",
    "    # Configure models\n",
    "    model = BalancedAllocationModel(SPRINT_DURATION) \n",
    "    modelsConfig = ModelsConfig([], [], model)\n",
    "    modelsConfig.random.reset(271)\n",
    "\n",
    "    teams_df, stories_df, teamsRepo, storiesRepo, ticketsRepo = tu_.initTestData(tu_.DEV_DF, tu_.PM_DF, \\\n",
    "                                                                             RELEASE_DURATION, SPRINT_DURATION, modelsConfig)\n",
    "\n",
    "    # Select a team\n",
    "    teamId = teams_df['Scrum Team'][0].teamId\n",
    "    \n",
    "    # Choose what to work on at the start of a sprint.\n",
    "    SPRINT_DURATION = 10\n",
    "\n",
    "   \n",
    "    work = WorkAssignments(teamId, teamsRepo, storiesRepo, sprint=1)\n",
    "\n",
    "    work = model.allocate(work, modelsConfig)\n",
    "    \n",
    "    committed_df = work.committedTime(SPRINT_DURATION)\n",
    "    tasks_df = work.committedTasks()\n",
    "        \n",
    "    output['Committed'] = committed_df\n",
    "    output['Tasks'] = tasks_df\n",
    "    return output, work\n",
    "\n",
    "# Run the test\n",
    "test_balancedAllocation_ACTUAL, work = test_balancedAllocation()"
   ]
  },
  {
   "cell_type": "code",
   "execution_count": 8,
   "metadata": {
    "code_folding": [
     0
    ]
   },
   "outputs": [],
   "source": [
    "# Uncomment to update expected output to match the actual one\n",
    "\n",
    "# Helper method\n",
    "def create_balancedAllocation_EXPECTED():\n",
    "    tu_.createExpectedOutput(test_balancedAllocation_ACTUAL['Committed'],    'simm.test_balancedAllocation.Committed')\n",
    "    tu_.createExpectedOutput(test_balancedAllocation_ACTUAL['Tasks'],        'simm.test_balancedAllocation.Tasks')\n",
    "\n",
    "# Uncomment to update expected output to match the actual one, and then put the comment back\n",
    "#create_balancedAllocation_EXPECTED()"
   ]
  },
  {
   "cell_type": "code",
   "execution_count": 9,
   "metadata": {
    "code_folding": [
     0
    ]
   },
   "outputs": [
    {
     "data": {
      "text/plain": [
       "(True, True)"
      ]
     },
     "execution_count": 9,
     "metadata": {},
     "output_type": "execute_result"
    }
   ],
   "source": [
    "# Load expected output, update the EXPECTED and ACTUAL dictionaries, and check test is OK\n",
    "test_balancedAllocation_EXPECTED = {}\n",
    "\n",
    "test_balancedAllocation_EXPECTED['Committed']      = tu_.loadExpectedOutput('simm.test_balancedAllocation.Committed')\n",
    "test_balancedAllocation_EXPECTED['Tasks']          = tu_.loadExpectedOutput('simm.test_balancedAllocation.Tasks')\n",
    "\n",
    "# Rounding inaccuracies in saving and loading CSV will create an artificial mismatch between ACTUAL and EXPECTED\n",
    "# So round EXPECTED and ACTUAL to 6 decimal places for sensitive fields (any float)\n",
    "sensitive_fields = ['Rejects (days)', 'Debugging (days)', 'Implementation (days)', 'Bandwidth',\\\n",
    "                    'NEXT SPRINT (days)', 'NEXT SPRINT Bandwidth']\n",
    "testlets = ['Committed']\n",
    "for field in sensitive_fields:\n",
    "    for testlet in testlets:\n",
    "        rounded = test_balancedAllocation_EXPECTED[testlet][field].apply(lambda x: round(x, 6)) # Round to 6 decimal places\n",
    "        test_balancedAllocation_EXPECTED[testlet][field] = rounded\n",
    "        rounded = test_balancedAllocation_ACTUAL[testlet][field].apply(lambda x: round(x, 6)) # Round to 6 decimal places\n",
    "        test_balancedAllocation_ACTUAL[testlet][field] = rounded\n",
    "sensitive_fields = ['Original Estimate', 'Effort Spent', 'Effort Remaining', 'Percent Achieved']\n",
    "testlets = ['Tasks']\n",
    "for field in sensitive_fields:\n",
    "    for testlet in testlets:\n",
    "        rounded = test_balancedAllocation_EXPECTED[testlet][field].apply(lambda x: round(x, 6)) # Round to 6 decimal places\n",
    "        test_balancedAllocation_EXPECTED[testlet][field] = rounded\n",
    "        rounded = test_balancedAllocation_ACTUAL[testlet][field].apply(lambda x: round(x, 6)) # Round to 6 decimal places\n",
    "        test_balancedAllocation_ACTUAL[testlet][field] = rounded\n",
    "\n",
    "tu_.EXPECTED['simm.test_balancedAllocation.Committed']      = test_balancedAllocation_EXPECTED['Committed']\n",
    "tu_.EXPECTED['simm.test_balancedAllocation.Tasks']          = test_balancedAllocation_EXPECTED['Tasks']\n",
    "\n",
    "tu_.ACTUAL['simm.test_balancedAllocation.Committed']        = test_balancedAllocation_ACTUAL['Committed']\n",
    "tu_.ACTUAL['simm.test_balancedAllocation.Tasks']            = test_balancedAllocation_ACTUAL['Tasks']\n",
    "\n",
    "tu_.testOK('simm.test_balancedAllocation.Committed'), \\\n",
    "tu_.testOK('simm.test_balancedAllocation.Tasks'), \\"
   ]
  },
  {
   "cell_type": "code",
   "execution_count": null,
   "metadata": {
    "code_folding": []
   },
   "outputs": [],
   "source": [
    "test_balancedAllocation_ACTUAL['Committed']"
   ]
  },
  {
   "cell_type": "code",
   "execution_count": null,
   "metadata": {},
   "outputs": [],
   "source": [
    "test_balancedAllocation_EXPECTED['Committed']"
   ]
  },
  {
   "cell_type": "code",
   "execution_count": null,
   "metadata": {
    "code_folding": []
   },
   "outputs": [],
   "source": [
    "test_balancedAllocation_ACTUAL['Tasks']"
   ]
  },
  {
   "cell_type": "code",
   "execution_count": null,
   "metadata": {},
   "outputs": [],
   "source": [
    "test_balancedAllocation_EXPECTED['Tasks']"
   ]
  },
  {
   "cell_type": "code",
   "execution_count": null,
   "metadata": {},
   "outputs": [],
   "source": []
  }
 ],
 "metadata": {
  "kernelspec": {
   "display_name": "Python 3",
   "language": "python",
   "name": "python3"
  },
  "language_info": {
   "codemirror_mode": {
    "name": "ipython",
    "version": 3
   },
   "file_extension": ".py",
   "mimetype": "text/x-python",
   "name": "python",
   "nbconvert_exporter": "python",
   "pygments_lexer": "ipython3",
   "version": "3.7.1"
  }
 },
 "nbformat": 4,
 "nbformat_minor": 2
}
