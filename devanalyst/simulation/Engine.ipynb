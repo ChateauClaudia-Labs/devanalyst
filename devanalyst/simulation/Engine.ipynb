{
 "cells": [
  {
   "cell_type": "code",
   "execution_count": 1,
   "metadata": {},
   "outputs": [],
   "source": [
    "from datetime import datetime\n",
    "import pandas as pd"
   ]
  },
  {
   "cell_type": "code",
   "execution_count": 2,
   "metadata": {},
   "outputs": [
    {
     "name": "stdout",
     "output_type": "stream",
     "text": [
      "importing Jupyter notebook from c:\\users\\aleja\\documents\\code\\chateauclaudia-labs\\devanalyst\\devanalyst\\simulation\\simulationModels.ipynb\n",
      "importing Jupyter notebook from c:\\users\\aleja\\documents\\code\\chateauclaudia-labs\\devanalyst\\devanalyst\\simulation\\statics.ipynb\n",
      "importing Jupyter notebook from c:\\users\\aleja\\documents\\code\\chateauclaudia-labs\\devanalyst\\devanalyst\\simulation\\businessObjects.ipynb\n",
      "importing Jupyter notebook from c:\\users\\aleja\\documents\\code\\chateauclaudia-labs\\devanalyst\\devanalyst\\simulation\\generateTimecards.ipynb\n"
     ]
    }
   ],
   "source": [
    "#import devanalyst.simulation.statics as S_\n",
    "\n",
    "from devanalyst.simulation.simulationModels import ModelsConfig\n",
    "#, DefaultCostModel, MeritocraticCostModel, \\\n",
    "#DistributedLagQualityModel, GreedyAllocationModel, NoLaggardsAllocationModel\n",
    "\n",
    "from devanalyst.simulation.businessObjects import TicketsRepo, Backlog, UserStoryStatus\n",
    "\n",
    "#from devanalyst.metrics.ProductivityMetrics import CommitsAnalysis\n",
    "import devanalyst.simulation.generateTimecards as timecard"
   ]
  },
  {
   "cell_type": "code",
   "execution_count": 4,
   "metadata": {},
   "outputs": [],
   "source": [
    "class ReleaseSimulationEngine:\n",
    "    \n",
    "    # -modelsConfig: configuration for the release simulation, inclusive of all simulation models as well as the \n",
    "    #                data repositories that should be pre-populated with relevent user stories to implement in this\n",
    "    #                release cycle when the simulation is run, as well as the team that is to implemen them.\n",
    "    def __init__(self, modelsConfig):\n",
    "        self.modelsConfig = modelsConfig\n",
    "        \n",
    "        # Objects computed in the process of running the engine\n",
    "        self.entries_df = None\n",
    "        self.log        = None\n",
    "        \n",
    "    # Simulates the release process from the given start_date and the given number_of_sprints. Sets the\n",
    "    # 'self.entries_df' and 'self.log' over this period of time.\n",
    "    #\n",
    "    # -number_of_sprints: integer corresponding to how many sprints we should simulate for the release cycle. Normally\n",
    "    #                     it would be set to be high enough so that all user stories are completed over those sprints.\n",
    "    # -sprint_duration: integer corresponding to the duration of a typical sprint, in days.\n",
    "    # -start_date: a datetime instance corresponding to the date when the release simulation starts. Therefore, all\n",
    "    #              timecard entries are dated starting with the end date of the first sprint that begins on this start_date.\n",
    "    def run(self, number_of_sprints, sprint_duration, start_date):\n",
    "        entries_df, log = timecard.runReleaseCycle(start_date, \n",
    "                                                   sprint_duration, \n",
    "                                                   number_of_sprints,\n",
    "                                                   self.modelsConfig)\n",
    "        self.entries_df = entries_df\n",
    "        self.log        = log\n",
    "       \n",
    "    # Resets the release simulation engine by bringing it back to the state it was in right before it was run.\n",
    "    # Thus, the teams and original user stories are the same, but all progress done on user stories (as tracked in\n",
    "    # the teams' backlogs' UserStoryStatus objects) are cleared out. Also all tickets are deleted.\n",
    "    # Thus, it leaves things in a state where the release simulation engine can be run again, after possibly some\n",
    "    # changes (such as maybe changing the team or some algorithmic parameter in modelsConfig). This allows establishing\n",
    "    # comparison on release cycle outcomes when the same user story workload is implemented under different assumptions.\n",
    "    def resetEngine(self):\n",
    "        teamsRepo = self.modelsConfig.globalRepo.teamsRepo\n",
    "        for team in teamsRepo.teams:\n",
    "            # Now clear the user story statuses for each story in a team's backlog\n",
    "            old_pendingStories = team.backlog.pendingUserStories\n",
    "            team.backlog = Backlog()\n",
    "            for old_uss in old_pendingStories:\n",
    "                storyId = old_uss.userStoryId\n",
    "                team.backlog.pendingUserStories.append(UserStoryStatus(storyId)) \n",
    "        self.modelsConfig.globalRepo.ticketsRepo = TicketsRepo()"
   ]
  },
  {
   "cell_type": "code",
   "execution_count": null,
   "metadata": {},
   "outputs": [],
   "source": []
  },
  {
   "cell_type": "code",
   "execution_count": null,
   "metadata": {},
   "outputs": [],
   "source": []
  }
 ],
 "metadata": {
  "kernelspec": {
   "display_name": "Python 3",
   "language": "python",
   "name": "python3"
  },
  "language_info": {
   "codemirror_mode": {
    "name": "ipython",
    "version": 3
   },
   "file_extension": ".py",
   "mimetype": "text/x-python",
   "name": "python",
   "nbconvert_exporter": "python",
   "pygments_lexer": "ipython3",
   "version": "3.7.3"
  }
 },
 "nbformat": 4,
 "nbformat_minor": 2
}
