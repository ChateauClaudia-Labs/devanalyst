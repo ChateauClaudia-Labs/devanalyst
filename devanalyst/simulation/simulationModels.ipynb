{
 "cells": [
  {
   "cell_type": "code",
   "execution_count": 30,
   "metadata": {},
   "outputs": [],
   "source": [
    "import pandas as pd\n",
    "import numpy as np"
   ]
  },
  {
   "cell_type": "code",
   "execution_count": 31,
   "metadata": {},
   "outputs": [],
   "source": [
    "import devanalyst.simulation.GenerateTimecards as timecard\n",
    "import devanalyst.simulation.statics as S_"
   ]
  },
  {
   "cell_type": "markdown",
   "metadata": {},
   "source": [
    "<h1>Stochastic Utilities</h1>"
   ]
  },
  {
   "cell_type": "code",
   "execution_count": 32,
   "metadata": {
    "code_folding": [
     0
    ]
   },
   "outputs": [],
   "source": [
    "# Helper class to make random choices, but with a consistent generator instance across all calling sequences \n",
    "# so that if required a deterministic output is produced system-wide from a single seed.\n",
    "class Random():\n",
    "    def __init__(self):\n",
    "        self.seed = None\n",
    "        self.random = np.random.RandomState()\n",
    "        \n",
    "    def reset(self, seed):\n",
    "        self.seed = seed\n",
    "        self.random = np.random.RandomState(self.seed)\n",
    "        \n",
    "    # Returns a random element from an array. Returns None if array is empty\n",
    "    def pickOne(self, array):\n",
    "        if len(array)==0:\n",
    "            return None\n",
    "        return array[self.random.randint(0, len(array))]\n",
    "\n",
    "    # Returns a random index from a Pandas Series\n",
    "    def pickOneIdx(self, series):\n",
    "        return series.index[self.random.randint(0, len(series))]   \n",
    "\n",
    "    # Returns an integer corresponding to a random duration between 1 day and the maxDuration. \n",
    "    def pickHowLong(self, maxDuration):\n",
    "        return self.random.randint(1, maxDuration +1)    "
   ]
  },
  {
   "cell_type": "code",
   "execution_count": 33,
   "metadata": {
    "code_folding": [
     0
    ]
   },
   "outputs": [],
   "source": [
    "class ModelsConfig:\n",
    "    \n",
    "    # -costModels: array of CostModel instances, each representing an independent driver for how actual costs deviate from\n",
    "    # estimates. Thus the real cost is obtained by applying all the models in succession to the estimate.\n",
    "    # -qualityModels: TBD\n",
    "    # -allocationModel: an instance of an AllocationModel\n",
    "    def __init__(self, costModels, qualityModels, allocationModel):\n",
    "        self.costModels        = costModels\n",
    "        self.qualityModels     = qualityModels\n",
    "        self.allocationModel  = allocationModel\n",
    "        \n",
    "        self.random = Random()"
   ]
  },
  {
   "cell_type": "markdown",
   "metadata": {},
   "source": [
    "<h1>Cost Models</h1>"
   ]
  },
  {
   "cell_type": "code",
   "execution_count": 34,
   "metadata": {
    "code_folding": [
     0
    ]
   },
   "outputs": [],
   "source": [
    "# Abstract class\n",
    "class CostModel:\n",
    "    \n",
    "    # Returns a cost multipier for the WorkItem 'item', i.e., a number equal to the ratio between the 'actual cost'\n",
    "    # (in man-days) of developing the 'item' and the 'estimated cost'\n",
    "    #\n",
    "    # -item: a WorkItem\n",
    "    def runModel(self, item): \n",
    "        return # This is the abstract class, so this method should never be called as concrete class implement it."
   ]
  },
  {
   "cell_type": "code",
   "execution_count": 35,
   "metadata": {
    "code_folding": [
     0
    ]
   },
   "outputs": [],
   "source": [
    "class DefaultCostModel (CostModel):\n",
    "# Default class for models that simulate how actual costs differ from estimates. Usually there might be different\n",
    "# implementations, each trying to capture a different dynamic with a different driver. This default class just assumes\n",
    "# everything takes longer than expected by a given delay\n",
    "\n",
    "    # -delay_pct: the percentage by which estimates are off. For example, a delay_pct of 0.25 means that a task\n",
    "    # estimated to take 10 man-days actually takes 12.5 man-days.\n",
    "    def __init__(self, delay_pct = 0.25):\n",
    "        self.delay_pct = delay_pct\n",
    "        return  \n",
    "    # \n",
    "    def runModel(self, item):   \n",
    "        return 1 + self.delay_pct"
   ]
  },
  {
   "cell_type": "code",
   "execution_count": 36,
   "metadata": {
    "code_folding": [
     0
    ]
   },
   "outputs": [],
   "source": [
    "def computeRealCost(item, costModels):\n",
    "# Computes the real cost of delivering a work item, based on a number of 'factors', which are functions implementing a model\n",
    "# for what drives costs to differ from estimates.\n",
    "\n",
    "    cost = item.estimate;\n",
    "    for m in costModels:\n",
    "        cost *= m.runModel(item)\n",
    "    return cost"
   ]
  },
  {
   "cell_type": "markdown",
   "metadata": {},
   "source": [
    "<h1>Allocation Models</h1>"
   ]
  },
  {
   "cell_type": "code",
   "execution_count": 37,
   "metadata": {
    "code_folding": [
     0
    ]
   },
   "outputs": [],
   "source": [
    "# Abstract parent class\n",
    "class AvailabilityCriterion:\n",
    "    def getPeopleWithBandwidth(self, timeRequired, sprintDuration):\n",
    "        return"
   ]
  },
  {
   "cell_type": "code",
   "execution_count": 38,
   "metadata": {
    "code_folding": [
     0
    ]
   },
   "outputs": [],
   "source": [
    "class GreedyAvailabilityCriterion (AvailabilityCriterion):  \n",
    "    \n",
    "    def __init__(self, work, currentOrNext):\n",
    "        self.work = work\n",
    "        self.currentOrNext = currentOrNext\n",
    "    \n",
    "        return\n",
    "    \n",
    "    def getPeopleWithBandwidth(self, timeRequired, sprintDuration):\n",
    "        if self.currentOrNext:\n",
    "            available = self.work.committedTime(sprintDuration)[['Developer', 'Bandwidth']]\n",
    "            return list(available[available['Bandwidth'] >= timeRequired]['Developer'])\n",
    "            \n",
    "        else:\n",
    "            available = self.work.committedTime(sprintDuration)[['Developer', 'NEXT SPRINT Bandwidth']]\n",
    "            # Filter to only developers who have 'carry over' bandwidth from this spring into the next one\n",
    "            haveCarryOver = available[available['NEXT SPRINT Bandwidth'] > sprintDuration] \n",
    "            return list(haveCarryOver[haveCarryOver['NEXT SPRINT Bandwidth'] >= timeRequired]['Developer'])  "
   ]
  },
  {
   "cell_type": "code",
   "execution_count": 39,
   "metadata": {
    "code_folding": [
     0
    ]
   },
   "outputs": [],
   "source": [
    "class AllocationModel:\n",
    "# Abstract class \n",
    "\n",
    "    # Implemented by concrete classes.\n",
    "    # Mutates work allocating WorkItem's to developers\n",
    "    def allocate(self, work, modelsConfig): \n",
    "        return"
   ]
  },
  {
   "cell_type": "code",
   "execution_count": 40,
   "metadata": {
    "code_folding": []
   },
   "outputs": [],
   "source": [
    "class GreedyAllocationModelHelper:   \n",
    "    #\n",
    "    # -workToPick: an array of WorkItem objects, corresponding to unplanned tasks that are candidate tasks to allocate\n",
    "    # to developers\n",
    "    # -work: a WorkAssignment instance reflecting a ScrumTeam's allocations and remaining bandwidth prior to the\n",
    "    # allocation this model will conduct. This model's allocation process will then mutate 'work' by reflecting in it\n",
    "    # tasks that are no longer unplanned but rather are now allocated to a particular developer.\n",
    "    # -availabilityCriterion: instance of AvailabilityCriterion\n",
    "    # -currentOrNext: boolean to indicate if the allocation is being done for the current sprint or the next sprint. True \n",
    "    # for current, False for next.\n",
    "    def __init__(self, workToPick, currentOrNext, sprintDuration):\n",
    "        self.workToPick              = workToPick\n",
    "        self.currentOrNext           = currentOrNext\n",
    "        self.sprintDuration          = sprintDuration\n",
    "        \n",
    "        return\n",
    "    \n",
    "    # Mutates 'work' and 'self.workToPick' by allocating WorkItem's to developers and in the process depleting\n",
    "    # partially or fully the 'self.workToPick'\n",
    "    def allocate(self, work, modelsConfig): \n",
    "        availabilityCriterion   = GreedyAvailabilityCriterion(work, self.currentOrNext)        \n",
    "        while len(self.workToPick) > 0:\n",
    "            \n",
    "            #item = pickOne(self.workToPick)\n",
    "            item = modelsConfig.random.pickOne(self.workToPick)\n",
    "            \n",
    "            self.workToPick.remove(item) # In next cycle of loop don't want to encounter this item, as it would be processed by then\n",
    "            timeRequired = item.estimate * (1-item.percentAchieved)\n",
    "        \n",
    "            peopleWithTimeToDoIt = availabilityCriterion.getPeopleWithBandwidth(timeRequired, self.sprintDuration)\n",
    "            \n",
    "            #potentialOwner = pickOne(peopleWithTimeToDoIt)\n",
    "            potentialOwner = modelsConfig.random.pickOne(peopleWithTimeToDoIt)\n",
    "            \n",
    "            if potentialOwner == None:\n",
    "                # This WorkItem can't be done in this sprint, as nobody has enough time for the effort it requires.\n",
    "                # Try with some other work item\n",
    "                 continue\n",
    "            \n",
    "            if self.currentOrNext:\n",
    "                work.reAssign(item, potentialOwner, S_.CURRENT_SPRINT)\n",
    "            else:\n",
    "                work.reAssign(item, potentialOwner, S_.NEXT_SPRINT)   "
   ]
  },
  {
   "cell_type": "code",
   "execution_count": 41,
   "metadata": {
    "code_folding": []
   },
   "outputs": [],
   "source": [
    "class GreedyAllocationModel (AllocationModel):\n",
    "#class NEWGreedyAllocationModel (AllocationModel):\n",
    "\n",
    "    def __init__(self, sprintDuration):\n",
    "        self.sprintDuration = sprintDuration\n",
    "        return\n",
    "        \n",
    "    def allocate(self, work, modelsConfig):\n",
    "        unplanned = work.allocations[S_.UNPLANNED][S_.OWNER_TBD]\n",
    "        workToPick = []\n",
    "        workToPick.extend(unplanned[S_.BUGS_ON_COMPLETED_STORIES])\n",
    "        workToPick.extend(unplanned[S_.BUGS_ON_UNFINISHED_STORIES])\n",
    "        workToPick.extend(unplanned[S_.UNFINISHED_STORIES])   \n",
    "\n",
    "        helper = GreedyAllocationModelHelper(workToPick, True, self.sprintDuration)\n",
    "        helper.allocate(work, modelsConfig) # mutates 'work' and 'workToPick'\n",
    "\n",
    "        # Now try again, but this time allocating any unused time to deliverables for the next sprint, i.e., use\n",
    "        # time left over from the current sprint to get a heat start on the work for the next sprint, borrowing next sprint's\n",
    "        # capacity since we only need to deliver then\n",
    "\n",
    "        #Update unplanned, workToPick since we changed it in prior call to helper\n",
    "        unplanned = work.allocations[S_.UNPLANNED][S_.OWNER_TBD] \n",
    "        workToPick = []\n",
    "        workToPick.extend(unplanned[S_.BUGS_ON_COMPLETED_STORIES])\n",
    "        workToPick.extend(unplanned[S_.BUGS_ON_UNFINISHED_STORIES])\n",
    "        workToPick.extend(unplanned[S_.UNFINISHED_STORIES]) \n",
    "\n",
    "        #helper = GreedyAllocationModelHelper(workToPick, False, self.sprintDuration)\n",
    "        helper.workToPick = workToPick\n",
    "        helper.currentOrNext = False\n",
    "        helper.allocate(work, modelsConfig) # mutates 'work' and 'workToPick'    \n",
    "        \n",
    "        return work"
   ]
  },
  {
   "cell_type": "code",
   "execution_count": null,
   "metadata": {},
   "outputs": [],
   "source": []
  }
 ],
 "metadata": {
  "kernelspec": {
   "display_name": "Python 3",
   "language": "python",
   "name": "python3"
  },
  "language_info": {
   "codemirror_mode": {
    "name": "ipython",
    "version": 3
   },
   "file_extension": ".py",
   "mimetype": "text/x-python",
   "name": "python",
   "nbconvert_exporter": "python",
   "pygments_lexer": "ipython3",
   "version": "3.7.1"
  }
 },
 "nbformat": 4,
 "nbformat_minor": 2
}
