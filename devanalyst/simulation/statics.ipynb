{
 "cells": [
  {
   "cell_type": "code",
   "execution_count": 1,
   "metadata": {},
   "outputs": [],
   "source": [
    "# Global immutable statics, used as labels\n",
    "PRODUCTION_BUGS           = 'PRODUCTION_BUGS'\n",
    "DEV_TIME_BUGS             = 'DEV_TIME_BUGS'\n",
    "UNFINISHED_STORIES        = 'UNFINISHED_STORIES'\n",
    "UNPLANNED                 = 'UNPLANNED'\n",
    "OWNER_TBD                 = 'OWNER_TBD'\n",
    "CURRENT_SPRINT            = 'CURRENT_SPRINT'\n",
    "NEXT_SPRINT               = 'NEXT_SPRINT'\n",
    "\n",
    "NOT_SET                   = 'NOT_SET'\n",
    "\n",
    "# Profiles for developers\n",
    "STAR                      = 'Star'\n",
    "SOLID                     = 'Solid'\n",
    "MEDIOCRE                  = 'Mediocre'"
   ]
  },
  {
   "cell_type": "code",
   "execution_count": null,
   "metadata": {},
   "outputs": [],
   "source": []
  }
 ],
 "metadata": {
  "kernelspec": {
   "display_name": "Python 3",
   "language": "python",
   "name": "python3"
  },
  "language_info": {
   "codemirror_mode": {
    "name": "ipython",
    "version": 3
   },
   "file_extension": ".py",
   "mimetype": "text/x-python",
   "name": "python",
   "nbconvert_exporter": "python",
   "pygments_lexer": "ipython3",
   "version": "3.7.3"
  }
 },
 "nbformat": 4,
 "nbformat_minor": 2
}
